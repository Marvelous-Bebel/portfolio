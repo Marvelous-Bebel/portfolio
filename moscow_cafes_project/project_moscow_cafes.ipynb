{
 "cells": [
  {
   "cell_type": "markdown",
   "id": "e06910dd",
   "metadata": {
    "id": "e06910dd"
   },
   "source": [
    "# Исследование рынка заведений общественного питания Москвы\n",
    "\n",
    "- Автор: Андрей Подшивалов\n",
    "- Дата: 24.02.2025"
   ]
  },
  {
   "cell_type": "markdown",
   "id": "4149134c",
   "metadata": {
    "id": "4149134c"
   },
   "source": [
    "### Цель проекта\n",
    "Проведение исследовательского анализ данных рынка общественного питания города Москвы для определения наиболее релевантного потенциального заведения для Заказчика.\n",
    "### Задачи проекта\n",
    "1. **Познакомиться с данными**, изучить их общую информацию, проверить соответствие описанию, наличие пропущенных значений и использование верных типов данных  \n",
    "\n",
    "\n",
    "2. **Объединить данные в один датафрейм**\n",
    "  \n",
    "  \n",
    "3. **Подготовить данные к исследовательскому анализу:** \n",
    " * преобразовать типы данных;\n",
    " * обработать пропущенные значения; \n",
    " * проверить данные на дубликаты; \n",
    " * создать новые столбцы\n",
    "  \n",
    "  \n",
    "4. **Провести исследовательский анализ данных:**\n",
    " * ответить на вопросы о категориях заведений, административных районах, сетевых и несетевых заведениях;\n",
    " * исследовать соотношение посадочных мест, рейтинги заведений, корреляцию рейтингов с разными данными;\n",
    " * сгруппировать данные по названиям, изучить вариацию среднего чека в зависимости от района Москвы.\n",
    "  \n",
    "  \n",
    "5. **Обобщить результаты исследовательского анализа данных**, сформулировать итоговый вывод и рекомендации для заказчика"
   ]
  },
  {
   "cell_type": "markdown",
   "id": "728986ea",
   "metadata": {
    "id": "728986ea"
   },
   "source": [
    "### Описание данных\n",
    "\n",
    "Файл **/datasets/rest_info.csv** содержит информацию о заведениях общественного питания:\n",
    "* `name` — название заведения;\n",
    "* `address` — адрес заведения;\n",
    "* `district` — административный район, в котором находится заведение, например Центральный административный округ;\n",
    "* `category` — категория заведения, например «кафе», «пиццерия» или «кофейня»;\n",
    "* `hours` — информация о днях и часах работы;\n",
    "* `rating` — рейтинг заведения по оценкам пользователей в Яндекс Картах (высшая оценка — 5.0);\n",
    "* `chain` — число, выраженное 0 или 1, которое показывает, является ли заведение сетевым (для маленьких сетей могут встречаться ошибки):\n",
    "    * 0 — заведение не является сетевым;\n",
    "    * 1 — заведение является сетевым.\n",
    "* `seats` — количество посадочных мест.  \n",
    "  \n",
    "Файл **/datasets/rest_price.csv** содержит информацию о среднем чеке в заведениях общественного питания:\n",
    "* `price` — категория цен в заведении, например «средние», «ниже среднего», «выше среднего» и так далее;\n",
    "* `avg_bill` — строка, которая хранит среднюю стоимость заказа в виде диапазона, например:\n",
    "    * «Средний счёт: 1000–1500 ₽»;\n",
    "    * «Цена чашки капучино: 130–220 ₽»;\n",
    "    * «Цена бокала пива: 400–600 ₽» и так далее;\n",
    "* `middle_avg_bill` — число с оценкой среднего чека, которое указано только для значений из столбца avg_bill, начинающихся с подстроки «Средний счёт»:\n",
    "    * Если в строке указан ценовой диапазон из двух значений, в столбец войдёт медиана этих двух значений.\n",
    "    * Если в строке указано одно число — цена без диапазона, то в столбец войдёт это число.\n",
    "    * Если значения нет или оно не начинается с подстроки «Средний счёт», то в столбец ничего не войдёт.\n",
    "* `middle_coffee_cup` — число с оценкой одной чашки капучино, которое указано только для значений из столбца avg_bill, начинающихся с подстроки «Цена одной чашки капучино»:\n",
    "    * Если в строке указан ценовой диапазон из двух значений, в столбец войдёт медиана этих двух значений.\n",
    "    * Если в строке указано одно число — цена без диапазона, то в столбец войдёт это число.\n",
    "    * Если значения нет или оно не начинается с подстроки «Цена одной чашки капучино», то в столбец ничего не войдёт."
   ]
  },
  {
   "cell_type": "markdown",
   "id": "4fecaf95",
   "metadata": {
    "id": "4fecaf95"
   },
   "source": [
    "### Содержимое проекта\n",
    "\n",
    "Шаг 1. Загрузка данных и знакомство с ними  \n",
    "Шаг 2. Предобработка данных  \n",
    "Шаг 3. Исследовательский анализ данных  \n",
    "Шаг 4. Итоговый вывод и рекомендации  \n",
    "\n",
    "---"
   ]
  },
  {
   "cell_type": "markdown",
   "id": "6f7d21d6",
   "metadata": {
    "id": "6f7d21d6"
   },
   "source": [
    "## 1. Загрузка данных и знакомство с ними\n",
    "\n",
    "- Загрузите данные о заведениях общественного питания Москвы. Путь к файлам: `/datasets/rest_info.csv` и `/datasets/rest_price.csv`."
   ]
  },
  {
   "cell_type": "code",
   "execution_count": 3,
   "id": "05faf34b",
   "metadata": {
    "id": "05faf34b"
   },
   "outputs": [],
   "source": [
    "import pandas as pd\n",
    "\n",
    "import matplotlib.pyplot as plt\n",
    "\n",
    "import seaborn as sns\n",
    "\n",
    "from phik import phik_matrix"
   ]
  },
  {
   "cell_type": "code",
   "execution_count": 4,
   "id": "ce87c1db",
   "metadata": {
    "id": "ce87c1db"
   },
   "outputs": [
    {
     "data": {
      "text/html": [
       "<div>\n",
       "<style scoped>\n",
       "    .dataframe tbody tr th:only-of-type {\n",
       "        vertical-align: middle;\n",
       "    }\n",
       "\n",
       "    .dataframe tbody tr th {\n",
       "        vertical-align: top;\n",
       "    }\n",
       "\n",
       "    .dataframe thead th {\n",
       "        text-align: right;\n",
       "    }\n",
       "</style>\n",
       "<table border=\"1\" class=\"dataframe\">\n",
       "  <thead>\n",
       "    <tr style=\"text-align: right;\">\n",
       "      <th></th>\n",
       "      <th>id</th>\n",
       "      <th>name</th>\n",
       "      <th>category</th>\n",
       "      <th>address</th>\n",
       "      <th>district</th>\n",
       "      <th>hours</th>\n",
       "      <th>rating</th>\n",
       "      <th>chain</th>\n",
       "      <th>seats</th>\n",
       "    </tr>\n",
       "  </thead>\n",
       "  <tbody>\n",
       "    <tr>\n",
       "      <th>0</th>\n",
       "      <td>0c3e3439a8c64ea5bf6ecd6ca6ae19f0</td>\n",
       "      <td>WoWфли</td>\n",
       "      <td>кафе</td>\n",
       "      <td>Москва, улица Дыбенко, 7/1</td>\n",
       "      <td>Северный административный округ</td>\n",
       "      <td>ежедневно, 10:00–22:00</td>\n",
       "      <td>5.0</td>\n",
       "      <td>0</td>\n",
       "      <td>NaN</td>\n",
       "    </tr>\n",
       "    <tr>\n",
       "      <th>1</th>\n",
       "      <td>045780ada3474c57a2112e505d74b633</td>\n",
       "      <td>Четыре комнаты</td>\n",
       "      <td>ресторан</td>\n",
       "      <td>Москва, улица Дыбенко, 36, корп. 1</td>\n",
       "      <td>Северный административный округ</td>\n",
       "      <td>ежедневно, 10:00–22:00</td>\n",
       "      <td>4.5</td>\n",
       "      <td>0</td>\n",
       "      <td>4.0</td>\n",
       "    </tr>\n",
       "    <tr>\n",
       "      <th>2</th>\n",
       "      <td>1070b6b59144425896c65889347fcff6</td>\n",
       "      <td>Хазри</td>\n",
       "      <td>кафе</td>\n",
       "      <td>Москва, Клязьминская улица, 15</td>\n",
       "      <td>Северный административный округ</td>\n",
       "      <td>пн-чт 11:00–02:00; пт,сб 11:00–05:00; вс 11:00...</td>\n",
       "      <td>4.6</td>\n",
       "      <td>0</td>\n",
       "      <td>45.0</td>\n",
       "    </tr>\n",
       "    <tr>\n",
       "      <th>3</th>\n",
       "      <td>03ac7cd772104f65b58b349dc59f03ee</td>\n",
       "      <td>Dormouse Coffee Shop</td>\n",
       "      <td>кофейня</td>\n",
       "      <td>Москва, улица Маршала Федоренко, 12</td>\n",
       "      <td>Северный административный округ</td>\n",
       "      <td>ежедневно, 09:00–22:00</td>\n",
       "      <td>5.0</td>\n",
       "      <td>0</td>\n",
       "      <td>NaN</td>\n",
       "    </tr>\n",
       "    <tr>\n",
       "      <th>4</th>\n",
       "      <td>a163aada139c4c7f87b0b1c0b466a50f</td>\n",
       "      <td>Иль Марко</td>\n",
       "      <td>пиццерия</td>\n",
       "      <td>Москва, Правобережная улица, 1Б</td>\n",
       "      <td>Северный административный округ</td>\n",
       "      <td>ежедневно, 10:00–22:00</td>\n",
       "      <td>5.0</td>\n",
       "      <td>1</td>\n",
       "      <td>148.0</td>\n",
       "    </tr>\n",
       "  </tbody>\n",
       "</table>\n",
       "</div>"
      ],
      "text/plain": [
       "                                 id                  name  category  \\\n",
       "0  0c3e3439a8c64ea5bf6ecd6ca6ae19f0                WoWфли      кафе   \n",
       "1  045780ada3474c57a2112e505d74b633        Четыре комнаты  ресторан   \n",
       "2  1070b6b59144425896c65889347fcff6                 Хазри      кафе   \n",
       "3  03ac7cd772104f65b58b349dc59f03ee  Dormouse Coffee Shop   кофейня   \n",
       "4  a163aada139c4c7f87b0b1c0b466a50f             Иль Марко  пиццерия   \n",
       "\n",
       "                               address                         district  \\\n",
       "0           Москва, улица Дыбенко, 7/1  Северный административный округ   \n",
       "1   Москва, улица Дыбенко, 36, корп. 1  Северный административный округ   \n",
       "2       Москва, Клязьминская улица, 15  Северный административный округ   \n",
       "3  Москва, улица Маршала Федоренко, 12  Северный административный округ   \n",
       "4      Москва, Правобережная улица, 1Б  Северный административный округ   \n",
       "\n",
       "                                               hours  rating  chain  seats  \n",
       "0                             ежедневно, 10:00–22:00     5.0      0    NaN  \n",
       "1                             ежедневно, 10:00–22:00     4.5      0    4.0  \n",
       "2  пн-чт 11:00–02:00; пт,сб 11:00–05:00; вс 11:00...     4.6      0   45.0  \n",
       "3                             ежедневно, 09:00–22:00     5.0      0    NaN  \n",
       "4                             ежедневно, 10:00–22:00     5.0      1  148.0  "
      ]
     },
     "execution_count": 4,
     "metadata": {},
     "output_type": "execute_result"
    }
   ],
   "source": [
    "info = pd.read_csv('/datasets/rest_info.csv')\n",
    "df_info = pd.DataFrame(info)\n",
    "df_info.head()"
   ]
  },
  {
   "cell_type": "code",
   "execution_count": 5,
   "id": "90fee493",
   "metadata": {
    "id": "90fee493"
   },
   "outputs": [
    {
     "data": {
      "text/html": [
       "<div>\n",
       "<style scoped>\n",
       "    .dataframe tbody tr th:only-of-type {\n",
       "        vertical-align: middle;\n",
       "    }\n",
       "\n",
       "    .dataframe tbody tr th {\n",
       "        vertical-align: top;\n",
       "    }\n",
       "\n",
       "    .dataframe thead th {\n",
       "        text-align: right;\n",
       "    }\n",
       "</style>\n",
       "<table border=\"1\" class=\"dataframe\">\n",
       "  <thead>\n",
       "    <tr style=\"text-align: right;\">\n",
       "      <th></th>\n",
       "      <th>id</th>\n",
       "      <th>price</th>\n",
       "      <th>avg_bill</th>\n",
       "      <th>middle_avg_bill</th>\n",
       "      <th>middle_coffee_cup</th>\n",
       "    </tr>\n",
       "  </thead>\n",
       "  <tbody>\n",
       "    <tr>\n",
       "      <th>0</th>\n",
       "      <td>045780ada3474c57a2112e505d74b633</td>\n",
       "      <td>выше среднего</td>\n",
       "      <td>Средний счёт:1500–1600 ₽</td>\n",
       "      <td>1550.0</td>\n",
       "      <td>NaN</td>\n",
       "    </tr>\n",
       "    <tr>\n",
       "      <th>1</th>\n",
       "      <td>1070b6b59144425896c65889347fcff6</td>\n",
       "      <td>средние</td>\n",
       "      <td>Средний счёт:от 1000 ₽</td>\n",
       "      <td>1000.0</td>\n",
       "      <td>NaN</td>\n",
       "    </tr>\n",
       "    <tr>\n",
       "      <th>2</th>\n",
       "      <td>03ac7cd772104f65b58b349dc59f03ee</td>\n",
       "      <td>NaN</td>\n",
       "      <td>Цена чашки капучино:155–185 ₽</td>\n",
       "      <td>NaN</td>\n",
       "      <td>170.0</td>\n",
       "    </tr>\n",
       "    <tr>\n",
       "      <th>3</th>\n",
       "      <td>a163aada139c4c7f87b0b1c0b466a50f</td>\n",
       "      <td>средние</td>\n",
       "      <td>Средний счёт:400–600 ₽</td>\n",
       "      <td>500.0</td>\n",
       "      <td>NaN</td>\n",
       "    </tr>\n",
       "    <tr>\n",
       "      <th>4</th>\n",
       "      <td>8a343546b24e4a499ad96eb7d0797a8a</td>\n",
       "      <td>средние</td>\n",
       "      <td>NaN</td>\n",
       "      <td>NaN</td>\n",
       "      <td>NaN</td>\n",
       "    </tr>\n",
       "  </tbody>\n",
       "</table>\n",
       "</div>"
      ],
      "text/plain": [
       "                                 id          price  \\\n",
       "0  045780ada3474c57a2112e505d74b633  выше среднего   \n",
       "1  1070b6b59144425896c65889347fcff6        средние   \n",
       "2  03ac7cd772104f65b58b349dc59f03ee            NaN   \n",
       "3  a163aada139c4c7f87b0b1c0b466a50f        средние   \n",
       "4  8a343546b24e4a499ad96eb7d0797a8a        средние   \n",
       "\n",
       "                        avg_bill  middle_avg_bill  middle_coffee_cup  \n",
       "0       Средний счёт:1500–1600 ₽           1550.0                NaN  \n",
       "1         Средний счёт:от 1000 ₽           1000.0                NaN  \n",
       "2  Цена чашки капучино:155–185 ₽              NaN              170.0  \n",
       "3         Средний счёт:400–600 ₽            500.0                NaN  \n",
       "4                            NaN              NaN                NaN  "
      ]
     },
     "execution_count": 5,
     "metadata": {},
     "output_type": "execute_result"
    }
   ],
   "source": [
    "price = pd.read_csv('/datasets/rest_price.csv')\n",
    "df_price = pd.DataFrame(price)\n",
    "df_price.head()"
   ]
  },
  {
   "cell_type": "code",
   "execution_count": 6,
   "id": "f68a7419",
   "metadata": {
    "id": "f68a7419"
   },
   "outputs": [
    {
     "name": "stdout",
     "output_type": "stream",
     "text": [
      "<class 'pandas.core.frame.DataFrame'>\n",
      "RangeIndex: 4058 entries, 0 to 4057\n",
      "Data columns (total 5 columns):\n",
      " #   Column             Non-Null Count  Dtype  \n",
      "---  ------             --------------  -----  \n",
      " 0   id                 4058 non-null   object \n",
      " 1   price              3315 non-null   object \n",
      " 2   avg_bill           3816 non-null   object \n",
      " 3   middle_avg_bill    3149 non-null   float64\n",
      " 4   middle_coffee_cup  535 non-null    float64\n",
      "dtypes: float64(2), object(3)\n",
      "memory usage: 158.6+ KB\n"
     ]
    }
   ],
   "source": [
    "df_price.info()"
   ]
  },
  {
   "cell_type": "code",
   "execution_count": 7,
   "id": "dd415c80",
   "metadata": {
    "id": "dd415c80"
   },
   "outputs": [
    {
     "name": "stdout",
     "output_type": "stream",
     "text": [
      "<class 'pandas.core.frame.DataFrame'>\n",
      "RangeIndex: 8406 entries, 0 to 8405\n",
      "Data columns (total 9 columns):\n",
      " #   Column    Non-Null Count  Dtype  \n",
      "---  ------    --------------  -----  \n",
      " 0   id        8406 non-null   object \n",
      " 1   name      8406 non-null   object \n",
      " 2   category  8406 non-null   object \n",
      " 3   address   8406 non-null   object \n",
      " 4   district  8406 non-null   object \n",
      " 5   hours     7870 non-null   object \n",
      " 6   rating    8406 non-null   float64\n",
      " 7   chain     8406 non-null   int64  \n",
      " 8   seats     4795 non-null   float64\n",
      "dtypes: float64(2), int64(1), object(6)\n",
      "memory usage: 591.2+ KB\n"
     ]
    }
   ],
   "source": [
    "df_info.info()"
   ]
  },
  {
   "cell_type": "markdown",
   "id": "2c614a62",
   "metadata": {
    "id": "2c614a62"
   },
   "source": [
    "---\n",
    "\n",
    "### Промежуточный вывод\n",
    "* В таблице **info** присутствуют пропуски в столбцах **hours** и **seats**.\n",
    "* Таблица **price** также имеет пропуски в категории цен (столбец **price**), не везде отмечен средний чек **avg_bill**, **middle_avg_bill** и **middle_coffee_cup**.  \n",
    "* Также количество **id** в таблицах **info** и **price** не совпадает."
   ]
  },
  {
   "cell_type": "markdown",
   "id": "8a8d1491",
   "metadata": {
    "id": "8a8d1491"
   },
   "source": [
    "### Подготовка единого датафрейма"
   ]
  },
  {
   "cell_type": "code",
   "execution_count": 8,
   "id": "3408e303",
   "metadata": {
    "id": "3408e303"
   },
   "outputs": [],
   "source": [
    "df = pd.merge(df_info, df_price, on = 'id', how = 'left')"
   ]
  },
  {
   "cell_type": "code",
   "execution_count": 9,
   "id": "5695950b",
   "metadata": {
    "id": "5695950b",
    "scrolled": true
   },
   "outputs": [
    {
     "data": {
      "text/html": [
       "<div>\n",
       "<style scoped>\n",
       "    .dataframe tbody tr th:only-of-type {\n",
       "        vertical-align: middle;\n",
       "    }\n",
       "\n",
       "    .dataframe tbody tr th {\n",
       "        vertical-align: top;\n",
       "    }\n",
       "\n",
       "    .dataframe thead th {\n",
       "        text-align: right;\n",
       "    }\n",
       "</style>\n",
       "<table border=\"1\" class=\"dataframe\">\n",
       "  <thead>\n",
       "    <tr style=\"text-align: right;\">\n",
       "      <th></th>\n",
       "      <th>id</th>\n",
       "      <th>name</th>\n",
       "      <th>category</th>\n",
       "      <th>address</th>\n",
       "      <th>district</th>\n",
       "      <th>hours</th>\n",
       "      <th>rating</th>\n",
       "      <th>chain</th>\n",
       "      <th>seats</th>\n",
       "      <th>price</th>\n",
       "      <th>avg_bill</th>\n",
       "      <th>middle_avg_bill</th>\n",
       "      <th>middle_coffee_cup</th>\n",
       "    </tr>\n",
       "  </thead>\n",
       "  <tbody>\n",
       "    <tr>\n",
       "      <th>0</th>\n",
       "      <td>0c3e3439a8c64ea5bf6ecd6ca6ae19f0</td>\n",
       "      <td>WoWфли</td>\n",
       "      <td>кафе</td>\n",
       "      <td>Москва, улица Дыбенко, 7/1</td>\n",
       "      <td>Северный административный округ</td>\n",
       "      <td>ежедневно, 10:00–22:00</td>\n",
       "      <td>5.0</td>\n",
       "      <td>0</td>\n",
       "      <td>NaN</td>\n",
       "      <td>NaN</td>\n",
       "      <td>NaN</td>\n",
       "      <td>NaN</td>\n",
       "      <td>NaN</td>\n",
       "    </tr>\n",
       "    <tr>\n",
       "      <th>1</th>\n",
       "      <td>045780ada3474c57a2112e505d74b633</td>\n",
       "      <td>Четыре комнаты</td>\n",
       "      <td>ресторан</td>\n",
       "      <td>Москва, улица Дыбенко, 36, корп. 1</td>\n",
       "      <td>Северный административный округ</td>\n",
       "      <td>ежедневно, 10:00–22:00</td>\n",
       "      <td>4.5</td>\n",
       "      <td>0</td>\n",
       "      <td>4.0</td>\n",
       "      <td>выше среднего</td>\n",
       "      <td>Средний счёт:1500–1600 ₽</td>\n",
       "      <td>1550.0</td>\n",
       "      <td>NaN</td>\n",
       "    </tr>\n",
       "    <tr>\n",
       "      <th>2</th>\n",
       "      <td>1070b6b59144425896c65889347fcff6</td>\n",
       "      <td>Хазри</td>\n",
       "      <td>кафе</td>\n",
       "      <td>Москва, Клязьминская улица, 15</td>\n",
       "      <td>Северный административный округ</td>\n",
       "      <td>пн-чт 11:00–02:00; пт,сб 11:00–05:00; вс 11:00...</td>\n",
       "      <td>4.6</td>\n",
       "      <td>0</td>\n",
       "      <td>45.0</td>\n",
       "      <td>средние</td>\n",
       "      <td>Средний счёт:от 1000 ₽</td>\n",
       "      <td>1000.0</td>\n",
       "      <td>NaN</td>\n",
       "    </tr>\n",
       "    <tr>\n",
       "      <th>3</th>\n",
       "      <td>03ac7cd772104f65b58b349dc59f03ee</td>\n",
       "      <td>Dormouse Coffee Shop</td>\n",
       "      <td>кофейня</td>\n",
       "      <td>Москва, улица Маршала Федоренко, 12</td>\n",
       "      <td>Северный административный округ</td>\n",
       "      <td>ежедневно, 09:00–22:00</td>\n",
       "      <td>5.0</td>\n",
       "      <td>0</td>\n",
       "      <td>NaN</td>\n",
       "      <td>NaN</td>\n",
       "      <td>Цена чашки капучино:155–185 ₽</td>\n",
       "      <td>NaN</td>\n",
       "      <td>170.0</td>\n",
       "    </tr>\n",
       "    <tr>\n",
       "      <th>4</th>\n",
       "      <td>a163aada139c4c7f87b0b1c0b466a50f</td>\n",
       "      <td>Иль Марко</td>\n",
       "      <td>пиццерия</td>\n",
       "      <td>Москва, Правобережная улица, 1Б</td>\n",
       "      <td>Северный административный округ</td>\n",
       "      <td>ежедневно, 10:00–22:00</td>\n",
       "      <td>5.0</td>\n",
       "      <td>1</td>\n",
       "      <td>148.0</td>\n",
       "      <td>средние</td>\n",
       "      <td>Средний счёт:400–600 ₽</td>\n",
       "      <td>500.0</td>\n",
       "      <td>NaN</td>\n",
       "    </tr>\n",
       "  </tbody>\n",
       "</table>\n",
       "</div>"
      ],
      "text/plain": [
       "                                 id                  name  category  \\\n",
       "0  0c3e3439a8c64ea5bf6ecd6ca6ae19f0                WoWфли      кафе   \n",
       "1  045780ada3474c57a2112e505d74b633        Четыре комнаты  ресторан   \n",
       "2  1070b6b59144425896c65889347fcff6                 Хазри      кафе   \n",
       "3  03ac7cd772104f65b58b349dc59f03ee  Dormouse Coffee Shop   кофейня   \n",
       "4  a163aada139c4c7f87b0b1c0b466a50f             Иль Марко  пиццерия   \n",
       "\n",
       "                               address                         district  \\\n",
       "0           Москва, улица Дыбенко, 7/1  Северный административный округ   \n",
       "1   Москва, улица Дыбенко, 36, корп. 1  Северный административный округ   \n",
       "2       Москва, Клязьминская улица, 15  Северный административный округ   \n",
       "3  Москва, улица Маршала Федоренко, 12  Северный административный округ   \n",
       "4      Москва, Правобережная улица, 1Б  Северный административный округ   \n",
       "\n",
       "                                               hours  rating  chain  seats  \\\n",
       "0                             ежедневно, 10:00–22:00     5.0      0    NaN   \n",
       "1                             ежедневно, 10:00–22:00     4.5      0    4.0   \n",
       "2  пн-чт 11:00–02:00; пт,сб 11:00–05:00; вс 11:00...     4.6      0   45.0   \n",
       "3                             ежедневно, 09:00–22:00     5.0      0    NaN   \n",
       "4                             ежедневно, 10:00–22:00     5.0      1  148.0   \n",
       "\n",
       "           price                       avg_bill  middle_avg_bill  \\\n",
       "0            NaN                            NaN              NaN   \n",
       "1  выше среднего       Средний счёт:1500–1600 ₽           1550.0   \n",
       "2        средние         Средний счёт:от 1000 ₽           1000.0   \n",
       "3            NaN  Цена чашки капучино:155–185 ₽              NaN   \n",
       "4        средние         Средний счёт:400–600 ₽            500.0   \n",
       "\n",
       "   middle_coffee_cup  \n",
       "0                NaN  \n",
       "1                NaN  \n",
       "2                NaN  \n",
       "3              170.0  \n",
       "4                NaN  "
      ]
     },
     "execution_count": 9,
     "metadata": {},
     "output_type": "execute_result"
    }
   ],
   "source": [
    "df.head()"
   ]
  },
  {
   "cell_type": "code",
   "execution_count": 10,
   "id": "6577c71c",
   "metadata": {
    "id": "6577c71c"
   },
   "outputs": [
    {
     "name": "stdout",
     "output_type": "stream",
     "text": [
      "<class 'pandas.core.frame.DataFrame'>\n",
      "Int64Index: 8406 entries, 0 to 8405\n",
      "Data columns (total 13 columns):\n",
      " #   Column             Non-Null Count  Dtype  \n",
      "---  ------             --------------  -----  \n",
      " 0   id                 8406 non-null   object \n",
      " 1   name               8406 non-null   object \n",
      " 2   category           8406 non-null   object \n",
      " 3   address            8406 non-null   object \n",
      " 4   district           8406 non-null   object \n",
      " 5   hours              7870 non-null   object \n",
      " 6   rating             8406 non-null   float64\n",
      " 7   chain              8406 non-null   int64  \n",
      " 8   seats              4795 non-null   float64\n",
      " 9   price              3315 non-null   object \n",
      " 10  avg_bill           3816 non-null   object \n",
      " 11  middle_avg_bill    3149 non-null   float64\n",
      " 12  middle_coffee_cup  535 non-null    float64\n",
      "dtypes: float64(4), int64(1), object(8)\n",
      "memory usage: 919.4+ KB\n"
     ]
    }
   ],
   "source": [
    "df.info()"
   ]
  },
  {
   "cell_type": "markdown",
   "id": "956e82e2",
   "metadata": {
    "id": "956e82e2"
   },
   "source": [
    "## 2. Предобработка данных"
   ]
  },
  {
   "cell_type": "markdown",
   "id": "eda09a26",
   "metadata": {
    "id": "67956690"
   },
   "source": [
    "Столбец seats следует привести к типу int. В остальных столбцах типы данных верны.\n",
    "Чтобы избежать ошибок, заполним пропуски в столбце seats условным значением -1 для заведений, информации по кол-ву мест в которых нет."
   ]
  },
  {
   "cell_type": "code",
   "execution_count": 11,
   "id": "620d2f08",
   "metadata": {
    "id": "620d2f08"
   },
   "outputs": [],
   "source": [
    "df['seats'] = df['seats'].fillna(-1)\n",
    "df['seats'] = df['seats'].astype('int')"
   ]
  },
  {
   "cell_type": "code",
   "execution_count": 12,
   "id": "c39fc795",
   "metadata": {},
   "outputs": [
    {
     "name": "stdout",
     "output_type": "stream",
     "text": [
      "<class 'pandas.core.frame.DataFrame'>\n",
      "Int64Index: 8406 entries, 0 to 8405\n",
      "Data columns (total 13 columns):\n",
      " #   Column             Non-Null Count  Dtype  \n",
      "---  ------             --------------  -----  \n",
      " 0   id                 8406 non-null   object \n",
      " 1   name               8406 non-null   object \n",
      " 2   category           8406 non-null   object \n",
      " 3   address            8406 non-null   object \n",
      " 4   district           8406 non-null   object \n",
      " 5   hours              7870 non-null   object \n",
      " 6   rating             8406 non-null   float64\n",
      " 7   chain              8406 non-null   int64  \n",
      " 8   seats              8406 non-null   int64  \n",
      " 9   price              3315 non-null   object \n",
      " 10  avg_bill           3816 non-null   object \n",
      " 11  middle_avg_bill    3149 non-null   float64\n",
      " 12  middle_coffee_cup  535 non-null    float64\n",
      "dtypes: float64(3), int64(2), object(8)\n",
      "memory usage: 919.4+ KB\n"
     ]
    }
   ],
   "source": [
    "df.info()"
   ]
  },
  {
   "cell_type": "markdown",
   "id": "4b7ee469",
   "metadata": {
    "id": "4b7ee469"
   },
   "source": [
    "### Пропущенные значения в данных"
   ]
  },
  {
   "cell_type": "code",
   "execution_count": 13,
   "id": "3d8840ca",
   "metadata": {
    "id": "3d8840ca"
   },
   "outputs": [
    {
     "data": {
      "text/plain": [
       "id                      0\n",
       "name                    0\n",
       "category                0\n",
       "address                 0\n",
       "district                0\n",
       "hours                 536\n",
       "rating                  0\n",
       "chain                   0\n",
       "seats                   0\n",
       "price                5091\n",
       "avg_bill             4590\n",
       "middle_avg_bill      5257\n",
       "middle_coffee_cup    7871\n",
       "dtype: int64"
      ]
     },
     "execution_count": 13,
     "metadata": {},
     "output_type": "execute_result"
    }
   ],
   "source": [
    "# Кол-во пропусков абсолютных значениях:\n",
    "df.isna().sum()"
   ]
  },
  {
   "cell_type": "code",
   "execution_count": 14,
   "id": "4833f456",
   "metadata": {},
   "outputs": [
    {
     "data": {
      "text/plain": [
       "middle_coffee_cup    0.936355\n",
       "middle_avg_bill      0.625387\n",
       "price                0.605639\n",
       "avg_bill             0.546039\n",
       "hours                0.063764\n",
       "id                   0.000000\n",
       "name                 0.000000\n",
       "category             0.000000\n",
       "address              0.000000\n",
       "district             0.000000\n",
       "rating               0.000000\n",
       "chain                0.000000\n",
       "seats                0.000000\n",
       "dtype: float64"
      ]
     },
     "execution_count": 14,
     "metadata": {},
     "output_type": "execute_result"
    }
   ],
   "source": [
    "# Кол-во пропусков в относительных значениях:\n",
    "share = df.isna().sum()/df.shape[0]\n",
    "share.sort_values(ascending=False)"
   ]
  },
  {
   "cell_type": "markdown",
   "id": "acddc5ef",
   "metadata": {
    "id": "2ea145ca"
   },
   "source": [
    "* Больше всего пропусков в столбце **middle_coffee_cup**, **middle_avg_bill**, **price** и **avg_bill**.\n",
    "* В **middle_coffee_cup**, **middle_avg_bill**, чтобы не искажать распределение, стоит заменить значения нулем;\n",
    "* В столбцах **price** и **avg_bill** стоит заменить пропуски на значение 'unknown';  \n",
    "* В столбце hours кол-во пропусков хоть и незначительно, лучше всё равно заменить их на 'unknown'."
   ]
  },
  {
   "cell_type": "code",
   "execution_count": 15,
   "id": "d9e7c358",
   "metadata": {
    "id": "d9e7c358"
   },
   "outputs": [],
   "source": [
    "df['middle_coffee_cup'] = df['middle_coffee_cup'].fillna(0)\n",
    "df['middle_avg_bill'] = df['middle_avg_bill'].fillna(0)\n",
    "df['price'] = df['price'].fillna('unknown')\n",
    "df['avg_bill'] = df['avg_bill'].fillna('unknown')\n",
    "df['hours'] = df['hours'].fillna('unknown')"
   ]
  },
  {
   "cell_type": "code",
   "execution_count": 16,
   "id": "1d0f22c7",
   "metadata": {
    "scrolled": true
   },
   "outputs": [
    {
     "name": "stdout",
     "output_type": "stream",
     "text": [
      "<class 'pandas.core.frame.DataFrame'>\n",
      "Int64Index: 8406 entries, 0 to 8405\n",
      "Data columns (total 13 columns):\n",
      " #   Column             Non-Null Count  Dtype  \n",
      "---  ------             --------------  -----  \n",
      " 0   id                 8406 non-null   object \n",
      " 1   name               8406 non-null   object \n",
      " 2   category           8406 non-null   object \n",
      " 3   address            8406 non-null   object \n",
      " 4   district           8406 non-null   object \n",
      " 5   hours              8406 non-null   object \n",
      " 6   rating             8406 non-null   float64\n",
      " 7   chain              8406 non-null   int64  \n",
      " 8   seats              8406 non-null   int64  \n",
      " 9   price              8406 non-null   object \n",
      " 10  avg_bill           8406 non-null   object \n",
      " 11  middle_avg_bill    8406 non-null   float64\n",
      " 12  middle_coffee_cup  8406 non-null   float64\n",
      "dtypes: float64(3), int64(2), object(8)\n",
      "memory usage: 919.4+ KB\n"
     ]
    }
   ],
   "source": [
    "df.info()"
   ]
  },
  {
   "cell_type": "markdown",
   "id": "c4d5f04d",
   "metadata": {
    "id": "c4d5f04d"
   },
   "source": [
    "### Дубликаты"
   ]
  },
  {
   "cell_type": "code",
   "execution_count": 17,
   "id": "0e266c13",
   "metadata": {},
   "outputs": [
    {
     "data": {
      "text/plain": [
       "0"
      ]
     },
     "execution_count": 17,
     "metadata": {},
     "output_type": "execute_result"
    }
   ],
   "source": [
    "df.duplicated().sum()"
   ]
  },
  {
   "cell_type": "code",
   "execution_count": 18,
   "id": "0769b681",
   "metadata": {
    "id": "0769b681"
   },
   "outputs": [],
   "source": [
    "#Чтобы избежать неявных дубликатов, приведем значения всех строк к нижнему регистру\n",
    "df['name'] = df['name'].str.lower()\n",
    "df['address'] = df['address'].str.lower()"
   ]
  },
  {
   "cell_type": "code",
   "execution_count": 19,
   "id": "c570b16d",
   "metadata": {
    "id": "95b15cd0"
   },
   "outputs": [
    {
     "data": {
      "text/plain": [
       "4"
      ]
     },
     "execution_count": 19,
     "metadata": {},
     "output_type": "execute_result"
    }
   ],
   "source": [
    "df.duplicated(subset = ['name', 'address', 'district']).sum()"
   ]
  },
  {
   "cell_type": "code",
   "execution_count": 20,
   "id": "b52bae9a",
   "metadata": {
    "id": "b52bae9a"
   },
   "outputs": [],
   "source": [
    "#Удаляем дубликаты\n",
    "df = df.drop_duplicates(subset = ['name', 'address', 'district'], keep='first')"
   ]
  },
  {
   "cell_type": "code",
   "execution_count": 21,
   "id": "e7ee40a4",
   "metadata": {},
   "outputs": [
    {
     "data": {
      "text/plain": [
       "0"
      ]
     },
     "execution_count": 21,
     "metadata": {},
     "output_type": "execute_result"
    }
   ],
   "source": [
    "#Перепроверяем их наличие\n",
    "df.duplicated(subset = ['name', 'address', 'district']).sum()"
   ]
  },
  {
   "cell_type": "markdown",
   "id": "73fa9169",
   "metadata": {
    "id": "4c0563f2"
   },
   "source": [
    "- Для дальнейшей работы создайте столбец `is_24_7` с обозначением того, что заведение работает ежедневно и круглосуточно, то есть 24/7: \n",
    "    - логическое значение `True` — если заведение работает ежедневно и круглосуточно;\n",
    "    - логическое значение `False` — в противоположном случае."
   ]
  },
  {
   "cell_type": "code",
   "execution_count": 22,
   "id": "f8a2ba67",
   "metadata": {
    "scrolled": true
   },
   "outputs": [
    {
     "data": {
      "text/plain": [
       "array(['ежедневно, 10:00–22:00', 'ежедневно, 09:00–22:00',\n",
       "       'ежедневно, 10:00–23:00', 'ежедневно, 12:00–00:00',\n",
       "       'ежедневно, круглосуточно', 'ежедневно, 10:00–21:00',\n",
       "       'ежедневно, 08:00–22:00', 'ежедневно, 13:00–00:00',\n",
       "       'ежедневно, 09:00–21:00', 'ежедневно, 10:00–19:00',\n",
       "       'ежедневно, 08:00–21:00', 'ежедневно, 09:00–23:00',\n",
       "       'ежедневно, 08:00–23:00', 'ежедневно, 11:00–00:00',\n",
       "       'ежедневно, 09:00–02:00', 'ежедневно, 12:00–23:00',\n",
       "       'ежедневно, 12:00–03:00', 'ежедневно, 16:00–06:00',\n",
       "       'ежедневно, 09:00–01:00', 'ежедневно, 11:00–23:00',\n",
       "       'ежедневно, 09:00–06:00', 'ежедневно, 10:00–21:30',\n",
       "       'ежедневно, 08:00–00:00', 'ежедневно, 06:00–20:00',\n",
       "       'ежедневно, 10:00–20:00', 'ежедневно, 11:00–22:00',\n",
       "       'ежедневно, 10:30–23:00', 'ежедневно, 07:00–00:00',\n",
       "       'ежедневно, 10:00–22:00, перерыв 16:00–16:20',\n",
       "       'ежедневно, 13:00–04:00', 'ежедневно, 11:00–19:00',\n",
       "       'ежедневно, 16:00–04:00', 'ежедневно, 09:00–00:00',\n",
       "       'ежедневно, 10:00–01:00', 'ежедневно, 11:00–22:30',\n",
       "       'ежедневно, 07:30–00:30', 'ежедневно, 08:30–23:30',\n",
       "       'ежедневно, 13:00–01:00', 'ежедневно, 11:00–06:00',\n",
       "       'ежедневно, 07:00–23:00', 'ежедневно, 18:00–05:00',\n",
       "       'ежедневно, 11:00–21:30', 'ежедневно, 10:00–00:00',\n",
       "       'ежедневно, 09:00–20:00', 'ежедневно, 11:30–00:00',\n",
       "       'ежедневно, 11:00–02:00', 'ежедневно, 08:00–20:00',\n",
       "       'ежедневно, 07:00–02:00', 'ежедневно, 09:00–23:45',\n",
       "       'ежедневно, 12:00–05:00', 'ежедневно, 12:00–02:00',\n",
       "       'ежедневно, 12:00–01:00', 'ежедневно, 14:00–02:00',\n",
       "       'ежедневно, 09:00–21:30', 'ежедневно, 07:00–22:00',\n",
       "       'ежедневно, 10:00–04:00', 'ежедневно, 12:00–23:45',\n",
       "       'ежедневно, 08:00–19:00', 'ежедневно, 11:00–22:45',\n",
       "       'ежедневно, 17:00–05:00', 'ежедневно, 11:00–01:00',\n",
       "       'ежедневно, 13:00–23:00', 'ежедневно, 07:00–21:00',\n",
       "       'ежедневно, 08:30–18:30', 'ежедневно, 09:30–23:00',\n",
       "       'ежедневно, 11:00–03:00', 'ежедневно, 11:00–10:00',\n",
       "       'ежедневно, 12:00–14:00', 'ежедневно, 09:00–19:00',\n",
       "       'ежедневно, 07:15–20:00', 'ежедневно, 12:00–22:00',\n",
       "       'ежедневно, 08:00–19:30', 'ежедневно, 07:30–21:00',\n",
       "       'ежедневно, 10:00–22:30', 'ежедневно, 08:00–18:30',\n",
       "       'ежедневно, 12:00–06:00',\n",
       "       'пн 00:01–12:00, перерыв 12:00–13:30; вт-чт 13:30–12:00; пт 13:30–00:00; сб,вс круглосуточно',\n",
       "       'ежедневно, 10:00–02:00', 'ежедневно, 10:00–05:00',\n",
       "       'ежедневно, 08:30–21:00', 'ежедневно, 11:00–21:00',\n",
       "       'ежедневно, 12:00–00:30', 'ежедневно, 09:30–22:00',\n",
       "       'ежедневно, 10:00–23:10', 'ежедневно, 09:00–22:30',\n",
       "       'ежедневно, 11:30–23:30', 'ежедневно, 07:00–19:00',\n",
       "       'ежедневно, 09:00–05:00', 'вт-вс круглосуточно',\n",
       "       'ежедневно, 10:00–18:00', 'ежедневно, 09:00–18:00',\n",
       "       'ежедневно, 08:00–22:30', 'ежедневно, 08:00–02:00',\n",
       "       'сб круглосуточно', 'ежедневно, 11:00–20:00',\n",
       "       'ежедневно, 14:00–01:30', 'ежедневно, 11:00–18:45',\n",
       "       'ежедневно, 11:45–22:30', 'ежедневно, 10:00–20:30',\n",
       "       'ежедневно, 10:00–21:55', 'ежедневно, 08:00–23:55',\n",
       "       'пт-вс круглосуточно', 'ежедневно, 12:00–21:00',\n",
       "       'ежедневно, 08:30–21:30', 'ежедневно, 11:30–23:00',\n",
       "       'ежедневно, 17:00–00:00', 'ежедневно, 10:45–22:45',\n",
       "       'ежедневно, 19:00–06:00', 'пн,ср,чт,пт,сб,вс круглосуточно',\n",
       "       'ежедневно, 10:30–22:30', 'ежедневно, 10:00–22:45',\n",
       "       'ежедневно, 10:00–22:50', 'ежедневно, 11:30–22:00',\n",
       "       'ежедневно, 10:30–21:30',\n",
       "       'пн 10:00–00:00; вт-сб круглосуточно; вс 00:00–23:00',\n",
       "       'ежедневно, 07:00–20:00', 'ежедневно, 07:30–23:00',\n",
       "       'ежедневно, 10:30–00:00', 'ежедневно, 08:00–21:30',\n",
       "       'ежедневно, 11:30–21:30',\n",
       "       'пн-чт 07:30–23:00; пт 07:30–00:00; сб круглосуточно; вс 00:00–23:00',\n",
       "       'ежедневно, 07:30–22:00', 'ежедневно, 12:00–23:30',\n",
       "       'ежедневно, 07:30–20:00',\n",
       "       'пн круглосуточно; вт-чт 12:00–00:00; пт 12:00–02:00; сб 11:00–02:00; вс 14:00–00:00',\n",
       "       'пн-чт 08:00–23:00; пт,сб круглосуточно; вс 08:00–23:00',\n",
       "       'ежедневно, 11:00–17:00', 'ежедневно, 08:00–17:00',\n",
       "       'ежедневно, 07:45–21:30', 'ежедневно, 11:00–05:00',\n",
       "       'ежедневно, 06:30–23:00, перерыв 11:00–12:00',\n",
       "       'ежедневно, 06:55–22:05', 'ежедневно, 06:00–23:00',\n",
       "       'пн-ср 07:00–23:00; чт 07:00–00:00; пт,сб круглосуточно; вс 00:00–23:00',\n",
       "       'ежедневно, 11:00–22:50', 'ежедневно, 11:00–04:00',\n",
       "       'ежедневно, 10:00–16:30', 'ежедневно, 18:50–06:00',\n",
       "       'ежедневно, 08:30–20:30', 'ежедневно, 10:00–17:00',\n",
       "       'ежедневно, 06:00–03:00', 'ежедневно, 12:30–23:00',\n",
       "       'ежедневно, 09:30–21:00', 'ежедневно, 08:30–22:00',\n",
       "       'ежедневно, 07:40–22:00', 'ежедневно, 06:30–11:00',\n",
       "       'ежедневно, 11:00–23:30', 'ежедневно, 06:00–02:00',\n",
       "       'ежедневно, 12:00–22:45', 'ежедневно, 22:00–06:00',\n",
       "       'ежедневно, 06:30–22:30', 'ежедневно, 10:00–23:30',\n",
       "       'ежедневно, 11:30–02:00', 'ежедневно, 10:00–03:00',\n",
       "       'ежедневно, 08:00–18:00', 'ежедневно, 11:00–18:00',\n",
       "       'ежедневно, 05:00–02:00',\n",
       "       'ежедневно, 09:00–23:00, перерыв 12:00–12:15',\n",
       "       'ежедневно, 15:00–04:00', 'ежедневно, 11:30–00:30',\n",
       "       'ежедневно, 18:00–06:00', 'ежедневно, 08:30–22:30',\n",
       "       'пн-чт 08:00–23:00; пт 08:00–00:00; сб круглосуточно; вс 00:00–23:00',\n",
       "       'ежедневно, 08:30–18:00',\n",
       "       'пн 08:00–23:00; вт-пт 08:00–00:00; сб круглосуточно; вс 00:00–23:00',\n",
       "       'пн-ср 09:00–00:00; чт-вс круглосуточно', 'ежедневно, 07:30–00:00',\n",
       "       'ежедневно, 09:00–23:30', 'ежедневно, 08:30–00:00',\n",
       "       'пн-чт круглосуточно; пт 00:00–05:00, перерыв 05:00–07:00; сб 07:00–05:00; вс 07:00–00:00',\n",
       "       'ежедневно, 15:00–05:00', 'ежедневно, 09:00–03:00',\n",
       "       'ежедневно, 11:30–22:45', 'ежедневно, 08:30–23:00',\n",
       "       'ежедневно, 10:30–06:00',\n",
       "       'пн-чт 11:00–23:00; пт 11:00–00:00; сб круглосуточно; вс 00:00–23:00',\n",
       "       'ежедневно, 10:00–22:40', 'ежедневно, 10:00–06:00',\n",
       "       'пн,вт 08:00–22:00; ср,чт 08:00–23:00; пт,сб круглосуточно; вс 00:00–22:00',\n",
       "       'ежедневно, 16:00–23:00', 'ежедневно, 11:00–21:45',\n",
       "       'ежедневно, 10:00–21:45', 'ежедневно, 06:30–23:00',\n",
       "       'ежедневно, 07:30–11:00',\n",
       "       'пн-чт 07:00–23:00; пт,сб круглосуточно; вс 08:00–23:00',\n",
       "       'пн,вт 07:30–23:00; ср-вс круглосуточно',\n",
       "       'пн-ср 08:00–22:00; чт 08:00–23:00; пт,сб круглосуточно; вс 00:00–22:00',\n",
       "       'ежедневно, 10:30–21:00', 'ежедневно, 08:00–06:00',\n",
       "       'ежедневно, 07:50–21:00',\n",
       "       'пн-чт 09:00–00:00; пт,сб круглосуточно; вс 09:00–00:00',\n",
       "       'ежедневно, 07:00–23:00, перерыв 11:00–12:00',\n",
       "       'ежедневно, 08:30–20:00',\n",
       "       'пн-чт 07:00–22:00; пт,сб круглосуточно; вс 00:00–22:00',\n",
       "       'ежедневно, 06:00–19:00', 'ежедневно, 09:30–18:30',\n",
       "       'пн-пт 09:00–17:00; сб,вс круглосуточно',\n",
       "       'пн-ср 08:00–23:00; чт 08:00–00:00; пт,сб круглосуточно; вс 00:00–23:00',\n",
       "       'ежедневно, 18:00–05:30', 'ежедневно, 12:00–20:00',\n",
       "       'пн-чт 08:00–00:00; пт,сб круглосуточно; вс 08:00–00:00',\n",
       "       'ежедневно, 11:30–05:00',\n",
       "       'пн-чт 08:00–22:00; пт 08:00–00:00; сб круглосуточно; вс 00:00–22:00',\n",
       "       'ежедневно, 15:00–00:00', 'ежедневно, 11:00–20:30',\n",
       "       'ежедневно, 08:00–01:00', 'пн,вт 10:00–00:00; ср-вс круглосуточно',\n",
       "       'пн 06:00–00:00; вт-вс круглосуточно', 'ежедневно, 13:00–22:00',\n",
       "       'ежедневно, 14:00–22:00', 'ежедневно, 12:00–04:00',\n",
       "       'ежедневно, 09:30–22:30', 'ежедневно, 07:00–22:30',\n",
       "       'пн-чт 10:00–00:00; пт-вс круглосуточно', 'ежедневно, 09:15–21:00',\n",
       "       'пн-чт 07:00–23:00; пт 07:00–00:00; сб круглосуточно; вс 00:00–23:00',\n",
       "       'ежедневно, 07:00–05:00', 'ежедневно, 09:30–21:30',\n",
       "       'пн-чт 10:00–23:00; пт 10:00–00:00; сб круглосуточно; вс 00:00–23:00',\n",
       "       'ежедневно, 12:00–16:00', 'ежедневно, 10:00–19:30',\n",
       "       'пн 08:00–23:00; вт-вс круглосуточно', 'ежедневно, 09:00–17:00',\n",
       "       'ежедневно, 11:00–23:25', 'ежедневно, 10:30–22:45',\n",
       "       'ежедневно, 10:00–23:50', 'ежедневно, 11:00–22:40',\n",
       "       'ежедневно, 06:30–18:30', 'ежедневно, 12:00–21:30',\n",
       "       'чт круглосуточно, перерыв 10:00–20:00; сб круглосуточно',\n",
       "       'ежедневно, 11:30–03:00', 'ежедневно, 14:00–23:00',\n",
       "       'ежедневно, 10:00–04:30', 'ежедневно, 11:00–23:45',\n",
       "       'ежедневно, 16:00–00:00', 'ежедневно, 07:00–21:30',\n",
       "       'ежедневно, 10:30–22:00',\n",
       "       'пн-пт круглосуточно; сб 09:00–22:00; вс круглосуточно',\n",
       "       'ежедневно, 12:00–22:00, перерыв 15:00–16:00',\n",
       "       'ежедневно, 18:00–02:00', 'ежедневно, 10:00–00:30',\n",
       "       'ежедневно, 05:00–03:00', 'ежедневно, 08:00–22:45',\n",
       "       'пн-чт 10:00–00:00; пт,сб круглосуточно; вс 10:00–00:00',\n",
       "       'ежедневно, 09:00–01:45', 'ежедневно, 08:30–19:00',\n",
       "       'ежедневно, 11:00–00:30', 'ежедневно, 08:00–03:00',\n",
       "       'ежедневно, 05:00–00:00', 'ежедневно, 09:30–15:45',\n",
       "       'ежедневно, 06:00–18:00', 'ежедневно, 07:00–03:00',\n",
       "       'ежедневно, 07:30–02:00', 'ежедневно, 04:00–18:00',\n",
       "       'ежедневно, 07:00–18:00',\n",
       "       'ежедневно, 10:00–22:00, перерыв 12:00–13:00',\n",
       "       'пн-пт круглосуточно; сб,вс 00:00–01:00', 'ежедневно, 05:00–19:00',\n",
       "       'ежедневно, 06:00–00:00', 'ежедневно, 09:00–11:00',\n",
       "       'ежедневно, 10:15–22:45', 'ежедневно, 08:00–18:45',\n",
       "       'пн,вт,ср,чт,сб,вс круглосуточно', 'ежедневно, 09:00–16:00',\n",
       "       'ежедневно, 08:00–05:00', 'ежедневно, 21:00–04:00',\n",
       "       'пн-ср 08:00–00:00; чт-сб круглосуточно; вс 08:00–00:00',\n",
       "       'ежедневно, 10:05–22:05', 'ежедневно, 06:00–21:00',\n",
       "       'ежедневно, 06:00–02:55', 'ежедневно, 07:00–01:00',\n",
       "       'ежедневно, 09:00–20:30',\n",
       "       'пн-чт 07:00–00:00; пт,сб круглосуточно; вс 07:00–00:00',\n",
       "       'ежедневно, 11:30–21:00', 'ежедневно, 07:00–17:00',\n",
       "       'ежедневно, 09:00–01:30'], dtype=object)"
      ]
     },
     "execution_count": 22,
     "metadata": {},
     "output_type": "execute_result"
    }
   ],
   "source": [
    "keys = ['ежедневно', 'круглосуточно']\n",
    "df['hours'][df['hours'].str.contains('|'.join(keys))].unique()"
   ]
  },
  {
   "cell_type": "code",
   "execution_count": 23,
   "id": "d8a8a963",
   "metadata": {
    "id": "d8a8a963"
   },
   "outputs": [],
   "source": [
    "# Добавляем с помощью цикла заведения, которые работают каждый день недели 24 часа.\n",
    "is_24_7 = []\n",
    "for i in df['hours']:\n",
    "    if (i == 'ежедневно, круглосуточно') | (i == 'круглосуточно, ежедневно'):\n",
    "        is_24_7.append(True)\n",
    "    else:\n",
    "        is_24_7.append(False)"
   ]
  },
  {
   "cell_type": "code",
   "execution_count": 24,
   "id": "42d1e685",
   "metadata": {
    "id": "42d1e685"
   },
   "outputs": [],
   "source": [
    "df['is_24_7'] = pd.Series(is_24_7)"
   ]
  },
  {
   "cell_type": "code",
   "execution_count": 25,
   "id": "61304e83",
   "metadata": {
    "id": "61304e83"
   },
   "outputs": [
    {
     "data": {
      "text/html": [
       "<div>\n",
       "<style scoped>\n",
       "    .dataframe tbody tr th:only-of-type {\n",
       "        vertical-align: middle;\n",
       "    }\n",
       "\n",
       "    .dataframe tbody tr th {\n",
       "        vertical-align: top;\n",
       "    }\n",
       "\n",
       "    .dataframe thead th {\n",
       "        text-align: right;\n",
       "    }\n",
       "</style>\n",
       "<table border=\"1\" class=\"dataframe\">\n",
       "  <thead>\n",
       "    <tr style=\"text-align: right;\">\n",
       "      <th></th>\n",
       "      <th>id</th>\n",
       "      <th>name</th>\n",
       "      <th>category</th>\n",
       "      <th>address</th>\n",
       "      <th>district</th>\n",
       "      <th>hours</th>\n",
       "      <th>rating</th>\n",
       "      <th>chain</th>\n",
       "      <th>seats</th>\n",
       "      <th>price</th>\n",
       "      <th>avg_bill</th>\n",
       "      <th>middle_avg_bill</th>\n",
       "      <th>middle_coffee_cup</th>\n",
       "      <th>is_24_7</th>\n",
       "    </tr>\n",
       "  </thead>\n",
       "  <tbody>\n",
       "    <tr>\n",
       "      <th>0</th>\n",
       "      <td>0c3e3439a8c64ea5bf6ecd6ca6ae19f0</td>\n",
       "      <td>wowфли</td>\n",
       "      <td>кафе</td>\n",
       "      <td>москва, улица дыбенко, 7/1</td>\n",
       "      <td>Северный административный округ</td>\n",
       "      <td>ежедневно, 10:00–22:00</td>\n",
       "      <td>5.0</td>\n",
       "      <td>0</td>\n",
       "      <td>-1</td>\n",
       "      <td>unknown</td>\n",
       "      <td>unknown</td>\n",
       "      <td>0.0</td>\n",
       "      <td>0.0</td>\n",
       "      <td>False</td>\n",
       "    </tr>\n",
       "    <tr>\n",
       "      <th>1</th>\n",
       "      <td>045780ada3474c57a2112e505d74b633</td>\n",
       "      <td>четыре комнаты</td>\n",
       "      <td>ресторан</td>\n",
       "      <td>москва, улица дыбенко, 36, корп. 1</td>\n",
       "      <td>Северный административный округ</td>\n",
       "      <td>ежедневно, 10:00–22:00</td>\n",
       "      <td>4.5</td>\n",
       "      <td>0</td>\n",
       "      <td>4</td>\n",
       "      <td>выше среднего</td>\n",
       "      <td>Средний счёт:1500–1600 ₽</td>\n",
       "      <td>1550.0</td>\n",
       "      <td>0.0</td>\n",
       "      <td>False</td>\n",
       "    </tr>\n",
       "    <tr>\n",
       "      <th>2</th>\n",
       "      <td>1070b6b59144425896c65889347fcff6</td>\n",
       "      <td>хазри</td>\n",
       "      <td>кафе</td>\n",
       "      <td>москва, клязьминская улица, 15</td>\n",
       "      <td>Северный административный округ</td>\n",
       "      <td>пн-чт 11:00–02:00; пт,сб 11:00–05:00; вс 11:00...</td>\n",
       "      <td>4.6</td>\n",
       "      <td>0</td>\n",
       "      <td>45</td>\n",
       "      <td>средние</td>\n",
       "      <td>Средний счёт:от 1000 ₽</td>\n",
       "      <td>1000.0</td>\n",
       "      <td>0.0</td>\n",
       "      <td>False</td>\n",
       "    </tr>\n",
       "    <tr>\n",
       "      <th>3</th>\n",
       "      <td>03ac7cd772104f65b58b349dc59f03ee</td>\n",
       "      <td>dormouse coffee shop</td>\n",
       "      <td>кофейня</td>\n",
       "      <td>москва, улица маршала федоренко, 12</td>\n",
       "      <td>Северный административный округ</td>\n",
       "      <td>ежедневно, 09:00–22:00</td>\n",
       "      <td>5.0</td>\n",
       "      <td>0</td>\n",
       "      <td>-1</td>\n",
       "      <td>unknown</td>\n",
       "      <td>Цена чашки капучино:155–185 ₽</td>\n",
       "      <td>0.0</td>\n",
       "      <td>170.0</td>\n",
       "      <td>False</td>\n",
       "    </tr>\n",
       "    <tr>\n",
       "      <th>4</th>\n",
       "      <td>a163aada139c4c7f87b0b1c0b466a50f</td>\n",
       "      <td>иль марко</td>\n",
       "      <td>пиццерия</td>\n",
       "      <td>москва, правобережная улица, 1б</td>\n",
       "      <td>Северный административный округ</td>\n",
       "      <td>ежедневно, 10:00–22:00</td>\n",
       "      <td>5.0</td>\n",
       "      <td>1</td>\n",
       "      <td>148</td>\n",
       "      <td>средние</td>\n",
       "      <td>Средний счёт:400–600 ₽</td>\n",
       "      <td>500.0</td>\n",
       "      <td>0.0</td>\n",
       "      <td>False</td>\n",
       "    </tr>\n",
       "  </tbody>\n",
       "</table>\n",
       "</div>"
      ],
      "text/plain": [
       "                                 id                  name  category  \\\n",
       "0  0c3e3439a8c64ea5bf6ecd6ca6ae19f0                wowфли      кафе   \n",
       "1  045780ada3474c57a2112e505d74b633        четыре комнаты  ресторан   \n",
       "2  1070b6b59144425896c65889347fcff6                 хазри      кафе   \n",
       "3  03ac7cd772104f65b58b349dc59f03ee  dormouse coffee shop   кофейня   \n",
       "4  a163aada139c4c7f87b0b1c0b466a50f             иль марко  пиццерия   \n",
       "\n",
       "                               address                         district  \\\n",
       "0           москва, улица дыбенко, 7/1  Северный административный округ   \n",
       "1   москва, улица дыбенко, 36, корп. 1  Северный административный округ   \n",
       "2       москва, клязьминская улица, 15  Северный административный округ   \n",
       "3  москва, улица маршала федоренко, 12  Северный административный округ   \n",
       "4      москва, правобережная улица, 1б  Северный административный округ   \n",
       "\n",
       "                                               hours  rating  chain  seats  \\\n",
       "0                             ежедневно, 10:00–22:00     5.0      0     -1   \n",
       "1                             ежедневно, 10:00–22:00     4.5      0      4   \n",
       "2  пн-чт 11:00–02:00; пт,сб 11:00–05:00; вс 11:00...     4.6      0     45   \n",
       "3                             ежедневно, 09:00–22:00     5.0      0     -1   \n",
       "4                             ежедневно, 10:00–22:00     5.0      1    148   \n",
       "\n",
       "           price                       avg_bill  middle_avg_bill  \\\n",
       "0        unknown                        unknown              0.0   \n",
       "1  выше среднего       Средний счёт:1500–1600 ₽           1550.0   \n",
       "2        средние         Средний счёт:от 1000 ₽           1000.0   \n",
       "3        unknown  Цена чашки капучино:155–185 ₽              0.0   \n",
       "4        средние         Средний счёт:400–600 ₽            500.0   \n",
       "\n",
       "   middle_coffee_cup is_24_7  \n",
       "0                0.0   False  \n",
       "1                0.0   False  \n",
       "2                0.0   False  \n",
       "3              170.0   False  \n",
       "4                0.0   False  "
      ]
     },
     "execution_count": 25,
     "metadata": {},
     "output_type": "execute_result"
    }
   ],
   "source": [
    "df.head()"
   ]
  },
  {
   "cell_type": "code",
   "execution_count": 26,
   "id": "ddf24371",
   "metadata": {},
   "outputs": [
    {
     "data": {
      "text/plain": [
       "'Всего круглосуточных и ежедневно работающих заведений: 729'"
      ]
     },
     "metadata": {},
     "output_type": "display_data"
    }
   ],
   "source": [
    "krug = df['is_24_7'].sum()\n",
    "display(f'Всего круглосуточных и ежедневно работающих заведений: {krug}')"
   ]
  },
  {
   "cell_type": "markdown",
   "id": "562f30ab",
   "metadata": {
    "id": "562f30ab"
   },
   "source": [
    "---\n",
    "\n",
    "### Промежуточный вывод\n",
    "\n",
    "После предобработки данных напишите промежуточный вывод о проведённой работе. Отразите количество или долю отфильтрованных данных, если вы что-то удаляли."
   ]
  },
  {
   "cell_type": "markdown",
   "id": "73962d0d",
   "metadata": {
    "id": "4e587ce1"
   },
   "source": [
    "Были заполнены пропуски в столбцах **middle_coffee_cup**, **middle_avg_bill**, условным значением -1;\n",
    "В столбцах **price** **avg_bill** и **hours** пропуски заменены на значение 'unknown';"
   ]
  },
  {
   "cell_type": "markdown",
   "id": "b8e415db",
   "metadata": {
    "id": "e3388762"
   },
   "source": [
    "Также удалено 4 неявных дубликата. Явных дубликатов обнаружено не было."
   ]
  },
  {
   "cell_type": "markdown",
   "id": "e9425c64",
   "metadata": {
    "id": "b55c46cb"
   },
   "source": [
    "Создан столбец **is_24_7**, содержащий данные, является ли заведение круглосуточным и ежедневно работающим."
   ]
  },
  {
   "cell_type": "markdown",
   "id": "6953e84c",
   "metadata": {
    "id": "6953e84c"
   },
   "source": [
    "## 3. Исследовательский анализ данных\n",
    "Проведите исследовательский анализ исходных данных.\n",
    "\n",
    "При исследовании данных используйте визуализации. Проверьте, что для каждого случая подобран оптимальный тип визуализации с корректным оформлением. У графика должен быть заголовок, понятные подписи по осям, при необходимости легенда, а его размер является оптимальным для изучения.\n",
    "\n",
    "После исследования каждого пункта оставляйте небольшой комментарий с выводом или обсуждением результата. В конце шага обобщите результаты, выделив, по вашему мнению, самые важные."
   ]
  },
  {
   "cell_type": "markdown",
   "id": "8555d840",
   "metadata": {
    "id": "8555d840"
   },
   "source": [
    "---\n",
    "\n",
    "### Задача 1\n",
    "\n",
    "Нужно исследовать количество объектов общественного питания по каждой категории."
   ]
  },
  {
   "cell_type": "code",
   "execution_count": 27,
   "id": "ef2bffe9",
   "metadata": {
    "id": "ef2bffe9"
   },
   "outputs": [
    {
     "data": {
      "text/plain": [
       "['кафе',\n",
       " 'ресторан',\n",
       " 'кофейня',\n",
       " 'пиццерия',\n",
       " 'бар,паб',\n",
       " 'быстрое питание',\n",
       " 'булочная',\n",
       " 'столовая']"
      ]
     },
     "execution_count": 27,
     "metadata": {},
     "output_type": "execute_result"
    }
   ],
   "source": [
    "df['category'].unique().tolist()"
   ]
  },
  {
   "cell_type": "code",
   "execution_count": 28,
   "id": "71ab5e91",
   "metadata": {
    "id": "71ab5e91"
   },
   "outputs": [
    {
     "data": {
      "text/plain": [
       "category\n",
       "бар,паб             764\n",
       "булочная            256\n",
       "быстрое питание     603\n",
       "кафе               2376\n",
       "кофейня            1413\n",
       "пиццерия            633\n",
       "ресторан           2042\n",
       "столовая            315\n",
       "Name: id, dtype: int64"
      ]
     },
     "execution_count": 28,
     "metadata": {},
     "output_type": "execute_result"
    }
   ],
   "source": [
    "df.groupby('category')['id'].agg('count')"
   ]
  },
  {
   "cell_type": "code",
   "execution_count": 29,
   "id": "63360b97",
   "metadata": {
    "id": "63360b97"
   },
   "outputs": [
    {
     "data": {
      "image/png": "[encoded data removed]",
      "text/plain": [
       "<Figure size 864x432 with 1 Axes>"
      ]
     },
     "metadata": {
      "needs_background": "light"
     },
     "output_type": "display_data"
    }
   ],
   "source": [
    "plt.figure(figsize=(12, 6))\n",
    "\n",
    "df['category'].value_counts().plot(\n",
    "               kind='bar', \n",
    "               rot=0, \n",
    "               legend=False,\n",
    "               title='Распределение количества заведений по категориям')\n",
    "plt.xlabel('Категории')\n",
    "plt.ylabel('Количество заведений')\n",
    "plt.grid()\n",
    "\n",
    "plt.show()"
   ]
  },
  {
   "cell_type": "markdown",
   "id": "1953914a",
   "metadata": {},
   "source": [
    "Распределение показывает, что наиболее популярная категория заведений - кафе, далее идут ресторан и кофейня."
   ]
  },
  {
   "cell_type": "markdown",
   "id": "6821e1d0",
   "metadata": {
    "id": "6821e1d0"
   },
   "source": [
    "---\n",
    "\n",
    "### Задача 2\n",
    "Исследование распределения количества заведений по административным районам Москвы, а также отдельно распределение заведений каждой категории в Центральном административном округе Москвы."
   ]
  },
  {
   "cell_type": "code",
   "execution_count": 30,
   "id": "e62f31be",
   "metadata": {
    "id": "e62f31be"
   },
   "outputs": [
    {
     "data": {
      "text/plain": [
       "['Северный административный округ',\n",
       " 'Северо-Восточный административный округ',\n",
       " 'Северо-Западный административный округ',\n",
       " 'Западный административный округ',\n",
       " 'Центральный административный округ',\n",
       " 'Восточный административный округ',\n",
       " 'Юго-Восточный административный округ',\n",
       " 'Южный административный округ',\n",
       " 'Юго-Западный административный округ']"
      ]
     },
     "execution_count": 30,
     "metadata": {},
     "output_type": "execute_result"
    }
   ],
   "source": [
    "df['district'].unique().tolist()"
   ]
  },
  {
   "cell_type": "code",
   "execution_count": 31,
   "id": "0a290cd1",
   "metadata": {
    "id": "0a290cd1"
   },
   "outputs": [
    {
     "data": {
      "text/plain": [
       "district\n",
       "Восточный административный округ            798\n",
       "Западный административный округ             850\n",
       "Северный административный округ             898\n",
       "Северо-Восточный административный округ     890\n",
       "Северо-Западный административный округ      409\n",
       "Центральный административный округ         2242\n",
       "Юго-Восточный административный округ        714\n",
       "Юго-Западный административный округ         709\n",
       "Южный административный округ                892\n",
       "Name: id, dtype: int64"
      ]
     },
     "execution_count": 31,
     "metadata": {},
     "output_type": "execute_result"
    }
   ],
   "source": [
    "df.groupby('district')['id'].agg('count')"
   ]
  },
  {
   "cell_type": "code",
   "execution_count": 32,
   "id": "41f1654a",
   "metadata": {
    "id": "41f1654a"
   },
   "outputs": [
    {
     "data": {
      "image/png": "[encoded data removed]",
      "text/plain": [
       "<Figure size 1008x576 with 1 Axes>"
      ]
     },
     "metadata": {
      "needs_background": "light"
     },
     "output_type": "display_data"
    }
   ],
   "source": [
    "plt.figure(figsize=(14, 8))\n",
    "\n",
    "df['district'].value_counts().plot(\n",
    "               kind='bar', \n",
    "               rot=30, \n",
    "               legend=False,\n",
    "               title='Распределение количества заведений в зависимости от района')\n",
    "plt.xlabel('Район')\n",
    "plt.ylabel('Количество заведений')\n",
    "plt.grid()\n",
    "\n",
    "plt.show()"
   ]
  },
  {
   "cell_type": "markdown",
   "id": "520d576d",
   "metadata": {},
   "source": [
    "Судя по распределению, Центральный административный округ - наиболее популярный район. Наименее популярный - Северо-Западный."
   ]
  },
  {
   "cell_type": "code",
   "execution_count": 33,
   "id": "db19b824",
   "metadata": {
    "scrolled": true
   },
   "outputs": [
    {
     "data": {
      "text/plain": [
       "category\n",
       "бар,паб            364\n",
       "булочная            50\n",
       "быстрое питание     87\n",
       "кафе               464\n",
       "кофейня            428\n",
       "пиццерия           113\n",
       "ресторан           670\n",
       "столовая            66\n",
       "Name: id, dtype: int64"
      ]
     },
     "execution_count": 33,
     "metadata": {},
     "output_type": "execute_result"
    }
   ],
   "source": [
    "#Посчитаем отдельно распределение для ЦАО\n",
    "df[df['district']=='Центральный административный округ'].groupby('category')['id'].agg('count')"
   ]
  },
  {
   "cell_type": "code",
   "execution_count": 34,
   "id": "2d850627",
   "metadata": {},
   "outputs": [
    {
     "data": {
      "image/png": "[encoded data removed]",
      "text/plain": [
       "<Figure size 864x432 with 1 Axes>"
      ]
     },
     "metadata": {
      "needs_background": "light"
     },
     "output_type": "display_data"
    }
   ],
   "source": [
    "plt.figure(figsize=(12, 6))\n",
    "\n",
    "df[df['district']=='Центральный административный округ']['category'].value_counts().plot(\n",
    "               kind='bar', \n",
    "               rot=0, \n",
    "               legend=False,\n",
    "               title='Распределение количества заведений по категориям')\n",
    "plt.xlabel('Категории')\n",
    "plt.ylabel('Количество заведений')\n",
    "plt.grid()\n",
    "\n",
    "plt.show()"
   ]
  },
  {
   "cell_type": "markdown",
   "id": "99f30484",
   "metadata": {},
   "source": [
    "В ЦАО, в отличие от общего распределения по Москве, наиболее популярной категорией заведения выходит ресторан, а кафе занимает второе место."
   ]
  },
  {
   "cell_type": "markdown",
   "id": "7c824f58",
   "metadata": {
    "id": "7c824f58"
   },
   "source": [
    "---\n",
    "\n",
    "### Задача 3\n",
    "Теперь стоит посмотреть соотношение сетевых и несетевых заведений в целом по всем данным и в разрезе категорий заведения. Ответим на вопросы. Каких заведений больше — сетевых или несетевых? Какие категории заведений чаще являются сетевыми? "
   ]
  },
  {
   "cell_type": "code",
   "execution_count": 35,
   "id": "ef442d1a",
   "metadata": {
    "id": "ef442d1a"
   },
   "outputs": [
    {
     "data": {
      "text/plain": [
       "chain\n",
       "0    0.618781\n",
       "1    0.381219\n",
       "Name: id, dtype: float64"
      ]
     },
     "execution_count": 35,
     "metadata": {},
     "output_type": "execute_result"
    }
   ],
   "source": [
    "df.groupby('chain')['id'].agg('count')/df.shape[0]"
   ]
  },
  {
   "cell_type": "code",
   "execution_count": 36,
   "id": "0de29fa2",
   "metadata": {
    "id": "0de29fa2"
   },
   "outputs": [
    {
     "data": {
      "image/png": "[encoded data removed]",
      "text/plain": [
       "<Figure size 864x432 with 1 Axes>"
      ]
     },
     "metadata": {
      "needs_background": "light"
     },
     "output_type": "display_data"
    }
   ],
   "source": [
    "plt.figure(figsize=(12, 6))\n",
    "\n",
    "(df['chain'].value_counts()/df.shape[0]).plot(\n",
    "               kind='bar', \n",
    "               rot=0,\n",
    "               xlabel='Сеть / не сеть',\n",
    "               ylabel='Количество заведений',\n",
    "               legend=False,\n",
    "               title='Распределение количества заведений по критерию: 1-сетевое, 0-не сетевое')\n",
    "\n",
    "plt.grid()\n",
    "\n",
    "plt.show()"
   ]
  },
  {
   "cell_type": "markdown",
   "id": "f39e7be5",
   "metadata": {
    "id": "a139bd72"
   },
   "source": [
    "График показывает, что сетевых заведений более чем в 1.5 раза меньше, чем не сетевых, если подсчитывать доли в общих значениях. Теперь стоит проверить распределение в разрезе категорий заведения."
   ]
  },
  {
   "cell_type": "code",
   "execution_count": 37,
   "id": "8202b642",
   "metadata": {
    "scrolled": false
   },
   "outputs": [
    {
     "data": {
      "text/html": [
       "<div>\n",
       "<style scoped>\n",
       "    .dataframe tbody tr th:only-of-type {\n",
       "        vertical-align: middle;\n",
       "    }\n",
       "\n",
       "    .dataframe tbody tr th {\n",
       "        vertical-align: top;\n",
       "    }\n",
       "\n",
       "    .dataframe thead th {\n",
       "        text-align: right;\n",
       "    }\n",
       "</style>\n",
       "<table border=\"1\" class=\"dataframe\">\n",
       "  <thead>\n",
       "    <tr style=\"text-align: right;\">\n",
       "      <th>chain</th>\n",
       "      <th>0</th>\n",
       "      <th>1</th>\n",
       "      <th>share_0</th>\n",
       "      <th>share_1</th>\n",
       "    </tr>\n",
       "    <tr>\n",
       "      <th>category</th>\n",
       "      <th></th>\n",
       "      <th></th>\n",
       "      <th></th>\n",
       "      <th></th>\n",
       "    </tr>\n",
       "  </thead>\n",
       "  <tbody>\n",
       "    <tr>\n",
       "      <th>кафе</th>\n",
       "      <td>1597</td>\n",
       "      <td>779</td>\n",
       "      <td>67.21</td>\n",
       "      <td>32.79</td>\n",
       "    </tr>\n",
       "    <tr>\n",
       "      <th>ресторан</th>\n",
       "      <td>1313</td>\n",
       "      <td>729</td>\n",
       "      <td>64.30</td>\n",
       "      <td>35.70</td>\n",
       "    </tr>\n",
       "    <tr>\n",
       "      <th>кофейня</th>\n",
       "      <td>693</td>\n",
       "      <td>720</td>\n",
       "      <td>49.04</td>\n",
       "      <td>50.96</td>\n",
       "    </tr>\n",
       "    <tr>\n",
       "      <th>бар,паб</th>\n",
       "      <td>596</td>\n",
       "      <td>168</td>\n",
       "      <td>78.01</td>\n",
       "      <td>21.99</td>\n",
       "    </tr>\n",
       "    <tr>\n",
       "      <th>быстрое питание</th>\n",
       "      <td>371</td>\n",
       "      <td>232</td>\n",
       "      <td>61.53</td>\n",
       "      <td>38.47</td>\n",
       "    </tr>\n",
       "    <tr>\n",
       "      <th>пиццерия</th>\n",
       "      <td>303</td>\n",
       "      <td>330</td>\n",
       "      <td>47.87</td>\n",
       "      <td>52.13</td>\n",
       "    </tr>\n",
       "    <tr>\n",
       "      <th>столовая</th>\n",
       "      <td>227</td>\n",
       "      <td>88</td>\n",
       "      <td>72.06</td>\n",
       "      <td>27.94</td>\n",
       "    </tr>\n",
       "    <tr>\n",
       "      <th>булочная</th>\n",
       "      <td>99</td>\n",
       "      <td>157</td>\n",
       "      <td>38.67</td>\n",
       "      <td>61.33</td>\n",
       "    </tr>\n",
       "  </tbody>\n",
       "</table>\n",
       "</div>"
      ],
      "text/plain": [
       "chain               0    1  share_0  share_1\n",
       "category                                    \n",
       "кафе             1597  779    67.21    32.79\n",
       "ресторан         1313  729    64.30    35.70\n",
       "кофейня           693  720    49.04    50.96\n",
       "бар,паб           596  168    78.01    21.99\n",
       "быстрое питание   371  232    61.53    38.47\n",
       "пиццерия          303  330    47.87    52.13\n",
       "столовая          227   88    72.06    27.94\n",
       "булочная           99  157    38.67    61.33"
      ]
     },
     "metadata": {},
     "output_type": "display_data"
    }
   ],
   "source": [
    "grouped = df.groupby('category')['chain'].value_counts().unstack(fill_value=0)\n",
    "#Чтобы вычислить доли, напишем цикл for\n",
    "for col in [0, 1]:\n",
    "    grouped[f'share_{col}'] = round(grouped[col]/grouped[[0, 1]].sum(axis = 1) * 100, 2)\n",
    "display(grouped.sort_values(by=[0, 1], ascending=False))"
   ]
  },
  {
   "cell_type": "code",
   "execution_count": 38,
   "id": "f57d0018",
   "metadata": {
    "scrolled": false
   },
   "outputs": [
    {
     "data": {
      "image/png": "[encoded data removed]",
      "text/plain": [
       "<Figure size 864x432 with 1 Axes>"
      ]
     },
     "metadata": {
      "needs_background": "light"
     },
     "output_type": "display_data"
    }
   ],
   "source": [
    "grouped[['share_0', 'share_1']].plot(kind='bar',\n",
    "               title='Распределение сетевых / не сетевых заведений в зависимости от категории',\n",
    "               legend=True,\n",
    "               ylabel='Количество заведений',\n",
    "               xlabel='Категории',\n",
    "               rot=0,\n",
    "               figsize=(12, 6))\n",
    "plt.grid()\n",
    "\n",
    "plt.show()"
   ]
  },
  {
   "cell_type": "markdown",
   "id": "5c7d80be",
   "metadata": {},
   "source": [
    "В разрезе категорий стоит отметить, что сетевых булочных, пиццерий и кофеен больше, чем не сетевых.  \n",
    "Однако в других категориях не сетевых заведений зачастую в полтора, два и более раз больше: кафе, рестораны, столовые, бары/пабы."
   ]
  },
  {
   "cell_type": "markdown",
   "id": "5913c3e3",
   "metadata": {
    "id": "5913c3e3"
   },
   "source": [
    "---\n",
    "\n",
    "### Задача 4\n",
    "\n",
    "Теперь исследуем количество посадочных мест в заведениях. Стоит понять, встречаются ли в данных аномальные значения или выбросы. И если да, то с чем они могут быть связаны? \n"
   ]
  },
  {
   "cell_type": "code",
   "execution_count": 39,
   "id": "6cb238d2",
   "metadata": {
    "id": "6cb238d2"
   },
   "outputs": [
    {
     "data": {
      "image/png": "[encoded data removed]",
      "text/plain": [
       "<Figure size 864x432 with 1 Axes>"
      ]
     },
     "metadata": {
      "needs_background": "light"
     },
     "output_type": "display_data"
    }
   ],
   "source": [
    "#Построим диаграмму размаха\n",
    "plt.figure(figsize=(12, 6))\n",
    "\n",
    "df.boxplot(column='seats', vert=False)\n",
    "plt.title('Распределение кол-ва посадочных мест в заведениях')\n",
    "plt.xlabel('Количество мест')\n",
    "\n",
    "plt.show()"
   ]
  },
  {
   "cell_type": "markdown",
   "id": "79a64082",
   "metadata": {
    "id": "062b55d8"
   },
   "source": [
    "Аномальные значения присутствуют от 200 до значений, равных более чем 1200;  \n",
    "Можно предположить, что данные были неправильно заполнены, например, в части данных были добавлены лишние нули;  \n",
    "Выведем наиболее типичное количество посадочных мест для каждой категории заведений. При этом отфильтруем условное значение -1, которым ранее обозначили пустые строки."
   ]
  },
  {
   "cell_type": "code",
   "execution_count": 40,
   "id": "27f19edc",
   "metadata": {
    "scrolled": false
   },
   "outputs": [
    {
     "data": {
      "text/plain": [
       "category\n",
       "бар,паб             60\n",
       "булочная             0\n",
       "быстрое питание      0\n",
       "кафе                40\n",
       "кофейня            100\n",
       "пиццерия            40\n",
       "ресторан           100\n",
       "столовая            40\n",
       "Name: seats, dtype: int64"
      ]
     },
     "metadata": {},
     "output_type": "display_data"
    }
   ],
   "source": [
    "seats_by_cat = df[df['seats'] != -1].groupby('category')['seats'].apply(pd.Series.mode).reset_index(level=1, drop=True)\n",
    "display(seats_by_cat)"
   ]
  },
  {
   "cell_type": "code",
   "execution_count": 41,
   "id": "f4a8ab57",
   "metadata": {
    "scrolled": false
   },
   "outputs": [
    {
     "data": {
      "image/png": "[encoded data removed]",
      "text/plain": [
       "<Figure size 864x432 with 1 Axes>"
      ]
     },
     "metadata": {
      "needs_background": "light"
     },
     "output_type": "display_data"
    }
   ],
   "source": [
    "plt.figure(figsize=(12, 6))\n",
    "\n",
    "seats_by_cat.sort_values(ascending=False).plot(\n",
    "               kind='bar', \n",
    "               rot=0,\n",
    "               xlabel='Категории',\n",
    "               ylabel='Количество посадочных мест',\n",
    "               legend=False,\n",
    "               title='Распределение количества посадочных мест по категориям заведений')\n",
    "\n",
    "plt.grid()\n",
    "\n",
    "plt.show()"
   ]
  },
  {
   "cell_type": "markdown",
   "id": "297b8e79",
   "metadata": {},
   "source": [
    "Из распределения понятно, что существуют заведения, в которых посадочные места в принципе не предусмотрены: булочная и быстрое питание;  \n",
    "Также видно, что в кафе, пиццериях и столовых наиболее распространенное количество мест - 40;  \n",
    "В распределении выделяются кофейня и ресторан: модальные значения кол-ва посадочных мест в них равны 100."
   ]
  },
  {
   "cell_type": "markdown",
   "id": "8ed065ea",
   "metadata": {
    "id": "8ed065ea"
   },
   "source": [
    "---\n",
    "\n",
    "### Задача 5\n",
    "\n",
    "Теперь надо посмотреть рейтинг заведений. Визуализируем распределение средних рейтингов по категориям заведений. Попробуем выяснить, сильно ли различаются усреднённые рейтинги для разных типов общепита."
   ]
  },
  {
   "cell_type": "code",
   "execution_count": 42,
   "id": "cc5206f8",
   "metadata": {
    "id": "cc5206f8"
   },
   "outputs": [],
   "source": [
    "# Посчитаем средний рейтинг для каждой категории общепита\n",
    "rat_by_cat = df.groupby('category')['rating'].mean()"
   ]
  },
  {
   "cell_type": "code",
   "execution_count": 43,
   "id": "3e0ec5d7",
   "metadata": {
    "id": "3e0ec5d7"
   },
   "outputs": [
    {
     "data": {
      "text/plain": [
       "category\n",
       "бар,паб            4.387696\n",
       "булочная           4.268359\n",
       "быстрое питание    4.050249\n",
       "кафе               4.124285\n",
       "кофейня            4.277282\n",
       "пиццерия           4.301264\n",
       "ресторан           4.290402\n",
       "столовая           4.211429\n",
       "Name: rating, dtype: float64"
      ]
     },
     "metadata": {},
     "output_type": "display_data"
    }
   ],
   "source": [
    "display(rat_by_cat)"
   ]
  },
  {
   "cell_type": "code",
   "execution_count": 44,
   "id": "766c86cb",
   "metadata": {
    "id": "766c86cb",
    "scrolled": false
   },
   "outputs": [
    {
     "data": {
      "image/png": "[encoded data removed]",
      "text/plain": [
       "<Figure size 864x432 with 1 Axes>"
      ]
     },
     "metadata": {
      "needs_background": "light"
     },
     "output_type": "display_data"
    }
   ],
   "source": [
    "plt.figure(figsize=(12, 6))\n",
    "\n",
    "rat_by_cat.sort_values(ascending=False).plot(\n",
    "               kind='bar', \n",
    "               rot=0,\n",
    "               xlabel='Категории',\n",
    "               ylabel='Средний рейтинг заведений',\n",
    "               legend=False,\n",
    "               title='Распределение среднего рейтинга по категориям заведений')\n",
    "\n",
    "plt.grid()\n",
    "\n",
    "plt.show()"
   ]
  },
  {
   "cell_type": "markdown",
   "id": "ec1b13f1",
   "metadata": {},
   "source": [
    "Исходя из полученного распределения, средний рейтинг у баров/пабов самый высокий - 4.38.  \n",
    "Однако стоит отметить, что разброс данных небольшой - средний рейтинг для всех категорий заведений по Москве не ниже 4 баллов."
   ]
  },
  {
   "cell_type": "markdown",
   "id": "dd9702d9",
   "metadata": {
    "id": "dd9702d9"
   },
   "source": [
    "---\n",
    "\n",
    "### Задача 6\n",
    "\n",
    "Нужно понять, с какими данными показывают самую сильную корреляцию рейтинги заведений. Построим и визуализируем матрицу корреляции рейтинга заведения с разными данными: его категория, положение (административный район Москвы), статус сетевого заведения, количество мест, ценовая категория и признак, является ли заведения круглосуточным."
   ]
  },
  {
   "cell_type": "code",
   "execution_count": 45,
   "id": "15400eb9",
   "metadata": {
    "id": "15400eb9",
    "scrolled": true
   },
   "outputs": [
    {
     "name": "stdout",
     "output_type": "stream",
     "text": [
      "interval columns not set, guessing: ['chain', 'seats', 'rating']\n"
     ]
    }
   ],
   "source": [
    "# Отфильтруем значения цен unknown, чтобы не искажать корреляцию\n",
    "filt_df = df[df['price'] != 'unknown']\n",
    "corr_matrix = filt_df[['category', 'district', 'chain', 'seats', 'price', 'is_24_7', 'rating']].phik_matrix()"
   ]
  },
  {
   "cell_type": "code",
   "execution_count": 46,
   "id": "8f0379af",
   "metadata": {
    "id": "8f0379af"
   },
   "outputs": [
    {
     "data": {
      "text/plain": [
       "'Корреляционная матрица рейтинга заведений с другими столбцами'"
      ]
     },
     "metadata": {},
     "output_type": "display_data"
    },
    {
     "data": {
      "text/html": [
       "<div>\n",
       "<style scoped>\n",
       "    .dataframe tbody tr th:only-of-type {\n",
       "        vertical-align: middle;\n",
       "    }\n",
       "\n",
       "    .dataframe tbody tr th {\n",
       "        vertical-align: top;\n",
       "    }\n",
       "\n",
       "    .dataframe thead th {\n",
       "        text-align: right;\n",
       "    }\n",
       "</style>\n",
       "<table border=\"1\" class=\"dataframe\">\n",
       "  <thead>\n",
       "    <tr style=\"text-align: right;\">\n",
       "      <th></th>\n",
       "      <th>rating</th>\n",
       "    </tr>\n",
       "  </thead>\n",
       "  <tbody>\n",
       "    <tr>\n",
       "      <th>price</th>\n",
       "      <td>0.220295</td>\n",
       "    </tr>\n",
       "    <tr>\n",
       "      <th>district</th>\n",
       "      <td>0.193529</td>\n",
       "    </tr>\n",
       "    <tr>\n",
       "      <th>category</th>\n",
       "      <td>0.173015</td>\n",
       "    </tr>\n",
       "    <tr>\n",
       "      <th>chain</th>\n",
       "      <td>0.113498</td>\n",
       "    </tr>\n",
       "    <tr>\n",
       "      <th>is_24_7</th>\n",
       "      <td>0.032987</td>\n",
       "    </tr>\n",
       "    <tr>\n",
       "      <th>seats</th>\n",
       "      <td>0.000000</td>\n",
       "    </tr>\n",
       "  </tbody>\n",
       "</table>\n",
       "</div>"
      ],
      "text/plain": [
       "            rating\n",
       "price     0.220295\n",
       "district  0.193529\n",
       "category  0.173015\n",
       "chain     0.113498\n",
       "is_24_7   0.032987\n",
       "seats     0.000000"
      ]
     },
     "execution_count": 46,
     "metadata": {},
     "output_type": "execute_result"
    }
   ],
   "source": [
    "display('Корреляционная матрица рейтинга заведений с другими столбцами')\n",
    "corr_matrix.loc[corr_matrix.index != 'rating'][['rating']].sort_values(by='rating', ascending=False)"
   ]
  },
  {
   "cell_type": "markdown",
   "id": "60d88614",
   "metadata": {
    "id": "1a65a84d"
   },
   "source": [
    "Наибольшая корреляция присутствует между ценой и рейтингом и равна 0.22, то есть входит в диапазон от 0 до 0.3 => связь прямая слабая."
   ]
  },
  {
   "cell_type": "markdown",
   "id": "5277a52a",
   "metadata": {},
   "source": [
    "**Анализ взаимосвязи**  \n",
    "  \n",
    "  Попробуем выяснить, существует ли зависимость между категорией цен в заведении и его рейтингом."
   ]
  },
  {
   "cell_type": "code",
   "execution_count": 47,
   "id": "76d8fea0",
   "metadata": {
    "scrolled": false
   },
   "outputs": [
    {
     "data": {
      "image/png": "[encoded data removed]",
      "text/plain": [
       "<Figure size 864x432 with 1 Axes>"
      ]
     },
     "metadata": {
      "needs_background": "light"
     },
     "output_type": "display_data"
    }
   ],
   "source": [
    "plt.figure(figsize=(12, 6))\n",
    "sns.scatterplot(x='price', y='rating', data=filt_df)\n",
    "\n",
    "plt.title('Корреляция между рейтингом и категорией цен')\n",
    "plt.ylabel('Рейтинг')\n",
    "plt.xlabel('Категория цен')\n",
    "\n",
    "plt.show()"
   ]
  },
  {
   "cell_type": "markdown",
   "id": "36f490dd",
   "metadata": {},
   "source": [
    "Исходя из распределения по категориям цен / рейтингу, можно сделать вывод, что в заведениях ценами выше среднего и низкими ценами оценки в среднем более высокие, чем в других категориях.  \n",
    "Разброс оценок значительно больше в заведениях со средними и высокими ценами. Кроме того в категории \"высокие\" распределение имеет даже единицы."
   ]
  },
  {
   "cell_type": "markdown",
   "id": "370de703",
   "metadata": {
    "id": "370de703"
   },
   "source": [
    "---\n",
    "\n",
    "### Задача 7\n",
    "\n",
    "Сгруппируем данные по названиям заведений и найдите топ-15 популярных сетей в Москве. Для них посчитаем значения среднего рейтинга. Под популярностью понимается количество заведений этой сети в регионе. Надо выяснить, к какой категории заведений они относятся."
   ]
  },
  {
   "cell_type": "code",
   "execution_count": 48,
   "id": "5d828a9a",
   "metadata": {
    "id": "5d828a9a"
   },
   "outputs": [
    {
     "data": {
      "text/html": [
       "<div>\n",
       "<style scoped>\n",
       "    .dataframe tbody tr th:only-of-type {\n",
       "        vertical-align: middle;\n",
       "    }\n",
       "\n",
       "    .dataframe tbody tr th {\n",
       "        vertical-align: top;\n",
       "    }\n",
       "\n",
       "    .dataframe thead th {\n",
       "        text-align: right;\n",
       "    }\n",
       "</style>\n",
       "<table border=\"1\" class=\"dataframe\">\n",
       "  <thead>\n",
       "    <tr style=\"text-align: right;\">\n",
       "      <th></th>\n",
       "      <th></th>\n",
       "      <th>id</th>\n",
       "      <th>rating</th>\n",
       "    </tr>\n",
       "    <tr>\n",
       "      <th>name</th>\n",
       "      <th>category</th>\n",
       "      <th></th>\n",
       "      <th></th>\n",
       "    </tr>\n",
       "  </thead>\n",
       "  <tbody>\n",
       "    <tr>\n",
       "      <th>шоколадница</th>\n",
       "      <th>кофейня</th>\n",
       "      <td>119</td>\n",
       "      <td>4.18</td>\n",
       "    </tr>\n",
       "    <tr>\n",
       "      <th>домино'с пицца</th>\n",
       "      <th>пиццерия</th>\n",
       "      <td>76</td>\n",
       "      <td>4.17</td>\n",
       "    </tr>\n",
       "    <tr>\n",
       "      <th>додо пицца</th>\n",
       "      <th>пиццерия</th>\n",
       "      <td>74</td>\n",
       "      <td>4.29</td>\n",
       "    </tr>\n",
       "    <tr>\n",
       "      <th>one price coffee</th>\n",
       "      <th>кофейня</th>\n",
       "      <td>71</td>\n",
       "      <td>4.06</td>\n",
       "    </tr>\n",
       "    <tr>\n",
       "      <th>яндекс лавка</th>\n",
       "      <th>ресторан</th>\n",
       "      <td>69</td>\n",
       "      <td>3.87</td>\n",
       "    </tr>\n",
       "    <tr>\n",
       "      <th>cofix</th>\n",
       "      <th>кофейня</th>\n",
       "      <td>65</td>\n",
       "      <td>4.08</td>\n",
       "    </tr>\n",
       "    <tr>\n",
       "      <th>prime</th>\n",
       "      <th>ресторан</th>\n",
       "      <td>49</td>\n",
       "      <td>4.11</td>\n",
       "    </tr>\n",
       "    <tr>\n",
       "      <th>кофепорт</th>\n",
       "      <th>кофейня</th>\n",
       "      <td>42</td>\n",
       "      <td>4.15</td>\n",
       "    </tr>\n",
       "    <tr>\n",
       "      <th>кулинарная лавка братьев караваевых</th>\n",
       "      <th>кафе</th>\n",
       "      <td>39</td>\n",
       "      <td>4.39</td>\n",
       "    </tr>\n",
       "    <tr>\n",
       "      <th>теремок</th>\n",
       "      <th>ресторан</th>\n",
       "      <td>36</td>\n",
       "      <td>4.11</td>\n",
       "    </tr>\n",
       "    <tr>\n",
       "      <th>cofefest</th>\n",
       "      <th>кофейня</th>\n",
       "      <td>31</td>\n",
       "      <td>3.98</td>\n",
       "    </tr>\n",
       "    <tr>\n",
       "      <th>чайхана</th>\n",
       "      <th>кафе</th>\n",
       "      <td>26</td>\n",
       "      <td>3.95</td>\n",
       "    </tr>\n",
       "    <tr>\n",
       "      <th>буханка</th>\n",
       "      <th>булочная</th>\n",
       "      <td>25</td>\n",
       "      <td>4.42</td>\n",
       "    </tr>\n",
       "    <tr>\n",
       "      <th>drive café</th>\n",
       "      <th>кафе</th>\n",
       "      <td>24</td>\n",
       "      <td>4.02</td>\n",
       "    </tr>\n",
       "    <tr>\n",
       "      <th>кофемания</th>\n",
       "      <th>кофейня</th>\n",
       "      <td>22</td>\n",
       "      <td>4.46</td>\n",
       "    </tr>\n",
       "  </tbody>\n",
       "</table>\n",
       "</div>"
      ],
      "text/plain": [
       "                                               id  rating\n",
       "name                                category             \n",
       "шоколадница                         кофейня   119    4.18\n",
       "домино'с пицца                      пиццерия   76    4.17\n",
       "додо пицца                          пиццерия   74    4.29\n",
       "one price coffee                    кофейня    71    4.06\n",
       "яндекс лавка                        ресторан   69    3.87\n",
       "cofix                               кофейня    65    4.08\n",
       "prime                               ресторан   49    4.11\n",
       "кофепорт                            кофейня    42    4.15\n",
       "кулинарная лавка братьев караваевых кафе       39    4.39\n",
       "теремок                             ресторан   36    4.11\n",
       "cofefest                            кофейня    31    3.98\n",
       "чайхана                             кафе       26    3.95\n",
       "буханка                             булочная   25    4.42\n",
       "drive café                          кафе       24    4.02\n",
       "кофемания                           кофейня    22    4.46"
      ]
     },
     "metadata": {},
     "output_type": "display_data"
    }
   ],
   "source": [
    "chains = df.loc[df['chain'] == 1]\n",
    "top_15 = round(chains.groupby(\n",
    "    ['name','category']\n",
    ")[['id', 'rating']].agg(\n",
    "    {'id':'count', 'rating':'mean'}\n",
    ").sort_values(by='id', ascending = False).head(15)\n",
    "               , 2)\n",
    "display(top_15)"
   ]
  },
  {
   "cell_type": "code",
   "execution_count": 49,
   "id": "87a03d88",
   "metadata": {},
   "outputs": [
    {
     "data": {
      "image/png": "[encoded data removed]",
      "text/plain": [
       "<Figure size 864x432 with 1 Axes>"
      ]
     },
     "metadata": {
      "needs_background": "light"
     },
     "output_type": "display_data"
    }
   ],
   "source": [
    "plt.figure(figsize=(12,6))\n",
    "top_15['id'].plot(\n",
    "               kind='bar', \n",
    "               rot=75,\n",
    "               xlabel='Названия заведений',\n",
    "               ylabel='Количество заведений в Москве',\n",
    "               legend=False,\n",
    "               title='Топ-15 популярных заведений в Москве (по количеству открытых точек)')\n",
    "\n",
    "plt.grid()\n",
    "\n",
    "plt.show()"
   ]
  },
  {
   "cell_type": "markdown",
   "id": "3d113658",
   "metadata": {},
   "source": [
    "Больше всего точек в Москве имеет сеть кофеен \"Шоколадница\", далее следуют две пиццерии: Домино'с и Додо"
   ]
  },
  {
   "cell_type": "code",
   "execution_count": 50,
   "id": "461f2755",
   "metadata": {},
   "outputs": [
    {
     "data": {
      "image/png": "[encoded data removed]",
      "text/plain": [
       "<Figure size 864x432 with 1 Axes>"
      ]
     },
     "metadata": {
      "needs_background": "light"
     },
     "output_type": "display_data"
    }
   ],
   "source": [
    "plt.figure(figsize=(12,6))\n",
    "top_15['rating'].plot(\n",
    "               kind='bar', \n",
    "               rot=75,\n",
    "               xlabel='Названия заведений',\n",
    "               ylabel='Средний рейтинг заведений',\n",
    "               legend=False,\n",
    "               title='Распределение среднего рейтинга по топ-15 популярных заведений')\n",
    "\n",
    "plt.grid()\n",
    "\n",
    "plt.show()"
   ]
  },
  {
   "cell_type": "markdown",
   "id": "fbfb5033",
   "metadata": {},
   "source": [
    "Самый высокий рейтинг в топе-15 у кофейни \"Кофемания\".  \n",
    "Также на фоне остальных выделяется \"Яндекс Лавка\" - её средний рейтинг самый низкий в топе."
   ]
  },
  {
   "cell_type": "markdown",
   "id": "85a90a94",
   "metadata": {
    "id": "85a90a94"
   },
   "source": [
    "---\n",
    "\n",
    "### Задача 8\n",
    "\n",
    "Теперь посмотрим вариацию среднего чека заведения (столбец `middle_avg_bill`) в зависимости от района Москвы. Проанализируем цены в Центральном административном округе и других. Посмотрим, как удалённость от центра влияет на цены в заведениях.\n"
   ]
  },
  {
   "cell_type": "code",
   "execution_count": 51,
   "id": "5fb4ffc6",
   "metadata": {
    "id": "5fb4ffc6"
   },
   "outputs": [
    {
     "data": {
      "text/plain": [
       "district\n",
       "Центральный административный округ         563.12\n",
       "Западный административный округ            379.16\n",
       "Северный административный округ            332.74\n",
       "Северо-Западный административный округ     315.62\n",
       "Южный административный округ               293.72\n",
       "Восточный административный округ           267.37\n",
       "Юго-Западный административный округ        262.70\n",
       "Северо-Восточный административный округ    242.36\n",
       "Юго-Восточный административный округ       177.72\n",
       "Name: middle_avg_bill, dtype: float64"
      ]
     },
     "metadata": {},
     "output_type": "display_data"
    }
   ],
   "source": [
    "mb_by_district = round(df.groupby('district')['middle_avg_bill'].mean().sort_values(ascending=False), 2)\n",
    "display(mb_by_district)"
   ]
  },
  {
   "cell_type": "code",
   "execution_count": 52,
   "id": "b98066c1",
   "metadata": {
    "id": "b98066c1"
   },
   "outputs": [
    {
     "data": {
      "image/png": "[encoded data removed]",
      "text/plain": [
       "<Figure size 864x432 with 1 Axes>"
      ]
     },
     "metadata": {
      "needs_background": "light"
     },
     "output_type": "display_data"
    }
   ],
   "source": [
    "plt.figure(figsize=(12,6))\n",
    "mb_by_district.plot(\n",
    "               kind='bar', \n",
    "               rot=60,\n",
    "               xlabel='Район Москвы',\n",
    "               ylabel='Средний чек заведений',\n",
    "               legend=False,\n",
    "               title='Распределение средних по среднему чеку в районах Москвы')\n",
    "\n",
    "plt.grid()\n",
    "\n",
    "plt.show()"
   ]
  },
  {
   "cell_type": "markdown",
   "id": "83580b06",
   "metadata": {
    "id": "9b5e00a5"
   },
   "source": [
    "Заведения в ЦАО в среднем значительно дороже остальных. Север, Запад и Северо-Запад Москвы идут следом. Далее закономерно Юг, Восток и Юго-Запад. А Юго-Восток выделяется как самый дешевый в средних значениях.  \n",
    "Посмотрим на распределение в отдельных районах Москвы."
   ]
  },
  {
   "cell_type": "markdown",
   "id": "c150bd4f",
   "metadata": {
    "id": "c150bd4f"
   },
   "source": [
    "---\n"
   ]
  },
  {
   "cell_type": "code",
   "execution_count": 53,
   "id": "5ee8b279",
   "metadata": {
    "id": "5ee8b279"
   },
   "outputs": [
    {
     "data": {
      "image/png": "[encoded data removed]",
      "text/plain": [
       "<Figure size 864x432 with 1 Axes>"
      ]
     },
     "metadata": {
      "needs_background": "light"
     },
     "output_type": "display_data"
    }
   ],
   "source": [
    "plt.figure(figsize=(12, 6))\n",
    "#Проводим фильтрацию по району и среднему чеку\n",
    "df[(df['district']=='Центральный административный округ') & (df['middle_avg_bill'] != 0)]['middle_avg_bill'].plot(\n",
    "                kind='hist', \n",
    "                bins=50, \n",
    "                alpha=0.5,\n",
    "                edgecolor='black',\n",
    "                rot=0, \n",
    ")\n",
    "\n",
    "plt.title('Распределение среднего чека в заведениях ЦАО')\n",
    "plt.ylabel('Средний чек')\n",
    "\n",
    "plt.grid()\n",
    "\n",
    "plt.show()"
   ]
  },
  {
   "cell_type": "code",
   "execution_count": 54,
   "id": "c6a666d9",
   "metadata": {
    "id": "c6a666d9"
   },
   "outputs": [
    {
     "data": {
      "image/png": "[encoded data removed]",
      "text/plain": [
       "<Figure size 864x432 with 1 Axes>"
      ]
     },
     "metadata": {
      "needs_background": "light"
     },
     "output_type": "display_data"
    }
   ],
   "source": [
    "plt.figure(figsize=(12, 6))\n",
    "\n",
    "df[(df['district']=='Западный административный округ') & (df['middle_avg_bill'] != 0)]['middle_avg_bill'].plot(\n",
    "                kind='hist', \n",
    "                bins=50, \n",
    "                alpha=0.5,\n",
    "                edgecolor='black',\n",
    "                rot=0, \n",
    ")\n",
    "\n",
    "plt.title('Распределение среднего чека в заведениях ЗАО')\n",
    "plt.ylabel('Средний чек')\n",
    "\n",
    "plt.grid()\n",
    "\n",
    "plt.show()"
   ]
  },
  {
   "cell_type": "code",
   "execution_count": 55,
   "id": "618096b5",
   "metadata": {
    "id": "618096b5"
   },
   "outputs": [
    {
     "data": {
      "image/png": "[encoded data removed]",
      "text/plain": [
       "<Figure size 864x432 with 1 Axes>"
      ]
     },
     "metadata": {
      "needs_background": "light"
     },
     "output_type": "display_data"
    }
   ],
   "source": [
    "plt.figure(figsize=(12, 6))\n",
    "\n",
    "df[(df['district']=='Северный административный округ') & (df['middle_avg_bill'] != 0)]['middle_avg_bill'].plot(\n",
    "                kind='hist', \n",
    "                bins=50, \n",
    "                alpha=0.5,\n",
    "                edgecolor='black',\n",
    "                rot=0, \n",
    ")\n",
    "\n",
    "plt.title('Распределение среднего чека в заведениях САО')\n",
    "plt.ylabel('Средний чек')\n",
    "\n",
    "plt.grid()\n",
    "\n",
    "plt.show()"
   ]
  },
  {
   "cell_type": "code",
   "execution_count": 56,
   "id": "5169127c",
   "metadata": {
    "scrolled": false
   },
   "outputs": [
    {
     "data": {
      "image/png": "[encoded data removed]",
      "text/plain": [
       "<Figure size 864x432 with 1 Axes>"
      ]
     },
     "metadata": {
      "needs_background": "light"
     },
     "output_type": "display_data"
    }
   ],
   "source": [
    "plt.figure(figsize=(12, 6))\n",
    "\n",
    "df[(df['district']=='Юго-Восточный административный округ') & (df['middle_avg_bill'] != 0)]['middle_avg_bill'].plot(\n",
    "                kind='hist', \n",
    "                bins=50, \n",
    "                alpha=0.5,\n",
    "                edgecolor='black',\n",
    "                rot=0, \n",
    ")\n",
    "\n",
    "plt.title('Распределение среднего чека в заведениях ЮВАО')\n",
    "plt.ylabel('Средний чек')\n",
    "\n",
    "plt.grid()\n",
    "\n",
    "plt.show()"
   ]
  },
  {
   "cell_type": "markdown",
   "id": "9ccc4b83",
   "metadata": {},
   "source": [
    "Распределения показали, что чем меньше средние значения по среднему чеку в разрезе районов, тем более смещенное влево распределение по району, и, как следствие, в распределении по району меньше присутствует значений высокого среднего чека."
   ]
  },
  {
   "cell_type": "markdown",
   "id": "f2c54e9a",
   "metadata": {
    "id": "f2c54e9a"
   },
   "source": [
    "---\n",
    "\n",
    "### Промежуточный вывод\n",
    "* Наиболее популярная категория заведений - кафе;\n",
    "* В среднем заведения, расположенные в Центральном автономном округе Москвы, дороже тех, что в других районах;\n",
    "* Рейтинг заведения частично зависит от категории цен в нем: если цены низкие или выше среднего, то рейтинг зачастую выше, чем в других категориях."
   ]
  },
  {
   "cell_type": "markdown",
   "id": "480f3422",
   "metadata": {
    "id": "480f3422"
   },
   "source": [
    "## 4. Итоговый вывод и рекомендации"
   ]
  },
  {
   "cell_type": "markdown",
   "id": "548408bc",
   "metadata": {},
   "source": [
    "1. Краткий обзор проделанной работы:\n",
    "    * Были преобразованы типы данных к релевантным;\n",
    "    * Заменены пропуски;\n",
    "    * Удалены дубликаты;\n",
    "    * Был добавлен столбец `is_24_7`;\n",
    "    * Были проанализированны данные объединенного датафрейма df;  \n",
    "      \n",
    "      \n",
    "2. Ответы на исследовательские вопросы:\n",
    "    * Наиболее популярная категория заведений в Москве - \"кафе\", далее идут \"ресторан\" и \"кофейня\";\n",
    "    * Средний рейтинг у баров/пабов самый высокий - 4.38, однако разброс небольшой - средний рейтинг для всех категорий заведений по Москве в целом не ниже 4 баллов;\n",
    "    * Сетевых заведений более чем в 1.5 раза меньше, чем не сетевых. Кроме того, в разрезе категорий сетевых булочных, пиццерий и кофеен чуть больше, чем не сетевых. Однако в других категориях сетевых заведений зачастую в полтора и более раз меньше: кафе, рестораны, столовые, бары/пабы;\n",
    "    * Самый высокий рейтинг среди топ-15 сетевых заведени по кол-ву открытых точек имеет \"Кофемания\": 4.42;\n",
    "    * В заведениях, имеющих цены *выше среднего* и *низкими* рейтинг в среднем более высокий, чем в других категориях;\n",
    "    * Центральный административный округ - наиболее популярный район для открытия заведений, однако также стоит отметить большую конкуренцию в этом районе, как следствие;\n",
    "    * У большей части заведений в ЦАО средний чек находится в пределах 2000 рублей.  \n",
    "      \n",
    "      \n",
    "3. Рекомендации:\n",
    "    * Центральный административный округ (ЦАО) остается наиболее популярным районом для открытия заведений, что, вероятно, связано с высокой проходимостью и платежеспособностью аудитории. Однако из-за высокой конкуренции в этом районе стоит рассмотреть альтернативные локации с меньшей насыщенностью заведений, например, Западный автономный округ.\n",
    "    * Наиболее востребованными категориями являются кафе, рестораны и кофейни. Учитывая популярность этих форматов как среди сетевых, так и несетевых заведений, открытие кафе или кофейни будет наиболее релевантным выбором. При этом кофейни могут быть особенно перспективны благодаря высокому рейтингу сетевых брендов в этой категории (например, \"Кофемания\").\n",
    "    * Учитывая данные о среднем чеке в ЦАО (около 2000 рублей) и более высокие рейтинги заведений с ценами *выше среднего*, рекомендуется ориентироваться на ценовой сегмент \"выше среднего\". Это позволит привлечь платежеспособную аудиторию и повысить лояльность клиентов за счет качественного продукта и сервиса."
   ]
  }
 ],
 "metadata": {
  "ExecuteTimeLog": [
   {
    "duration": 1393,
    "start_time": "2025-02-24T10:17:43.100Z"
   },
   {
    "duration": 3,
    "start_time": "2025-02-24T10:17:48.478Z"
   },
   {
    "duration": 75,
    "start_time": "2025-02-24T10:18:47.539Z"
   },
   {
    "duration": 31,
    "start_time": "2025-02-24T10:19:27.980Z"
   },
   {
    "duration": 12,
    "start_time": "2025-02-24T10:19:52.311Z"
   },
   {
    "duration": 15,
    "start_time": "2025-02-24T10:19:59.790Z"
   },
   {
    "duration": 12,
    "start_time": "2025-02-24T11:03:17.414Z"
   },
   {
    "duration": 16,
    "start_time": "2025-02-24T11:03:25.674Z"
   },
   {
    "duration": 10,
    "start_time": "2025-02-24T11:03:47.384Z"
   },
   {
    "duration": 15,
    "start_time": "2025-02-24T11:03:49.603Z"
   },
   {
    "duration": 13,
    "start_time": "2025-02-24T11:04:19.117Z"
   },
   {
    "duration": 1462,
    "start_time": "2025-02-24T17:29:36.205Z"
   },
   {
    "duration": 260,
    "start_time": "2025-02-24T17:29:37.669Z"
   },
   {
    "duration": 69,
    "start_time": "2025-02-24T17:29:37.933Z"
   },
   {
    "duration": 12,
    "start_time": "2025-02-24T17:29:38.003Z"
   },
   {
    "duration": 104,
    "start_time": "2025-02-24T17:29:38.016Z"
   },
   {
    "duration": 10,
    "start_time": "2025-02-24T17:29:38.121Z"
   },
   {
    "duration": 14,
    "start_time": "2025-02-24T17:29:38.133Z"
   },
   {
    "duration": 15,
    "start_time": "2025-02-24T17:29:38.148Z"
   },
   {
    "duration": 1525,
    "start_time": "2025-02-25T13:27:06.433Z"
   },
   {
    "duration": 74,
    "start_time": "2025-02-25T13:27:07.961Z"
   },
   {
    "duration": 33,
    "start_time": "2025-02-25T13:27:08.037Z"
   },
   {
    "duration": 15,
    "start_time": "2025-02-25T13:27:08.072Z"
   },
   {
    "duration": 19,
    "start_time": "2025-02-25T13:27:08.089Z"
   },
   {
    "duration": 11,
    "start_time": "2025-02-25T13:27:08.110Z"
   },
   {
    "duration": 19,
    "start_time": "2025-02-25T13:27:08.123Z"
   },
   {
    "duration": 41,
    "start_time": "2025-02-25T13:27:08.144Z"
   },
   {
    "duration": 124,
    "start_time": "2025-02-25T13:27:08.187Z"
   },
   {
    "duration": 18,
    "start_time": "2025-02-25T13:32:09.975Z"
   },
   {
    "duration": 4,
    "start_time": "2025-02-25T13:33:10.376Z"
   },
   {
    "duration": 6,
    "start_time": "2025-02-25T13:33:22.907Z"
   },
   {
    "duration": 5,
    "start_time": "2025-02-25T13:33:24.740Z"
   },
   {
    "duration": 1345,
    "start_time": "2025-02-25T13:33:29.278Z"
   },
   {
    "duration": 85,
    "start_time": "2025-02-25T13:33:30.625Z"
   },
   {
    "duration": 33,
    "start_time": "2025-02-25T13:33:30.712Z"
   },
   {
    "duration": 24,
    "start_time": "2025-02-25T13:33:30.748Z"
   },
   {
    "duration": 15,
    "start_time": "2025-02-25T13:33:30.773Z"
   },
   {
    "duration": 11,
    "start_time": "2025-02-25T13:33:30.790Z"
   },
   {
    "duration": 17,
    "start_time": "2025-02-25T13:33:30.802Z"
   },
   {
    "duration": 15,
    "start_time": "2025-02-25T13:33:30.820Z"
   },
   {
    "duration": 3,
    "start_time": "2025-02-25T13:33:30.837Z"
   },
   {
    "duration": 15,
    "start_time": "2025-02-25T13:33:52.268Z"
   },
   {
    "duration": 5,
    "start_time": "2025-02-25T13:36:11.200Z"
   },
   {
    "duration": 15,
    "start_time": "2025-02-25T13:36:20.352Z"
   },
   {
    "duration": 117,
    "start_time": "2025-02-25T13:36:57.873Z"
   },
   {
    "duration": 9,
    "start_time": "2025-02-25T13:39:40.521Z"
   },
   {
    "duration": 8,
    "start_time": "2025-02-25T13:46:37.703Z"
   },
   {
    "duration": 11,
    "start_time": "2025-02-25T13:46:47.851Z"
   },
   {
    "duration": 15,
    "start_time": "2025-02-25T13:46:51.452Z"
   },
   {
    "duration": 14,
    "start_time": "2025-02-25T13:50:23.181Z"
   },
   {
    "duration": 13,
    "start_time": "2025-02-25T13:50:32.315Z"
   },
   {
    "duration": 10,
    "start_time": "2025-02-25T13:50:45.702Z"
   },
   {
    "duration": 12,
    "start_time": "2025-02-25T13:50:50.422Z"
   },
   {
    "duration": 118,
    "start_time": "2025-02-25T13:54:47.061Z"
   },
   {
    "duration": 3,
    "start_time": "2025-02-25T13:58:33.825Z"
   },
   {
    "duration": 14,
    "start_time": "2025-02-25T13:59:03.021Z"
   },
   {
    "duration": 3,
    "start_time": "2025-02-25T13:59:23.094Z"
   },
   {
    "duration": 55,
    "start_time": "2025-02-25T13:59:23.444Z"
   },
   {
    "duration": 158,
    "start_time": "2025-02-25T14:05:06.145Z"
   },
   {
    "duration": 150,
    "start_time": "2025-02-25T14:05:45.748Z"
   },
   {
    "duration": 14,
    "start_time": "2025-02-25T14:05:51.156Z"
   },
   {
    "duration": 182,
    "start_time": "2025-02-25T14:08:15.583Z"
   },
   {
    "duration": 9,
    "start_time": "2025-02-25T14:08:41.034Z"
   },
   {
    "duration": 6,
    "start_time": "2025-02-25T14:08:48.674Z"
   },
   {
    "duration": 10,
    "start_time": "2025-02-25T14:13:41.377Z"
   },
   {
    "duration": 12,
    "start_time": "2025-02-25T14:18:06.236Z"
   },
   {
    "duration": 1282,
    "start_time": "2025-02-25T14:18:11.662Z"
   },
   {
    "duration": 74,
    "start_time": "2025-02-25T14:18:12.946Z"
   },
   {
    "duration": 33,
    "start_time": "2025-02-25T14:18:13.022Z"
   },
   {
    "duration": 14,
    "start_time": "2025-02-25T14:18:13.057Z"
   },
   {
    "duration": 16,
    "start_time": "2025-02-25T14:18:13.072Z"
   },
   {
    "duration": 19,
    "start_time": "2025-02-25T14:18:13.090Z"
   },
   {
    "duration": 22,
    "start_time": "2025-02-25T14:18:13.110Z"
   },
   {
    "duration": 25,
    "start_time": "2025-02-25T14:18:13.134Z"
   },
   {
    "duration": 16,
    "start_time": "2025-02-25T14:18:13.161Z"
   },
   {
    "duration": 15,
    "start_time": "2025-02-25T14:18:13.180Z"
   },
   {
    "duration": 12,
    "start_time": "2025-02-25T14:18:13.197Z"
   },
   {
    "duration": 12,
    "start_time": "2025-02-25T14:18:13.211Z"
   },
   {
    "duration": 8,
    "start_time": "2025-02-25T14:18:13.225Z"
   },
   {
    "duration": 46,
    "start_time": "2025-02-25T14:18:13.235Z"
   },
   {
    "duration": 11,
    "start_time": "2025-02-25T14:18:13.283Z"
   },
   {
    "duration": 1393,
    "start_time": "2025-02-25T14:18:48.334Z"
   },
   {
    "duration": 77,
    "start_time": "2025-02-25T14:18:49.729Z"
   },
   {
    "duration": 32,
    "start_time": "2025-02-25T14:18:49.808Z"
   },
   {
    "duration": 14,
    "start_time": "2025-02-25T14:18:49.843Z"
   },
   {
    "duration": 25,
    "start_time": "2025-02-25T14:18:49.859Z"
   },
   {
    "duration": 13,
    "start_time": "2025-02-25T14:18:49.886Z"
   },
   {
    "duration": 16,
    "start_time": "2025-02-25T14:18:49.901Z"
   },
   {
    "duration": 18,
    "start_time": "2025-02-25T14:18:49.919Z"
   },
   {
    "duration": 34,
    "start_time": "2025-02-25T14:18:49.939Z"
   },
   {
    "duration": 16,
    "start_time": "2025-02-25T14:18:49.975Z"
   },
   {
    "duration": 11,
    "start_time": "2025-02-25T14:18:49.993Z"
   },
   {
    "duration": 14,
    "start_time": "2025-02-25T14:18:50.006Z"
   },
   {
    "duration": 11,
    "start_time": "2025-02-25T14:18:50.022Z"
   },
   {
    "duration": 48,
    "start_time": "2025-02-25T14:18:50.035Z"
   },
   {
    "duration": 24,
    "start_time": "2025-02-25T14:18:50.085Z"
   },
   {
    "duration": 16,
    "start_time": "2025-02-25T14:19:29.960Z"
   },
   {
    "duration": 15,
    "start_time": "2025-02-25T14:22:08.886Z"
   },
   {
    "duration": 11,
    "start_time": "2025-02-25T14:22:13.735Z"
   },
   {
    "duration": 28,
    "start_time": "2025-02-25T14:22:51.221Z"
   },
   {
    "duration": 12,
    "start_time": "2025-02-25T14:22:51.582Z"
   },
   {
    "duration": 13,
    "start_time": "2025-02-25T14:23:06.637Z"
   },
   {
    "duration": 17,
    "start_time": "2025-02-25T14:23:25.368Z"
   },
   {
    "duration": 18,
    "start_time": "2025-02-25T14:23:56.175Z"
   },
   {
    "duration": 9,
    "start_time": "2025-02-25T14:25:35.804Z"
   },
   {
    "duration": 8,
    "start_time": "2025-02-25T14:26:08.075Z"
   },
   {
    "duration": 1313,
    "start_time": "2025-02-25T14:26:57.537Z"
   },
   {
    "duration": 78,
    "start_time": "2025-02-25T14:26:58.852Z"
   },
   {
    "duration": 33,
    "start_time": "2025-02-25T14:26:58.932Z"
   },
   {
    "duration": 18,
    "start_time": "2025-02-25T14:26:58.968Z"
   },
   {
    "duration": 23,
    "start_time": "2025-02-25T14:26:58.990Z"
   },
   {
    "duration": 17,
    "start_time": "2025-02-25T14:26:59.015Z"
   },
   {
    "duration": 48,
    "start_time": "2025-02-25T14:26:59.034Z"
   },
   {
    "duration": 18,
    "start_time": "2025-02-25T14:26:59.084Z"
   },
   {
    "duration": 4,
    "start_time": "2025-02-25T14:26:59.104Z"
   },
   {
    "duration": 26,
    "start_time": "2025-02-25T14:26:59.110Z"
   },
   {
    "duration": 11,
    "start_time": "2025-02-25T14:26:59.138Z"
   },
   {
    "duration": 29,
    "start_time": "2025-02-25T14:26:59.151Z"
   },
   {
    "duration": 8,
    "start_time": "2025-02-25T14:26:59.182Z"
   },
   {
    "duration": 36,
    "start_time": "2025-02-25T14:26:59.192Z"
   },
   {
    "duration": 26,
    "start_time": "2025-02-25T14:26:59.230Z"
   },
   {
    "duration": 24,
    "start_time": "2025-02-25T14:26:59.258Z"
   },
   {
    "duration": 1313,
    "start_time": "2025-02-25T14:28:18.550Z"
   },
   {
    "duration": 78,
    "start_time": "2025-02-25T14:28:19.865Z"
   },
   {
    "duration": 34,
    "start_time": "2025-02-25T14:28:19.946Z"
   },
   {
    "duration": 13,
    "start_time": "2025-02-25T14:28:19.982Z"
   },
   {
    "duration": 24,
    "start_time": "2025-02-25T14:28:19.997Z"
   },
   {
    "duration": 12,
    "start_time": "2025-02-25T14:28:20.023Z"
   },
   {
    "duration": 17,
    "start_time": "2025-02-25T14:28:20.037Z"
   },
   {
    "duration": 17,
    "start_time": "2025-02-25T14:28:20.072Z"
   },
   {
    "duration": 9,
    "start_time": "2025-02-25T14:28:20.091Z"
   },
   {
    "duration": 17,
    "start_time": "2025-02-25T14:28:20.102Z"
   },
   {
    "duration": 13,
    "start_time": "2025-02-25T14:28:20.121Z"
   },
   {
    "duration": 47,
    "start_time": "2025-02-25T14:28:20.136Z"
   },
   {
    "duration": 9,
    "start_time": "2025-02-25T14:28:20.185Z"
   },
   {
    "duration": 20,
    "start_time": "2025-02-25T14:28:20.196Z"
   },
   {
    "duration": 141,
    "start_time": "2025-02-25T14:28:20.218Z"
   },
   {
    "duration": 0,
    "start_time": "2025-02-25T14:28:20.361Z"
   },
   {
    "duration": 0,
    "start_time": "2025-02-25T14:28:20.363Z"
   },
   {
    "duration": 20,
    "start_time": "2025-02-25T14:28:26.176Z"
   },
   {
    "duration": 24,
    "start_time": "2025-02-25T14:28:26.981Z"
   },
   {
    "duration": 16,
    "start_time": "2025-02-25T14:28:27.364Z"
   },
   {
    "duration": 14,
    "start_time": "2025-02-25T14:30:15.180Z"
   },
   {
    "duration": 12,
    "start_time": "2025-02-25T14:30:48.772Z"
   },
   {
    "duration": 6,
    "start_time": "2025-02-25T14:44:00.853Z"
   },
   {
    "duration": 16,
    "start_time": "2025-02-25T14:45:50.597Z"
   },
   {
    "duration": 12,
    "start_time": "2025-02-25T14:46:14.957Z"
   },
   {
    "duration": 15,
    "start_time": "2025-02-25T14:46:44.669Z"
   },
   {
    "duration": 14,
    "start_time": "2025-02-25T14:50:35.899Z"
   },
   {
    "duration": 13,
    "start_time": "2025-02-25T14:50:53.148Z"
   },
   {
    "duration": 5,
    "start_time": "2025-02-25T14:51:05.799Z"
   },
   {
    "duration": 11,
    "start_time": "2025-02-25T14:53:02.705Z"
   },
   {
    "duration": 5,
    "start_time": "2025-02-25T14:53:07.084Z"
   },
   {
    "duration": 18,
    "start_time": "2025-02-25T14:53:20.285Z"
   },
   {
    "duration": 1991,
    "start_time": "2025-02-25T14:56:22.673Z"
   },
   {
    "duration": 1709,
    "start_time": "2025-02-25T14:56:44.675Z"
   },
   {
    "duration": 6,
    "start_time": "2025-02-25T14:56:56.594Z"
   },
   {
    "duration": 1339,
    "start_time": "2025-02-25T14:57:01.803Z"
   },
   {
    "duration": 86,
    "start_time": "2025-02-25T14:57:03.145Z"
   },
   {
    "duration": 34,
    "start_time": "2025-02-25T14:57:03.233Z"
   },
   {
    "duration": 15,
    "start_time": "2025-02-25T14:57:03.269Z"
   },
   {
    "duration": 50,
    "start_time": "2025-02-25T14:57:03.286Z"
   },
   {
    "duration": 13,
    "start_time": "2025-02-25T14:57:03.337Z"
   },
   {
    "duration": 21,
    "start_time": "2025-02-25T14:57:03.352Z"
   },
   {
    "duration": 44,
    "start_time": "2025-02-25T14:57:03.374Z"
   },
   {
    "duration": 12,
    "start_time": "2025-02-25T14:57:03.420Z"
   },
   {
    "duration": 50,
    "start_time": "2025-02-25T14:57:03.435Z"
   },
   {
    "duration": 12,
    "start_time": "2025-02-25T14:57:03.487Z"
   },
   {
    "duration": 15,
    "start_time": "2025-02-25T14:57:03.501Z"
   },
   {
    "duration": 8,
    "start_time": "2025-02-25T14:57:03.517Z"
   },
   {
    "duration": 15,
    "start_time": "2025-02-25T14:57:03.527Z"
   },
   {
    "duration": 43,
    "start_time": "2025-02-25T14:57:03.544Z"
   },
   {
    "duration": 23,
    "start_time": "2025-02-25T14:57:03.589Z"
   },
   {
    "duration": 16,
    "start_time": "2025-02-25T14:57:03.614Z"
   },
   {
    "duration": 41,
    "start_time": "2025-02-25T14:57:03.631Z"
   },
   {
    "duration": 11,
    "start_time": "2025-02-25T14:57:03.674Z"
   },
   {
    "duration": 26,
    "start_time": "2025-02-25T14:57:03.686Z"
   },
   {
    "duration": 5,
    "start_time": "2025-02-25T14:57:17.775Z"
   },
   {
    "duration": 1328,
    "start_time": "2025-02-25T14:57:22.123Z"
   },
   {
    "duration": 87,
    "start_time": "2025-02-25T14:57:23.453Z"
   },
   {
    "duration": 33,
    "start_time": "2025-02-25T14:57:23.541Z"
   },
   {
    "duration": 14,
    "start_time": "2025-02-25T14:57:23.576Z"
   },
   {
    "duration": 22,
    "start_time": "2025-02-25T14:57:23.592Z"
   },
   {
    "duration": 29,
    "start_time": "2025-02-25T14:57:23.616Z"
   },
   {
    "duration": 38,
    "start_time": "2025-02-25T14:57:23.647Z"
   },
   {
    "duration": 39,
    "start_time": "2025-02-25T14:57:23.687Z"
   },
   {
    "duration": 47,
    "start_time": "2025-02-25T14:57:23.728Z"
   },
   {
    "duration": 42,
    "start_time": "2025-02-25T14:57:23.778Z"
   },
   {
    "duration": 12,
    "start_time": "2025-02-25T14:57:23.822Z"
   },
   {
    "duration": 18,
    "start_time": "2025-02-25T14:57:23.836Z"
   },
   {
    "duration": 11,
    "start_time": "2025-02-25T14:57:23.856Z"
   },
   {
    "duration": 19,
    "start_time": "2025-02-25T14:57:23.869Z"
   },
   {
    "duration": 18,
    "start_time": "2025-02-25T14:57:23.890Z"
   },
   {
    "duration": 24,
    "start_time": "2025-02-25T14:57:23.910Z"
   },
   {
    "duration": 40,
    "start_time": "2025-02-25T14:57:23.936Z"
   },
   {
    "duration": 14,
    "start_time": "2025-02-25T14:57:23.978Z"
   },
   {
    "duration": 12,
    "start_time": "2025-02-25T14:57:23.994Z"
   },
   {
    "duration": 5,
    "start_time": "2025-02-25T14:57:24.008Z"
   },
   {
    "duration": 15,
    "start_time": "2025-02-25T14:57:32.896Z"
   },
   {
    "duration": 7,
    "start_time": "2025-02-25T14:57:40.988Z"
   },
   {
    "duration": 17,
    "start_time": "2025-02-25T14:57:41.359Z"
   },
   {
    "duration": 6,
    "start_time": "2025-02-25T14:57:55.639Z"
   },
   {
    "duration": 6,
    "start_time": "2025-02-25T14:57:56.167Z"
   },
   {
    "duration": 21,
    "start_time": "2025-02-25T14:57:56.571Z"
   },
   {
    "duration": 1391,
    "start_time": "2025-02-26T09:45:35.722Z"
   },
   {
    "duration": 83,
    "start_time": "2025-02-26T09:45:37.116Z"
   },
   {
    "duration": 119,
    "start_time": "2025-02-26T09:45:37.203Z"
   },
   {
    "duration": 13,
    "start_time": "2025-02-26T09:45:37.325Z"
   },
   {
    "duration": 15,
    "start_time": "2025-02-26T09:45:37.340Z"
   },
   {
    "duration": 29,
    "start_time": "2025-02-26T09:45:37.358Z"
   },
   {
    "duration": 156,
    "start_time": "2025-02-26T09:45:37.388Z"
   },
   {
    "duration": 32,
    "start_time": "2025-02-26T09:45:37.546Z"
   },
   {
    "duration": 11,
    "start_time": "2025-02-26T09:45:37.580Z"
   },
   {
    "duration": 66,
    "start_time": "2025-02-26T09:45:37.594Z"
   },
   {
    "duration": 39,
    "start_time": "2025-02-26T09:45:37.662Z"
   },
   {
    "duration": 57,
    "start_time": "2025-02-26T09:45:37.704Z"
   },
   {
    "duration": 38,
    "start_time": "2025-02-26T09:45:37.763Z"
   },
   {
    "duration": 158,
    "start_time": "2025-02-26T09:45:37.803Z"
   },
   {
    "duration": 320,
    "start_time": "2025-02-26T09:45:37.963Z"
   },
   {
    "duration": 68,
    "start_time": "2025-02-26T09:45:38.285Z"
   },
   {
    "duration": 90,
    "start_time": "2025-02-26T09:45:38.355Z"
   },
   {
    "duration": 30,
    "start_time": "2025-02-26T09:45:38.447Z"
   },
   {
    "duration": 22,
    "start_time": "2025-02-26T09:45:38.479Z"
   },
   {
    "duration": 10,
    "start_time": "2025-02-26T09:45:38.503Z"
   },
   {
    "duration": 50,
    "start_time": "2025-02-26T09:45:38.515Z"
   },
   {
    "duration": 25,
    "start_time": "2025-02-26T09:45:38.567Z"
   },
   {
    "duration": 6,
    "start_time": "2025-02-26T09:49:00.045Z"
   },
   {
    "duration": 6,
    "start_time": "2025-02-26T09:49:36.086Z"
   },
   {
    "duration": 1212,
    "start_time": "2025-02-26T09:50:44.185Z"
   },
   {
    "duration": 72,
    "start_time": "2025-02-26T09:50:45.399Z"
   },
   {
    "duration": 32,
    "start_time": "2025-02-26T09:50:45.473Z"
   },
   {
    "duration": 77,
    "start_time": "2025-02-26T09:50:45.508Z"
   },
   {
    "duration": 21,
    "start_time": "2025-02-26T09:50:45.586Z"
   },
   {
    "duration": 11,
    "start_time": "2025-02-26T09:50:45.609Z"
   },
   {
    "duration": 33,
    "start_time": "2025-02-26T09:50:45.622Z"
   },
   {
    "duration": 31,
    "start_time": "2025-02-26T09:50:45.657Z"
   },
   {
    "duration": 25,
    "start_time": "2025-02-26T09:50:45.689Z"
   },
   {
    "duration": 32,
    "start_time": "2025-02-26T09:50:45.717Z"
   },
   {
    "duration": 12,
    "start_time": "2025-02-26T09:50:45.751Z"
   },
   {
    "duration": 12,
    "start_time": "2025-02-26T09:50:45.765Z"
   },
   {
    "duration": 9,
    "start_time": "2025-02-26T09:50:45.779Z"
   },
   {
    "duration": 22,
    "start_time": "2025-02-26T09:50:45.790Z"
   },
   {
    "duration": 17,
    "start_time": "2025-02-26T09:50:45.814Z"
   },
   {
    "duration": 21,
    "start_time": "2025-02-26T09:50:45.855Z"
   },
   {
    "duration": 130,
    "start_time": "2025-02-26T09:50:45.878Z"
   },
   {
    "duration": 14,
    "start_time": "2025-02-26T09:50:46.010Z"
   },
   {
    "duration": 25,
    "start_time": "2025-02-26T09:50:46.026Z"
   },
   {
    "duration": 112,
    "start_time": "2025-02-26T09:50:46.053Z"
   },
   {
    "duration": 148,
    "start_time": "2025-02-26T09:50:46.167Z"
   },
   {
    "duration": 53,
    "start_time": "2025-02-26T09:50:46.316Z"
   },
   {
    "duration": 18,
    "start_time": "2025-02-26T09:50:46.370Z"
   },
   {
    "duration": 18,
    "start_time": "2025-02-26T09:51:20.103Z"
   },
   {
    "duration": 1189,
    "start_time": "2025-02-26T09:51:24.919Z"
   },
   {
    "duration": 74,
    "start_time": "2025-02-26T09:51:26.110Z"
   },
   {
    "duration": 32,
    "start_time": "2025-02-26T09:51:26.186Z"
   },
   {
    "duration": 13,
    "start_time": "2025-02-26T09:51:26.220Z"
   },
   {
    "duration": 28,
    "start_time": "2025-02-26T09:51:26.234Z"
   },
   {
    "duration": 11,
    "start_time": "2025-02-26T09:51:26.264Z"
   },
   {
    "duration": 30,
    "start_time": "2025-02-26T09:51:26.277Z"
   },
   {
    "duration": 20,
    "start_time": "2025-02-26T09:51:26.309Z"
   },
   {
    "duration": 5,
    "start_time": "2025-02-26T09:51:26.331Z"
   },
   {
    "duration": 26,
    "start_time": "2025-02-26T09:51:26.338Z"
   },
   {
    "duration": 11,
    "start_time": "2025-02-26T09:51:26.365Z"
   },
   {
    "duration": 14,
    "start_time": "2025-02-26T09:51:26.377Z"
   },
   {
    "duration": 7,
    "start_time": "2025-02-26T09:51:26.392Z"
   },
   {
    "duration": 23,
    "start_time": "2025-02-26T09:51:26.401Z"
   },
   {
    "duration": 46,
    "start_time": "2025-02-26T09:51:26.425Z"
   },
   {
    "duration": 19,
    "start_time": "2025-02-26T09:51:26.473Z"
   },
   {
    "duration": 15,
    "start_time": "2025-02-26T09:51:26.494Z"
   },
   {
    "duration": 13,
    "start_time": "2025-02-26T09:51:26.511Z"
   },
   {
    "duration": 34,
    "start_time": "2025-02-26T09:51:26.526Z"
   },
   {
    "duration": 5,
    "start_time": "2025-02-26T09:51:26.561Z"
   },
   {
    "duration": 22,
    "start_time": "2025-02-26T09:51:26.568Z"
   },
   {
    "duration": 22,
    "start_time": "2025-02-26T09:51:26.592Z"
   },
   {
    "duration": 8,
    "start_time": "2025-02-26T09:51:26.616Z"
   },
   {
    "duration": 88,
    "start_time": "2025-02-26T09:52:05.092Z"
   },
   {
    "duration": 6,
    "start_time": "2025-02-26T09:52:39.985Z"
   },
   {
    "duration": 5,
    "start_time": "2025-02-26T09:52:45.053Z"
   },
   {
    "duration": 5,
    "start_time": "2025-02-26T09:53:01.915Z"
   },
   {
    "duration": 1283,
    "start_time": "2025-02-26T09:58:14.435Z"
   },
   {
    "duration": 87,
    "start_time": "2025-02-26T09:58:15.720Z"
   },
   {
    "duration": 34,
    "start_time": "2025-02-26T09:58:15.810Z"
   },
   {
    "duration": 19,
    "start_time": "2025-02-26T09:58:15.847Z"
   },
   {
    "duration": 22,
    "start_time": "2025-02-26T09:58:15.869Z"
   },
   {
    "duration": 14,
    "start_time": "2025-02-26T09:58:15.893Z"
   },
   {
    "duration": 18,
    "start_time": "2025-02-26T09:58:15.909Z"
   },
   {
    "duration": 82,
    "start_time": "2025-02-26T09:58:15.956Z"
   },
   {
    "duration": 5,
    "start_time": "2025-02-26T09:58:16.040Z"
   },
   {
    "duration": 18,
    "start_time": "2025-02-26T09:58:16.049Z"
   },
   {
    "duration": 12,
    "start_time": "2025-02-26T09:58:16.069Z"
   },
   {
    "duration": 86,
    "start_time": "2025-02-26T09:58:16.083Z"
   },
   {
    "duration": 18,
    "start_time": "2025-02-26T09:58:16.171Z"
   },
   {
    "duration": 18,
    "start_time": "2025-02-26T09:58:16.191Z"
   },
   {
    "duration": 21,
    "start_time": "2025-02-26T09:58:16.211Z"
   },
   {
    "duration": 46,
    "start_time": "2025-02-26T09:58:16.235Z"
   },
   {
    "duration": 14,
    "start_time": "2025-02-26T09:58:16.284Z"
   },
   {
    "duration": 13,
    "start_time": "2025-02-26T09:58:16.300Z"
   },
   {
    "duration": 41,
    "start_time": "2025-02-26T09:58:16.315Z"
   },
   {
    "duration": 5,
    "start_time": "2025-02-26T09:58:16.358Z"
   },
   {
    "duration": 39,
    "start_time": "2025-02-26T09:58:16.365Z"
   },
   {
    "duration": 20,
    "start_time": "2025-02-26T09:58:16.406Z"
   },
   {
    "duration": 13,
    "start_time": "2025-02-26T09:58:16.427Z"
   },
   {
    "duration": 23,
    "start_time": "2025-02-26T09:58:33.121Z"
   },
   {
    "duration": 15,
    "start_time": "2025-02-26T09:58:35.127Z"
   },
   {
    "duration": 14,
    "start_time": "2025-02-26T09:58:35.353Z"
   },
   {
    "duration": 11,
    "start_time": "2025-02-26T09:58:35.773Z"
   },
   {
    "duration": 5,
    "start_time": "2025-02-26T09:58:38.545Z"
   },
   {
    "duration": 5,
    "start_time": "2025-02-26T09:58:38.721Z"
   },
   {
    "duration": 15,
    "start_time": "2025-02-26T09:58:38.925Z"
   },
   {
    "duration": 5,
    "start_time": "2025-02-26T09:58:41.108Z"
   },
   {
    "duration": 1302,
    "start_time": "2025-02-26T14:03:54.888Z"
   },
   {
    "duration": 67,
    "start_time": "2025-02-26T14:03:56.192Z"
   },
   {
    "duration": 149,
    "start_time": "2025-02-26T14:03:56.260Z"
   },
   {
    "duration": 71,
    "start_time": "2025-02-26T14:03:56.411Z"
   },
   {
    "duration": 13,
    "start_time": "2025-02-26T14:03:56.483Z"
   },
   {
    "duration": 10,
    "start_time": "2025-02-26T14:03:56.498Z"
   },
   {
    "duration": 14,
    "start_time": "2025-02-26T14:03:56.509Z"
   },
   {
    "duration": 20,
    "start_time": "2025-02-26T14:03:56.525Z"
   },
   {
    "duration": 4,
    "start_time": "2025-02-26T14:03:56.546Z"
   },
   {
    "duration": 21,
    "start_time": "2025-02-26T14:03:56.552Z"
   },
   {
    "duration": 12,
    "start_time": "2025-02-26T14:03:56.574Z"
   },
   {
    "duration": 14,
    "start_time": "2025-02-26T14:03:56.588Z"
   },
   {
    "duration": 10,
    "start_time": "2025-02-26T14:03:56.604Z"
   },
   {
    "duration": 41,
    "start_time": "2025-02-26T14:03:56.615Z"
   },
   {
    "duration": 16,
    "start_time": "2025-02-26T14:03:56.658Z"
   },
   {
    "duration": 20,
    "start_time": "2025-02-26T14:03:56.675Z"
   },
   {
    "duration": 25,
    "start_time": "2025-02-26T14:03:56.697Z"
   },
   {
    "duration": 25,
    "start_time": "2025-02-26T14:03:56.723Z"
   },
   {
    "duration": 12,
    "start_time": "2025-02-26T14:03:56.750Z"
   },
   {
    "duration": 4,
    "start_time": "2025-02-26T14:03:56.764Z"
   },
   {
    "duration": 14,
    "start_time": "2025-02-26T14:03:56.770Z"
   },
   {
    "duration": 21,
    "start_time": "2025-02-26T14:03:56.785Z"
   },
   {
    "duration": 148,
    "start_time": "2025-02-26T14:03:56.808Z"
   },
   {
    "duration": 4,
    "start_time": "2025-02-26T14:04:37.263Z"
   },
   {
    "duration": 6,
    "start_time": "2025-02-26T14:05:57.895Z"
   },
   {
    "duration": 168,
    "start_time": "2025-02-26T14:22:59.915Z"
   },
   {
    "duration": 152,
    "start_time": "2025-02-26T14:23:09.776Z"
   },
   {
    "duration": 163,
    "start_time": "2025-02-26T14:23:21.156Z"
   },
   {
    "duration": 169,
    "start_time": "2025-02-26T14:24:25.029Z"
   },
   {
    "duration": 7,
    "start_time": "2025-02-26T14:27:08.547Z"
   },
   {
    "duration": 7,
    "start_time": "2025-02-26T14:27:34.469Z"
   },
   {
    "duration": 214,
    "start_time": "2025-02-26T14:29:00.973Z"
   },
   {
    "duration": 229,
    "start_time": "2025-02-26T14:29:07.871Z"
   },
   {
    "duration": 224,
    "start_time": "2025-02-26T14:29:25.832Z"
   },
   {
    "duration": 228,
    "start_time": "2025-02-26T14:29:31.452Z"
   },
   {
    "duration": 1175,
    "start_time": "2025-02-26T14:32:28.884Z"
   },
   {
    "duration": 71,
    "start_time": "2025-02-26T14:32:30.061Z"
   },
   {
    "duration": 74,
    "start_time": "2025-02-26T14:32:30.133Z"
   },
   {
    "duration": 34,
    "start_time": "2025-02-26T14:32:30.209Z"
   },
   {
    "duration": 32,
    "start_time": "2025-02-26T14:32:30.244Z"
   },
   {
    "duration": 27,
    "start_time": "2025-02-26T14:32:30.277Z"
   },
   {
    "duration": 34,
    "start_time": "2025-02-26T14:32:30.306Z"
   },
   {
    "duration": 170,
    "start_time": "2025-02-26T14:32:30.342Z"
   },
   {
    "duration": 145,
    "start_time": "2025-02-26T14:32:30.514Z"
   },
   {
    "duration": 24,
    "start_time": "2025-02-26T14:32:30.662Z"
   },
   {
    "duration": 43,
    "start_time": "2025-02-26T14:32:30.688Z"
   },
   {
    "duration": 57,
    "start_time": "2025-02-26T14:32:30.732Z"
   },
   {
    "duration": 65,
    "start_time": "2025-02-26T14:32:30.790Z"
   },
   {
    "duration": 62,
    "start_time": "2025-02-26T14:32:30.856Z"
   },
   {
    "duration": 81,
    "start_time": "2025-02-26T14:32:30.920Z"
   },
   {
    "duration": 148,
    "start_time": "2025-02-26T14:32:31.003Z"
   },
   {
    "duration": 47,
    "start_time": "2025-02-26T14:32:31.153Z"
   },
   {
    "duration": 38,
    "start_time": "2025-02-26T14:32:31.202Z"
   },
   {
    "duration": 43,
    "start_time": "2025-02-26T14:32:31.242Z"
   },
   {
    "duration": 47,
    "start_time": "2025-02-26T14:32:31.286Z"
   },
   {
    "duration": 14,
    "start_time": "2025-02-26T14:32:31.335Z"
   },
   {
    "duration": 49,
    "start_time": "2025-02-26T14:32:31.351Z"
   },
   {
    "duration": 17,
    "start_time": "2025-02-26T14:32:31.402Z"
   },
   {
    "duration": 14,
    "start_time": "2025-02-26T14:32:31.420Z"
   },
   {
    "duration": 21,
    "start_time": "2025-02-26T14:32:31.436Z"
   },
   {
    "duration": 199,
    "start_time": "2025-02-26T14:32:31.458Z"
   },
   {
    "duration": 6,
    "start_time": "2025-02-26T14:32:31.659Z"
   },
   {
    "duration": 42,
    "start_time": "2025-02-26T14:32:31.669Z"
   },
   {
    "duration": 279,
    "start_time": "2025-02-26T14:32:31.713Z"
   },
   {
    "duration": 102,
    "start_time": "2025-02-26T14:34:27.713Z"
   },
   {
    "duration": 9,
    "start_time": "2025-02-26T14:38:35.291Z"
   },
   {
    "duration": 198,
    "start_time": "2025-02-26T14:39:45.743Z"
   },
   {
    "duration": 1634,
    "start_time": "2025-02-27T13:40:17.949Z"
   },
   {
    "duration": 92,
    "start_time": "2025-02-27T13:40:19.587Z"
   },
   {
    "duration": 35,
    "start_time": "2025-02-27T13:40:19.682Z"
   },
   {
    "duration": 14,
    "start_time": "2025-02-27T13:40:19.719Z"
   },
   {
    "duration": 37,
    "start_time": "2025-02-27T13:40:19.735Z"
   },
   {
    "duration": 16,
    "start_time": "2025-02-27T13:40:19.776Z"
   },
   {
    "duration": 19,
    "start_time": "2025-02-27T13:40:19.795Z"
   },
   {
    "duration": 17,
    "start_time": "2025-02-27T13:40:19.816Z"
   },
   {
    "duration": 4,
    "start_time": "2025-02-27T13:40:19.836Z"
   },
   {
    "duration": 22,
    "start_time": "2025-02-27T13:40:19.875Z"
   },
   {
    "duration": 14,
    "start_time": "2025-02-27T13:40:19.899Z"
   },
   {
    "duration": 18,
    "start_time": "2025-02-27T13:40:19.915Z"
   },
   {
    "duration": 44,
    "start_time": "2025-02-27T13:40:19.935Z"
   },
   {
    "duration": 22,
    "start_time": "2025-02-27T13:40:19.981Z"
   },
   {
    "duration": 21,
    "start_time": "2025-02-27T13:40:20.005Z"
   },
   {
    "duration": 51,
    "start_time": "2025-02-27T13:40:20.027Z"
   },
   {
    "duration": 16,
    "start_time": "2025-02-27T13:40:20.080Z"
   },
   {
    "duration": 14,
    "start_time": "2025-02-27T13:40:20.098Z"
   },
   {
    "duration": 12,
    "start_time": "2025-02-27T13:40:20.113Z"
   },
   {
    "duration": 6,
    "start_time": "2025-02-27T13:40:20.127Z"
   },
   {
    "duration": 53,
    "start_time": "2025-02-27T13:40:20.135Z"
   },
   {
    "duration": 25,
    "start_time": "2025-02-27T13:40:20.190Z"
   },
   {
    "duration": 8,
    "start_time": "2025-02-27T13:40:20.216Z"
   },
   {
    "duration": 17,
    "start_time": "2025-02-27T13:40:20.225Z"
   },
   {
    "duration": 22,
    "start_time": "2025-02-27T13:40:20.244Z"
   },
   {
    "duration": 258,
    "start_time": "2025-02-27T13:40:20.268Z"
   },
   {
    "duration": 5,
    "start_time": "2025-02-27T13:40:20.527Z"
   },
   {
    "duration": 8,
    "start_time": "2025-02-27T13:40:20.536Z"
   },
   {
    "duration": 318,
    "start_time": "2025-02-27T13:40:20.547Z"
   },
   {
    "duration": 14,
    "start_time": "2025-02-27T13:40:20.867Z"
   },
   {
    "duration": 234,
    "start_time": "2025-02-27T13:40:20.883Z"
   },
   {
    "duration": 7,
    "start_time": "2025-02-27T13:59:58.185Z"
   },
   {
    "duration": 151,
    "start_time": "2025-02-27T14:05:15.658Z"
   },
   {
    "duration": 151,
    "start_time": "2025-02-27T14:06:08.650Z"
   },
   {
    "duration": 9,
    "start_time": "2025-02-27T14:14:22.834Z"
   },
   {
    "duration": 10,
    "start_time": "2025-02-27T14:14:58.291Z"
   },
   {
    "duration": 9,
    "start_time": "2025-02-27T14:15:09.240Z"
   },
   {
    "duration": 9,
    "start_time": "2025-02-27T14:16:22.204Z"
   },
   {
    "duration": 280,
    "start_time": "2025-02-27T14:18:59.930Z"
   },
   {
    "duration": 7,
    "start_time": "2025-02-27T14:22:21.449Z"
   },
   {
    "duration": 78,
    "start_time": "2025-02-27T14:22:31.889Z"
   },
   {
    "duration": 11,
    "start_time": "2025-02-27T14:22:40.539Z"
   },
   {
    "duration": 113,
    "start_time": "2025-02-27T14:24:08.597Z"
   },
   {
    "duration": 11,
    "start_time": "2025-02-27T14:24:26.466Z"
   },
   {
    "duration": 213,
    "start_time": "2025-02-27T14:30:58.061Z"
   },
   {
    "duration": 243,
    "start_time": "2025-02-27T14:31:09.602Z"
   },
   {
    "duration": 18,
    "start_time": "2025-02-27T16:42:03.568Z"
   },
   {
    "duration": 1395,
    "start_time": "2025-02-27T16:42:12.392Z"
   },
   {
    "duration": 91,
    "start_time": "2025-02-27T16:42:13.795Z"
   },
   {
    "duration": 39,
    "start_time": "2025-02-27T16:42:13.888Z"
   },
   {
    "duration": 14,
    "start_time": "2025-02-27T16:42:13.930Z"
   },
   {
    "duration": 16,
    "start_time": "2025-02-27T16:42:13.946Z"
   },
   {
    "duration": 25,
    "start_time": "2025-02-27T16:42:13.965Z"
   },
   {
    "duration": 25,
    "start_time": "2025-02-27T16:42:13.993Z"
   },
   {
    "duration": 20,
    "start_time": "2025-02-27T16:42:14.020Z"
   },
   {
    "duration": 5,
    "start_time": "2025-02-27T16:42:14.041Z"
   },
   {
    "duration": 43,
    "start_time": "2025-02-27T16:42:14.049Z"
   },
   {
    "duration": 15,
    "start_time": "2025-02-27T16:42:14.095Z"
   },
   {
    "duration": 13,
    "start_time": "2025-02-27T16:42:14.112Z"
   },
   {
    "duration": 13,
    "start_time": "2025-02-27T16:42:14.127Z"
   },
   {
    "duration": 42,
    "start_time": "2025-02-27T16:42:14.142Z"
   },
   {
    "duration": 27,
    "start_time": "2025-02-27T16:42:14.186Z"
   },
   {
    "duration": 16,
    "start_time": "2025-02-27T16:42:14.215Z"
   },
   {
    "duration": 16,
    "start_time": "2025-02-27T16:42:14.233Z"
   },
   {
    "duration": 45,
    "start_time": "2025-02-27T16:42:14.250Z"
   },
   {
    "duration": 13,
    "start_time": "2025-02-27T16:42:14.299Z"
   },
   {
    "duration": 8,
    "start_time": "2025-02-27T16:42:14.314Z"
   },
   {
    "duration": 12,
    "start_time": "2025-02-27T16:42:14.324Z"
   },
   {
    "duration": 48,
    "start_time": "2025-02-27T16:42:14.338Z"
   },
   {
    "duration": 10,
    "start_time": "2025-02-27T16:42:14.388Z"
   },
   {
    "duration": 9,
    "start_time": "2025-02-27T16:42:14.400Z"
   },
   {
    "duration": 11,
    "start_time": "2025-02-27T16:42:14.411Z"
   },
   {
    "duration": 269,
    "start_time": "2025-02-27T16:42:14.424Z"
   },
   {
    "duration": 9,
    "start_time": "2025-02-27T16:42:14.695Z"
   },
   {
    "duration": 80,
    "start_time": "2025-02-27T16:42:14.708Z"
   },
   {
    "duration": 313,
    "start_time": "2025-02-27T16:42:14.790Z"
   },
   {
    "duration": 12,
    "start_time": "2025-02-27T16:42:15.105Z"
   },
   {
    "duration": 249,
    "start_time": "2025-02-27T16:42:15.119Z"
   },
   {
    "duration": 27,
    "start_time": "2025-02-27T16:42:15.370Z"
   },
   {
    "duration": 163,
    "start_time": "2025-02-27T16:42:15.399Z"
   },
   {
    "duration": 143,
    "start_time": "2025-02-27T16:42:15.575Z"
   },
   {
    "duration": 0,
    "start_time": "2025-02-27T16:42:15.720Z"
   },
   {
    "duration": 17,
    "start_time": "2025-02-27T16:42:34.093Z"
   },
   {
    "duration": 24,
    "start_time": "2025-02-27T16:43:18.551Z"
   },
   {
    "duration": 12,
    "start_time": "2025-02-27T16:43:26.940Z"
   },
   {
    "duration": 17,
    "start_time": "2025-02-27T16:43:46.801Z"
   },
   {
    "duration": 266,
    "start_time": "2025-02-27T16:43:57.077Z"
   },
   {
    "duration": 131,
    "start_time": "2025-02-27T16:51:29.365Z"
   },
   {
    "duration": 154,
    "start_time": "2025-02-27T16:52:04.116Z"
   },
   {
    "duration": 16,
    "start_time": "2025-02-27T17:22:28.543Z"
   },
   {
    "duration": 170,
    "start_time": "2025-02-27T17:22:28.898Z"
   },
   {
    "duration": 1362,
    "start_time": "2025-02-27T17:23:54.262Z"
   },
   {
    "duration": 83,
    "start_time": "2025-02-27T17:23:55.626Z"
   },
   {
    "duration": 34,
    "start_time": "2025-02-27T17:23:55.711Z"
   },
   {
    "duration": 14,
    "start_time": "2025-02-27T17:23:55.747Z"
   },
   {
    "duration": 22,
    "start_time": "2025-02-27T17:23:55.763Z"
   },
   {
    "duration": 13,
    "start_time": "2025-02-27T17:23:55.787Z"
   },
   {
    "duration": 24,
    "start_time": "2025-02-27T17:23:55.802Z"
   },
   {
    "duration": 51,
    "start_time": "2025-02-27T17:23:55.828Z"
   },
   {
    "duration": 5,
    "start_time": "2025-02-27T17:23:55.887Z"
   },
   {
    "duration": 26,
    "start_time": "2025-02-27T17:23:55.896Z"
   },
   {
    "duration": 28,
    "start_time": "2025-02-27T17:23:55.923Z"
   },
   {
    "duration": 65,
    "start_time": "2025-02-27T17:23:55.953Z"
   },
   {
    "duration": 31,
    "start_time": "2025-02-27T17:23:56.020Z"
   },
   {
    "duration": 22,
    "start_time": "2025-02-27T17:23:56.053Z"
   },
   {
    "duration": 23,
    "start_time": "2025-02-27T17:23:56.081Z"
   },
   {
    "duration": 23,
    "start_time": "2025-02-27T17:23:56.107Z"
   },
   {
    "duration": 27,
    "start_time": "2025-02-27T17:23:56.132Z"
   },
   {
    "duration": 30,
    "start_time": "2025-02-27T17:23:56.171Z"
   },
   {
    "duration": 10,
    "start_time": "2025-02-27T17:23:56.203Z"
   },
   {
    "duration": 5,
    "start_time": "2025-02-27T17:23:56.215Z"
   },
   {
    "duration": 17,
    "start_time": "2025-02-27T17:23:56.222Z"
   },
   {
    "duration": 17,
    "start_time": "2025-02-27T17:23:56.241Z"
   },
   {
    "duration": 16,
    "start_time": "2025-02-27T17:23:56.272Z"
   },
   {
    "duration": 7,
    "start_time": "2025-02-27T17:23:56.290Z"
   },
   {
    "duration": 9,
    "start_time": "2025-02-27T17:23:56.299Z"
   },
   {
    "duration": 245,
    "start_time": "2025-02-27T17:23:56.310Z"
   },
   {
    "duration": 17,
    "start_time": "2025-02-27T17:23:56.557Z"
   },
   {
    "duration": 12,
    "start_time": "2025-02-27T17:23:56.579Z"
   },
   {
    "duration": 321,
    "start_time": "2025-02-27T17:23:56.593Z"
   },
   {
    "duration": 12,
    "start_time": "2025-02-27T17:23:56.916Z"
   },
   {
    "duration": 249,
    "start_time": "2025-02-27T17:23:56.931Z"
   },
   {
    "duration": 12,
    "start_time": "2025-02-27T17:23:57.182Z"
   },
   {
    "duration": 194,
    "start_time": "2025-02-27T17:23:57.197Z"
   },
   {
    "duration": 15,
    "start_time": "2025-02-27T17:23:57.393Z"
   },
   {
    "duration": 288,
    "start_time": "2025-02-27T17:23:57.410Z"
   },
   {
    "duration": 165,
    "start_time": "2025-02-27T17:23:57.701Z"
   },
   {
    "duration": 8,
    "start_time": "2025-02-27T17:28:35.985Z"
   },
   {
    "duration": 18,
    "start_time": "2025-02-27T17:28:48.299Z"
   },
   {
    "duration": 6,
    "start_time": "2025-02-27T17:29:30.300Z"
   },
   {
    "duration": 189,
    "start_time": "2025-02-27T17:29:41.721Z"
   },
   {
    "duration": 187,
    "start_time": "2025-02-27T17:29:48.061Z"
   },
   {
    "duration": 1257,
    "start_time": "2025-02-27T17:29:58.989Z"
   },
   {
    "duration": 85,
    "start_time": "2025-02-27T17:30:00.249Z"
   },
   {
    "duration": 40,
    "start_time": "2025-02-27T17:30:00.339Z"
   },
   {
    "duration": 15,
    "start_time": "2025-02-27T17:30:00.381Z"
   },
   {
    "duration": 45,
    "start_time": "2025-02-27T17:30:00.398Z"
   },
   {
    "duration": 50,
    "start_time": "2025-02-27T17:30:00.444Z"
   },
   {
    "duration": 40,
    "start_time": "2025-02-27T17:30:00.496Z"
   },
   {
    "duration": 20,
    "start_time": "2025-02-27T17:30:00.537Z"
   },
   {
    "duration": 40,
    "start_time": "2025-02-27T17:30:00.560Z"
   },
   {
    "duration": 50,
    "start_time": "2025-02-27T17:30:00.602Z"
   },
   {
    "duration": 39,
    "start_time": "2025-02-27T17:30:00.654Z"
   },
   {
    "duration": 49,
    "start_time": "2025-02-27T17:30:00.694Z"
   },
   {
    "duration": 25,
    "start_time": "2025-02-27T17:30:00.744Z"
   },
   {
    "duration": 49,
    "start_time": "2025-02-27T17:30:00.770Z"
   },
   {
    "duration": 37,
    "start_time": "2025-02-27T17:30:00.821Z"
   },
   {
    "duration": 38,
    "start_time": "2025-02-27T17:30:00.859Z"
   },
   {
    "duration": 64,
    "start_time": "2025-02-27T17:30:00.899Z"
   },
   {
    "duration": 33,
    "start_time": "2025-02-27T17:30:00.965Z"
   },
   {
    "duration": 28,
    "start_time": "2025-02-27T17:30:01.000Z"
   },
   {
    "duration": 60,
    "start_time": "2025-02-27T17:30:01.030Z"
   },
   {
    "duration": 16,
    "start_time": "2025-02-27T17:30:01.092Z"
   },
   {
    "duration": 23,
    "start_time": "2025-02-27T17:30:01.109Z"
   },
   {
    "duration": 13,
    "start_time": "2025-02-27T17:30:01.133Z"
   },
   {
    "duration": 73,
    "start_time": "2025-02-27T17:30:01.148Z"
   },
   {
    "duration": 27,
    "start_time": "2025-02-27T17:30:01.223Z"
   },
   {
    "duration": 239,
    "start_time": "2025-02-27T17:30:01.252Z"
   },
   {
    "duration": 5,
    "start_time": "2025-02-27T17:30:01.495Z"
   },
   {
    "duration": 26,
    "start_time": "2025-02-27T17:30:01.501Z"
   },
   {
    "duration": 288,
    "start_time": "2025-02-27T17:30:01.529Z"
   },
   {
    "duration": 11,
    "start_time": "2025-02-27T17:30:01.818Z"
   },
   {
    "duration": 232,
    "start_time": "2025-02-27T17:30:01.831Z"
   },
   {
    "duration": 20,
    "start_time": "2025-02-27T17:30:02.065Z"
   },
   {
    "duration": 198,
    "start_time": "2025-02-27T17:30:02.088Z"
   },
   {
    "duration": 13,
    "start_time": "2025-02-27T17:30:02.288Z"
   },
   {
    "duration": 286,
    "start_time": "2025-02-27T17:30:02.303Z"
   },
   {
    "duration": 165,
    "start_time": "2025-02-27T17:30:02.592Z"
   },
   {
    "duration": 23,
    "start_time": "2025-02-27T17:30:02.760Z"
   },
   {
    "duration": 215,
    "start_time": "2025-02-27T17:30:02.785Z"
   },
   {
    "duration": 184,
    "start_time": "2025-02-27T17:30:19.315Z"
   },
   {
    "duration": 115,
    "start_time": "2025-02-27T18:13:13.641Z"
   },
   {
    "duration": 10,
    "start_time": "2025-02-27T18:18:43.892Z"
   },
   {
    "duration": 13,
    "start_time": "2025-02-27T18:21:25.819Z"
   },
   {
    "duration": 10,
    "start_time": "2025-02-27T18:22:02.562Z"
   },
   {
    "duration": 1252,
    "start_time": "2025-02-27T18:23:00.789Z"
   },
   {
    "duration": 84,
    "start_time": "2025-02-27T18:23:02.043Z"
   },
   {
    "duration": 33,
    "start_time": "2025-02-27T18:23:02.128Z"
   },
   {
    "duration": 20,
    "start_time": "2025-02-27T18:23:02.164Z"
   },
   {
    "duration": 36,
    "start_time": "2025-02-27T18:23:02.185Z"
   },
   {
    "duration": 12,
    "start_time": "2025-02-27T18:23:02.222Z"
   },
   {
    "duration": 17,
    "start_time": "2025-02-27T18:23:02.236Z"
   },
   {
    "duration": 83,
    "start_time": "2025-02-27T18:23:02.255Z"
   },
   {
    "duration": 19,
    "start_time": "2025-02-27T18:23:02.340Z"
   },
   {
    "duration": 65,
    "start_time": "2025-02-27T18:23:02.362Z"
   },
   {
    "duration": 21,
    "start_time": "2025-02-27T18:23:02.428Z"
   },
   {
    "duration": 58,
    "start_time": "2025-02-27T18:23:02.451Z"
   },
   {
    "duration": 8,
    "start_time": "2025-02-27T18:23:02.511Z"
   },
   {
    "duration": 15,
    "start_time": "2025-02-27T18:23:02.521Z"
   },
   {
    "duration": 27,
    "start_time": "2025-02-27T18:23:02.538Z"
   },
   {
    "duration": 30,
    "start_time": "2025-02-27T18:23:02.567Z"
   },
   {
    "duration": 37,
    "start_time": "2025-02-27T18:23:02.599Z"
   },
   {
    "duration": 26,
    "start_time": "2025-02-27T18:23:02.638Z"
   },
   {
    "duration": 27,
    "start_time": "2025-02-27T18:23:02.666Z"
   },
   {
    "duration": 22,
    "start_time": "2025-02-27T18:23:02.694Z"
   },
   {
    "duration": 24,
    "start_time": "2025-02-27T18:23:02.718Z"
   },
   {
    "duration": 45,
    "start_time": "2025-02-27T18:23:02.743Z"
   },
   {
    "duration": 20,
    "start_time": "2025-02-27T18:23:02.790Z"
   },
   {
    "duration": 11,
    "start_time": "2025-02-27T18:23:02.812Z"
   },
   {
    "duration": 17,
    "start_time": "2025-02-27T18:23:02.825Z"
   },
   {
    "duration": 210,
    "start_time": "2025-02-27T18:23:02.844Z"
   },
   {
    "duration": 27,
    "start_time": "2025-02-27T18:23:03.056Z"
   },
   {
    "duration": 8,
    "start_time": "2025-02-27T18:23:03.087Z"
   },
   {
    "duration": 300,
    "start_time": "2025-02-27T18:23:03.096Z"
   },
   {
    "duration": 10,
    "start_time": "2025-02-27T18:23:03.398Z"
   },
   {
    "duration": 244,
    "start_time": "2025-02-27T18:23:03.410Z"
   },
   {
    "duration": 7,
    "start_time": "2025-02-27T18:23:03.656Z"
   },
   {
    "duration": 157,
    "start_time": "2025-02-27T18:23:03.680Z"
   },
   {
    "duration": 13,
    "start_time": "2025-02-27T18:23:03.838Z"
   },
   {
    "duration": 274,
    "start_time": "2025-02-27T18:23:03.853Z"
   },
   {
    "duration": 166,
    "start_time": "2025-02-27T18:23:04.129Z"
   },
   {
    "duration": 10,
    "start_time": "2025-02-27T18:23:04.297Z"
   },
   {
    "duration": 212,
    "start_time": "2025-02-27T18:23:04.309Z"
   },
   {
    "duration": 1247,
    "start_time": "2025-02-27T18:23:33.284Z"
   },
   {
    "duration": 81,
    "start_time": "2025-02-27T18:23:34.533Z"
   },
   {
    "duration": 32,
    "start_time": "2025-02-27T18:23:34.616Z"
   },
   {
    "duration": 13,
    "start_time": "2025-02-27T18:23:34.649Z"
   },
   {
    "duration": 29,
    "start_time": "2025-02-27T18:23:34.665Z"
   },
   {
    "duration": 12,
    "start_time": "2025-02-27T18:23:34.696Z"
   },
   {
    "duration": 28,
    "start_time": "2025-02-27T18:23:34.710Z"
   },
   {
    "duration": 56,
    "start_time": "2025-02-27T18:23:34.740Z"
   },
   {
    "duration": 6,
    "start_time": "2025-02-27T18:23:34.798Z"
   },
   {
    "duration": 17,
    "start_time": "2025-02-27T18:23:34.805Z"
   },
   {
    "duration": 12,
    "start_time": "2025-02-27T18:23:34.824Z"
   },
   {
    "duration": 46,
    "start_time": "2025-02-27T18:23:34.837Z"
   },
   {
    "duration": 8,
    "start_time": "2025-02-27T18:23:34.885Z"
   },
   {
    "duration": 29,
    "start_time": "2025-02-27T18:23:34.896Z"
   },
   {
    "duration": 18,
    "start_time": "2025-02-27T18:23:34.927Z"
   },
   {
    "duration": 16,
    "start_time": "2025-02-27T18:23:34.946Z"
   },
   {
    "duration": 31,
    "start_time": "2025-02-27T18:23:34.964Z"
   },
   {
    "duration": 14,
    "start_time": "2025-02-27T18:23:34.997Z"
   },
   {
    "duration": 10,
    "start_time": "2025-02-27T18:23:35.013Z"
   },
   {
    "duration": 5,
    "start_time": "2025-02-27T18:23:35.025Z"
   },
   {
    "duration": 8,
    "start_time": "2025-02-27T18:23:35.032Z"
   },
   {
    "duration": 38,
    "start_time": "2025-02-27T18:23:35.042Z"
   },
   {
    "duration": 26,
    "start_time": "2025-02-27T18:23:35.082Z"
   },
   {
    "duration": 6,
    "start_time": "2025-02-27T18:23:35.110Z"
   },
   {
    "duration": 7,
    "start_time": "2025-02-27T18:23:35.118Z"
   },
   {
    "duration": 212,
    "start_time": "2025-02-27T18:23:35.126Z"
   },
   {
    "duration": 5,
    "start_time": "2025-02-27T18:23:35.340Z"
   },
   {
    "duration": 82,
    "start_time": "2025-02-27T18:23:35.347Z"
   },
   {
    "duration": 297,
    "start_time": "2025-02-27T18:23:35.430Z"
   },
   {
    "duration": 11,
    "start_time": "2025-02-27T18:23:35.728Z"
   },
   {
    "duration": 223,
    "start_time": "2025-02-27T18:23:35.740Z"
   },
   {
    "duration": 20,
    "start_time": "2025-02-27T18:23:35.965Z"
   },
   {
    "duration": 160,
    "start_time": "2025-02-27T18:23:35.987Z"
   },
   {
    "duration": 13,
    "start_time": "2025-02-27T18:23:36.148Z"
   },
   {
    "duration": 272,
    "start_time": "2025-02-27T18:23:36.163Z"
   },
   {
    "duration": 165,
    "start_time": "2025-02-27T18:23:36.437Z"
   },
   {
    "duration": 10,
    "start_time": "2025-02-27T18:23:36.604Z"
   },
   {
    "duration": 214,
    "start_time": "2025-02-27T18:23:36.615Z"
   },
   {
    "duration": 1203,
    "start_time": "2025-02-27T18:23:56.820Z"
   },
   {
    "duration": 77,
    "start_time": "2025-02-27T18:23:58.025Z"
   },
   {
    "duration": 32,
    "start_time": "2025-02-27T18:23:58.104Z"
   },
   {
    "duration": 13,
    "start_time": "2025-02-27T18:23:58.138Z"
   },
   {
    "duration": 32,
    "start_time": "2025-02-27T18:23:58.153Z"
   },
   {
    "duration": 13,
    "start_time": "2025-02-27T18:23:58.187Z"
   },
   {
    "duration": 16,
    "start_time": "2025-02-27T18:23:58.202Z"
   },
   {
    "duration": 15,
    "start_time": "2025-02-27T18:23:58.220Z"
   },
   {
    "duration": 5,
    "start_time": "2025-02-27T18:23:58.236Z"
   },
   {
    "duration": 48,
    "start_time": "2025-02-27T18:23:58.244Z"
   },
   {
    "duration": 11,
    "start_time": "2025-02-27T18:23:58.294Z"
   },
   {
    "duration": 19,
    "start_time": "2025-02-27T18:23:58.306Z"
   },
   {
    "duration": 11,
    "start_time": "2025-02-27T18:23:58.326Z"
   },
   {
    "duration": 20,
    "start_time": "2025-02-27T18:23:58.338Z"
   },
   {
    "duration": 20,
    "start_time": "2025-02-27T18:23:58.380Z"
   },
   {
    "duration": 15,
    "start_time": "2025-02-27T18:23:58.402Z"
   },
   {
    "duration": 13,
    "start_time": "2025-02-27T18:23:58.419Z"
   },
   {
    "duration": 11,
    "start_time": "2025-02-27T18:23:58.433Z"
   },
   {
    "duration": 44,
    "start_time": "2025-02-27T18:23:58.446Z"
   },
   {
    "duration": 4,
    "start_time": "2025-02-27T18:23:58.492Z"
   },
   {
    "duration": 8,
    "start_time": "2025-02-27T18:23:58.498Z"
   },
   {
    "duration": 18,
    "start_time": "2025-02-27T18:23:58.508Z"
   },
   {
    "duration": 6,
    "start_time": "2025-02-27T18:23:58.529Z"
   },
   {
    "duration": 6,
    "start_time": "2025-02-27T18:23:58.537Z"
   },
   {
    "duration": 41,
    "start_time": "2025-02-27T18:23:58.544Z"
   },
   {
    "duration": 212,
    "start_time": "2025-02-27T18:23:58.587Z"
   },
   {
    "duration": 5,
    "start_time": "2025-02-27T18:23:58.801Z"
   },
   {
    "duration": 17,
    "start_time": "2025-02-27T18:23:58.809Z"
   },
   {
    "duration": 309,
    "start_time": "2025-02-27T18:23:58.828Z"
   },
   {
    "duration": 10,
    "start_time": "2025-02-27T18:23:59.138Z"
   },
   {
    "duration": 218,
    "start_time": "2025-02-27T18:23:59.150Z"
   },
   {
    "duration": 8,
    "start_time": "2025-02-27T18:23:59.380Z"
   },
   {
    "duration": 161,
    "start_time": "2025-02-27T18:23:59.391Z"
   },
   {
    "duration": 31,
    "start_time": "2025-02-27T18:23:59.555Z"
   },
   {
    "duration": 251,
    "start_time": "2025-02-27T18:23:59.587Z"
   },
   {
    "duration": 164,
    "start_time": "2025-02-27T18:23:59.840Z"
   },
   {
    "duration": 11,
    "start_time": "2025-02-27T18:24:00.005Z"
   },
   {
    "duration": 12,
    "start_time": "2025-02-27T18:25:11.347Z"
   },
   {
    "duration": 23,
    "start_time": "2025-02-27T18:25:27.760Z"
   },
   {
    "duration": 22,
    "start_time": "2025-02-27T18:26:03.870Z"
   },
   {
    "duration": 207,
    "start_time": "2025-02-27T18:27:23.107Z"
   },
   {
    "duration": 197,
    "start_time": "2025-02-27T18:27:34.933Z"
   },
   {
    "duration": 1465,
    "start_time": "2025-02-28T09:36:33.959Z"
   },
   {
    "duration": 73,
    "start_time": "2025-02-28T09:36:35.426Z"
   },
   {
    "duration": 36,
    "start_time": "2025-02-28T09:36:35.501Z"
   },
   {
    "duration": 88,
    "start_time": "2025-02-28T09:36:35.539Z"
   },
   {
    "duration": 64,
    "start_time": "2025-02-28T09:36:35.628Z"
   },
   {
    "duration": 41,
    "start_time": "2025-02-28T09:36:35.694Z"
   },
   {
    "duration": 139,
    "start_time": "2025-02-28T09:36:35.737Z"
   },
   {
    "duration": 42,
    "start_time": "2025-02-28T09:36:35.878Z"
   },
   {
    "duration": 179,
    "start_time": "2025-02-28T09:36:35.922Z"
   },
   {
    "duration": 51,
    "start_time": "2025-02-28T09:36:36.106Z"
   },
   {
    "duration": 14,
    "start_time": "2025-02-28T09:36:36.158Z"
   },
   {
    "duration": 18,
    "start_time": "2025-02-28T09:36:36.173Z"
   },
   {
    "duration": 34,
    "start_time": "2025-02-28T09:36:36.192Z"
   },
   {
    "duration": 40,
    "start_time": "2025-02-28T09:36:36.227Z"
   },
   {
    "duration": 19,
    "start_time": "2025-02-28T09:36:36.268Z"
   },
   {
    "duration": 17,
    "start_time": "2025-02-28T09:36:36.289Z"
   },
   {
    "duration": 60,
    "start_time": "2025-02-28T09:36:36.308Z"
   },
   {
    "duration": 18,
    "start_time": "2025-02-28T09:36:36.369Z"
   },
   {
    "duration": 10,
    "start_time": "2025-02-28T09:36:36.388Z"
   },
   {
    "duration": 43,
    "start_time": "2025-02-28T09:36:36.399Z"
   },
   {
    "duration": 13,
    "start_time": "2025-02-28T09:36:36.444Z"
   },
   {
    "duration": 75,
    "start_time": "2025-02-28T09:36:36.459Z"
   },
   {
    "duration": 22,
    "start_time": "2025-02-28T09:36:36.536Z"
   },
   {
    "duration": 32,
    "start_time": "2025-02-28T09:36:36.560Z"
   },
   {
    "duration": 42,
    "start_time": "2025-02-28T09:36:36.593Z"
   },
   {
    "duration": 224,
    "start_time": "2025-02-28T09:36:36.637Z"
   },
   {
    "duration": 5,
    "start_time": "2025-02-28T09:36:36.863Z"
   },
   {
    "duration": 50,
    "start_time": "2025-02-28T09:36:36.872Z"
   },
   {
    "duration": 355,
    "start_time": "2025-02-28T09:36:36.924Z"
   },
   {
    "duration": 9,
    "start_time": "2025-02-28T09:36:37.281Z"
   },
   {
    "duration": 377,
    "start_time": "2025-02-28T09:36:37.292Z"
   },
   {
    "duration": 7,
    "start_time": "2025-02-28T09:36:37.670Z"
   },
   {
    "duration": 282,
    "start_time": "2025-02-28T09:36:37.679Z"
   },
   {
    "duration": 13,
    "start_time": "2025-02-28T09:36:37.962Z"
   },
   {
    "duration": 467,
    "start_time": "2025-02-28T09:36:37.976Z"
   },
   {
    "duration": 159,
    "start_time": "2025-02-28T09:36:38.445Z"
   },
   {
    "duration": 11,
    "start_time": "2025-02-28T09:36:38.607Z"
   },
   {
    "duration": 202,
    "start_time": "2025-02-28T09:36:38.620Z"
   },
   {
    "duration": 129,
    "start_time": "2025-02-28T09:40:55.221Z"
   },
   {
    "duration": 17,
    "start_time": "2025-02-28T09:41:16.174Z"
   },
   {
    "duration": 19,
    "start_time": "2025-02-28T09:41:24.843Z"
   },
   {
    "duration": 5,
    "start_time": "2025-02-28T09:43:01.427Z"
   },
   {
    "duration": 6,
    "start_time": "2025-02-28T09:43:11.036Z"
   },
   {
    "duration": 197,
    "start_time": "2025-02-28T10:36:31.041Z"
   },
   {
    "duration": 272,
    "start_time": "2025-02-28T10:37:05.059Z"
   },
   {
    "duration": 175,
    "start_time": "2025-02-28T10:40:52.888Z"
   },
   {
    "duration": 253,
    "start_time": "2025-02-28T10:41:16.587Z"
   },
   {
    "duration": 266,
    "start_time": "2025-02-28T10:41:23.928Z"
   },
   {
    "duration": 260,
    "start_time": "2025-02-28T10:41:35.358Z"
   },
   {
    "duration": 250,
    "start_time": "2025-02-28T10:41:41.399Z"
   },
   {
    "duration": 1224,
    "start_time": "2025-02-28T10:41:45.918Z"
   },
   {
    "duration": 74,
    "start_time": "2025-02-28T10:41:47.144Z"
   },
   {
    "duration": 33,
    "start_time": "2025-02-28T10:41:47.220Z"
   },
   {
    "duration": 12,
    "start_time": "2025-02-28T10:41:47.255Z"
   },
   {
    "duration": 23,
    "start_time": "2025-02-28T10:41:47.269Z"
   },
   {
    "duration": 26,
    "start_time": "2025-02-28T10:41:47.294Z"
   },
   {
    "duration": 28,
    "start_time": "2025-02-28T10:41:47.322Z"
   },
   {
    "duration": 19,
    "start_time": "2025-02-28T10:41:47.351Z"
   },
   {
    "duration": 4,
    "start_time": "2025-02-28T10:41:47.372Z"
   },
   {
    "duration": 30,
    "start_time": "2025-02-28T10:41:47.379Z"
   },
   {
    "duration": 9,
    "start_time": "2025-02-28T10:41:47.411Z"
   },
   {
    "duration": 23,
    "start_time": "2025-02-28T10:41:47.422Z"
   },
   {
    "duration": 16,
    "start_time": "2025-02-28T10:41:47.446Z"
   },
   {
    "duration": 16,
    "start_time": "2025-02-28T10:41:47.463Z"
   },
   {
    "duration": 27,
    "start_time": "2025-02-28T10:41:47.481Z"
   },
   {
    "duration": 15,
    "start_time": "2025-02-28T10:41:47.509Z"
   },
   {
    "duration": 140,
    "start_time": "2025-02-28T10:41:47.526Z"
   },
   {
    "duration": 156,
    "start_time": "2025-02-28T10:41:47.668Z"
   },
   {
    "duration": 75,
    "start_time": "2025-02-28T10:41:47.826Z"
   },
   {
    "duration": 6,
    "start_time": "2025-02-28T10:41:47.902Z"
   },
   {
    "duration": 12,
    "start_time": "2025-02-28T10:41:47.909Z"
   },
   {
    "duration": 25,
    "start_time": "2025-02-28T10:41:47.923Z"
   },
   {
    "duration": 14,
    "start_time": "2025-02-28T10:41:47.950Z"
   },
   {
    "duration": 9,
    "start_time": "2025-02-28T10:41:47.966Z"
   },
   {
    "duration": 10,
    "start_time": "2025-02-28T10:41:47.977Z"
   },
   {
    "duration": 204,
    "start_time": "2025-02-28T10:41:47.988Z"
   },
   {
    "duration": 6,
    "start_time": "2025-02-28T10:41:48.202Z"
   },
   {
    "duration": 91,
    "start_time": "2025-02-28T10:41:48.212Z"
   },
   {
    "duration": 259,
    "start_time": "2025-02-28T10:41:48.305Z"
   },
   {
    "duration": 12,
    "start_time": "2025-02-28T10:41:48.566Z"
   },
   {
    "duration": 208,
    "start_time": "2025-02-28T10:41:48.580Z"
   },
   {
    "duration": 17,
    "start_time": "2025-02-28T10:41:48.790Z"
   },
   {
    "duration": 169,
    "start_time": "2025-02-28T10:41:48.809Z"
   },
   {
    "duration": 22,
    "start_time": "2025-02-28T10:41:48.981Z"
   },
   {
    "duration": 236,
    "start_time": "2025-02-28T10:41:49.005Z"
   },
   {
    "duration": 153,
    "start_time": "2025-02-28T10:41:49.243Z"
   },
   {
    "duration": 13,
    "start_time": "2025-02-28T10:41:49.402Z"
   },
   {
    "duration": 195,
    "start_time": "2025-02-28T10:41:49.417Z"
   },
   {
    "duration": 6,
    "start_time": "2025-02-28T10:41:49.614Z"
   },
   {
    "duration": 106,
    "start_time": "2025-02-28T10:41:49.621Z"
   },
   {
    "duration": 188,
    "start_time": "2025-02-28T10:41:49.729Z"
   },
   {
    "duration": 115,
    "start_time": "2025-02-28T11:49:39.259Z"
   },
   {
    "duration": 3841,
    "start_time": "2025-02-28T11:50:24.521Z"
   },
   {
    "duration": 1293,
    "start_time": "2025-02-28T11:50:55.305Z"
   },
   {
    "duration": 85,
    "start_time": "2025-02-28T11:50:56.601Z"
   },
   {
    "duration": 32,
    "start_time": "2025-02-28T11:50:56.688Z"
   },
   {
    "duration": 12,
    "start_time": "2025-02-28T11:50:56.722Z"
   },
   {
    "duration": 55,
    "start_time": "2025-02-28T11:50:56.736Z"
   },
   {
    "duration": 95,
    "start_time": "2025-02-28T11:50:56.793Z"
   },
   {
    "duration": 80,
    "start_time": "2025-02-28T11:50:56.890Z"
   },
   {
    "duration": 26,
    "start_time": "2025-02-28T11:50:56.972Z"
   },
   {
    "duration": 11,
    "start_time": "2025-02-28T11:50:57.000Z"
   },
   {
    "duration": 25,
    "start_time": "2025-02-28T11:50:57.013Z"
   },
   {
    "duration": 35,
    "start_time": "2025-02-28T11:50:57.039Z"
   },
   {
    "duration": 39,
    "start_time": "2025-02-28T11:50:57.076Z"
   },
   {
    "duration": 19,
    "start_time": "2025-02-28T11:50:57.117Z"
   },
   {
    "duration": 24,
    "start_time": "2025-02-28T11:50:57.138Z"
   },
   {
    "duration": 20,
    "start_time": "2025-02-28T11:50:57.164Z"
   },
   {
    "duration": 17,
    "start_time": "2025-02-28T11:50:57.185Z"
   },
   {
    "duration": 20,
    "start_time": "2025-02-28T11:50:57.203Z"
   },
   {
    "duration": 25,
    "start_time": "2025-02-28T11:50:57.225Z"
   },
   {
    "duration": 10,
    "start_time": "2025-02-28T11:50:57.252Z"
   },
   {
    "duration": 6,
    "start_time": "2025-02-28T11:50:57.264Z"
   },
   {
    "duration": 21,
    "start_time": "2025-02-28T11:50:57.272Z"
   },
   {
    "duration": 20,
    "start_time": "2025-02-28T11:50:57.295Z"
   },
   {
    "duration": 37,
    "start_time": "2025-02-28T11:50:57.317Z"
   },
   {
    "duration": 9,
    "start_time": "2025-02-28T11:50:57.356Z"
   },
   {
    "duration": 33,
    "start_time": "2025-02-28T11:50:57.367Z"
   },
   {
    "duration": 198,
    "start_time": "2025-02-28T11:50:57.402Z"
   },
   {
    "duration": 6,
    "start_time": "2025-02-28T11:50:57.602Z"
   },
   {
    "duration": 32,
    "start_time": "2025-02-28T11:50:57.611Z"
   },
   {
    "duration": 258,
    "start_time": "2025-02-28T11:50:57.645Z"
   },
   {
    "duration": 11,
    "start_time": "2025-02-28T11:50:57.905Z"
   },
   {
    "duration": 293,
    "start_time": "2025-02-28T11:50:57.918Z"
   },
   {
    "duration": 7,
    "start_time": "2025-02-28T11:50:58.213Z"
   },
   {
    "duration": 159,
    "start_time": "2025-02-28T11:50:58.222Z"
   },
   {
    "duration": 21,
    "start_time": "2025-02-28T11:50:58.382Z"
   },
   {
    "duration": 242,
    "start_time": "2025-02-28T11:50:58.405Z"
   },
   {
    "duration": 156,
    "start_time": "2025-02-28T11:50:58.648Z"
   },
   {
    "duration": 12,
    "start_time": "2025-02-28T11:50:58.806Z"
   },
   {
    "duration": 316,
    "start_time": "2025-02-28T11:50:58.820Z"
   },
   {
    "duration": 5,
    "start_time": "2025-02-28T11:50:59.138Z"
   },
   {
    "duration": 45,
    "start_time": "2025-02-28T11:50:59.145Z"
   },
   {
    "duration": 322,
    "start_time": "2025-02-28T11:50:59.192Z"
   },
   {
    "duration": 195,
    "start_time": "2025-02-28T11:50:59.516Z"
   },
   {
    "duration": 113,
    "start_time": "2025-02-28T11:52:58.096Z"
   },
   {
    "duration": 199,
    "start_time": "2025-02-28T11:53:18.216Z"
   },
   {
    "duration": 10,
    "start_time": "2025-02-28T11:53:18.956Z"
   },
   {
    "duration": 47,
    "start_time": "2025-02-28T14:09:18.052Z"
   },
   {
    "duration": 1432,
    "start_time": "2025-02-28T14:09:23.846Z"
   },
   {
    "duration": 0,
    "start_time": "2025-02-28T14:09:25.281Z"
   },
   {
    "duration": 0,
    "start_time": "2025-02-28T14:09:25.282Z"
   },
   {
    "duration": 0,
    "start_time": "2025-02-28T14:09:25.283Z"
   },
   {
    "duration": 0,
    "start_time": "2025-02-28T14:09:25.285Z"
   },
   {
    "duration": 0,
    "start_time": "2025-02-28T14:09:25.285Z"
   },
   {
    "duration": 0,
    "start_time": "2025-02-28T14:09:25.286Z"
   },
   {
    "duration": 1,
    "start_time": "2025-02-28T14:09:25.287Z"
   },
   {
    "duration": 0,
    "start_time": "2025-02-28T14:09:25.289Z"
   },
   {
    "duration": 0,
    "start_time": "2025-02-28T14:09:25.290Z"
   },
   {
    "duration": 0,
    "start_time": "2025-02-28T14:09:25.291Z"
   },
   {
    "duration": 0,
    "start_time": "2025-02-28T14:09:25.309Z"
   },
   {
    "duration": 0,
    "start_time": "2025-02-28T14:09:25.310Z"
   },
   {
    "duration": 0,
    "start_time": "2025-02-28T14:09:25.311Z"
   },
   {
    "duration": 0,
    "start_time": "2025-02-28T14:09:25.312Z"
   },
   {
    "duration": 0,
    "start_time": "2025-02-28T14:09:25.313Z"
   },
   {
    "duration": 0,
    "start_time": "2025-02-28T14:09:25.314Z"
   },
   {
    "duration": 0,
    "start_time": "2025-02-28T14:09:25.315Z"
   },
   {
    "duration": 0,
    "start_time": "2025-02-28T14:09:25.316Z"
   },
   {
    "duration": 0,
    "start_time": "2025-02-28T14:09:25.317Z"
   },
   {
    "duration": 0,
    "start_time": "2025-02-28T14:09:25.318Z"
   },
   {
    "duration": 0,
    "start_time": "2025-02-28T14:09:25.319Z"
   },
   {
    "duration": 0,
    "start_time": "2025-02-28T14:09:25.320Z"
   },
   {
    "duration": 0,
    "start_time": "2025-02-28T14:09:25.321Z"
   },
   {
    "duration": 0,
    "start_time": "2025-02-28T14:09:25.322Z"
   },
   {
    "duration": 0,
    "start_time": "2025-02-28T14:09:25.323Z"
   },
   {
    "duration": 0,
    "start_time": "2025-02-28T14:09:25.324Z"
   },
   {
    "duration": 0,
    "start_time": "2025-02-28T14:09:25.325Z"
   },
   {
    "duration": 0,
    "start_time": "2025-02-28T14:09:25.326Z"
   },
   {
    "duration": 0,
    "start_time": "2025-02-28T14:09:25.327Z"
   },
   {
    "duration": 0,
    "start_time": "2025-02-28T14:09:25.328Z"
   },
   {
    "duration": 0,
    "start_time": "2025-02-28T14:09:25.329Z"
   },
   {
    "duration": 0,
    "start_time": "2025-02-28T14:09:25.330Z"
   },
   {
    "duration": 0,
    "start_time": "2025-02-28T14:09:25.330Z"
   },
   {
    "duration": 0,
    "start_time": "2025-02-28T14:09:25.331Z"
   },
   {
    "duration": 0,
    "start_time": "2025-02-28T14:09:25.332Z"
   },
   {
    "duration": 0,
    "start_time": "2025-02-28T14:09:25.334Z"
   },
   {
    "duration": 0,
    "start_time": "2025-02-28T14:09:25.335Z"
   },
   {
    "duration": 0,
    "start_time": "2025-02-28T14:09:25.336Z"
   },
   {
    "duration": 0,
    "start_time": "2025-02-28T14:09:25.337Z"
   },
   {
    "duration": 0,
    "start_time": "2025-02-28T14:09:25.338Z"
   },
   {
    "duration": 0,
    "start_time": "2025-02-28T14:09:25.339Z"
   },
   {
    "duration": 0,
    "start_time": "2025-02-28T14:09:25.340Z"
   },
   {
    "duration": 0,
    "start_time": "2025-02-28T14:09:25.341Z"
   },
   {
    "duration": 3483,
    "start_time": "2025-02-28T14:09:57.226Z"
   },
   {
    "duration": 2408,
    "start_time": "2025-02-28T14:10:06.738Z"
   },
   {
    "duration": 1234,
    "start_time": "2025-02-28T14:10:09.149Z"
   },
   {
    "duration": 69,
    "start_time": "2025-02-28T14:10:10.385Z"
   },
   {
    "duration": 31,
    "start_time": "2025-02-28T14:10:10.455Z"
   },
   {
    "duration": 17,
    "start_time": "2025-02-28T14:10:10.487Z"
   },
   {
    "duration": 13,
    "start_time": "2025-02-28T14:10:10.506Z"
   },
   {
    "duration": 15,
    "start_time": "2025-02-28T14:10:10.521Z"
   },
   {
    "duration": 15,
    "start_time": "2025-02-28T14:10:10.538Z"
   },
   {
    "duration": 17,
    "start_time": "2025-02-28T14:10:10.555Z"
   },
   {
    "duration": 17,
    "start_time": "2025-02-28T14:10:10.574Z"
   },
   {
    "duration": 24,
    "start_time": "2025-02-28T14:10:10.593Z"
   },
   {
    "duration": 11,
    "start_time": "2025-02-28T14:10:10.619Z"
   },
   {
    "duration": 11,
    "start_time": "2025-02-28T14:10:10.631Z"
   },
   {
    "duration": 7,
    "start_time": "2025-02-28T14:10:10.643Z"
   },
   {
    "duration": 14,
    "start_time": "2025-02-28T14:10:10.651Z"
   },
   {
    "duration": 46,
    "start_time": "2025-02-28T14:10:10.667Z"
   },
   {
    "duration": 14,
    "start_time": "2025-02-28T14:10:10.715Z"
   },
   {
    "duration": 16,
    "start_time": "2025-02-28T14:10:10.731Z"
   },
   {
    "duration": 12,
    "start_time": "2025-02-28T14:10:10.749Z"
   },
   {
    "duration": 11,
    "start_time": "2025-02-28T14:10:10.763Z"
   },
   {
    "duration": 37,
    "start_time": "2025-02-28T14:10:10.776Z"
   },
   {
    "duration": 13,
    "start_time": "2025-02-28T14:10:10.815Z"
   },
   {
    "duration": 16,
    "start_time": "2025-02-28T14:10:10.829Z"
   },
   {
    "duration": 7,
    "start_time": "2025-02-28T14:10:10.847Z"
   },
   {
    "duration": 6,
    "start_time": "2025-02-28T14:10:10.855Z"
   },
   {
    "duration": 9,
    "start_time": "2025-02-28T14:10:10.862Z"
   },
   {
    "duration": 219,
    "start_time": "2025-02-28T14:10:10.873Z"
   },
   {
    "duration": 14,
    "start_time": "2025-02-28T14:10:11.097Z"
   },
   {
    "duration": 19,
    "start_time": "2025-02-28T14:10:11.112Z"
   },
   {
    "duration": 244,
    "start_time": "2025-02-28T14:10:11.133Z"
   },
   {
    "duration": 9,
    "start_time": "2025-02-28T14:10:11.379Z"
   },
   {
    "duration": 224,
    "start_time": "2025-02-28T14:10:11.390Z"
   },
   {
    "duration": 7,
    "start_time": "2025-02-28T14:10:11.616Z"
   },
   {
    "duration": 149,
    "start_time": "2025-02-28T14:10:11.625Z"
   },
   {
    "duration": 11,
    "start_time": "2025-02-28T14:10:11.776Z"
   },
   {
    "duration": 322,
    "start_time": "2025-02-28T14:10:11.788Z"
   },
   {
    "duration": 151,
    "start_time": "2025-02-28T14:10:12.111Z"
   },
   {
    "duration": 11,
    "start_time": "2025-02-28T14:10:12.263Z"
   },
   {
    "duration": 221,
    "start_time": "2025-02-28T14:10:12.275Z"
   },
   {
    "duration": 5,
    "start_time": "2025-02-28T14:10:12.497Z"
   },
   {
    "duration": 5,
    "start_time": "2025-02-28T14:10:12.509Z"
   },
   {
    "duration": 260,
    "start_time": "2025-02-28T14:10:12.516Z"
   },
   {
    "duration": 203,
    "start_time": "2025-02-28T14:10:12.778Z"
   },
   {
    "duration": 10,
    "start_time": "2025-02-28T14:10:12.983Z"
   },
   {
    "duration": 988,
    "start_time": "2025-02-28T14:10:12.995Z"
   },
   {
    "duration": 1102,
    "start_time": "2025-02-28T14:13:54.019Z"
   },
   {
    "duration": 214,
    "start_time": "2025-02-28T14:14:17.154Z"
   },
   {
    "duration": 214,
    "start_time": "2025-02-28T14:14:19.920Z"
   },
   {
    "duration": 10,
    "start_time": "2025-02-28T14:14:22.072Z"
   },
   {
    "duration": 1060,
    "start_time": "2025-02-28T14:14:32.118Z"
   },
   {
    "duration": 7,
    "start_time": "2025-02-28T14:15:51.466Z"
   },
   {
    "duration": 10,
    "start_time": "2025-02-28T14:15:53.183Z"
   },
   {
    "duration": 200,
    "start_time": "2025-02-28T14:16:32.542Z"
   },
   {
    "duration": 9,
    "start_time": "2025-02-28T14:16:34.145Z"
   },
   {
    "duration": 920,
    "start_time": "2025-02-28T14:17:04.602Z"
   },
   {
    "duration": 78,
    "start_time": "2025-02-28T14:19:53.734Z"
   },
   {
    "duration": 82,
    "start_time": "2025-02-28T14:20:02.182Z"
   },
   {
    "duration": 615,
    "start_time": "2025-02-28T14:20:08.425Z"
   },
   {
    "duration": 1678,
    "start_time": "2025-02-28T14:20:22.793Z"
   },
   {
    "duration": 18,
    "start_time": "2025-02-28T14:20:47.584Z"
   },
   {
    "duration": 588,
    "start_time": "2025-02-28T14:21:11.266Z"
   },
   {
    "duration": 301,
    "start_time": "2025-02-28T14:24:46.440Z"
   },
   {
    "duration": 212,
    "start_time": "2025-02-28T14:25:22.692Z"
   },
   {
    "duration": 186,
    "start_time": "2025-02-28T14:25:39.514Z"
   },
   {
    "duration": 198,
    "start_time": "2025-02-28T14:25:59.884Z"
   },
   {
    "duration": 230,
    "start_time": "2025-02-28T14:31:09.402Z"
   },
   {
    "duration": 11,
    "start_time": "2025-02-28T14:31:11.141Z"
   },
   {
    "duration": 181,
    "start_time": "2025-02-28T14:31:24.121Z"
   },
   {
    "duration": 152,
    "start_time": "2025-02-28T14:33:21.155Z"
   },
   {
    "duration": 16,
    "start_time": "2025-02-28T14:33:22.203Z"
   },
   {
    "duration": 186,
    "start_time": "2025-02-28T14:33:27.592Z"
   },
   {
    "duration": 3429,
    "start_time": "2025-03-01T08:13:15.896Z"
   },
   {
    "duration": 1404,
    "start_time": "2025-03-01T08:13:19.327Z"
   },
   {
    "duration": 80,
    "start_time": "2025-03-01T08:13:20.732Z"
   },
   {
    "duration": 32,
    "start_time": "2025-03-01T08:13:20.815Z"
   },
   {
    "duration": 16,
    "start_time": "2025-03-01T08:13:20.849Z"
   },
   {
    "duration": 28,
    "start_time": "2025-03-01T08:13:20.867Z"
   },
   {
    "duration": 98,
    "start_time": "2025-03-01T08:13:20.897Z"
   },
   {
    "duration": 51,
    "start_time": "2025-03-01T08:13:20.997Z"
   },
   {
    "duration": 15,
    "start_time": "2025-03-01T08:13:21.049Z"
   },
   {
    "duration": 4,
    "start_time": "2025-03-01T08:13:21.067Z"
   },
   {
    "duration": 32,
    "start_time": "2025-03-01T08:13:21.073Z"
   },
   {
    "duration": 9,
    "start_time": "2025-03-01T08:13:21.107Z"
   },
   {
    "duration": 11,
    "start_time": "2025-03-01T08:13:21.117Z"
   },
   {
    "duration": 25,
    "start_time": "2025-03-01T08:13:21.130Z"
   },
   {
    "duration": 15,
    "start_time": "2025-03-01T08:13:21.157Z"
   },
   {
    "duration": 17,
    "start_time": "2025-03-01T08:13:21.173Z"
   },
   {
    "duration": 13,
    "start_time": "2025-03-01T08:13:21.191Z"
   },
   {
    "duration": 14,
    "start_time": "2025-03-01T08:13:21.205Z"
   },
   {
    "duration": 19,
    "start_time": "2025-03-01T08:13:21.249Z"
   },
   {
    "duration": 10,
    "start_time": "2025-03-01T08:13:21.270Z"
   },
   {
    "duration": 9,
    "start_time": "2025-03-01T08:13:21.281Z"
   },
   {
    "duration": 9,
    "start_time": "2025-03-01T08:13:21.291Z"
   },
   {
    "duration": 26,
    "start_time": "2025-03-01T08:13:21.302Z"
   },
   {
    "duration": 23,
    "start_time": "2025-03-01T08:13:21.330Z"
   },
   {
    "duration": 30,
    "start_time": "2025-03-01T08:13:21.355Z"
   },
   {
    "duration": 25,
    "start_time": "2025-03-01T08:13:21.387Z"
   },
   {
    "duration": 183,
    "start_time": "2025-03-01T08:13:21.414Z"
   },
   {
    "duration": 5,
    "start_time": "2025-03-01T08:13:21.600Z"
   },
   {
    "duration": 7,
    "start_time": "2025-03-01T08:13:21.606Z"
   },
   {
    "duration": 263,
    "start_time": "2025-03-01T08:13:21.615Z"
   },
   {
    "duration": 9,
    "start_time": "2025-03-01T08:13:21.879Z"
   },
   {
    "duration": 197,
    "start_time": "2025-03-01T08:13:21.889Z"
   },
   {
    "duration": 6,
    "start_time": "2025-03-01T08:13:22.087Z"
   },
   {
    "duration": 153,
    "start_time": "2025-03-01T08:13:22.095Z"
   },
   {
    "duration": 16,
    "start_time": "2025-03-01T08:13:22.250Z"
   },
   {
    "duration": 335,
    "start_time": "2025-03-01T08:13:22.267Z"
   },
   {
    "duration": 134,
    "start_time": "2025-03-01T08:13:22.603Z"
   },
   {
    "duration": 24,
    "start_time": "2025-03-01T08:13:22.739Z"
   },
   {
    "duration": 244,
    "start_time": "2025-03-01T08:13:22.765Z"
   },
   {
    "duration": 5,
    "start_time": "2025-03-01T08:13:23.010Z"
   },
   {
    "duration": 19,
    "start_time": "2025-03-01T08:13:23.016Z"
   },
   {
    "duration": 170,
    "start_time": "2025-03-01T08:13:23.036Z"
   },
   {
    "duration": 152,
    "start_time": "2025-03-01T08:13:23.207Z"
   },
   {
    "duration": 10,
    "start_time": "2025-03-01T08:13:23.361Z"
   },
   {
    "duration": 174,
    "start_time": "2025-03-01T08:13:23.372Z"
   },
   {
    "duration": 13,
    "start_time": "2025-03-01T08:16:01.160Z"
   },
   {
    "duration": 11,
    "start_time": "2025-03-01T08:16:08.583Z"
   },
   {
    "duration": 12,
    "start_time": "2025-03-01T08:16:55.031Z"
   },
   {
    "duration": 12,
    "start_time": "2025-03-01T08:17:15.452Z"
   },
   {
    "duration": 2411,
    "start_time": "2025-03-01T08:22:40.936Z"
   },
   {
    "duration": 3,
    "start_time": "2025-03-01T08:22:56.107Z"
   },
   {
    "duration": 4,
    "start_time": "2025-03-01T08:23:04.217Z"
   },
   {
    "duration": 3,
    "start_time": "2025-03-01T08:28:17.685Z"
   },
   {
    "duration": 14,
    "start_time": "2025-03-01T08:30:17.868Z"
   },
   {
    "duration": 4,
    "start_time": "2025-03-01T08:30:44.133Z"
   },
   {
    "duration": 10,
    "start_time": "2025-03-01T08:31:38.076Z"
   },
   {
    "duration": 8,
    "start_time": "2025-03-01T08:32:09.308Z"
   },
   {
    "duration": 10,
    "start_time": "2025-03-01T08:32:15.236Z"
   },
   {
    "duration": 9,
    "start_time": "2025-03-01T08:32:20.537Z"
   },
   {
    "duration": 10,
    "start_time": "2025-03-01T08:32:41.259Z"
   },
   {
    "duration": 9,
    "start_time": "2025-03-01T08:32:45.877Z"
   },
   {
    "duration": 7,
    "start_time": "2025-03-01T08:34:32.673Z"
   },
   {
    "duration": 70,
    "start_time": "2025-03-01T08:34:49.695Z"
   },
   {
    "duration": 15,
    "start_time": "2025-03-01T08:34:52.084Z"
   },
   {
    "duration": 23,
    "start_time": "2025-03-01T08:35:09.984Z"
   },
   {
    "duration": 10,
    "start_time": "2025-03-01T08:37:24.558Z"
   },
   {
    "duration": 14,
    "start_time": "2025-03-01T08:37:35.739Z"
   },
   {
    "duration": 8,
    "start_time": "2025-03-01T08:38:21.932Z"
   },
   {
    "duration": 200,
    "start_time": "2025-03-01T08:40:15.895Z"
   },
   {
    "duration": 196,
    "start_time": "2025-03-01T08:40:59.829Z"
   },
   {
    "duration": 215,
    "start_time": "2025-03-01T08:41:05.553Z"
   },
   {
    "duration": 214,
    "start_time": "2025-03-01T08:41:18.527Z"
   },
   {
    "duration": 6,
    "start_time": "2025-03-01T08:41:48.339Z"
   },
   {
    "duration": 213,
    "start_time": "2025-03-01T08:41:48.525Z"
   },
   {
    "duration": 10,
    "start_time": "2025-03-01T08:42:00.752Z"
   },
   {
    "duration": 224,
    "start_time": "2025-03-01T08:42:00.896Z"
   },
   {
    "duration": 210,
    "start_time": "2025-03-01T08:42:12.779Z"
   },
   {
    "duration": 216,
    "start_time": "2025-03-01T08:42:16.339Z"
   },
   {
    "duration": 303,
    "start_time": "2025-03-01T08:42:24.270Z"
   },
   {
    "duration": 224,
    "start_time": "2025-03-01T08:42:28.180Z"
   },
   {
    "duration": 203,
    "start_time": "2025-03-01T08:42:35.051Z"
   },
   {
    "duration": 12,
    "start_time": "2025-03-01T08:42:58.481Z"
   },
   {
    "duration": 203,
    "start_time": "2025-03-01T08:47:24.034Z"
   },
   {
    "duration": 219,
    "start_time": "2025-03-01T08:47:30.913Z"
   },
   {
    "duration": 3481,
    "start_time": "2025-03-01T17:44:52.498Z"
   },
   {
    "duration": 1411,
    "start_time": "2025-03-01T17:44:55.981Z"
   },
   {
    "duration": 82,
    "start_time": "2025-03-01T17:44:57.393Z"
   },
   {
    "duration": 29,
    "start_time": "2025-03-01T17:44:57.478Z"
   },
   {
    "duration": 17,
    "start_time": "2025-03-01T17:44:57.509Z"
   },
   {
    "duration": 54,
    "start_time": "2025-03-01T17:44:57.528Z"
   },
   {
    "duration": 10,
    "start_time": "2025-03-01T17:44:57.584Z"
   },
   {
    "duration": 14,
    "start_time": "2025-03-01T17:44:57.595Z"
   },
   {
    "duration": 18,
    "start_time": "2025-03-01T17:44:57.610Z"
   },
   {
    "duration": 13,
    "start_time": "2025-03-01T17:44:57.630Z"
   },
   {
    "duration": 12,
    "start_time": "2025-03-01T17:44:57.645Z"
   },
   {
    "duration": 8,
    "start_time": "2025-03-01T17:44:57.659Z"
   },
   {
    "duration": 12,
    "start_time": "2025-03-01T17:44:57.668Z"
   },
   {
    "duration": 12,
    "start_time": "2025-03-01T17:44:57.681Z"
   },
   {
    "duration": 33,
    "start_time": "2025-03-01T17:44:57.694Z"
   },
   {
    "duration": 83,
    "start_time": "2025-03-01T17:44:57.728Z"
   },
   {
    "duration": 18,
    "start_time": "2025-03-01T17:44:57.814Z"
   },
   {
    "duration": 11,
    "start_time": "2025-03-01T17:44:57.833Z"
   },
   {
    "duration": 10,
    "start_time": "2025-03-01T17:44:57.846Z"
   },
   {
    "duration": 14,
    "start_time": "2025-03-01T17:44:57.857Z"
   },
   {
    "duration": 5,
    "start_time": "2025-03-01T17:44:57.872Z"
   },
   {
    "duration": 31,
    "start_time": "2025-03-01T17:44:57.878Z"
   },
   {
    "duration": 25,
    "start_time": "2025-03-01T17:44:57.911Z"
   },
   {
    "duration": 8,
    "start_time": "2025-03-01T17:44:57.938Z"
   },
   {
    "duration": 6,
    "start_time": "2025-03-01T17:44:57.947Z"
   },
   {
    "duration": 7,
    "start_time": "2025-03-01T17:44:57.955Z"
   },
   {
    "duration": 208,
    "start_time": "2025-03-01T17:44:57.964Z"
   },
   {
    "duration": 5,
    "start_time": "2025-03-01T17:44:58.177Z"
   },
   {
    "duration": 27,
    "start_time": "2025-03-01T17:44:58.183Z"
   },
   {
    "duration": 245,
    "start_time": "2025-03-01T17:44:58.212Z"
   },
   {
    "duration": 12,
    "start_time": "2025-03-01T17:44:58.458Z"
   },
   {
    "duration": 193,
    "start_time": "2025-03-01T17:44:58.471Z"
   },
   {
    "duration": 6,
    "start_time": "2025-03-01T17:44:58.665Z"
   },
   {
    "duration": 158,
    "start_time": "2025-03-01T17:44:58.673Z"
   },
   {
    "duration": 19,
    "start_time": "2025-03-01T17:44:58.834Z"
   },
   {
    "duration": 254,
    "start_time": "2025-03-01T17:44:58.855Z"
   },
   {
    "duration": 140,
    "start_time": "2025-03-01T17:44:59.111Z"
   },
   {
    "duration": 12,
    "start_time": "2025-03-01T17:44:59.253Z"
   },
   {
    "duration": 183,
    "start_time": "2025-03-01T17:44:59.267Z"
   },
   {
    "duration": 5,
    "start_time": "2025-03-01T17:44:59.452Z"
   },
   {
    "duration": 9,
    "start_time": "2025-03-01T17:44:59.458Z"
   },
   {
    "duration": 252,
    "start_time": "2025-03-01T17:44:59.468Z"
   },
   {
    "duration": 157,
    "start_time": "2025-03-01T17:44:59.722Z"
   },
   {
    "duration": 10,
    "start_time": "2025-03-01T17:44:59.880Z"
   },
   {
    "duration": 176,
    "start_time": "2025-03-01T17:44:59.891Z"
   },
   {
    "duration": 11,
    "start_time": "2025-03-01T17:45:00.068Z"
   },
   {
    "duration": 256,
    "start_time": "2025-03-01T17:45:00.081Z"
   },
   {
    "duration": 18,
    "start_time": "2025-03-01T17:45:00.338Z"
   },
   {
    "duration": 71,
    "start_time": "2025-03-01T17:45:00.357Z"
   },
   {
    "duration": 250,
    "start_time": "2025-03-01T17:45:00.430Z"
   },
   {
    "duration": 117,
    "start_time": "2025-03-01T17:48:01.994Z"
   },
   {
    "duration": 2458,
    "start_time": "2025-03-01T17:48:07.083Z"
   },
   {
    "duration": 1136,
    "start_time": "2025-03-01T17:48:09.543Z"
   },
   {
    "duration": 80,
    "start_time": "2025-03-01T17:48:10.681Z"
   },
   {
    "duration": 31,
    "start_time": "2025-03-01T17:48:10.763Z"
   },
   {
    "duration": 13,
    "start_time": "2025-03-01T17:48:10.797Z"
   },
   {
    "duration": 22,
    "start_time": "2025-03-01T17:48:10.811Z"
   },
   {
    "duration": 10,
    "start_time": "2025-03-01T17:48:10.835Z"
   },
   {
    "duration": 14,
    "start_time": "2025-03-01T17:48:10.846Z"
   },
   {
    "duration": 15,
    "start_time": "2025-03-01T17:48:10.862Z"
   },
   {
    "duration": 4,
    "start_time": "2025-03-01T17:48:10.879Z"
   },
   {
    "duration": 33,
    "start_time": "2025-03-01T17:48:10.885Z"
   },
   {
    "duration": 9,
    "start_time": "2025-03-01T17:48:10.920Z"
   },
   {
    "duration": 11,
    "start_time": "2025-03-01T17:48:10.931Z"
   },
   {
    "duration": 6,
    "start_time": "2025-03-01T17:48:10.945Z"
   },
   {
    "duration": 14,
    "start_time": "2025-03-01T17:48:10.953Z"
   },
   {
    "duration": 53,
    "start_time": "2025-03-01T17:48:10.969Z"
   },
   {
    "duration": 13,
    "start_time": "2025-03-01T17:48:11.024Z"
   },
   {
    "duration": 14,
    "start_time": "2025-03-01T17:48:11.040Z"
   },
   {
    "duration": 10,
    "start_time": "2025-03-01T17:48:11.056Z"
   },
   {
    "duration": 10,
    "start_time": "2025-03-01T17:48:11.067Z"
   },
   {
    "duration": 5,
    "start_time": "2025-03-01T17:48:11.078Z"
   },
   {
    "duration": 30,
    "start_time": "2025-03-01T17:48:11.084Z"
   },
   {
    "duration": 18,
    "start_time": "2025-03-01T17:48:11.115Z"
   },
   {
    "duration": 4,
    "start_time": "2025-03-01T17:48:11.135Z"
   },
   {
    "duration": 5,
    "start_time": "2025-03-01T17:48:11.141Z"
   },
   {
    "duration": 6,
    "start_time": "2025-03-01T17:48:11.147Z"
   },
   {
    "duration": 208,
    "start_time": "2025-03-01T17:48:11.155Z"
   },
   {
    "duration": 5,
    "start_time": "2025-03-01T17:48:11.365Z"
   },
   {
    "duration": 17,
    "start_time": "2025-03-01T17:48:11.371Z"
   },
   {
    "duration": 271,
    "start_time": "2025-03-01T17:48:11.390Z"
   },
   {
    "duration": 10,
    "start_time": "2025-03-01T17:48:11.662Z"
   },
   {
    "duration": 183,
    "start_time": "2025-03-01T17:48:11.674Z"
   },
   {
    "duration": 6,
    "start_time": "2025-03-01T17:48:11.859Z"
   },
   {
    "duration": 150,
    "start_time": "2025-03-01T17:48:11.866Z"
   },
   {
    "duration": 11,
    "start_time": "2025-03-01T17:48:12.018Z"
   },
   {
    "duration": 266,
    "start_time": "2025-03-01T17:48:12.031Z"
   },
   {
    "duration": 166,
    "start_time": "2025-03-01T17:48:12.300Z"
   },
   {
    "duration": 11,
    "start_time": "2025-03-01T17:48:12.468Z"
   },
   {
    "duration": 192,
    "start_time": "2025-03-01T17:48:12.481Z"
   },
   {
    "duration": 4,
    "start_time": "2025-03-01T17:48:12.675Z"
   },
   {
    "duration": 6,
    "start_time": "2025-03-01T17:48:12.682Z"
   },
   {
    "duration": 264,
    "start_time": "2025-03-01T17:48:12.689Z"
   },
   {
    "duration": 158,
    "start_time": "2025-03-01T17:48:12.955Z"
   },
   {
    "duration": 11,
    "start_time": "2025-03-01T17:48:13.114Z"
   },
   {
    "duration": 179,
    "start_time": "2025-03-01T17:48:13.127Z"
   },
   {
    "duration": 10,
    "start_time": "2025-03-01T17:48:13.308Z"
   },
   {
    "duration": 253,
    "start_time": "2025-03-01T17:48:13.320Z"
   },
   {
    "duration": 118,
    "start_time": "2025-03-01T17:48:13.575Z"
   },
   {
    "duration": 0,
    "start_time": "2025-03-01T17:48:13.695Z"
   },
   {
    "duration": 0,
    "start_time": "2025-03-01T17:48:13.696Z"
   },
   {
    "duration": 21,
    "start_time": "2025-03-01T17:48:38.845Z"
   },
   {
    "duration": 16,
    "start_time": "2025-03-01T17:50:53.493Z"
   },
   {
    "duration": 9,
    "start_time": "2025-03-01T17:52:57.431Z"
   },
   {
    "duration": 11,
    "start_time": "2025-03-01T17:55:24.571Z"
   },
   {
    "duration": 272,
    "start_time": "2025-03-01T17:55:25.365Z"
   },
   {
    "duration": 13,
    "start_time": "2025-03-01T17:55:27.522Z"
   },
   {
    "duration": 14,
    "start_time": "2025-03-01T17:56:02.390Z"
   },
   {
    "duration": 11,
    "start_time": "2025-03-01T17:59:52.559Z"
   },
   {
    "duration": 14,
    "start_time": "2025-03-01T18:00:42.231Z"
   },
   {
    "duration": 19,
    "start_time": "2025-03-01T18:02:23.784Z"
   },
   {
    "duration": 22,
    "start_time": "2025-03-01T18:02:33.089Z"
   },
   {
    "duration": 19,
    "start_time": "2025-03-01T18:04:07.481Z"
   },
   {
    "duration": 1022,
    "start_time": "2025-03-01T18:06:26.124Z"
   },
   {
    "duration": 913,
    "start_time": "2025-03-01T18:06:47.870Z"
   },
   {
    "duration": 12,
    "start_time": "2025-03-01T18:07:51.432Z"
   },
   {
    "duration": 18,
    "start_time": "2025-03-01T18:08:01.673Z"
   },
   {
    "duration": 957,
    "start_time": "2025-03-01T18:08:02.317Z"
   },
   {
    "duration": 278,
    "start_time": "2025-03-01T18:09:24.084Z"
   },
   {
    "duration": 281,
    "start_time": "2025-03-01T18:09:39.363Z"
   },
   {
    "duration": 270,
    "start_time": "2025-03-01T18:09:45.032Z"
   },
   {
    "duration": 275,
    "start_time": "2025-03-01T18:09:49.321Z"
   },
   {
    "duration": 343,
    "start_time": "2025-03-01T18:09:57.302Z"
   },
   {
    "duration": 267,
    "start_time": "2025-03-01T18:10:21.381Z"
   },
   {
    "duration": 260,
    "start_time": "2025-03-01T18:10:31.605Z"
   },
   {
    "duration": 3,
    "start_time": "2025-03-01T18:37:18.894Z"
   },
   {
    "duration": 6,
    "start_time": "2025-03-01T18:37:28.909Z"
   },
   {
    "duration": 3312,
    "start_time": "2025-03-01T21:15:41.613Z"
   },
   {
    "duration": 1413,
    "start_time": "2025-03-01T21:15:44.927Z"
   },
   {
    "duration": 84,
    "start_time": "2025-03-01T21:15:46.341Z"
   },
   {
    "duration": 31,
    "start_time": "2025-03-01T21:15:46.427Z"
   },
   {
    "duration": 11,
    "start_time": "2025-03-01T21:15:46.460Z"
   },
   {
    "duration": 19,
    "start_time": "2025-03-01T21:15:46.473Z"
   },
   {
    "duration": 32,
    "start_time": "2025-03-01T21:15:46.494Z"
   },
   {
    "duration": 15,
    "start_time": "2025-03-01T21:15:46.528Z"
   },
   {
    "duration": 15,
    "start_time": "2025-03-01T21:15:46.545Z"
   },
   {
    "duration": 10,
    "start_time": "2025-03-01T21:15:46.564Z"
   },
   {
    "duration": 15,
    "start_time": "2025-03-01T21:15:46.575Z"
   },
   {
    "duration": 12,
    "start_time": "2025-03-01T21:15:46.592Z"
   },
   {
    "duration": 27,
    "start_time": "2025-03-01T21:15:46.605Z"
   },
   {
    "duration": 19,
    "start_time": "2025-03-01T21:15:46.633Z"
   },
   {
    "duration": 24,
    "start_time": "2025-03-01T21:15:46.653Z"
   },
   {
    "duration": 17,
    "start_time": "2025-03-01T21:15:46.678Z"
   },
   {
    "duration": 14,
    "start_time": "2025-03-01T21:15:46.697Z"
   },
   {
    "duration": 12,
    "start_time": "2025-03-01T21:15:46.713Z"
   },
   {
    "duration": 11,
    "start_time": "2025-03-01T21:15:46.726Z"
   },
   {
    "duration": 37,
    "start_time": "2025-03-01T21:15:46.739Z"
   },
   {
    "duration": 4,
    "start_time": "2025-03-01T21:15:46.778Z"
   },
   {
    "duration": 5,
    "start_time": "2025-03-01T21:15:46.784Z"
   },
   {
    "duration": 14,
    "start_time": "2025-03-01T21:15:46.790Z"
   },
   {
    "duration": 5,
    "start_time": "2025-03-01T21:15:46.806Z"
   },
   {
    "duration": 10,
    "start_time": "2025-03-01T21:15:46.812Z"
   },
   {
    "duration": 15,
    "start_time": "2025-03-01T21:15:46.824Z"
   },
   {
    "duration": 207,
    "start_time": "2025-03-01T21:15:46.841Z"
   },
   {
    "duration": 5,
    "start_time": "2025-03-01T21:15:47.051Z"
   },
   {
    "duration": 16,
    "start_time": "2025-03-01T21:15:47.057Z"
   },
   {
    "duration": 254,
    "start_time": "2025-03-01T21:15:47.074Z"
   },
   {
    "duration": 9,
    "start_time": "2025-03-01T21:15:47.330Z"
   },
   {
    "duration": 201,
    "start_time": "2025-03-01T21:15:47.341Z"
   },
   {
    "duration": 6,
    "start_time": "2025-03-01T21:15:47.544Z"
   },
   {
    "duration": 153,
    "start_time": "2025-03-01T21:15:47.551Z"
   },
   {
    "duration": 11,
    "start_time": "2025-03-01T21:15:47.706Z"
   },
   {
    "duration": 233,
    "start_time": "2025-03-01T21:15:47.719Z"
   },
   {
    "duration": 138,
    "start_time": "2025-03-01T21:15:47.953Z"
   },
   {
    "duration": 11,
    "start_time": "2025-03-01T21:15:48.093Z"
   },
   {
    "duration": 271,
    "start_time": "2025-03-01T21:15:48.106Z"
   },
   {
    "duration": 6,
    "start_time": "2025-03-01T21:15:48.379Z"
   },
   {
    "duration": 5,
    "start_time": "2025-03-01T21:15:48.387Z"
   },
   {
    "duration": 187,
    "start_time": "2025-03-01T21:15:48.394Z"
   },
   {
    "duration": 168,
    "start_time": "2025-03-01T21:15:48.583Z"
   },
   {
    "duration": 20,
    "start_time": "2025-03-01T21:15:48.753Z"
   },
   {
    "duration": 166,
    "start_time": "2025-03-01T21:15:48.775Z"
   },
   {
    "duration": 31,
    "start_time": "2025-03-01T21:15:48.943Z"
   },
   {
    "duration": 286,
    "start_time": "2025-03-01T21:15:48.976Z"
   },
   {
    "duration": 279,
    "start_time": "2025-03-01T21:15:49.264Z"
   },
   {
    "duration": 5,
    "start_time": "2025-03-01T21:15:49.544Z"
   },
   {
    "duration": 8,
    "start_time": "2025-03-01T21:16:28.701Z"
   },
   {
    "duration": 7,
    "start_time": "2025-03-01T21:16:53.812Z"
   },
   {
    "duration": 8,
    "start_time": "2025-03-01T21:16:56.521Z"
   },
   {
    "duration": 19,
    "start_time": "2025-03-01T21:17:33.064Z"
   },
   {
    "duration": 22,
    "start_time": "2025-03-01T21:18:16.356Z"
   },
   {
    "duration": 3798,
    "start_time": "2025-03-02T09:22:07.397Z"
   },
   {
    "duration": 1490,
    "start_time": "2025-03-02T09:22:11.198Z"
   },
   {
    "duration": 86,
    "start_time": "2025-03-02T09:22:12.690Z"
   },
   {
    "duration": 33,
    "start_time": "2025-03-02T09:22:12.779Z"
   },
   {
    "duration": 14,
    "start_time": "2025-03-02T09:22:12.814Z"
   },
   {
    "duration": 22,
    "start_time": "2025-03-02T09:22:12.830Z"
   },
   {
    "duration": 24,
    "start_time": "2025-03-02T09:22:12.854Z"
   },
   {
    "duration": 16,
    "start_time": "2025-03-02T09:22:12.880Z"
   },
   {
    "duration": 15,
    "start_time": "2025-03-02T09:22:12.897Z"
   },
   {
    "duration": 4,
    "start_time": "2025-03-02T09:22:12.915Z"
   },
   {
    "duration": 16,
    "start_time": "2025-03-02T09:22:12.920Z"
   },
   {
    "duration": 41,
    "start_time": "2025-03-02T09:22:12.938Z"
   },
   {
    "duration": 11,
    "start_time": "2025-03-02T09:22:12.981Z"
   },
   {
    "duration": 8,
    "start_time": "2025-03-02T09:22:12.994Z"
   },
   {
    "duration": 15,
    "start_time": "2025-03-02T09:22:13.004Z"
   },
   {
    "duration": 52,
    "start_time": "2025-03-02T09:22:13.021Z"
   },
   {
    "duration": 15,
    "start_time": "2025-03-02T09:22:13.075Z"
   },
   {
    "duration": 19,
    "start_time": "2025-03-02T09:22:13.092Z"
   },
   {
    "duration": 11,
    "start_time": "2025-03-02T09:22:13.112Z"
   },
   {
    "duration": 10,
    "start_time": "2025-03-02T09:22:13.125Z"
   },
   {
    "duration": 4,
    "start_time": "2025-03-02T09:22:13.137Z"
   },
   {
    "duration": 29,
    "start_time": "2025-03-02T09:22:13.143Z"
   },
   {
    "duration": 17,
    "start_time": "2025-03-02T09:22:13.174Z"
   },
   {
    "duration": 15,
    "start_time": "2025-03-02T09:22:13.193Z"
   },
   {
    "duration": 5,
    "start_time": "2025-03-02T09:22:13.209Z"
   },
   {
    "duration": 8,
    "start_time": "2025-03-02T09:22:13.216Z"
   },
   {
    "duration": 218,
    "start_time": "2025-03-02T09:22:13.226Z"
   },
   {
    "duration": 5,
    "start_time": "2025-03-02T09:22:13.448Z"
   },
   {
    "duration": 55,
    "start_time": "2025-03-02T09:22:13.455Z"
   },
   {
    "duration": 260,
    "start_time": "2025-03-02T09:22:13.512Z"
   },
   {
    "duration": 9,
    "start_time": "2025-03-02T09:22:13.774Z"
   },
   {
    "duration": 210,
    "start_time": "2025-03-02T09:22:13.785Z"
   },
   {
    "duration": 6,
    "start_time": "2025-03-02T09:22:13.997Z"
   },
   {
    "duration": 167,
    "start_time": "2025-03-02T09:22:14.005Z"
   },
   {
    "duration": 12,
    "start_time": "2025-03-02T09:22:14.174Z"
   },
   {
    "duration": 256,
    "start_time": "2025-03-02T09:22:14.188Z"
   },
   {
    "duration": 152,
    "start_time": "2025-03-02T09:22:14.446Z"
   },
   {
    "duration": 12,
    "start_time": "2025-03-02T09:22:14.599Z"
   },
   {
    "duration": 200,
    "start_time": "2025-03-02T09:22:14.613Z"
   },
   {
    "duration": 5,
    "start_time": "2025-03-02T09:22:14.814Z"
   },
   {
    "duration": 5,
    "start_time": "2025-03-02T09:22:14.820Z"
   },
   {
    "duration": 280,
    "start_time": "2025-03-02T09:22:14.827Z"
   },
   {
    "duration": 180,
    "start_time": "2025-03-02T09:22:15.108Z"
   },
   {
    "duration": 10,
    "start_time": "2025-03-02T09:22:15.291Z"
   },
   {
    "duration": 200,
    "start_time": "2025-03-02T09:22:15.303Z"
   },
   {
    "duration": 22,
    "start_time": "2025-03-02T09:22:15.505Z"
   },
   {
    "duration": 323,
    "start_time": "2025-03-02T09:22:15.528Z"
   },
   {
    "duration": 295,
    "start_time": "2025-03-02T09:22:15.853Z"
   },
   {
    "duration": 7,
    "start_time": "2025-03-02T09:22:16.150Z"
   },
   {
    "duration": 2697,
    "start_time": "2025-03-02T09:23:52.845Z"
   },
   {
    "duration": 1336,
    "start_time": "2025-03-02T09:23:55.545Z"
   },
   {
    "duration": 85,
    "start_time": "2025-03-02T09:23:56.883Z"
   },
   {
    "duration": 32,
    "start_time": "2025-03-02T09:23:56.971Z"
   },
   {
    "duration": 13,
    "start_time": "2025-03-02T09:23:57.004Z"
   },
   {
    "duration": 14,
    "start_time": "2025-03-02T09:23:57.018Z"
   },
   {
    "duration": 12,
    "start_time": "2025-03-02T09:23:57.034Z"
   },
   {
    "duration": 33,
    "start_time": "2025-03-02T09:23:57.048Z"
   },
   {
    "duration": 25,
    "start_time": "2025-03-02T09:23:57.083Z"
   },
   {
    "duration": 5,
    "start_time": "2025-03-02T09:23:57.111Z"
   },
   {
    "duration": 16,
    "start_time": "2025-03-02T09:23:57.119Z"
   },
   {
    "duration": 37,
    "start_time": "2025-03-02T09:23:57.138Z"
   },
   {
    "duration": 13,
    "start_time": "2025-03-02T09:23:57.177Z"
   },
   {
    "duration": 8,
    "start_time": "2025-03-02T09:23:57.191Z"
   },
   {
    "duration": 15,
    "start_time": "2025-03-02T09:23:57.200Z"
   },
   {
    "duration": 18,
    "start_time": "2025-03-02T09:23:57.217Z"
   },
   {
    "duration": 46,
    "start_time": "2025-03-02T09:23:57.237Z"
   },
   {
    "duration": 18,
    "start_time": "2025-03-02T09:23:57.285Z"
   },
   {
    "duration": 12,
    "start_time": "2025-03-02T09:23:57.305Z"
   },
   {
    "duration": 12,
    "start_time": "2025-03-02T09:23:57.319Z"
   },
   {
    "duration": 9,
    "start_time": "2025-03-02T09:23:57.333Z"
   },
   {
    "duration": 33,
    "start_time": "2025-03-02T09:23:57.344Z"
   },
   {
    "duration": 29,
    "start_time": "2025-03-02T09:23:57.379Z"
   },
   {
    "duration": 10,
    "start_time": "2025-03-02T09:23:57.410Z"
   },
   {
    "duration": 5,
    "start_time": "2025-03-02T09:23:57.422Z"
   },
   {
    "duration": 20,
    "start_time": "2025-03-02T09:23:57.429Z"
   },
   {
    "duration": 251,
    "start_time": "2025-03-02T09:23:57.450Z"
   },
   {
    "duration": 5,
    "start_time": "2025-03-02T09:23:57.704Z"
   },
   {
    "duration": 9,
    "start_time": "2025-03-02T09:23:57.710Z"
   },
   {
    "duration": 284,
    "start_time": "2025-03-02T09:23:57.720Z"
   },
   {
    "duration": 13,
    "start_time": "2025-03-02T09:23:58.006Z"
   },
   {
    "duration": 215,
    "start_time": "2025-03-02T09:23:58.022Z"
   },
   {
    "duration": 7,
    "start_time": "2025-03-02T09:23:58.239Z"
   },
   {
    "duration": 162,
    "start_time": "2025-03-02T09:23:58.248Z"
   },
   {
    "duration": 12,
    "start_time": "2025-03-02T09:23:58.412Z"
   },
   {
    "duration": 266,
    "start_time": "2025-03-02T09:23:58.425Z"
   },
   {
    "duration": 149,
    "start_time": "2025-03-02T09:23:58.692Z"
   },
   {
    "duration": 13,
    "start_time": "2025-03-02T09:23:58.843Z"
   },
   {
    "duration": 222,
    "start_time": "2025-03-02T09:23:58.871Z"
   },
   {
    "duration": 6,
    "start_time": "2025-03-02T09:23:59.094Z"
   },
   {
    "duration": 7,
    "start_time": "2025-03-02T09:23:59.101Z"
   },
   {
    "duration": 303,
    "start_time": "2025-03-02T09:23:59.111Z"
   },
   {
    "duration": 182,
    "start_time": "2025-03-02T09:23:59.417Z"
   },
   {
    "duration": 11,
    "start_time": "2025-03-02T09:23:59.600Z"
   },
   {
    "duration": 203,
    "start_time": "2025-03-02T09:23:59.614Z"
   },
   {
    "duration": 24,
    "start_time": "2025-03-02T09:23:59.819Z"
   },
   {
    "duration": 320,
    "start_time": "2025-03-02T09:23:59.845Z"
   },
   {
    "duration": 304,
    "start_time": "2025-03-02T09:24:00.171Z"
   },
   {
    "duration": 10,
    "start_time": "2025-03-02T09:24:00.477Z"
   },
   {
    "duration": 2665,
    "start_time": "2025-03-02T09:25:11.328Z"
   },
   {
    "duration": 1275,
    "start_time": "2025-03-02T09:25:13.995Z"
   },
   {
    "duration": 87,
    "start_time": "2025-03-02T09:25:15.272Z"
   },
   {
    "duration": 34,
    "start_time": "2025-03-02T09:25:15.362Z"
   },
   {
    "duration": 12,
    "start_time": "2025-03-02T09:25:15.398Z"
   },
   {
    "duration": 18,
    "start_time": "2025-03-02T09:25:15.412Z"
   },
   {
    "duration": 13,
    "start_time": "2025-03-02T09:25:15.432Z"
   },
   {
    "duration": 32,
    "start_time": "2025-03-02T09:25:15.447Z"
   },
   {
    "duration": 25,
    "start_time": "2025-03-02T09:25:15.481Z"
   },
   {
    "duration": 5,
    "start_time": "2025-03-02T09:25:15.508Z"
   },
   {
    "duration": 22,
    "start_time": "2025-03-02T09:25:15.515Z"
   },
   {
    "duration": 34,
    "start_time": "2025-03-02T09:25:15.539Z"
   },
   {
    "duration": 13,
    "start_time": "2025-03-02T09:25:15.575Z"
   },
   {
    "duration": 8,
    "start_time": "2025-03-02T09:25:15.589Z"
   },
   {
    "duration": 16,
    "start_time": "2025-03-02T09:25:15.599Z"
   },
   {
    "duration": 18,
    "start_time": "2025-03-02T09:25:15.617Z"
   },
   {
    "duration": 47,
    "start_time": "2025-03-02T09:25:15.637Z"
   },
   {
    "duration": 14,
    "start_time": "2025-03-02T09:25:15.686Z"
   },
   {
    "duration": 12,
    "start_time": "2025-03-02T09:25:15.702Z"
   },
   {
    "duration": 10,
    "start_time": "2025-03-02T09:25:15.716Z"
   },
   {
    "duration": 5,
    "start_time": "2025-03-02T09:25:15.728Z"
   },
   {
    "duration": 39,
    "start_time": "2025-03-02T09:25:15.735Z"
   },
   {
    "duration": 16,
    "start_time": "2025-03-02T09:25:15.776Z"
   },
   {
    "duration": 6,
    "start_time": "2025-03-02T09:25:15.794Z"
   },
   {
    "duration": 5,
    "start_time": "2025-03-02T09:25:15.801Z"
   },
   {
    "duration": 8,
    "start_time": "2025-03-02T09:25:15.808Z"
   },
   {
    "duration": 228,
    "start_time": "2025-03-02T09:25:15.817Z"
   },
   {
    "duration": 5,
    "start_time": "2025-03-02T09:25:16.049Z"
   },
   {
    "duration": 17,
    "start_time": "2025-03-02T09:25:16.056Z"
   },
   {
    "duration": 287,
    "start_time": "2025-03-02T09:25:16.074Z"
   },
   {
    "duration": 16,
    "start_time": "2025-03-02T09:25:16.363Z"
   },
   {
    "duration": 207,
    "start_time": "2025-03-02T09:25:16.381Z"
   },
   {
    "duration": 8,
    "start_time": "2025-03-02T09:25:16.589Z"
   },
   {
    "duration": 165,
    "start_time": "2025-03-02T09:25:16.599Z"
   },
   {
    "duration": 18,
    "start_time": "2025-03-02T09:25:16.766Z"
   },
   {
    "duration": 257,
    "start_time": "2025-03-02T09:25:16.785Z"
   },
   {
    "duration": 155,
    "start_time": "2025-03-02T09:25:17.044Z"
   },
   {
    "duration": 13,
    "start_time": "2025-03-02T09:25:17.201Z"
   },
   {
    "duration": 202,
    "start_time": "2025-03-02T09:25:17.216Z"
   },
   {
    "duration": 5,
    "start_time": "2025-03-02T09:25:17.420Z"
   },
   {
    "duration": 22,
    "start_time": "2025-03-02T09:25:17.426Z"
   },
   {
    "duration": 267,
    "start_time": "2025-03-02T09:25:17.450Z"
   },
   {
    "duration": 183,
    "start_time": "2025-03-02T09:25:17.719Z"
   },
   {
    "duration": 11,
    "start_time": "2025-03-02T09:25:17.904Z"
   },
   {
    "duration": 193,
    "start_time": "2025-03-02T09:25:17.917Z"
   },
   {
    "duration": 22,
    "start_time": "2025-03-02T09:25:18.112Z"
   },
   {
    "duration": 310,
    "start_time": "2025-03-02T09:25:18.135Z"
   },
   {
    "duration": 291,
    "start_time": "2025-03-02T09:25:18.447Z"
   },
   {
    "duration": 8,
    "start_time": "2025-03-02T09:25:18.740Z"
   },
   {
    "duration": 254,
    "start_time": "2025-03-02T09:52:47.002Z"
   },
   {
    "duration": 258,
    "start_time": "2025-03-02T09:52:55.932Z"
   },
   {
    "duration": 258,
    "start_time": "2025-03-02T09:53:02.801Z"
   },
   {
    "duration": 266,
    "start_time": "2025-03-02T09:53:09.671Z"
   },
   {
    "duration": 9,
    "start_time": "2025-03-02T09:53:32.185Z"
   },
   {
    "duration": 259,
    "start_time": "2025-03-02T09:53:33.752Z"
   },
   {
    "duration": 279,
    "start_time": "2025-03-02T09:58:21.052Z"
   },
   {
    "duration": 259,
    "start_time": "2025-03-02T09:58:29.762Z"
   },
   {
    "duration": 321,
    "start_time": "2025-03-02T10:05:26.377Z"
   },
   {
    "duration": 132,
    "start_time": "2025-03-02T10:06:05.489Z"
   },
   {
    "duration": 231,
    "start_time": "2025-03-02T10:06:23.940Z"
   },
   {
    "duration": 127,
    "start_time": "2025-03-02T10:06:42.369Z"
   },
   {
    "duration": 227,
    "start_time": "2025-03-02T10:06:47.929Z"
   },
   {
    "duration": 119,
    "start_time": "2025-03-02T10:07:59.722Z"
   },
   {
    "duration": 217,
    "start_time": "2025-03-02T10:27:19.693Z"
   },
   {
    "duration": 454,
    "start_time": "2025-03-02T10:28:13.285Z"
   },
   {
    "duration": 241,
    "start_time": "2025-03-02T10:28:28.956Z"
   },
   {
    "duration": 236,
    "start_time": "2025-03-02T10:28:59.796Z"
   },
   {
    "duration": 333,
    "start_time": "2025-03-02T10:29:34.239Z"
   },
   {
    "duration": 237,
    "start_time": "2025-03-02T10:30:32.880Z"
   },
   {
    "duration": 212,
    "start_time": "2025-03-02T10:31:13.541Z"
   },
   {
    "duration": 237,
    "start_time": "2025-03-02T10:31:35.092Z"
   },
   {
    "duration": 2659,
    "start_time": "2025-03-02T10:59:14.124Z"
   },
   {
    "duration": 1305,
    "start_time": "2025-03-02T10:59:16.786Z"
   },
   {
    "duration": 74,
    "start_time": "2025-03-02T10:59:18.093Z"
   },
   {
    "duration": 33,
    "start_time": "2025-03-02T10:59:18.170Z"
   },
   {
    "duration": 13,
    "start_time": "2025-03-02T10:59:18.205Z"
   },
   {
    "duration": 15,
    "start_time": "2025-03-02T10:59:18.219Z"
   },
   {
    "duration": 12,
    "start_time": "2025-03-02T10:59:18.236Z"
   },
   {
    "duration": 30,
    "start_time": "2025-03-02T10:59:18.250Z"
   },
   {
    "duration": 17,
    "start_time": "2025-03-02T10:59:18.281Z"
   },
   {
    "duration": 5,
    "start_time": "2025-03-02T10:59:18.301Z"
   },
   {
    "duration": 15,
    "start_time": "2025-03-02T10:59:18.307Z"
   },
   {
    "duration": 11,
    "start_time": "2025-03-02T10:59:18.324Z"
   },
   {
    "duration": 13,
    "start_time": "2025-03-02T10:59:18.371Z"
   },
   {
    "duration": 17,
    "start_time": "2025-03-02T10:59:18.386Z"
   },
   {
    "duration": 15,
    "start_time": "2025-03-02T10:59:18.405Z"
   },
   {
    "duration": 19,
    "start_time": "2025-03-02T10:59:18.421Z"
   },
   {
    "duration": 38,
    "start_time": "2025-03-02T10:59:18.441Z"
   },
   {
    "duration": 15,
    "start_time": "2025-03-02T10:59:18.481Z"
   },
   {
    "duration": 12,
    "start_time": "2025-03-02T10:59:18.497Z"
   },
   {
    "duration": 10,
    "start_time": "2025-03-02T10:59:18.510Z"
   },
   {
    "duration": 4,
    "start_time": "2025-03-02T10:59:18.522Z"
   },
   {
    "duration": 6,
    "start_time": "2025-03-02T10:59:18.528Z"
   },
   {
    "duration": 49,
    "start_time": "2025-03-02T10:59:18.536Z"
   },
   {
    "duration": 6,
    "start_time": "2025-03-02T10:59:18.588Z"
   },
   {
    "duration": 5,
    "start_time": "2025-03-02T10:59:18.596Z"
   },
   {
    "duration": 12,
    "start_time": "2025-03-02T10:59:18.603Z"
   },
   {
    "duration": 224,
    "start_time": "2025-03-02T10:59:18.617Z"
   },
   {
    "duration": 6,
    "start_time": "2025-03-02T10:59:18.845Z"
   },
   {
    "duration": 25,
    "start_time": "2025-03-02T10:59:18.852Z"
   },
   {
    "duration": 305,
    "start_time": "2025-03-02T10:59:18.879Z"
   },
   {
    "duration": 12,
    "start_time": "2025-03-02T10:59:19.186Z"
   },
   {
    "duration": 216,
    "start_time": "2025-03-02T10:59:19.200Z"
   },
   {
    "duration": 8,
    "start_time": "2025-03-02T10:59:19.418Z"
   },
   {
    "duration": 166,
    "start_time": "2025-03-02T10:59:19.428Z"
   },
   {
    "duration": 14,
    "start_time": "2025-03-02T10:59:19.597Z"
   },
   {
    "duration": 269,
    "start_time": "2025-03-02T10:59:19.613Z"
   },
   {
    "duration": 157,
    "start_time": "2025-03-02T10:59:19.884Z"
   },
   {
    "duration": 14,
    "start_time": "2025-03-02T10:59:20.043Z"
   },
   {
    "duration": 199,
    "start_time": "2025-03-02T10:59:20.072Z"
   },
   {
    "duration": 6,
    "start_time": "2025-03-02T10:59:20.274Z"
   },
   {
    "duration": 17,
    "start_time": "2025-03-02T10:59:20.282Z"
   },
   {
    "duration": 285,
    "start_time": "2025-03-02T10:59:20.301Z"
   },
   {
    "duration": 191,
    "start_time": "2025-03-02T10:59:20.588Z"
   },
   {
    "duration": 11,
    "start_time": "2025-03-02T10:59:20.781Z"
   },
   {
    "duration": 205,
    "start_time": "2025-03-02T10:59:20.794Z"
   },
   {
    "duration": 23,
    "start_time": "2025-03-02T10:59:21.001Z"
   },
   {
    "duration": 340,
    "start_time": "2025-03-02T10:59:21.026Z"
   },
   {
    "duration": 301,
    "start_time": "2025-03-02T10:59:21.367Z"
   },
   {
    "duration": 9,
    "start_time": "2025-03-02T10:59:21.672Z"
   },
   {
    "duration": 267,
    "start_time": "2025-03-02T10:59:21.682Z"
   },
   {
    "duration": 245,
    "start_time": "2025-03-02T10:59:21.951Z"
   },
   {
    "duration": 244,
    "start_time": "2025-03-02T10:59:22.198Z"
   },
   {
    "duration": 246,
    "start_time": "2025-03-02T10:59:22.444Z"
   },
   {
    "duration": 241,
    "start_time": "2025-03-02T10:59:22.692Z"
   },
   {
    "duration": 2680,
    "start_time": "2025-03-02T11:39:42.983Z"
   },
   {
    "duration": 1340,
    "start_time": "2025-03-02T11:39:45.666Z"
   },
   {
    "duration": 86,
    "start_time": "2025-03-02T11:39:47.007Z"
   },
   {
    "duration": 34,
    "start_time": "2025-03-02T11:39:47.095Z"
   },
   {
    "duration": 13,
    "start_time": "2025-03-02T11:39:47.131Z"
   },
   {
    "duration": 14,
    "start_time": "2025-03-02T11:39:47.145Z"
   },
   {
    "duration": 12,
    "start_time": "2025-03-02T11:39:47.171Z"
   },
   {
    "duration": 16,
    "start_time": "2025-03-02T11:39:47.185Z"
   },
   {
    "duration": 28,
    "start_time": "2025-03-02T11:39:47.203Z"
   },
   {
    "duration": 4,
    "start_time": "2025-03-02T11:39:47.234Z"
   },
   {
    "duration": 33,
    "start_time": "2025-03-02T11:39:47.240Z"
   },
   {
    "duration": 11,
    "start_time": "2025-03-02T11:39:47.274Z"
   },
   {
    "duration": 12,
    "start_time": "2025-03-02T11:39:47.286Z"
   },
   {
    "duration": 7,
    "start_time": "2025-03-02T11:39:47.300Z"
   },
   {
    "duration": 16,
    "start_time": "2025-03-02T11:39:47.309Z"
   },
   {
    "duration": 48,
    "start_time": "2025-03-02T11:39:47.326Z"
   },
   {
    "duration": 15,
    "start_time": "2025-03-02T11:39:47.375Z"
   },
   {
    "duration": 31,
    "start_time": "2025-03-02T11:39:47.392Z"
   },
   {
    "duration": 12,
    "start_time": "2025-03-02T11:39:47.425Z"
   },
   {
    "duration": 11,
    "start_time": "2025-03-02T11:39:47.438Z"
   },
   {
    "duration": 22,
    "start_time": "2025-03-02T11:39:47.450Z"
   },
   {
    "duration": 28,
    "start_time": "2025-03-02T11:39:47.474Z"
   },
   {
    "duration": 21,
    "start_time": "2025-03-02T11:39:47.504Z"
   },
   {
    "duration": 7,
    "start_time": "2025-03-02T11:39:47.526Z"
   },
   {
    "duration": 5,
    "start_time": "2025-03-02T11:39:47.534Z"
   },
   {
    "duration": 16,
    "start_time": "2025-03-02T11:39:47.540Z"
   },
   {
    "duration": 203,
    "start_time": "2025-03-02T11:39:47.558Z"
   },
   {
    "duration": 10,
    "start_time": "2025-03-02T11:39:47.765Z"
   },
   {
    "duration": 9,
    "start_time": "2025-03-02T11:39:47.777Z"
   },
   {
    "duration": 282,
    "start_time": "2025-03-02T11:39:47.788Z"
   },
   {
    "duration": 11,
    "start_time": "2025-03-02T11:39:48.071Z"
   },
   {
    "duration": 216,
    "start_time": "2025-03-02T11:39:48.083Z"
   },
   {
    "duration": 9,
    "start_time": "2025-03-02T11:39:48.302Z"
   },
   {
    "duration": 174,
    "start_time": "2025-03-02T11:39:48.313Z"
   },
   {
    "duration": 13,
    "start_time": "2025-03-02T11:39:48.489Z"
   },
   {
    "duration": 263,
    "start_time": "2025-03-02T11:39:48.505Z"
   },
   {
    "duration": 155,
    "start_time": "2025-03-02T11:39:48.772Z"
   },
   {
    "duration": 14,
    "start_time": "2025-03-02T11:39:48.929Z"
   },
   {
    "duration": 238,
    "start_time": "2025-03-02T11:39:48.944Z"
   },
   {
    "duration": 6,
    "start_time": "2025-03-02T11:39:49.183Z"
   },
   {
    "duration": 5,
    "start_time": "2025-03-02T11:39:49.191Z"
   },
   {
    "duration": 287,
    "start_time": "2025-03-02T11:39:49.198Z"
   },
   {
    "duration": 205,
    "start_time": "2025-03-02T11:39:49.487Z"
   },
   {
    "duration": 11,
    "start_time": "2025-03-02T11:39:49.693Z"
   },
   {
    "duration": 199,
    "start_time": "2025-03-02T11:39:49.705Z"
   },
   {
    "duration": 21,
    "start_time": "2025-03-02T11:39:49.905Z"
   },
   {
    "duration": 308,
    "start_time": "2025-03-02T11:39:49.927Z"
   },
   {
    "duration": 289,
    "start_time": "2025-03-02T11:39:50.237Z"
   },
   {
    "duration": 8,
    "start_time": "2025-03-02T11:39:50.528Z"
   },
   {
    "duration": 282,
    "start_time": "2025-03-02T11:39:50.537Z"
   },
   {
    "duration": 253,
    "start_time": "2025-03-02T11:39:50.820Z"
   },
   {
    "duration": 259,
    "start_time": "2025-03-02T11:39:51.076Z"
   },
   {
    "duration": 240,
    "start_time": "2025-03-02T11:39:51.336Z"
   },
   {
    "duration": 243,
    "start_time": "2025-03-02T11:39:51.578Z"
   },
   {
    "duration": 13,
    "start_time": "2025-03-02T11:46:46.170Z"
   },
   {
    "duration": 284,
    "start_time": "2025-03-02T11:46:46.904Z"
   },
   {
    "duration": 2673,
    "start_time": "2025-03-02T11:47:26.460Z"
   },
   {
    "duration": 1352,
    "start_time": "2025-03-02T11:47:29.135Z"
   },
   {
    "duration": 77,
    "start_time": "2025-03-02T11:47:30.489Z"
   },
   {
    "duration": 35,
    "start_time": "2025-03-02T11:47:30.569Z"
   },
   {
    "duration": 13,
    "start_time": "2025-03-02T11:47:30.605Z"
   },
   {
    "duration": 16,
    "start_time": "2025-03-02T11:47:30.620Z"
   },
   {
    "duration": 16,
    "start_time": "2025-03-02T11:47:30.637Z"
   },
   {
    "duration": 39,
    "start_time": "2025-03-02T11:47:30.655Z"
   },
   {
    "duration": 24,
    "start_time": "2025-03-02T11:47:30.696Z"
   },
   {
    "duration": 4,
    "start_time": "2025-03-02T11:47:30.723Z"
   },
   {
    "duration": 14,
    "start_time": "2025-03-02T11:47:30.729Z"
   },
   {
    "duration": 11,
    "start_time": "2025-03-02T11:47:30.745Z"
   },
   {
    "duration": 28,
    "start_time": "2025-03-02T11:47:30.758Z"
   },
   {
    "duration": 19,
    "start_time": "2025-03-02T11:47:30.788Z"
   },
   {
    "duration": 15,
    "start_time": "2025-03-02T11:47:30.809Z"
   },
   {
    "duration": 18,
    "start_time": "2025-03-02T11:47:30.826Z"
   },
   {
    "duration": 32,
    "start_time": "2025-03-02T11:47:30.846Z"
   },
   {
    "duration": 17,
    "start_time": "2025-03-02T11:47:30.880Z"
   },
   {
    "duration": 13,
    "start_time": "2025-03-02T11:47:30.899Z"
   },
   {
    "duration": 10,
    "start_time": "2025-03-02T11:47:30.913Z"
   },
   {
    "duration": 4,
    "start_time": "2025-03-02T11:47:30.925Z"
   },
   {
    "duration": 19,
    "start_time": "2025-03-02T11:47:30.931Z"
   },
   {
    "duration": 42,
    "start_time": "2025-03-02T11:47:30.952Z"
   },
   {
    "duration": 11,
    "start_time": "2025-03-02T11:47:30.996Z"
   },
   {
    "duration": 6,
    "start_time": "2025-03-02T11:47:31.009Z"
   },
   {
    "duration": 11,
    "start_time": "2025-03-02T11:47:31.017Z"
   },
   {
    "duration": 232,
    "start_time": "2025-03-02T11:47:31.030Z"
   },
   {
    "duration": 6,
    "start_time": "2025-03-02T11:47:31.272Z"
   },
   {
    "duration": 15,
    "start_time": "2025-03-02T11:47:31.280Z"
   },
   {
    "duration": 278,
    "start_time": "2025-03-02T11:47:31.297Z"
   },
   {
    "duration": 11,
    "start_time": "2025-03-02T11:47:31.577Z"
   },
   {
    "duration": 214,
    "start_time": "2025-03-02T11:47:31.590Z"
   },
   {
    "duration": 8,
    "start_time": "2025-03-02T11:47:31.806Z"
   },
   {
    "duration": 168,
    "start_time": "2025-03-02T11:47:31.815Z"
   },
   {
    "duration": 13,
    "start_time": "2025-03-02T11:47:31.984Z"
   },
   {
    "duration": 259,
    "start_time": "2025-03-02T11:47:31.998Z"
   },
   {
    "duration": 157,
    "start_time": "2025-03-02T11:47:32.258Z"
   },
   {
    "duration": 14,
    "start_time": "2025-03-02T11:47:32.416Z"
   },
   {
    "duration": 213,
    "start_time": "2025-03-02T11:47:32.431Z"
   },
   {
    "duration": 5,
    "start_time": "2025-03-02T11:47:32.646Z"
   },
   {
    "duration": 23,
    "start_time": "2025-03-02T11:47:32.653Z"
   },
   {
    "duration": 285,
    "start_time": "2025-03-02T11:47:32.677Z"
   },
   {
    "duration": 188,
    "start_time": "2025-03-02T11:47:32.964Z"
   },
   {
    "duration": 19,
    "start_time": "2025-03-02T11:47:33.154Z"
   },
   {
    "duration": 189,
    "start_time": "2025-03-02T11:47:33.175Z"
   },
   {
    "duration": 30,
    "start_time": "2025-03-02T11:47:33.366Z"
   },
   {
    "duration": 314,
    "start_time": "2025-03-02T11:47:33.397Z"
   },
   {
    "duration": 306,
    "start_time": "2025-03-02T11:47:33.713Z"
   },
   {
    "duration": 8,
    "start_time": "2025-03-02T11:47:34.021Z"
   },
   {
    "duration": 260,
    "start_time": "2025-03-02T11:47:34.031Z"
   },
   {
    "duration": 249,
    "start_time": "2025-03-02T11:47:34.293Z"
   },
   {
    "duration": 243,
    "start_time": "2025-03-02T11:47:34.544Z"
   },
   {
    "duration": 248,
    "start_time": "2025-03-02T11:47:34.790Z"
   },
   {
    "duration": 257,
    "start_time": "2025-03-02T11:47:35.040Z"
   },
   {
    "duration": 13,
    "start_time": "2025-03-02T12:39:03.466Z"
   },
   {
    "duration": 2657,
    "start_time": "2025-03-02T12:39:09.824Z"
   },
   {
    "duration": 1302,
    "start_time": "2025-03-02T12:39:12.484Z"
   },
   {
    "duration": 87,
    "start_time": "2025-03-02T12:39:13.791Z"
   },
   {
    "duration": 35,
    "start_time": "2025-03-02T12:39:13.880Z"
   },
   {
    "duration": 13,
    "start_time": "2025-03-02T12:39:13.916Z"
   },
   {
    "duration": 32,
    "start_time": "2025-03-02T12:39:13.930Z"
   },
   {
    "duration": 31,
    "start_time": "2025-03-02T12:39:13.964Z"
   },
   {
    "duration": 27,
    "start_time": "2025-03-02T12:39:13.997Z"
   },
   {
    "duration": 17,
    "start_time": "2025-03-02T12:39:14.026Z"
   },
   {
    "duration": 4,
    "start_time": "2025-03-02T12:39:14.045Z"
   },
   {
    "duration": 23,
    "start_time": "2025-03-02T12:39:14.051Z"
   },
   {
    "duration": 10,
    "start_time": "2025-03-02T12:39:14.076Z"
   },
   {
    "duration": 13,
    "start_time": "2025-03-02T12:39:14.087Z"
   },
   {
    "duration": 8,
    "start_time": "2025-03-02T12:39:14.102Z"
   },
   {
    "duration": 16,
    "start_time": "2025-03-02T12:39:14.111Z"
   },
   {
    "duration": 51,
    "start_time": "2025-03-02T12:39:14.128Z"
   },
   {
    "duration": 15,
    "start_time": "2025-03-02T12:39:14.180Z"
   },
   {
    "duration": 17,
    "start_time": "2025-03-02T12:39:14.197Z"
   },
   {
    "duration": 11,
    "start_time": "2025-03-02T12:39:14.216Z"
   },
   {
    "duration": 10,
    "start_time": "2025-03-02T12:39:14.229Z"
   },
   {
    "duration": 31,
    "start_time": "2025-03-02T12:39:14.241Z"
   },
   {
    "duration": 9,
    "start_time": "2025-03-02T12:39:14.274Z"
   },
   {
    "duration": 18,
    "start_time": "2025-03-02T12:39:14.284Z"
   },
   {
    "duration": 17,
    "start_time": "2025-03-02T12:39:14.304Z"
   },
   {
    "duration": 32,
    "start_time": "2025-03-02T12:39:14.323Z"
   },
   {
    "duration": 7,
    "start_time": "2025-03-02T12:39:14.357Z"
   },
   {
    "duration": 206,
    "start_time": "2025-03-02T12:39:14.368Z"
   },
   {
    "duration": 6,
    "start_time": "2025-03-02T12:39:14.576Z"
   },
   {
    "duration": 8,
    "start_time": "2025-03-02T12:39:14.584Z"
   },
   {
    "duration": 284,
    "start_time": "2025-03-02T12:39:14.594Z"
   },
   {
    "duration": 12,
    "start_time": "2025-03-02T12:39:14.880Z"
   },
   {
    "duration": 220,
    "start_time": "2025-03-02T12:39:14.894Z"
   },
   {
    "duration": 7,
    "start_time": "2025-03-02T12:39:15.116Z"
   },
   {
    "duration": 164,
    "start_time": "2025-03-02T12:39:15.125Z"
   },
   {
    "duration": 13,
    "start_time": "2025-03-02T12:39:15.291Z"
   },
   {
    "duration": 266,
    "start_time": "2025-03-02T12:39:15.306Z"
   },
   {
    "duration": 162,
    "start_time": "2025-03-02T12:39:15.573Z"
   },
   {
    "duration": 13,
    "start_time": "2025-03-02T12:39:15.737Z"
   },
   {
    "duration": 198,
    "start_time": "2025-03-02T12:39:15.751Z"
   },
   {
    "duration": 5,
    "start_time": "2025-03-02T12:39:15.950Z"
   },
   {
    "duration": 16,
    "start_time": "2025-03-02T12:39:15.957Z"
   },
   {
    "duration": 281,
    "start_time": "2025-03-02T12:39:15.974Z"
   },
   {
    "duration": 182,
    "start_time": "2025-03-02T12:39:16.257Z"
   },
   {
    "duration": 11,
    "start_time": "2025-03-02T12:39:16.441Z"
   },
   {
    "duration": 195,
    "start_time": "2025-03-02T12:39:16.454Z"
   },
   {
    "duration": 30,
    "start_time": "2025-03-02T12:39:16.651Z"
   },
   {
    "duration": 310,
    "start_time": "2025-03-02T12:39:16.683Z"
   },
   {
    "duration": 293,
    "start_time": "2025-03-02T12:39:16.995Z"
   },
   {
    "duration": 9,
    "start_time": "2025-03-02T12:39:17.289Z"
   },
   {
    "duration": 264,
    "start_time": "2025-03-02T12:39:17.300Z"
   },
   {
    "duration": 252,
    "start_time": "2025-03-02T12:39:17.571Z"
   },
   {
    "duration": 248,
    "start_time": "2025-03-02T12:39:17.825Z"
   },
   {
    "duration": 249,
    "start_time": "2025-03-02T12:39:18.075Z"
   },
   {
    "duration": 250,
    "start_time": "2025-03-02T12:39:18.326Z"
   },
   {
    "duration": 112,
    "start_time": "2025-03-02T12:42:11.824Z"
   },
   {
    "duration": 115,
    "start_time": "2025-03-02T12:42:18.014Z"
   },
   {
    "duration": 18,
    "start_time": "2025-03-02T12:42:22.582Z"
   },
   {
    "duration": 710,
    "start_time": "2025-03-02T12:43:42.734Z"
   },
   {
    "duration": 294,
    "start_time": "2025-03-02T12:45:07.552Z"
   },
   {
    "duration": 181,
    "start_time": "2025-03-02T12:45:26.734Z"
   },
   {
    "duration": 75,
    "start_time": "2025-03-02T12:47:07.396Z"
   },
   {
    "duration": 798,
    "start_time": "2025-03-02T12:47:12.825Z"
   },
   {
    "duration": 16,
    "start_time": "2025-03-02T12:47:43.810Z"
   },
   {
    "duration": 10,
    "start_time": "2025-03-02T12:47:53.807Z"
   },
   {
    "duration": 10,
    "start_time": "2025-03-02T12:48:23.480Z"
   },
   {
    "duration": 11,
    "start_time": "2025-03-02T12:48:30.058Z"
   },
   {
    "duration": 15,
    "start_time": "2025-03-02T12:49:01.088Z"
   },
   {
    "duration": 908,
    "start_time": "2025-03-02T12:56:49.518Z"
   },
   {
    "duration": 956,
    "start_time": "2025-03-02T12:56:58.198Z"
   },
   {
    "duration": 877,
    "start_time": "2025-03-02T12:57:03.759Z"
   },
   {
    "duration": 12,
    "start_time": "2025-03-02T12:58:17.402Z"
   },
   {
    "duration": 16,
    "start_time": "2025-03-02T12:58:21.821Z"
   },
   {
    "duration": 16,
    "start_time": "2025-03-02T12:58:52.274Z"
   },
   {
    "duration": 10,
    "start_time": "2025-03-02T12:59:17.774Z"
   },
   {
    "duration": 16,
    "start_time": "2025-03-02T12:59:22.661Z"
   },
   {
    "duration": 10,
    "start_time": "2025-03-02T13:00:10.056Z"
   },
   {
    "duration": 9,
    "start_time": "2025-03-02T13:00:19.101Z"
   },
   {
    "duration": 15,
    "start_time": "2025-03-02T13:00:29.297Z"
   },
   {
    "duration": 13,
    "start_time": "2025-03-02T13:01:56.609Z"
   },
   {
    "duration": 6,
    "start_time": "2025-03-02T13:03:32.545Z"
   },
   {
    "duration": 5,
    "start_time": "2025-03-02T13:03:36.441Z"
   },
   {
    "duration": 16,
    "start_time": "2025-03-02T13:03:36.937Z"
   },
   {
    "duration": 5,
    "start_time": "2025-03-02T13:03:40.345Z"
   },
   {
    "duration": 2654,
    "start_time": "2025-03-02T13:11:15.698Z"
   },
   {
    "duration": 1371,
    "start_time": "2025-03-02T13:11:18.355Z"
   },
   {
    "duration": 86,
    "start_time": "2025-03-02T13:11:19.727Z"
   },
   {
    "duration": 34,
    "start_time": "2025-03-02T13:11:19.815Z"
   },
   {
    "duration": 13,
    "start_time": "2025-03-02T13:11:19.850Z"
   },
   {
    "duration": 60,
    "start_time": "2025-03-02T13:11:19.865Z"
   },
   {
    "duration": 12,
    "start_time": "2025-03-02T13:11:19.927Z"
   },
   {
    "duration": 16,
    "start_time": "2025-03-02T13:11:19.941Z"
   },
   {
    "duration": 19,
    "start_time": "2025-03-02T13:11:19.959Z"
   },
   {
    "duration": 11,
    "start_time": "2025-03-02T13:11:19.982Z"
   },
   {
    "duration": 19,
    "start_time": "2025-03-02T13:11:19.995Z"
   },
   {
    "duration": 11,
    "start_time": "2025-03-02T13:11:20.017Z"
   },
   {
    "duration": 18,
    "start_time": "2025-03-02T13:11:20.030Z"
   },
   {
    "duration": 27,
    "start_time": "2025-03-02T13:11:20.050Z"
   },
   {
    "duration": 22,
    "start_time": "2025-03-02T13:11:20.079Z"
   },
   {
    "duration": 20,
    "start_time": "2025-03-02T13:11:20.103Z"
   },
   {
    "duration": 16,
    "start_time": "2025-03-02T13:11:20.125Z"
   },
   {
    "duration": 34,
    "start_time": "2025-03-02T13:11:20.143Z"
   },
   {
    "duration": 14,
    "start_time": "2025-03-02T13:11:20.179Z"
   },
   {
    "duration": 12,
    "start_time": "2025-03-02T13:11:20.194Z"
   },
   {
    "duration": 15,
    "start_time": "2025-03-02T13:11:20.208Z"
   },
   {
    "duration": 6,
    "start_time": "2025-03-02T13:11:20.225Z"
   },
   {
    "duration": 6,
    "start_time": "2025-03-02T13:11:20.272Z"
   },
   {
    "duration": 25,
    "start_time": "2025-03-02T13:11:20.279Z"
   },
   {
    "duration": 6,
    "start_time": "2025-03-02T13:11:20.306Z"
   },
   {
    "duration": 8,
    "start_time": "2025-03-02T13:11:20.314Z"
   },
   {
    "duration": 9,
    "start_time": "2025-03-02T13:11:20.324Z"
   },
   {
    "duration": 222,
    "start_time": "2025-03-02T13:11:20.337Z"
   },
   {
    "duration": 13,
    "start_time": "2025-03-02T13:11:20.561Z"
   },
   {
    "duration": 8,
    "start_time": "2025-03-02T13:11:20.576Z"
   },
   {
    "duration": 274,
    "start_time": "2025-03-02T13:11:20.586Z"
   },
   {
    "duration": 15,
    "start_time": "2025-03-02T13:11:20.862Z"
   },
   {
    "duration": 221,
    "start_time": "2025-03-02T13:11:20.879Z"
   },
   {
    "duration": 7,
    "start_time": "2025-03-02T13:11:21.102Z"
   },
   {
    "duration": 184,
    "start_time": "2025-03-02T13:11:21.110Z"
   },
   {
    "duration": 13,
    "start_time": "2025-03-02T13:11:21.296Z"
   },
   {
    "duration": 255,
    "start_time": "2025-03-02T13:11:21.311Z"
   },
   {
    "duration": 154,
    "start_time": "2025-03-02T13:11:21.572Z"
   },
   {
    "duration": 13,
    "start_time": "2025-03-02T13:11:21.728Z"
   },
   {
    "duration": 199,
    "start_time": "2025-03-02T13:11:21.743Z"
   },
   {
    "duration": 5,
    "start_time": "2025-03-02T13:11:21.944Z"
   },
   {
    "duration": 22,
    "start_time": "2025-03-02T13:11:21.951Z"
   },
   {
    "duration": 257,
    "start_time": "2025-03-02T13:11:21.975Z"
   },
   {
    "duration": 170,
    "start_time": "2025-03-02T13:11:22.234Z"
   },
   {
    "duration": 11,
    "start_time": "2025-03-02T13:11:22.405Z"
   },
   {
    "duration": 187,
    "start_time": "2025-03-02T13:11:22.417Z"
   },
   {
    "duration": 21,
    "start_time": "2025-03-02T13:11:22.606Z"
   },
   {
    "duration": 303,
    "start_time": "2025-03-02T13:11:22.629Z"
   },
   {
    "duration": 295,
    "start_time": "2025-03-02T13:11:22.934Z"
   },
   {
    "duration": 8,
    "start_time": "2025-03-02T13:11:23.231Z"
   },
   {
    "duration": 289,
    "start_time": "2025-03-02T13:11:23.241Z"
   },
   {
    "duration": 249,
    "start_time": "2025-03-02T13:11:23.531Z"
   },
   {
    "duration": 250,
    "start_time": "2025-03-02T13:11:23.782Z"
   },
   {
    "duration": 243,
    "start_time": "2025-03-02T13:11:24.035Z"
   },
   {
    "duration": 262,
    "start_time": "2025-03-02T13:11:24.279Z"
   },
   {
    "duration": 50,
    "start_time": "2025-03-02T19:46:06.078Z"
   },
   {
    "duration": 3261,
    "start_time": "2025-03-02T19:46:15.562Z"
   },
   {
    "duration": 1354,
    "start_time": "2025-03-02T19:46:18.826Z"
   },
   {
    "duration": 70,
    "start_time": "2025-03-02T19:46:20.182Z"
   },
   {
    "duration": 31,
    "start_time": "2025-03-02T19:46:20.254Z"
   },
   {
    "duration": 12,
    "start_time": "2025-03-02T19:46:20.286Z"
   },
   {
    "duration": 25,
    "start_time": "2025-03-02T19:46:20.299Z"
   },
   {
    "duration": 11,
    "start_time": "2025-03-02T19:46:20.326Z"
   },
   {
    "duration": 14,
    "start_time": "2025-03-02T19:46:20.338Z"
   },
   {
    "duration": 13,
    "start_time": "2025-03-02T19:46:20.354Z"
   },
   {
    "duration": 4,
    "start_time": "2025-03-02T19:46:20.369Z"
   },
   {
    "duration": 38,
    "start_time": "2025-03-02T19:46:20.375Z"
   },
   {
    "duration": 10,
    "start_time": "2025-03-02T19:46:20.415Z"
   },
   {
    "duration": 12,
    "start_time": "2025-03-02T19:46:20.426Z"
   },
   {
    "duration": 7,
    "start_time": "2025-03-02T19:46:20.439Z"
   },
   {
    "duration": 13,
    "start_time": "2025-03-02T19:46:20.448Z"
   },
   {
    "duration": 15,
    "start_time": "2025-03-02T19:46:20.463Z"
   },
   {
    "duration": 14,
    "start_time": "2025-03-02T19:46:20.514Z"
   },
   {
    "duration": 11,
    "start_time": "2025-03-02T19:46:20.530Z"
   },
   {
    "duration": 10,
    "start_time": "2025-03-02T19:46:20.543Z"
   },
   {
    "duration": 9,
    "start_time": "2025-03-02T19:46:20.554Z"
   },
   {
    "duration": 11,
    "start_time": "2025-03-02T19:46:20.564Z"
   },
   {
    "duration": 40,
    "start_time": "2025-03-02T19:46:20.576Z"
   },
   {
    "duration": 16,
    "start_time": "2025-03-02T19:46:20.618Z"
   },
   {
    "duration": 17,
    "start_time": "2025-03-02T19:46:20.636Z"
   },
   {
    "duration": 5,
    "start_time": "2025-03-02T19:46:20.654Z"
   },
   {
    "duration": 7,
    "start_time": "2025-03-02T19:46:20.660Z"
   },
   {
    "duration": 5,
    "start_time": "2025-03-02T19:46:20.669Z"
   },
   {
    "duration": 188,
    "start_time": "2025-03-02T19:46:20.677Z"
   },
   {
    "duration": 5,
    "start_time": "2025-03-02T19:46:20.867Z"
   },
   {
    "duration": 24,
    "start_time": "2025-03-02T19:46:20.873Z"
   },
   {
    "duration": 231,
    "start_time": "2025-03-02T19:46:20.899Z"
   },
   {
    "duration": 9,
    "start_time": "2025-03-02T19:46:21.132Z"
   },
   {
    "duration": 203,
    "start_time": "2025-03-02T19:46:21.142Z"
   },
   {
    "duration": 7,
    "start_time": "2025-03-02T19:46:21.347Z"
   },
   {
    "duration": 142,
    "start_time": "2025-03-02T19:46:21.355Z"
   },
   {
    "duration": 20,
    "start_time": "2025-03-02T19:46:21.498Z"
   },
   {
    "duration": 219,
    "start_time": "2025-03-02T19:46:21.520Z"
   },
   {
    "duration": 136,
    "start_time": "2025-03-02T19:46:21.741Z"
   },
   {
    "duration": 11,
    "start_time": "2025-03-02T19:46:21.879Z"
   },
   {
    "duration": 188,
    "start_time": "2025-03-02T19:46:21.891Z"
   },
   {
    "duration": 4,
    "start_time": "2025-03-02T19:46:22.081Z"
   },
   {
    "duration": 5,
    "start_time": "2025-03-02T19:46:22.086Z"
   },
   {
    "duration": 257,
    "start_time": "2025-03-02T19:46:22.093Z"
   },
   {
    "duration": 168,
    "start_time": "2025-03-02T19:46:22.351Z"
   },
   {
    "duration": 10,
    "start_time": "2025-03-02T19:46:22.521Z"
   },
   {
    "duration": 184,
    "start_time": "2025-03-02T19:46:22.532Z"
   },
   {
    "duration": 19,
    "start_time": "2025-03-02T19:46:22.718Z"
   },
   {
    "duration": 286,
    "start_time": "2025-03-02T19:46:22.740Z"
   },
   {
    "duration": 302,
    "start_time": "2025-03-02T19:46:23.028Z"
   },
   {
    "duration": 7,
    "start_time": "2025-03-02T19:46:23.332Z"
   },
   {
    "duration": 245,
    "start_time": "2025-03-02T19:46:23.341Z"
   },
   {
    "duration": 224,
    "start_time": "2025-03-02T19:46:23.587Z"
   },
   {
    "duration": 223,
    "start_time": "2025-03-02T19:46:23.813Z"
   },
   {
    "duration": 221,
    "start_time": "2025-03-02T19:46:24.037Z"
   },
   {
    "duration": 226,
    "start_time": "2025-03-02T19:46:24.260Z"
   },
   {
    "duration": 115,
    "start_time": "2025-03-02T19:47:06.159Z"
   },
   {
    "duration": 221,
    "start_time": "2025-03-02T19:47:17.919Z"
   },
   {
    "duration": 12,
    "start_time": "2025-03-02T19:48:47.743Z"
   },
   {
    "duration": 19,
    "start_time": "2025-03-02T19:48:56.484Z"
   },
   {
    "duration": 224,
    "start_time": "2025-03-02T19:51:01.754Z"
   },
   {
    "duration": 12,
    "start_time": "2025-03-02T19:52:18.855Z"
   },
   {
    "duration": 206,
    "start_time": "2025-03-02T19:52:41.557Z"
   },
   {
    "duration": 64,
    "start_time": "2025-03-03T14:51:43.222Z"
   },
   {
    "duration": 4235,
    "start_time": "2025-03-03T14:51:48.637Z"
   },
   {
    "duration": 1709,
    "start_time": "2025-03-03T14:51:52.875Z"
   },
   {
    "duration": 92,
    "start_time": "2025-03-03T14:51:54.586Z"
   },
   {
    "duration": 41,
    "start_time": "2025-03-03T14:51:54.681Z"
   },
   {
    "duration": 30,
    "start_time": "2025-03-03T14:51:54.724Z"
   },
   {
    "duration": 118,
    "start_time": "2025-03-03T14:51:54.756Z"
   },
   {
    "duration": 138,
    "start_time": "2025-03-03T14:51:54.877Z"
   },
   {
    "duration": 45,
    "start_time": "2025-03-03T14:51:55.020Z"
   },
   {
    "duration": 136,
    "start_time": "2025-03-03T14:51:55.066Z"
   },
   {
    "duration": 72,
    "start_time": "2025-03-03T14:51:55.206Z"
   },
   {
    "duration": 62,
    "start_time": "2025-03-03T14:51:55.280Z"
   },
   {
    "duration": 12,
    "start_time": "2025-03-03T14:51:55.344Z"
   },
   {
    "duration": 69,
    "start_time": "2025-03-03T14:51:55.358Z"
   },
   {
    "duration": 32,
    "start_time": "2025-03-03T14:51:55.429Z"
   },
   {
    "duration": 75,
    "start_time": "2025-03-03T14:51:55.463Z"
   },
   {
    "duration": 31,
    "start_time": "2025-03-03T14:51:55.541Z"
   },
   {
    "duration": 19,
    "start_time": "2025-03-03T14:51:55.574Z"
   },
   {
    "duration": 41,
    "start_time": "2025-03-03T14:51:55.595Z"
   },
   {
    "duration": 13,
    "start_time": "2025-03-03T14:51:55.641Z"
   },
   {
    "duration": 27,
    "start_time": "2025-03-03T14:51:55.656Z"
   },
   {
    "duration": 46,
    "start_time": "2025-03-03T14:51:55.686Z"
   },
   {
    "duration": 46,
    "start_time": "2025-03-03T14:51:55.734Z"
   },
   {
    "duration": 55,
    "start_time": "2025-03-03T14:51:55.782Z"
   },
   {
    "duration": 107,
    "start_time": "2025-03-03T14:51:55.839Z"
   },
   {
    "duration": 138,
    "start_time": "2025-03-03T14:51:55.948Z"
   },
   {
    "duration": 58,
    "start_time": "2025-03-03T14:51:56.089Z"
   },
   {
    "duration": 67,
    "start_time": "2025-03-03T14:51:56.149Z"
   },
   {
    "duration": 265,
    "start_time": "2025-03-03T14:51:56.222Z"
   },
   {
    "duration": 5,
    "start_time": "2025-03-03T14:51:56.489Z"
   },
   {
    "duration": 72,
    "start_time": "2025-03-03T14:51:56.507Z"
   },
   {
    "duration": 364,
    "start_time": "2025-03-03T14:51:56.582Z"
   },
   {
    "duration": 10,
    "start_time": "2025-03-03T14:51:56.948Z"
   },
   {
    "duration": 269,
    "start_time": "2025-03-03T14:51:56.960Z"
   },
   {
    "duration": 12,
    "start_time": "2025-03-03T14:51:57.231Z"
   },
   {
    "duration": 225,
    "start_time": "2025-03-03T14:51:57.245Z"
   },
   {
    "duration": 1173,
    "start_time": "2025-03-03T14:51:57.472Z"
   },
   {
    "duration": 0,
    "start_time": "2025-03-03T14:51:58.647Z"
   },
   {
    "duration": 0,
    "start_time": "2025-03-03T14:51:58.649Z"
   },
   {
    "duration": 0,
    "start_time": "2025-03-03T14:51:58.650Z"
   },
   {
    "duration": 0,
    "start_time": "2025-03-03T14:51:58.651Z"
   },
   {
    "duration": 0,
    "start_time": "2025-03-03T14:51:58.652Z"
   },
   {
    "duration": 0,
    "start_time": "2025-03-03T14:51:58.653Z"
   },
   {
    "duration": 0,
    "start_time": "2025-03-03T14:51:58.655Z"
   },
   {
    "duration": 0,
    "start_time": "2025-03-03T14:51:58.656Z"
   },
   {
    "duration": 0,
    "start_time": "2025-03-03T14:51:58.658Z"
   },
   {
    "duration": 0,
    "start_time": "2025-03-03T14:51:58.660Z"
   },
   {
    "duration": 0,
    "start_time": "2025-03-03T14:51:58.661Z"
   },
   {
    "duration": 0,
    "start_time": "2025-03-03T14:51:58.662Z"
   },
   {
    "duration": 0,
    "start_time": "2025-03-03T14:51:58.663Z"
   },
   {
    "duration": 0,
    "start_time": "2025-03-03T14:51:58.664Z"
   },
   {
    "duration": 0,
    "start_time": "2025-03-03T14:51:58.665Z"
   },
   {
    "duration": 0,
    "start_time": "2025-03-03T14:51:58.667Z"
   },
   {
    "duration": 0,
    "start_time": "2025-03-03T14:51:58.669Z"
   },
   {
    "duration": 0,
    "start_time": "2025-03-03T14:51:58.671Z"
   },
   {
    "duration": 0,
    "start_time": "2025-03-03T14:51:58.672Z"
   },
   {
    "duration": 21,
    "start_time": "2025-03-03T14:52:26.612Z"
   },
   {
    "duration": 21,
    "start_time": "2025-03-03T14:52:46.163Z"
   },
   {
    "duration": 18,
    "start_time": "2025-03-03T14:53:08.553Z"
   },
   {
    "duration": 17,
    "start_time": "2025-03-03T14:53:53.255Z"
   },
   {
    "duration": 34,
    "start_time": "2025-03-03T14:54:29.197Z"
   },
   {
    "duration": 2018,
    "start_time": "2025-03-03T15:04:01.626Z"
   },
   {
    "duration": 1847,
    "start_time": "2025-03-03T15:04:13.300Z"
   },
   {
    "duration": 158,
    "start_time": "2025-03-03T15:04:32.813Z"
   },
   {
    "duration": 13,
    "start_time": "2025-03-03T15:04:44.233Z"
   },
   {
    "duration": 1027,
    "start_time": "2025-03-03T15:11:35.661Z"
   },
   {
    "duration": 1127,
    "start_time": "2025-03-03T15:13:12.969Z"
   },
   {
    "duration": 1459,
    "start_time": "2025-03-03T15:13:25.001Z"
   },
   {
    "duration": 18,
    "start_time": "2025-03-03T15:13:46.835Z"
   },
   {
    "duration": 26,
    "start_time": "2025-03-03T15:14:12.626Z"
   },
   {
    "duration": 338,
    "start_time": "2025-03-03T15:17:10.645Z"
   },
   {
    "duration": 334,
    "start_time": "2025-03-03T15:18:03.694Z"
   },
   {
    "duration": 1610,
    "start_time": "2025-03-04T14:45:24.273Z"
   },
   {
    "duration": 0,
    "start_time": "2025-03-04T14:45:25.885Z"
   },
   {
    "duration": 0,
    "start_time": "2025-03-04T14:45:25.887Z"
   },
   {
    "duration": 4903,
    "start_time": "2025-03-04T14:45:30.550Z"
   },
   {
    "duration": 309,
    "start_time": "2025-03-04T14:45:35.457Z"
   },
   {
    "duration": 110,
    "start_time": "2025-03-04T14:45:36.770Z"
   },
   {
    "duration": 33,
    "start_time": "2025-03-04T14:45:37.062Z"
   },
   {
    "duration": 14,
    "start_time": "2025-03-04T14:45:38.731Z"
   },
   {
    "duration": 14,
    "start_time": "2025-03-04T14:45:38.964Z"
   },
   {
    "duration": 26,
    "start_time": "2025-03-04T14:45:40.020Z"
   },
   {
    "duration": 17,
    "start_time": "2025-03-04T14:45:40.184Z"
   },
   {
    "duration": 21,
    "start_time": "2025-03-04T14:45:40.332Z"
   },
   {
    "duration": 5,
    "start_time": "2025-03-04T14:45:41.082Z"
   },
   {
    "duration": 15,
    "start_time": "2025-03-04T14:45:41.250Z"
   },
   {
    "duration": 10,
    "start_time": "2025-03-04T14:45:41.777Z"
   },
   {
    "duration": 15,
    "start_time": "2025-03-04T14:45:41.939Z"
   },
   {
    "duration": 7,
    "start_time": "2025-03-04T14:45:42.475Z"
   },
   {
    "duration": 15,
    "start_time": "2025-03-04T14:45:42.654Z"
   },
   {
    "duration": 19,
    "start_time": "2025-03-04T14:45:43.190Z"
   },
   {
    "duration": 13,
    "start_time": "2025-03-04T14:45:43.365Z"
   },
   {
    "duration": 14,
    "start_time": "2025-03-04T14:45:43.529Z"
   },
   {
    "duration": 11,
    "start_time": "2025-03-04T14:45:43.675Z"
   },
   {
    "duration": 11,
    "start_time": "2025-03-04T14:45:43.847Z"
   },
   {
    "duration": 12,
    "start_time": "2025-03-04T14:45:44.382Z"
   },
   {
    "duration": 5,
    "start_time": "2025-03-04T14:45:44.577Z"
   },
   {
    "duration": 8,
    "start_time": "2025-03-04T14:45:45.326Z"
   },
   {
    "duration": 26,
    "start_time": "2025-03-04T14:45:45.502Z"
   },
   {
    "duration": 6,
    "start_time": "2025-03-04T14:45:45.840Z"
   },
   {
    "duration": 8,
    "start_time": "2025-03-04T14:45:47.040Z"
   },
   {
    "duration": 13,
    "start_time": "2025-03-04T14:45:47.222Z"
   },
   {
    "duration": 241,
    "start_time": "2025-03-04T14:45:47.272Z"
   },
   {
    "duration": 9,
    "start_time": "2025-03-04T14:45:48.016Z"
   },
   {
    "duration": 7,
    "start_time": "2025-03-04T14:45:48.076Z"
   },
   {
    "duration": 270,
    "start_time": "2025-03-04T14:45:48.223Z"
   },
   {
    "duration": 16,
    "start_time": "2025-03-04T14:45:48.610Z"
   },
   {
    "duration": 198,
    "start_time": "2025-03-04T14:45:48.792Z"
   },
   {
    "duration": 12,
    "start_time": "2025-03-04T14:45:49.454Z"
   },
   {
    "duration": 162,
    "start_time": "2025-03-04T14:45:49.604Z"
   },
   {
    "duration": 18,
    "start_time": "2025-03-04T14:45:49.990Z"
   },
   {
    "duration": 246,
    "start_time": "2025-03-04T14:45:50.041Z"
   },
   {
    "duration": 146,
    "start_time": "2025-03-04T14:45:50.559Z"
   },
   {
    "duration": 12,
    "start_time": "2025-03-04T14:45:50.768Z"
   },
   {
    "duration": 217,
    "start_time": "2025-03-04T14:45:50.803Z"
   },
   {
    "duration": 4,
    "start_time": "2025-03-04T14:45:51.495Z"
   },
   {
    "duration": 9,
    "start_time": "2025-03-04T14:45:51.647Z"
   },
   {
    "duration": 301,
    "start_time": "2025-03-04T14:45:51.725Z"
   },
   {
    "duration": 169,
    "start_time": "2025-03-04T14:45:52.259Z"
   },
   {
    "duration": 10,
    "start_time": "2025-03-04T14:45:52.465Z"
   },
   {
    "duration": 199,
    "start_time": "2025-03-04T14:45:53.112Z"
   },
   {
    "duration": 22,
    "start_time": "2025-03-04T14:45:53.802Z"
   },
   {
    "duration": 302,
    "start_time": "2025-03-04T14:45:53.932Z"
   },
   {
    "duration": 337,
    "start_time": "2025-03-04T14:45:54.237Z"
   },
   {
    "duration": 14,
    "start_time": "2025-03-04T14:45:54.932Z"
   },
   {
    "duration": 247,
    "start_time": "2025-03-04T14:45:55.144Z"
   },
   {
    "duration": 236,
    "start_time": "2025-03-04T14:45:55.731Z"
   },
   {
    "duration": 274,
    "start_time": "2025-03-04T14:45:55.969Z"
   },
   {
    "duration": 282,
    "start_time": "2025-03-04T14:45:56.245Z"
   },
   {
    "duration": 273,
    "start_time": "2025-03-04T14:45:56.529Z"
   }
  ],
  "colab": {
   "provenance": []
  },
  "kernelspec": {
   "display_name": "Python 3 (ipykernel)",
   "language": "python",
   "name": "python3"
  },
  "language_info": {
   "codemirror_mode": {
    "name": "ipython",
    "version": 3
   },
   "file_extension": ".py",
   "mimetype": "text/x-python",
   "name": "python",
   "nbconvert_exporter": "python",
   "pygments_lexer": "ipython3",
   "version": "3.9.7"
  },
  "toc": {
   "base_numbering": 1,
   "nav_menu": {},
   "number_sections": true,
   "sideBar": true,
   "skip_h1_title": true,
   "title_cell": "Table of Contents",
   "title_sidebar": "Contents",
   "toc_cell": false,
   "toc_position": {},
   "toc_section_display": true,
   "toc_window_display": false
  }
 },
 "nbformat": 4,
 "nbformat_minor": 5
}

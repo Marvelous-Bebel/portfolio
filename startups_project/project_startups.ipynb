{
 "cells": [
  {
   "cell_type": "markdown",
   "metadata": {
    "id": "4mJbK1knrJgz"
   },
   "source": [
    "# Проект: Исследование стартапов"
   ]
  },
  {
   "cell_type": "markdown",
   "metadata": {},
   "source": [
    "Автор - Андрей Подшивалов"
   ]
  },
  {
   "cell_type": "markdown",
   "metadata": {
    "id": "P6j0r3worJg0"
   },
   "source": [
    "## Введение\n",
    "Для успешной реализации стратегии компании заказчика по входу на инвестиционный рынок необходимо провести глубокий анализ предоставленных заказчиком данных. Исследование направлено на выявление ключевых закономерностей и показателей, которые помогут компании принимать обоснованные инвестиционные решения."
   ]
  },
  {
   "cell_type": "markdown",
   "metadata": {
    "id": "8lQtbsIUyFG6"
   },
   "source": [
    "#### Цель проекта:\n",
    "Провести всесторонний анализ предоставленных заказчиком данных для выявления закономерностей, оценки качества информации и формирования рекомендаций, которые помогут компании принимать взвешенные инвестиционные решения.\n",
    "\n",
    "#### Задачи проекта:\n",
    "1. **Подготовка данных**:\n",
    "   - Сбор и загрузка всех предоставленных датасетов.\n",
    "   - Проверка названий столбцов и их приведение к единому формату.\n",
    "   - Анализ типов данных, обработка пропусков и оценка полноты информации.\n",
    "\n",
    "2. **Предварительная обработка и исследование данных**:\n",
    "   - Анализ динамики раундов финансирования по годам.\n",
    "   - Оценка полноты сведений о сотрудниках стартапов в зависимости от размера компаний.\n",
    "   - Проверка возможности объединения данных по ключевым столбцам.\n",
    "\n",
    "3. **Работа с проблемными данными**:\n",
    "   - Приведение структуры проблемных датасетов к удобному для анализа виду.\n",
    "   - Исследование причин возникновения пропусков и их влияние на результаты анализа.\n",
    "\n",
    "4. **Исследовательский анализ объединённых таблиц**:\n",
    "   - Объединение данных для анализа компаний с характеристиками, интересующими заказчика.\n",
    "   - Выявление типичных значений финансирования и анализ выбросов.\n",
    "   - Исследование компаний, проданных за ноль или один доллар, с учётом их финансирования.\n",
    "   - Определение категорий стартапов с высокими ценами покупки и значительным разбросом цен.\n",
    "   - Анализ количества раундов финансирования перед покупкой стартапа.\n",
    "\n",
    "5. **Итоговый вывод и рекомендации**:\n",
    "   - Подведение итогов проведённого анализа.\n",
    "   - Формулирование выводов и рекомендаций для компании на основе полученных результатов.\n"
   ]
  },
  {
   "cell_type": "markdown",
   "metadata": {
    "id": "xqr6uttCrJg0"
   },
   "source": [
    "\n",
    "## Шаг 1. Знакомство с данными: загрузка и первичная предобработка\n",
    "\n",
    "Названия файлов:\n",
    "* acquisition.csv\n",
    "* company_and_rounds.csv\n",
    "* people.csv\n",
    "* education.csv\n",
    "* degrees.csv\n",
    "\n",
    "Опциональные датасеты:\n",
    "* fund.csv\n",
    "* investment.csv\n",
    "\n",
    "### 1.1. Вывод общей информации, исправление названия столбцов\n",
    "\n",
    "- Загрузим все данные по проекту.\n",
    "- Проверим названия столбцов.\n",
    "- Выведем информацию, которая необходима нам для принятия решений о предобработке, для каждого из датасетов."
   ]
  },
  {
   "cell_type": "code",
   "execution_count": 1,
   "metadata": {
    "colab": {
     "base_uri": "https://localhost:8080/"
    },
    "id": "W_W4jRazrJg0",
    "outputId": "d2409aad-233f-4bb4-ec71-7da96594f9df",
    "trusted": false
   },
   "outputs": [],
   "source": [
    "import pandas as pd\n",
    "import matplotlib.pyplot as plt\n",
    "import seaborn as sns\n",
    "from phik import phik_matrix"
   ]
  },
  {
   "cell_type": "code",
   "execution_count": 2,
   "metadata": {
    "id": "2Tm4Pk__Felf",
    "trusted": false
   },
   "outputs": [],
   "source": [
    "acq_df = pd.read_csv('https://code.s3.yandex.net/datasets/acquisition.csv')\n",
    "comp_rounds_df = pd.read_csv('https://code.s3.yandex.net/datasets/company_and_rounds.csv')\n",
    "people_df = pd.read_csv('https://code.s3.yandex.net/datasets/people.csv')\n",
    "edu_df = pd.read_csv('https://code.s3.yandex.net/datasets/education.csv')\n",
    "degrees_df = pd.read_csv('https://code.s3.yandex.net/datasets/degrees.csv')"
   ]
  },
  {
   "cell_type": "code",
   "execution_count": 3,
   "metadata": {
    "id": "oNqJ2qpRFebv",
    "trusted": false
   },
   "outputs": [
    {
     "name": "stdout",
     "output_type": "stream",
     "text": [
      "<class 'pandas.core.frame.DataFrame'>\n",
      "RangeIndex: 9407 entries, 0 to 9406\n",
      "Data columns (total 6 columns):\n",
      " #   Column                Non-Null Count  Dtype \n",
      "---  ------                --------------  ----- \n",
      " 0   id                    9407 non-null   int64 \n",
      " 1   acquiring_company_id  9407 non-null   int64 \n",
      " 2   acquired_company_id   9407 non-null   int64 \n",
      " 3   term_code             1831 non-null   object\n",
      " 4   price_amount          9407 non-null   int64 \n",
      " 5   acquired_at           9378 non-null   object\n",
      "dtypes: int64(4), object(2)\n",
      "memory usage: 441.1+ KB\n"
     ]
    },
    {
     "data": {
      "text/plain": [
       "None"
      ]
     },
     "metadata": {},
     "output_type": "display_data"
    },
    {
     "data": {
      "text/html": [
       "<div>\n",
       "<style scoped>\n",
       "    .dataframe tbody tr th:only-of-type {\n",
       "        vertical-align: middle;\n",
       "    }\n",
       "\n",
       "    .dataframe tbody tr th {\n",
       "        vertical-align: top;\n",
       "    }\n",
       "\n",
       "    .dataframe thead th {\n",
       "        text-align: right;\n",
       "    }\n",
       "</style>\n",
       "<table border=\"1\" class=\"dataframe\">\n",
       "  <thead>\n",
       "    <tr style=\"text-align: right;\">\n",
       "      <th></th>\n",
       "      <th>id</th>\n",
       "      <th>acquiring_company_id</th>\n",
       "      <th>acquired_company_id</th>\n",
       "      <th>term_code</th>\n",
       "      <th>price_amount</th>\n",
       "      <th>acquired_at</th>\n",
       "    </tr>\n",
       "  </thead>\n",
       "  <tbody>\n",
       "    <tr>\n",
       "      <th>0</th>\n",
       "      <td>1</td>\n",
       "      <td>11</td>\n",
       "      <td>10</td>\n",
       "      <td>NaN</td>\n",
       "      <td>20000000</td>\n",
       "      <td>2007-05-30</td>\n",
       "    </tr>\n",
       "    <tr>\n",
       "      <th>1</th>\n",
       "      <td>7</td>\n",
       "      <td>59</td>\n",
       "      <td>72</td>\n",
       "      <td>cash</td>\n",
       "      <td>60000000</td>\n",
       "      <td>2007-07-01</td>\n",
       "    </tr>\n",
       "    <tr>\n",
       "      <th>2</th>\n",
       "      <td>8</td>\n",
       "      <td>24</td>\n",
       "      <td>132</td>\n",
       "      <td>cash</td>\n",
       "      <td>280000000</td>\n",
       "      <td>2007-05-01</td>\n",
       "    </tr>\n",
       "    <tr>\n",
       "      <th>3</th>\n",
       "      <td>9</td>\n",
       "      <td>59</td>\n",
       "      <td>155</td>\n",
       "      <td>cash</td>\n",
       "      <td>100000000</td>\n",
       "      <td>2007-06-01</td>\n",
       "    </tr>\n",
       "    <tr>\n",
       "      <th>4</th>\n",
       "      <td>10</td>\n",
       "      <td>212</td>\n",
       "      <td>215</td>\n",
       "      <td>cash</td>\n",
       "      <td>25000000</td>\n",
       "      <td>2007-07-01</td>\n",
       "    </tr>\n",
       "    <tr>\n",
       "      <th>5</th>\n",
       "      <td>11</td>\n",
       "      <td>227</td>\n",
       "      <td>228</td>\n",
       "      <td>NaN</td>\n",
       "      <td>7140000</td>\n",
       "      <td>2003-08-05</td>\n",
       "    </tr>\n",
       "    <tr>\n",
       "      <th>6</th>\n",
       "      <td>12</td>\n",
       "      <td>5</td>\n",
       "      <td>230</td>\n",
       "      <td>cash</td>\n",
       "      <td>0</td>\n",
       "      <td>2007-07-01</td>\n",
       "    </tr>\n",
       "    <tr>\n",
       "      <th>7</th>\n",
       "      <td>14</td>\n",
       "      <td>318</td>\n",
       "      <td>314</td>\n",
       "      <td>cash</td>\n",
       "      <td>0</td>\n",
       "      <td>2006-10-01</td>\n",
       "    </tr>\n",
       "    <tr>\n",
       "      <th>8</th>\n",
       "      <td>15</td>\n",
       "      <td>20</td>\n",
       "      <td>333</td>\n",
       "      <td>stock</td>\n",
       "      <td>1500000000</td>\n",
       "      <td>2002-07-08</td>\n",
       "    </tr>\n",
       "    <tr>\n",
       "      <th>9</th>\n",
       "      <td>16</td>\n",
       "      <td>342</td>\n",
       "      <td>341</td>\n",
       "      <td>cash</td>\n",
       "      <td>350000000</td>\n",
       "      <td>2007-08-01</td>\n",
       "    </tr>\n",
       "  </tbody>\n",
       "</table>\n",
       "</div>"
      ],
      "text/plain": [
       "   id  acquiring_company_id  acquired_company_id term_code  price_amount  \\\n",
       "0   1                    11                   10       NaN      20000000   \n",
       "1   7                    59                   72      cash      60000000   \n",
       "2   8                    24                  132      cash     280000000   \n",
       "3   9                    59                  155      cash     100000000   \n",
       "4  10                   212                  215      cash      25000000   \n",
       "5  11                   227                  228       NaN       7140000   \n",
       "6  12                     5                  230      cash             0   \n",
       "7  14                   318                  314      cash             0   \n",
       "8  15                    20                  333     stock    1500000000   \n",
       "9  16                   342                  341      cash     350000000   \n",
       "\n",
       "  acquired_at  \n",
       "0  2007-05-30  \n",
       "1  2007-07-01  \n",
       "2  2007-05-01  \n",
       "3  2007-06-01  \n",
       "4  2007-07-01  \n",
       "5  2003-08-05  \n",
       "6  2007-07-01  \n",
       "7  2006-10-01  \n",
       "8  2002-07-08  \n",
       "9  2007-08-01  "
      ]
     },
     "metadata": {},
     "output_type": "display_data"
    }
   ],
   "source": [
    "display(acq_df.info())\n",
    "display(acq_df.head(10))"
   ]
  },
  {
   "cell_type": "markdown",
   "metadata": {},
   "source": [
    "#### Таблица acquisition\n",
    "* Стоит заполнить пропуски в столбцах `term_code`, `acquired_at`\n",
    "* Также надо поменять тип данных в `aquired_at` на datetime64"
   ]
  },
  {
   "cell_type": "code",
   "execution_count": 4,
   "metadata": {
    "trusted": false
   },
   "outputs": [
    {
     "name": "stdout",
     "output_type": "stream",
     "text": [
      "<class 'pandas.core.frame.DataFrame'>\n",
      "RangeIndex: 217774 entries, 0 to 217773\n",
      "Data columns (total 22 columns):\n",
      " #   Column                 Non-Null Count   Dtype  \n",
      "---  ------                 --------------   -----  \n",
      " 0   company  ID            217472 non-null  float64\n",
      " 1   name                   217472 non-null  object \n",
      " 2   category  code         143886 non-null  object \n",
      " 3   status                 217472 non-null  object \n",
      " 4   founded  at            109956 non-null  object \n",
      " 5   closed  at             3449 non-null    object \n",
      " 6   domain                 147159 non-null  object \n",
      " 7   network  username      95534 non-null   object \n",
      " 8   country  code          108607 non-null  object \n",
      " 9   investment  rounds     217472 non-null  float64\n",
      " 10  funding  rounds        217472 non-null  float64\n",
      " 11  funding  total         217472 non-null  float64\n",
      " 12  milestones             217472 non-null  float64\n",
      " 13  funding  round  id     52928 non-null   float64\n",
      " 14  company  id            52928 non-null   float64\n",
      " 15  funded  at             52680 non-null   object \n",
      " 16  funding  round  type   52928 non-null   object \n",
      " 17  raised  amount         52928 non-null   float64\n",
      " 18  pre  money  valuation  52928 non-null   float64\n",
      " 19  participants           52928 non-null   float64\n",
      " 20  is  first  round       52928 non-null   float64\n",
      " 21  is  last  round        52928 non-null   float64\n",
      "dtypes: float64(12), object(10)\n",
      "memory usage: 36.6+ MB\n"
     ]
    },
    {
     "data": {
      "text/plain": [
       "None"
      ]
     },
     "metadata": {},
     "output_type": "display_data"
    },
    {
     "data": {
      "text/html": [
       "<div>\n",
       "<style scoped>\n",
       "    .dataframe tbody tr th:only-of-type {\n",
       "        vertical-align: middle;\n",
       "    }\n",
       "\n",
       "    .dataframe tbody tr th {\n",
       "        vertical-align: top;\n",
       "    }\n",
       "\n",
       "    .dataframe thead th {\n",
       "        text-align: right;\n",
       "    }\n",
       "</style>\n",
       "<table border=\"1\" class=\"dataframe\">\n",
       "  <thead>\n",
       "    <tr style=\"text-align: right;\">\n",
       "      <th></th>\n",
       "      <th>company  ID</th>\n",
       "      <th>name</th>\n",
       "      <th>category  code</th>\n",
       "      <th>status</th>\n",
       "      <th>founded  at</th>\n",
       "      <th>closed  at</th>\n",
       "      <th>domain</th>\n",
       "      <th>network  username</th>\n",
       "      <th>country  code</th>\n",
       "      <th>investment  rounds</th>\n",
       "      <th>...</th>\n",
       "      <th>milestones</th>\n",
       "      <th>funding  round  id</th>\n",
       "      <th>company  id</th>\n",
       "      <th>funded  at</th>\n",
       "      <th>funding  round  type</th>\n",
       "      <th>raised  amount</th>\n",
       "      <th>pre  money  valuation</th>\n",
       "      <th>participants</th>\n",
       "      <th>is  first  round</th>\n",
       "      <th>is  last  round</th>\n",
       "    </tr>\n",
       "  </thead>\n",
       "  <tbody>\n",
       "    <tr>\n",
       "      <th>0</th>\n",
       "      <td>1.0</td>\n",
       "      <td>Wetpaint</td>\n",
       "      <td>web</td>\n",
       "      <td>operating</td>\n",
       "      <td>2005-10-17</td>\n",
       "      <td>NaN</td>\n",
       "      <td>wetpaint-inc.com</td>\n",
       "      <td>BachelrWetpaint</td>\n",
       "      <td>USA</td>\n",
       "      <td>0.0</td>\n",
       "      <td>...</td>\n",
       "      <td>5.0</td>\n",
       "      <td>888.0</td>\n",
       "      <td>1.0</td>\n",
       "      <td>2005-10-01</td>\n",
       "      <td>series-a</td>\n",
       "      <td>5250000.0</td>\n",
       "      <td>0.0</td>\n",
       "      <td>2.0</td>\n",
       "      <td>0.0</td>\n",
       "      <td>1.0</td>\n",
       "    </tr>\n",
       "    <tr>\n",
       "      <th>1</th>\n",
       "      <td>1.0</td>\n",
       "      <td>Wetpaint</td>\n",
       "      <td>web</td>\n",
       "      <td>operating</td>\n",
       "      <td>2005-10-17</td>\n",
       "      <td>NaN</td>\n",
       "      <td>wetpaint-inc.com</td>\n",
       "      <td>BachelrWetpaint</td>\n",
       "      <td>USA</td>\n",
       "      <td>0.0</td>\n",
       "      <td>...</td>\n",
       "      <td>5.0</td>\n",
       "      <td>889.0</td>\n",
       "      <td>1.0</td>\n",
       "      <td>2007-01-01</td>\n",
       "      <td>series-b</td>\n",
       "      <td>9500000.0</td>\n",
       "      <td>0.0</td>\n",
       "      <td>3.0</td>\n",
       "      <td>0.0</td>\n",
       "      <td>0.0</td>\n",
       "    </tr>\n",
       "    <tr>\n",
       "      <th>2</th>\n",
       "      <td>1.0</td>\n",
       "      <td>Wetpaint</td>\n",
       "      <td>web</td>\n",
       "      <td>operating</td>\n",
       "      <td>2005-10-17</td>\n",
       "      <td>NaN</td>\n",
       "      <td>wetpaint-inc.com</td>\n",
       "      <td>BachelrWetpaint</td>\n",
       "      <td>USA</td>\n",
       "      <td>0.0</td>\n",
       "      <td>...</td>\n",
       "      <td>5.0</td>\n",
       "      <td>2312.0</td>\n",
       "      <td>1.0</td>\n",
       "      <td>2008-05-19</td>\n",
       "      <td>series-c+</td>\n",
       "      <td>25000000.0</td>\n",
       "      <td>0.0</td>\n",
       "      <td>4.0</td>\n",
       "      <td>1.0</td>\n",
       "      <td>0.0</td>\n",
       "    </tr>\n",
       "    <tr>\n",
       "      <th>3</th>\n",
       "      <td>10.0</td>\n",
       "      <td>Flektor</td>\n",
       "      <td>games_video</td>\n",
       "      <td>acquired</td>\n",
       "      <td>NaN</td>\n",
       "      <td>NaN</td>\n",
       "      <td>flektor.com</td>\n",
       "      <td>NaN</td>\n",
       "      <td>USA</td>\n",
       "      <td>0.0</td>\n",
       "      <td>...</td>\n",
       "      <td>0.0</td>\n",
       "      <td>NaN</td>\n",
       "      <td>NaN</td>\n",
       "      <td>NaN</td>\n",
       "      <td>NaN</td>\n",
       "      <td>NaN</td>\n",
       "      <td>NaN</td>\n",
       "      <td>NaN</td>\n",
       "      <td>NaN</td>\n",
       "      <td>NaN</td>\n",
       "    </tr>\n",
       "    <tr>\n",
       "      <th>4</th>\n",
       "      <td>100.0</td>\n",
       "      <td>There</td>\n",
       "      <td>games_video</td>\n",
       "      <td>acquired</td>\n",
       "      <td>NaN</td>\n",
       "      <td>NaN</td>\n",
       "      <td>there.com</td>\n",
       "      <td>NaN</td>\n",
       "      <td>USA</td>\n",
       "      <td>0.0</td>\n",
       "      <td>...</td>\n",
       "      <td>4.0</td>\n",
       "      <td>NaN</td>\n",
       "      <td>NaN</td>\n",
       "      <td>NaN</td>\n",
       "      <td>NaN</td>\n",
       "      <td>NaN</td>\n",
       "      <td>NaN</td>\n",
       "      <td>NaN</td>\n",
       "      <td>NaN</td>\n",
       "      <td>NaN</td>\n",
       "    </tr>\n",
       "    <tr>\n",
       "      <th>5</th>\n",
       "      <td>10000.0</td>\n",
       "      <td>MYWEBBO</td>\n",
       "      <td>network_hosting</td>\n",
       "      <td>operating</td>\n",
       "      <td>2008-07-26</td>\n",
       "      <td>NaN</td>\n",
       "      <td>mywebbo.com</td>\n",
       "      <td>NaN</td>\n",
       "      <td>NaN</td>\n",
       "      <td>0.0</td>\n",
       "      <td>...</td>\n",
       "      <td>0.0</td>\n",
       "      <td>NaN</td>\n",
       "      <td>NaN</td>\n",
       "      <td>NaN</td>\n",
       "      <td>NaN</td>\n",
       "      <td>NaN</td>\n",
       "      <td>NaN</td>\n",
       "      <td>NaN</td>\n",
       "      <td>NaN</td>\n",
       "      <td>NaN</td>\n",
       "    </tr>\n",
       "    <tr>\n",
       "      <th>6</th>\n",
       "      <td>10001.0</td>\n",
       "      <td>THE Movie Streamer</td>\n",
       "      <td>games_video</td>\n",
       "      <td>operating</td>\n",
       "      <td>2008-07-26</td>\n",
       "      <td>NaN</td>\n",
       "      <td>themoviestreamer.com</td>\n",
       "      <td>NaN</td>\n",
       "      <td>NaN</td>\n",
       "      <td>0.0</td>\n",
       "      <td>...</td>\n",
       "      <td>0.0</td>\n",
       "      <td>NaN</td>\n",
       "      <td>NaN</td>\n",
       "      <td>NaN</td>\n",
       "      <td>NaN</td>\n",
       "      <td>NaN</td>\n",
       "      <td>NaN</td>\n",
       "      <td>NaN</td>\n",
       "      <td>NaN</td>\n",
       "      <td>NaN</td>\n",
       "    </tr>\n",
       "    <tr>\n",
       "      <th>7</th>\n",
       "      <td>10002.0</td>\n",
       "      <td>Synergie Media</td>\n",
       "      <td>advertising</td>\n",
       "      <td>operating</td>\n",
       "      <td>2007-06-27</td>\n",
       "      <td>NaN</td>\n",
       "      <td>synergie-media.com</td>\n",
       "      <td>NaN</td>\n",
       "      <td>MAR</td>\n",
       "      <td>0.0</td>\n",
       "      <td>...</td>\n",
       "      <td>0.0</td>\n",
       "      <td>NaN</td>\n",
       "      <td>NaN</td>\n",
       "      <td>NaN</td>\n",
       "      <td>NaN</td>\n",
       "      <td>NaN</td>\n",
       "      <td>NaN</td>\n",
       "      <td>NaN</td>\n",
       "      <td>NaN</td>\n",
       "      <td>NaN</td>\n",
       "    </tr>\n",
       "    <tr>\n",
       "      <th>8</th>\n",
       "      <td>10003.0</td>\n",
       "      <td>Green Basti Ecosystems</td>\n",
       "      <td>cleantech</td>\n",
       "      <td>operating</td>\n",
       "      <td>2008-08-20</td>\n",
       "      <td>NaN</td>\n",
       "      <td>NaN</td>\n",
       "      <td>NaN</td>\n",
       "      <td>IND</td>\n",
       "      <td>0.0</td>\n",
       "      <td>...</td>\n",
       "      <td>0.0</td>\n",
       "      <td>NaN</td>\n",
       "      <td>NaN</td>\n",
       "      <td>NaN</td>\n",
       "      <td>NaN</td>\n",
       "      <td>NaN</td>\n",
       "      <td>NaN</td>\n",
       "      <td>NaN</td>\n",
       "      <td>NaN</td>\n",
       "      <td>NaN</td>\n",
       "    </tr>\n",
       "    <tr>\n",
       "      <th>9</th>\n",
       "      <td>100042.0</td>\n",
       "      <td>HostNine</td>\n",
       "      <td>NaN</td>\n",
       "      <td>operating</td>\n",
       "      <td>NaN</td>\n",
       "      <td>NaN</td>\n",
       "      <td>hostnine.com</td>\n",
       "      <td>Hostnine</td>\n",
       "      <td>NaN</td>\n",
       "      <td>0.0</td>\n",
       "      <td>...</td>\n",
       "      <td>1.0</td>\n",
       "      <td>NaN</td>\n",
       "      <td>NaN</td>\n",
       "      <td>NaN</td>\n",
       "      <td>NaN</td>\n",
       "      <td>NaN</td>\n",
       "      <td>NaN</td>\n",
       "      <td>NaN</td>\n",
       "      <td>NaN</td>\n",
       "      <td>NaN</td>\n",
       "    </tr>\n",
       "    <tr>\n",
       "      <th>10</th>\n",
       "      <td>10005.0</td>\n",
       "      <td>Thomas Publishing</td>\n",
       "      <td>advertising</td>\n",
       "      <td>operating</td>\n",
       "      <td>NaN</td>\n",
       "      <td>NaN</td>\n",
       "      <td>thomaspublishing.com</td>\n",
       "      <td>NaN</td>\n",
       "      <td>USA</td>\n",
       "      <td>0.0</td>\n",
       "      <td>...</td>\n",
       "      <td>1.0</td>\n",
       "      <td>NaN</td>\n",
       "      <td>NaN</td>\n",
       "      <td>NaN</td>\n",
       "      <td>NaN</td>\n",
       "      <td>NaN</td>\n",
       "      <td>NaN</td>\n",
       "      <td>NaN</td>\n",
       "      <td>NaN</td>\n",
       "      <td>NaN</td>\n",
       "    </tr>\n",
       "    <tr>\n",
       "      <th>11</th>\n",
       "      <td>100062.0</td>\n",
       "      <td>Vetter Idea Management System</td>\n",
       "      <td>enterprise</td>\n",
       "      <td>operating</td>\n",
       "      <td>2011-08-01</td>\n",
       "      <td>NaN</td>\n",
       "      <td>getvetter.com</td>\n",
       "      <td>getvetter</td>\n",
       "      <td>NaN</td>\n",
       "      <td>0.0</td>\n",
       "      <td>...</td>\n",
       "      <td>1.0</td>\n",
       "      <td>NaN</td>\n",
       "      <td>NaN</td>\n",
       "      <td>NaN</td>\n",
       "      <td>NaN</td>\n",
       "      <td>NaN</td>\n",
       "      <td>NaN</td>\n",
       "      <td>NaN</td>\n",
       "      <td>NaN</td>\n",
       "      <td>NaN</td>\n",
       "    </tr>\n",
       "    <tr>\n",
       "      <th>12</th>\n",
       "      <td>100068.0</td>\n",
       "      <td>ChatRandom</td>\n",
       "      <td>games_video</td>\n",
       "      <td>operating</td>\n",
       "      <td>2011-02-01</td>\n",
       "      <td>NaN</td>\n",
       "      <td>chatrandom.com</td>\n",
       "      <td>chatrandom</td>\n",
       "      <td>NaN</td>\n",
       "      <td>0.0</td>\n",
       "      <td>...</td>\n",
       "      <td>1.0</td>\n",
       "      <td>NaN</td>\n",
       "      <td>NaN</td>\n",
       "      <td>NaN</td>\n",
       "      <td>NaN</td>\n",
       "      <td>NaN</td>\n",
       "      <td>NaN</td>\n",
       "      <td>NaN</td>\n",
       "      <td>NaN</td>\n",
       "      <td>NaN</td>\n",
       "    </tr>\n",
       "    <tr>\n",
       "      <th>13</th>\n",
       "      <td>10008.0</td>\n",
       "      <td>ScapadasAmorosas</td>\n",
       "      <td>other</td>\n",
       "      <td>operating</td>\n",
       "      <td>2007-03-01</td>\n",
       "      <td>NaN</td>\n",
       "      <td>scapadasamorosas.com</td>\n",
       "      <td>NaN</td>\n",
       "      <td>NaN</td>\n",
       "      <td>0.0</td>\n",
       "      <td>...</td>\n",
       "      <td>0.0</td>\n",
       "      <td>NaN</td>\n",
       "      <td>NaN</td>\n",
       "      <td>NaN</td>\n",
       "      <td>NaN</td>\n",
       "      <td>NaN</td>\n",
       "      <td>NaN</td>\n",
       "      <td>NaN</td>\n",
       "      <td>NaN</td>\n",
       "      <td>NaN</td>\n",
       "    </tr>\n",
       "    <tr>\n",
       "      <th>14</th>\n",
       "      <td>10009.0</td>\n",
       "      <td>dimension5 labs</td>\n",
       "      <td>advertising</td>\n",
       "      <td>operating</td>\n",
       "      <td>2008-08-01</td>\n",
       "      <td>NaN</td>\n",
       "      <td>d5labs.com</td>\n",
       "      <td>NaN</td>\n",
       "      <td>USA</td>\n",
       "      <td>0.0</td>\n",
       "      <td>...</td>\n",
       "      <td>1.0</td>\n",
       "      <td>NaN</td>\n",
       "      <td>NaN</td>\n",
       "      <td>NaN</td>\n",
       "      <td>NaN</td>\n",
       "      <td>NaN</td>\n",
       "      <td>NaN</td>\n",
       "      <td>NaN</td>\n",
       "      <td>NaN</td>\n",
       "      <td>NaN</td>\n",
       "    </tr>\n",
       "    <tr>\n",
       "      <th>15</th>\n",
       "      <td>1001.0</td>\n",
       "      <td>FriendFeed</td>\n",
       "      <td>web</td>\n",
       "      <td>acquired</td>\n",
       "      <td>2007-10-01</td>\n",
       "      <td>NaN</td>\n",
       "      <td>friendfeed.com</td>\n",
       "      <td>friendfeed</td>\n",
       "      <td>USA</td>\n",
       "      <td>0.0</td>\n",
       "      <td>...</td>\n",
       "      <td>3.0</td>\n",
       "      <td>1644.0</td>\n",
       "      <td>1001.0</td>\n",
       "      <td>2008-02-26</td>\n",
       "      <td>series-a</td>\n",
       "      <td>5000000.0</td>\n",
       "      <td>0.0</td>\n",
       "      <td>3.0</td>\n",
       "      <td>1.0</td>\n",
       "      <td>1.0</td>\n",
       "    </tr>\n",
       "    <tr>\n",
       "      <th>16</th>\n",
       "      <td>10010.0</td>\n",
       "      <td>Whooligan</td>\n",
       "      <td>games_video</td>\n",
       "      <td>operating</td>\n",
       "      <td>2007-12-01</td>\n",
       "      <td>NaN</td>\n",
       "      <td>whooligan.com</td>\n",
       "      <td>NaN</td>\n",
       "      <td>NaN</td>\n",
       "      <td>0.0</td>\n",
       "      <td>...</td>\n",
       "      <td>0.0</td>\n",
       "      <td>NaN</td>\n",
       "      <td>NaN</td>\n",
       "      <td>NaN</td>\n",
       "      <td>NaN</td>\n",
       "      <td>NaN</td>\n",
       "      <td>NaN</td>\n",
       "      <td>NaN</td>\n",
       "      <td>NaN</td>\n",
       "      <td>NaN</td>\n",
       "    </tr>\n",
       "    <tr>\n",
       "      <th>17</th>\n",
       "      <td>10011.0</td>\n",
       "      <td>PoetryVisualized.com</td>\n",
       "      <td>games_video</td>\n",
       "      <td>operating</td>\n",
       "      <td>2008-01-01</td>\n",
       "      <td>NaN</td>\n",
       "      <td>poetryvisualized.com</td>\n",
       "      <td>NaN</td>\n",
       "      <td>USA</td>\n",
       "      <td>0.0</td>\n",
       "      <td>...</td>\n",
       "      <td>1.0</td>\n",
       "      <td>NaN</td>\n",
       "      <td>NaN</td>\n",
       "      <td>NaN</td>\n",
       "      <td>NaN</td>\n",
       "      <td>NaN</td>\n",
       "      <td>NaN</td>\n",
       "      <td>NaN</td>\n",
       "      <td>NaN</td>\n",
       "      <td>NaN</td>\n",
       "    </tr>\n",
       "    <tr>\n",
       "      <th>18</th>\n",
       "      <td>10012.0</td>\n",
       "      <td>moviestring.com</td>\n",
       "      <td>games_video</td>\n",
       "      <td>closed</td>\n",
       "      <td>2008-08-22</td>\n",
       "      <td>2010-01-01</td>\n",
       "      <td>moviestring.com</td>\n",
       "      <td>NaN</td>\n",
       "      <td>NaN</td>\n",
       "      <td>0.0</td>\n",
       "      <td>...</td>\n",
       "      <td>0.0</td>\n",
       "      <td>NaN</td>\n",
       "      <td>NaN</td>\n",
       "      <td>NaN</td>\n",
       "      <td>NaN</td>\n",
       "      <td>NaN</td>\n",
       "      <td>NaN</td>\n",
       "      <td>NaN</td>\n",
       "      <td>NaN</td>\n",
       "      <td>NaN</td>\n",
       "    </tr>\n",
       "    <tr>\n",
       "      <th>19</th>\n",
       "      <td>10013.0</td>\n",
       "      <td>The Adory</td>\n",
       "      <td>consulting</td>\n",
       "      <td>operating</td>\n",
       "      <td>2008-01-01</td>\n",
       "      <td>NaN</td>\n",
       "      <td>theadory.com</td>\n",
       "      <td>the_adory</td>\n",
       "      <td>NaN</td>\n",
       "      <td>0.0</td>\n",
       "      <td>...</td>\n",
       "      <td>0.0</td>\n",
       "      <td>NaN</td>\n",
       "      <td>NaN</td>\n",
       "      <td>NaN</td>\n",
       "      <td>NaN</td>\n",
       "      <td>NaN</td>\n",
       "      <td>NaN</td>\n",
       "      <td>NaN</td>\n",
       "      <td>NaN</td>\n",
       "      <td>NaN</td>\n",
       "    </tr>\n",
       "  </tbody>\n",
       "</table>\n",
       "<p>20 rows × 22 columns</p>\n",
       "</div>"
      ],
      "text/plain": [
       "    company  ID                           name   category  code     status  \\\n",
       "0           1.0                       Wetpaint              web  operating   \n",
       "1           1.0                       Wetpaint              web  operating   \n",
       "2           1.0                       Wetpaint              web  operating   \n",
       "3          10.0                        Flektor      games_video   acquired   \n",
       "4         100.0                          There      games_video   acquired   \n",
       "5       10000.0                        MYWEBBO  network_hosting  operating   \n",
       "6       10001.0             THE Movie Streamer      games_video  operating   \n",
       "7       10002.0                 Synergie Media      advertising  operating   \n",
       "8       10003.0         Green Basti Ecosystems        cleantech  operating   \n",
       "9      100042.0                       HostNine              NaN  operating   \n",
       "10      10005.0              Thomas Publishing      advertising  operating   \n",
       "11     100062.0  Vetter Idea Management System       enterprise  operating   \n",
       "12     100068.0                     ChatRandom      games_video  operating   \n",
       "13      10008.0               ScapadasAmorosas            other  operating   \n",
       "14      10009.0                dimension5 labs      advertising  operating   \n",
       "15       1001.0                     FriendFeed              web   acquired   \n",
       "16      10010.0                      Whooligan      games_video  operating   \n",
       "17      10011.0           PoetryVisualized.com      games_video  operating   \n",
       "18      10012.0                moviestring.com      games_video     closed   \n",
       "19      10013.0                      The Adory       consulting  operating   \n",
       "\n",
       "   founded  at  closed  at                domain network  username  \\\n",
       "0   2005-10-17         NaN      wetpaint-inc.com   BachelrWetpaint   \n",
       "1   2005-10-17         NaN      wetpaint-inc.com   BachelrWetpaint   \n",
       "2   2005-10-17         NaN      wetpaint-inc.com   BachelrWetpaint   \n",
       "3          NaN         NaN           flektor.com               NaN   \n",
       "4          NaN         NaN             there.com               NaN   \n",
       "5   2008-07-26         NaN           mywebbo.com               NaN   \n",
       "6   2008-07-26         NaN  themoviestreamer.com               NaN   \n",
       "7   2007-06-27         NaN    synergie-media.com               NaN   \n",
       "8   2008-08-20         NaN                   NaN               NaN   \n",
       "9          NaN         NaN          hostnine.com          Hostnine   \n",
       "10         NaN         NaN  thomaspublishing.com               NaN   \n",
       "11  2011-08-01         NaN         getvetter.com         getvetter   \n",
       "12  2011-02-01         NaN        chatrandom.com        chatrandom   \n",
       "13  2007-03-01         NaN  scapadasamorosas.com               NaN   \n",
       "14  2008-08-01         NaN            d5labs.com               NaN   \n",
       "15  2007-10-01         NaN        friendfeed.com        friendfeed   \n",
       "16  2007-12-01         NaN         whooligan.com               NaN   \n",
       "17  2008-01-01         NaN  poetryvisualized.com               NaN   \n",
       "18  2008-08-22  2010-01-01       moviestring.com               NaN   \n",
       "19  2008-01-01         NaN          theadory.com         the_adory   \n",
       "\n",
       "   country  code  investment  rounds  ...  milestones  funding  round  id  \\\n",
       "0            USA                 0.0  ...         5.0               888.0   \n",
       "1            USA                 0.0  ...         5.0               889.0   \n",
       "2            USA                 0.0  ...         5.0              2312.0   \n",
       "3            USA                 0.0  ...         0.0                 NaN   \n",
       "4            USA                 0.0  ...         4.0                 NaN   \n",
       "5            NaN                 0.0  ...         0.0                 NaN   \n",
       "6            NaN                 0.0  ...         0.0                 NaN   \n",
       "7            MAR                 0.0  ...         0.0                 NaN   \n",
       "8            IND                 0.0  ...         0.0                 NaN   \n",
       "9            NaN                 0.0  ...         1.0                 NaN   \n",
       "10           USA                 0.0  ...         1.0                 NaN   \n",
       "11           NaN                 0.0  ...         1.0                 NaN   \n",
       "12           NaN                 0.0  ...         1.0                 NaN   \n",
       "13           NaN                 0.0  ...         0.0                 NaN   \n",
       "14           USA                 0.0  ...         1.0                 NaN   \n",
       "15           USA                 0.0  ...         3.0              1644.0   \n",
       "16           NaN                 0.0  ...         0.0                 NaN   \n",
       "17           USA                 0.0  ...         1.0                 NaN   \n",
       "18           NaN                 0.0  ...         0.0                 NaN   \n",
       "19           NaN                 0.0  ...         0.0                 NaN   \n",
       "\n",
       "    company  id  funded  at  funding  round  type raised  amount  \\\n",
       "0           1.0  2005-10-01              series-a      5250000.0   \n",
       "1           1.0  2007-01-01              series-b      9500000.0   \n",
       "2           1.0  2008-05-19             series-c+     25000000.0   \n",
       "3           NaN         NaN                   NaN            NaN   \n",
       "4           NaN         NaN                   NaN            NaN   \n",
       "5           NaN         NaN                   NaN            NaN   \n",
       "6           NaN         NaN                   NaN            NaN   \n",
       "7           NaN         NaN                   NaN            NaN   \n",
       "8           NaN         NaN                   NaN            NaN   \n",
       "9           NaN         NaN                   NaN            NaN   \n",
       "10          NaN         NaN                   NaN            NaN   \n",
       "11          NaN         NaN                   NaN            NaN   \n",
       "12          NaN         NaN                   NaN            NaN   \n",
       "13          NaN         NaN                   NaN            NaN   \n",
       "14          NaN         NaN                   NaN            NaN   \n",
       "15       1001.0  2008-02-26              series-a      5000000.0   \n",
       "16          NaN         NaN                   NaN            NaN   \n",
       "17          NaN         NaN                   NaN            NaN   \n",
       "18          NaN         NaN                   NaN            NaN   \n",
       "19          NaN         NaN                   NaN            NaN   \n",
       "\n",
       "   pre  money  valuation  participants  is  first  round  is  last  round  \n",
       "0                    0.0           2.0               0.0              1.0  \n",
       "1                    0.0           3.0               0.0              0.0  \n",
       "2                    0.0           4.0               1.0              0.0  \n",
       "3                    NaN           NaN               NaN              NaN  \n",
       "4                    NaN           NaN               NaN              NaN  \n",
       "5                    NaN           NaN               NaN              NaN  \n",
       "6                    NaN           NaN               NaN              NaN  \n",
       "7                    NaN           NaN               NaN              NaN  \n",
       "8                    NaN           NaN               NaN              NaN  \n",
       "9                    NaN           NaN               NaN              NaN  \n",
       "10                   NaN           NaN               NaN              NaN  \n",
       "11                   NaN           NaN               NaN              NaN  \n",
       "12                   NaN           NaN               NaN              NaN  \n",
       "13                   NaN           NaN               NaN              NaN  \n",
       "14                   NaN           NaN               NaN              NaN  \n",
       "15                   0.0           3.0               1.0              1.0  \n",
       "16                   NaN           NaN               NaN              NaN  \n",
       "17                   NaN           NaN               NaN              NaN  \n",
       "18                   NaN           NaN               NaN              NaN  \n",
       "19                   NaN           NaN               NaN              NaN  \n",
       "\n",
       "[20 rows x 22 columns]"
      ]
     },
     "metadata": {},
     "output_type": "display_data"
    }
   ],
   "source": [
    "display(comp_rounds_df.info())\n",
    "display(comp_rounds_df.head(20))"
   ]
  },
  {
   "cell_type": "markdown",
   "metadata": {},
   "source": [
    "#### Таблица company_and_rounds\n",
    "* Cтоит заменить названия столбцов: их надо привести к snake_case. При этом столбец `company  ID` мы назовем `company_id`, а столбец `company  id` его дублирует, при этом имеет пропуски, поэтому целесообразно его переименовать, чтобы не потерять потенциально важные данные;\n",
    "\n",
    "* Надо заменить пропуски в столбцах `category_code`, `founded_at`, `closed_at`, `domain`, `country_code`;\n",
    "\n",
    "* Также стоит привести данные к оптимальному типу в столбцах `company_id` (int), `founded_at` (datetime), `closed_at` (datetime), `country_code` (int), `investment_rounds` (int)."
   ]
  },
  {
   "cell_type": "code",
   "execution_count": 5,
   "metadata": {
    "trusted": false
   },
   "outputs": [
    {
     "name": "stdout",
     "output_type": "stream",
     "text": [
      "<class 'pandas.core.frame.DataFrame'>\n",
      "RangeIndex: 226709 entries, 0 to 226708\n",
      "Data columns (total 5 columns):\n",
      " #   Column            Non-Null Count   Dtype  \n",
      "---  ------            --------------   -----  \n",
      " 0   id                226709 non-null  int64  \n",
      " 1   first_name        226704 non-null  object \n",
      " 2   last_name         226708 non-null  object \n",
      " 3   company_id        34615 non-null   float64\n",
      " 4   network_username  38867 non-null   object \n",
      "dtypes: float64(1), int64(1), object(3)\n",
      "memory usage: 8.6+ MB\n"
     ]
    },
    {
     "data": {
      "text/plain": [
       "None"
      ]
     },
     "metadata": {},
     "output_type": "display_data"
    },
    {
     "data": {
      "text/html": [
       "<div>\n",
       "<style scoped>\n",
       "    .dataframe tbody tr th:only-of-type {\n",
       "        vertical-align: middle;\n",
       "    }\n",
       "\n",
       "    .dataframe tbody tr th {\n",
       "        vertical-align: top;\n",
       "    }\n",
       "\n",
       "    .dataframe thead th {\n",
       "        text-align: right;\n",
       "    }\n",
       "</style>\n",
       "<table border=\"1\" class=\"dataframe\">\n",
       "  <thead>\n",
       "    <tr style=\"text-align: right;\">\n",
       "      <th></th>\n",
       "      <th>id</th>\n",
       "      <th>first_name</th>\n",
       "      <th>last_name</th>\n",
       "      <th>company_id</th>\n",
       "      <th>network_username</th>\n",
       "    </tr>\n",
       "  </thead>\n",
       "  <tbody>\n",
       "    <tr>\n",
       "      <th>0</th>\n",
       "      <td>10</td>\n",
       "      <td>Mark</td>\n",
       "      <td>Zuckerberg</td>\n",
       "      <td>5.0</td>\n",
       "      <td>NaN</td>\n",
       "    </tr>\n",
       "    <tr>\n",
       "      <th>1</th>\n",
       "      <td>100</td>\n",
       "      <td>Peter</td>\n",
       "      <td>Lester</td>\n",
       "      <td>27.0</td>\n",
       "      <td>NaN</td>\n",
       "    </tr>\n",
       "    <tr>\n",
       "      <th>2</th>\n",
       "      <td>1000</td>\n",
       "      <td>Dr. Steven</td>\n",
       "      <td>E. Saunders</td>\n",
       "      <td>292.0</td>\n",
       "      <td>NaN</td>\n",
       "    </tr>\n",
       "    <tr>\n",
       "      <th>3</th>\n",
       "      <td>10000</td>\n",
       "      <td>Neil</td>\n",
       "      <td>Capel</td>\n",
       "      <td>2526.0</td>\n",
       "      <td>NaN</td>\n",
       "    </tr>\n",
       "    <tr>\n",
       "      <th>4</th>\n",
       "      <td>100000</td>\n",
       "      <td>Sue</td>\n",
       "      <td>Pilsch</td>\n",
       "      <td>NaN</td>\n",
       "      <td>NaN</td>\n",
       "    </tr>\n",
       "    <tr>\n",
       "      <th>5</th>\n",
       "      <td>100002</td>\n",
       "      <td>Keith</td>\n",
       "      <td>Kurzendoerfer</td>\n",
       "      <td>NaN</td>\n",
       "      <td>NaN</td>\n",
       "    </tr>\n",
       "    <tr>\n",
       "      <th>6</th>\n",
       "      <td>100006</td>\n",
       "      <td>Courtney</td>\n",
       "      <td>Homer</td>\n",
       "      <td>81558.0</td>\n",
       "      <td>jobsbostontech</td>\n",
       "    </tr>\n",
       "    <tr>\n",
       "      <th>7</th>\n",
       "      <td>100009</td>\n",
       "      <td>Eddy</td>\n",
       "      <td>Badrina</td>\n",
       "      <td>NaN</td>\n",
       "      <td>NaN</td>\n",
       "    </tr>\n",
       "    <tr>\n",
       "      <th>8</th>\n",
       "      <td>100010</td>\n",
       "      <td>Michael</td>\n",
       "      <td>Dadashyan</td>\n",
       "      <td>NaN</td>\n",
       "      <td>fbroulette</td>\n",
       "    </tr>\n",
       "    <tr>\n",
       "      <th>9</th>\n",
       "      <td>100011</td>\n",
       "      <td>Jeff</td>\n",
       "      <td>Grell</td>\n",
       "      <td>NaN</td>\n",
       "      <td>NaN</td>\n",
       "    </tr>\n",
       "  </tbody>\n",
       "</table>\n",
       "</div>"
      ],
      "text/plain": [
       "       id  first_name      last_name  company_id network_username\n",
       "0      10        Mark     Zuckerberg         5.0              NaN\n",
       "1     100       Peter         Lester        27.0              NaN\n",
       "2    1000  Dr. Steven    E. Saunders       292.0              NaN\n",
       "3   10000        Neil          Capel      2526.0              NaN\n",
       "4  100000         Sue         Pilsch         NaN              NaN\n",
       "5  100002       Keith  Kurzendoerfer         NaN              NaN\n",
       "6  100006    Courtney          Homer     81558.0   jobsbostontech\n",
       "7  100009        Eddy        Badrina         NaN              NaN\n",
       "8  100010     Michael      Dadashyan         NaN       fbroulette\n",
       "9  100011        Jeff          Grell         NaN              NaN"
      ]
     },
     "metadata": {},
     "output_type": "display_data"
    }
   ],
   "source": [
    "display(people_df.info())\n",
    "display(people_df.head(10))"
   ]
  },
  {
   "cell_type": "markdown",
   "metadata": {},
   "source": [
    "#### Таблица people_df:\n",
    "* Стоит заменить тип данных в столбце `company_id` на int;\n",
    "* Заполнить пропуски в столбцах `first_name`, `last_name`, `company_id`, `network_username`."
   ]
  },
  {
   "cell_type": "code",
   "execution_count": 6,
   "metadata": {
    "trusted": false
   },
   "outputs": [
    {
     "name": "stdout",
     "output_type": "stream",
     "text": [
      "<class 'pandas.core.frame.DataFrame'>\n",
      "RangeIndex: 109610 entries, 0 to 109609\n",
      "Data columns (total 4 columns):\n",
      " #   Column        Non-Null Count   Dtype \n",
      "---  ------        --------------   ----- \n",
      " 0   id            109610 non-null  int64 \n",
      " 1   person_id     109610 non-null  int64 \n",
      " 2   instituition  109555 non-null  object\n",
      " 3   graduated_at  58054 non-null   object\n",
      "dtypes: int64(2), object(2)\n",
      "memory usage: 3.3+ MB\n"
     ]
    },
    {
     "data": {
      "text/plain": [
       "None"
      ]
     },
     "metadata": {},
     "output_type": "display_data"
    },
    {
     "data": {
      "text/html": [
       "<div>\n",
       "<style scoped>\n",
       "    .dataframe tbody tr th:only-of-type {\n",
       "        vertical-align: middle;\n",
       "    }\n",
       "\n",
       "    .dataframe tbody tr th {\n",
       "        vertical-align: top;\n",
       "    }\n",
       "\n",
       "    .dataframe thead th {\n",
       "        text-align: right;\n",
       "    }\n",
       "</style>\n",
       "<table border=\"1\" class=\"dataframe\">\n",
       "  <thead>\n",
       "    <tr style=\"text-align: right;\">\n",
       "      <th></th>\n",
       "      <th>id</th>\n",
       "      <th>person_id</th>\n",
       "      <th>instituition</th>\n",
       "      <th>graduated_at</th>\n",
       "    </tr>\n",
       "  </thead>\n",
       "  <tbody>\n",
       "    <tr>\n",
       "      <th>0</th>\n",
       "      <td>1</td>\n",
       "      <td>6117</td>\n",
       "      <td>NaN</td>\n",
       "      <td>NaN</td>\n",
       "    </tr>\n",
       "    <tr>\n",
       "      <th>1</th>\n",
       "      <td>2</td>\n",
       "      <td>6136</td>\n",
       "      <td>Washington University, St. Louis</td>\n",
       "      <td>1990-01-01</td>\n",
       "    </tr>\n",
       "    <tr>\n",
       "      <th>2</th>\n",
       "      <td>3</td>\n",
       "      <td>6136</td>\n",
       "      <td>Boston University</td>\n",
       "      <td>1992-01-01</td>\n",
       "    </tr>\n",
       "    <tr>\n",
       "      <th>3</th>\n",
       "      <td>4</td>\n",
       "      <td>6005</td>\n",
       "      <td>University of Greenwich</td>\n",
       "      <td>2006-01-01</td>\n",
       "    </tr>\n",
       "    <tr>\n",
       "      <th>4</th>\n",
       "      <td>5</td>\n",
       "      <td>5832</td>\n",
       "      <td>Rice University</td>\n",
       "      <td>NaN</td>\n",
       "    </tr>\n",
       "    <tr>\n",
       "      <th>5</th>\n",
       "      <td>6</td>\n",
       "      <td>1017</td>\n",
       "      <td>Northeastern University</td>\n",
       "      <td>1988-01-01</td>\n",
       "    </tr>\n",
       "    <tr>\n",
       "      <th>6</th>\n",
       "      <td>7</td>\n",
       "      <td>6176</td>\n",
       "      <td>Rochester Institute of Technology</td>\n",
       "      <td>2002-01-01</td>\n",
       "    </tr>\n",
       "    <tr>\n",
       "      <th>7</th>\n",
       "      <td>8</td>\n",
       "      <td>5412</td>\n",
       "      <td>University of Cambridge</td>\n",
       "      <td>2002-01-01</td>\n",
       "    </tr>\n",
       "    <tr>\n",
       "      <th>8</th>\n",
       "      <td>9</td>\n",
       "      <td>1243</td>\n",
       "      <td>University of Oregon</td>\n",
       "      <td>1997-01-01</td>\n",
       "    </tr>\n",
       "    <tr>\n",
       "      <th>9</th>\n",
       "      <td>10</td>\n",
       "      <td>6265</td>\n",
       "      <td>University of Pennsylvania</td>\n",
       "      <td>1989-01-01</td>\n",
       "    </tr>\n",
       "  </tbody>\n",
       "</table>\n",
       "</div>"
      ],
      "text/plain": [
       "   id  person_id                       instituition graduated_at\n",
       "0   1       6117                                NaN          NaN\n",
       "1   2       6136   Washington University, St. Louis   1990-01-01\n",
       "2   3       6136                  Boston University   1992-01-01\n",
       "3   4       6005            University of Greenwich   2006-01-01\n",
       "4   5       5832                    Rice University          NaN\n",
       "5   6       1017            Northeastern University   1988-01-01\n",
       "6   7       6176  Rochester Institute of Technology   2002-01-01\n",
       "7   8       5412            University of Cambridge   2002-01-01\n",
       "8   9       1243               University of Oregon   1997-01-01\n",
       "9  10       6265         University of Pennsylvania   1989-01-01"
      ]
     },
     "metadata": {},
     "output_type": "display_data"
    }
   ],
   "source": [
    "display(edu_df.info())\n",
    "display(edu_df.head(10))"
   ]
  },
  {
   "cell_type": "markdown",
   "metadata": {},
   "source": [
    "#### Таблица edu_df:\n",
    "* Нужно заполнить пропуски в столбце `graduated_at`;\n",
    "* Заменить тип данных в столбце `graduated_at` на datetime64."
   ]
  },
  {
   "cell_type": "code",
   "execution_count": 7,
   "metadata": {
    "trusted": false
   },
   "outputs": [
    {
     "name": "stdout",
     "output_type": "stream",
     "text": [
      "<class 'pandas.core.frame.DataFrame'>\n",
      "RangeIndex: 109610 entries, 0 to 109609\n",
      "Data columns (total 4 columns):\n",
      " #   Column       Non-Null Count   Dtype \n",
      "---  ------       --------------   ----- \n",
      " 0   id           109610 non-null  int64 \n",
      " 1   object_id    109610 non-null  object\n",
      " 2   degree_type  98392 non-null   object\n",
      " 3   subject      81298 non-null   object\n",
      "dtypes: int64(1), object(3)\n",
      "memory usage: 3.3+ MB\n"
     ]
    },
    {
     "data": {
      "text/plain": [
       "None"
      ]
     },
     "metadata": {},
     "output_type": "display_data"
    },
    {
     "data": {
      "text/html": [
       "<div>\n",
       "<style scoped>\n",
       "    .dataframe tbody tr th:only-of-type {\n",
       "        vertical-align: middle;\n",
       "    }\n",
       "\n",
       "    .dataframe tbody tr th {\n",
       "        vertical-align: top;\n",
       "    }\n",
       "\n",
       "    .dataframe thead th {\n",
       "        text-align: right;\n",
       "    }\n",
       "</style>\n",
       "<table border=\"1\" class=\"dataframe\">\n",
       "  <thead>\n",
       "    <tr style=\"text-align: right;\">\n",
       "      <th></th>\n",
       "      <th>id</th>\n",
       "      <th>object_id</th>\n",
       "      <th>degree_type</th>\n",
       "      <th>subject</th>\n",
       "    </tr>\n",
       "  </thead>\n",
       "  <tbody>\n",
       "    <tr>\n",
       "      <th>0</th>\n",
       "      <td>1</td>\n",
       "      <td>p:6117</td>\n",
       "      <td>MBA</td>\n",
       "      <td>NaN</td>\n",
       "    </tr>\n",
       "    <tr>\n",
       "      <th>1</th>\n",
       "      <td>2</td>\n",
       "      <td>p:6136</td>\n",
       "      <td>BA</td>\n",
       "      <td>English, French</td>\n",
       "    </tr>\n",
       "    <tr>\n",
       "      <th>2</th>\n",
       "      <td>3</td>\n",
       "      <td>p:6136</td>\n",
       "      <td>MS</td>\n",
       "      <td>Mass Communication</td>\n",
       "    </tr>\n",
       "    <tr>\n",
       "      <th>3</th>\n",
       "      <td>4</td>\n",
       "      <td>p:6005</td>\n",
       "      <td>MS</td>\n",
       "      <td>Internet Technology</td>\n",
       "    </tr>\n",
       "    <tr>\n",
       "      <th>4</th>\n",
       "      <td>5</td>\n",
       "      <td>p:5832</td>\n",
       "      <td>BCS</td>\n",
       "      <td>Computer Science, Psychology</td>\n",
       "    </tr>\n",
       "    <tr>\n",
       "      <th>5</th>\n",
       "      <td>6</td>\n",
       "      <td>p:1017</td>\n",
       "      <td>BS</td>\n",
       "      <td>Computer Science</td>\n",
       "    </tr>\n",
       "    <tr>\n",
       "      <th>6</th>\n",
       "      <td>7</td>\n",
       "      <td>p:6176</td>\n",
       "      <td>BS</td>\n",
       "      <td>Computer Science</td>\n",
       "    </tr>\n",
       "    <tr>\n",
       "      <th>7</th>\n",
       "      <td>8</td>\n",
       "      <td>p:5412</td>\n",
       "      <td>MS</td>\n",
       "      <td>Politics</td>\n",
       "    </tr>\n",
       "    <tr>\n",
       "      <th>8</th>\n",
       "      <td>9</td>\n",
       "      <td>p:1243</td>\n",
       "      <td>BA</td>\n",
       "      <td>International Business &amp; Marketing</td>\n",
       "    </tr>\n",
       "    <tr>\n",
       "      <th>9</th>\n",
       "      <td>10</td>\n",
       "      <td>p:6265</td>\n",
       "      <td>BS</td>\n",
       "      <td>Economics</td>\n",
       "    </tr>\n",
       "  </tbody>\n",
       "</table>\n",
       "</div>"
      ],
      "text/plain": [
       "   id object_id degree_type                             subject\n",
       "0   1    p:6117         MBA                                 NaN\n",
       "1   2    p:6136          BA                     English, French\n",
       "2   3    p:6136          MS                  Mass Communication\n",
       "3   4    p:6005          MS                 Internet Technology\n",
       "4   5    p:5832         BCS        Computer Science, Psychology\n",
       "5   6    p:1017          BS                    Computer Science\n",
       "6   7    p:6176          BS                    Computer Science\n",
       "7   8    p:5412          MS                            Politics\n",
       "8   9    p:1243          BA  International Business & Marketing\n",
       "9  10    p:6265          BS                           Economics"
      ]
     },
     "metadata": {},
     "output_type": "display_data"
    }
   ],
   "source": [
    "display(degrees_df.info())\n",
    "display(degrees_df.head(10))"
   ]
  },
  {
   "cell_type": "markdown",
   "metadata": {},
   "source": [
    "#### Таблица degrees_df:\n",
    "* Стоит заполнить пропуски в столбцах `degree_type`, `subject`;\n",
    "* Типы данных указаны верно."
   ]
  },
  {
   "cell_type": "markdown",
   "metadata": {
    "id": "mg2gEwh0rJg0"
   },
   "source": [
    "### 1.2. Смена типов и анализ пропусков\n",
    "\n",
    "- Обработаем типы данных в столбцах, которые хранят значения даты и времени."
   ]
  },
  {
   "cell_type": "markdown",
   "metadata": {
    "id": "FsL0A8RBrJg1",
    "vscode": {
     "languageId": "plaintext"
    }
   },
   "source": [
    "Перед тем, как менять типы данных, для начала нужно заполнить пропуски, чтобы избежать ошибок."
   ]
  },
  {
   "cell_type": "code",
   "execution_count": 8,
   "metadata": {
    "id": "46VskrGyFeJ-",
    "trusted": false
   },
   "outputs": [
    {
     "data": {
      "text/plain": [
       "id                      0\n",
       "acquiring_company_id    0\n",
       "acquired_company_id     0\n",
       "term_code               0\n",
       "price_amount            0\n",
       "acquired_at             0\n",
       "dtype: int64"
      ]
     },
     "execution_count": 8,
     "metadata": {},
     "output_type": "execute_result"
    }
   ],
   "source": [
    "# Заменим пропуски в acq_df условными значениями, которые можно будет отфильтровать при анализе\n",
    "# В столбце acquired_at заменим их на значение 1970-01-01, являющееся точкой отчета Unix\n",
    "acq_df['term_code'] = acq_df['term_code'].fillna('unknown')\n",
    "acq_df['acquired_at'] = acq_df['acquired_at'].fillna('1970-01-01')\n",
    "# Проверим наличие пропусков после замены\n",
    "acq_df.isna().sum()"
   ]
  },
  {
   "cell_type": "code",
   "execution_count": 9,
   "metadata": {
    "trusted": false
   },
   "outputs": [],
   "source": [
    "# Теперь приведем столбец acquired_at к типу datetime\n",
    "acq_df['acquired_at'] = pd.to_datetime(acq_df['acquired_at'])"
   ]
  },
  {
   "cell_type": "code",
   "execution_count": 10,
   "metadata": {
    "id": "DEg1tl8DFeBn",
    "trusted": false
   },
   "outputs": [],
   "source": [
    "# Приведем столбцы датафрейма comp_rounds_df к snake_case, перед этим переименовав столбец company  id,\n",
    "# дублирующий основной столбец\n",
    "comp_rounds_df['company_id_1'] = comp_rounds_df['company  id']\n",
    "del comp_rounds_df['company  id']\n",
    "# Заменим двойные пробелы на нижнее подчеркивание\n",
    "comp_rounds_df.columns = comp_rounds_df.columns.str.replace('  ', '_')\n",
    "comp_rounds_df.columns = comp_rounds_df.columns.str.lower()"
   ]
  },
  {
   "cell_type": "code",
   "execution_count": 11,
   "metadata": {
    "trusted": false
   },
   "outputs": [
    {
     "name": "stdout",
     "output_type": "stream",
     "text": [
      "<class 'pandas.core.frame.DataFrame'>\n",
      "RangeIndex: 217774 entries, 0 to 217773\n",
      "Data columns (total 22 columns):\n",
      " #   Column               Non-Null Count   Dtype  \n",
      "---  ------               --------------   -----  \n",
      " 0   company_id           217472 non-null  float64\n",
      " 1   name                 217472 non-null  object \n",
      " 2   category_code        143886 non-null  object \n",
      " 3   status               217472 non-null  object \n",
      " 4   founded_at           109956 non-null  object \n",
      " 5   closed_at            3449 non-null    object \n",
      " 6   domain               147159 non-null  object \n",
      " 7   network_username     95534 non-null   object \n",
      " 8   country_code         108607 non-null  object \n",
      " 9   investment_rounds    217472 non-null  float64\n",
      " 10  funding_rounds       217472 non-null  float64\n",
      " 11  funding_total        217472 non-null  float64\n",
      " 12  milestones           217472 non-null  float64\n",
      " 13  funding_round_id     52928 non-null   float64\n",
      " 14  funded_at            52680 non-null   object \n",
      " 15  funding_round_type   52928 non-null   object \n",
      " 16  raised_amount        52928 non-null   float64\n",
      " 17  pre_money_valuation  52928 non-null   float64\n",
      " 18  participants         52928 non-null   float64\n",
      " 19  is_first_round       52928 non-null   float64\n",
      " 20  is_last_round        52928 non-null   float64\n",
      " 21  company_id_1         52928 non-null   float64\n",
      "dtypes: float64(12), object(10)\n",
      "memory usage: 36.6+ MB\n"
     ]
    },
    {
     "data": {
      "text/plain": [
       "302"
      ]
     },
     "execution_count": 11,
     "metadata": {},
     "output_type": "execute_result"
    }
   ],
   "source": [
    "comp_rounds_df.info()\n",
    "comp_rounds_df['company_id'].isna().sum()"
   ]
  },
  {
   "cell_type": "markdown",
   "metadata": {},
   "source": [
    "В данных присутствуют пропуски в столбце company_id. Предполагаю, природа этих пропусков обусловлена тем, что ранее эта таблица состояла из двух разных таблиц, и они были соединены методом `left_join`."
   ]
  },
  {
   "cell_type": "code",
   "execution_count": 12,
   "metadata": {
    "trusted": false
   },
   "outputs": [],
   "source": [
    "comp_rounds_df = comp_rounds_df.dropna(axis = 0, subset = ['company_id'])"
   ]
  },
  {
   "cell_type": "code",
   "execution_count": 13,
   "metadata": {
    "trusted": false
   },
   "outputs": [],
   "source": [
    "# Теперь заменим пропуски в столбцах на условные значения, которые можно будет отфильтровать\n",
    "comp_rounds_df['category_code'] = comp_rounds_df['category_code'].fillna('unknown')\n",
    "comp_rounds_df['founded_at'] = comp_rounds_df['founded_at'].fillna('1970-01-01')\n",
    "comp_rounds_df['closed_at'] = comp_rounds_df['closed_at'].fillna('1970-01-01')\n",
    "comp_rounds_df['domain'] = comp_rounds_df['domain'].fillna('unknown')\n",
    "comp_rounds_df['network_username'] = comp_rounds_df['network_username'].fillna('unknown')\n",
    "comp_rounds_df['country_code'] = comp_rounds_df['country_code'].fillna('unknown')"
   ]
  },
  {
   "cell_type": "code",
   "execution_count": 14,
   "metadata": {
    "trusted": false
   },
   "outputs": [],
   "source": [
    "# Поменяем типы данных столбцов на оптимальные\n",
    "comp_rounds_df['company_id'] = comp_rounds_df['company_id'].astype('int')\n",
    "comp_rounds_df['founded_at'] = pd.to_datetime(comp_rounds_df['founded_at'])\n",
    "comp_rounds_df['closed_at'] = pd.to_datetime(comp_rounds_df['closed_at'])\n",
    "comp_rounds_df['investment_rounds'] = comp_rounds_df['investment_rounds'].astype('int')\n",
    "comp_rounds_df['funded_at'] = pd.to_datetime(comp_rounds_df['funded_at'])"
   ]
  },
  {
   "cell_type": "code",
   "execution_count": 15,
   "metadata": {
    "trusted": false
   },
   "outputs": [
    {
     "name": "stdout",
     "output_type": "stream",
     "text": [
      "<class 'pandas.core.frame.DataFrame'>\n",
      "Int64Index: 217472 entries, 0 to 217471\n",
      "Data columns (total 22 columns):\n",
      " #   Column               Non-Null Count   Dtype         \n",
      "---  ------               --------------   -----         \n",
      " 0   company_id           217472 non-null  int32         \n",
      " 1   name                 217472 non-null  object        \n",
      " 2   category_code        217472 non-null  object        \n",
      " 3   status               217472 non-null  object        \n",
      " 4   founded_at           217472 non-null  datetime64[ns]\n",
      " 5   closed_at            217472 non-null  datetime64[ns]\n",
      " 6   domain               217472 non-null  object        \n",
      " 7   network_username     217472 non-null  object        \n",
      " 8   country_code         217472 non-null  object        \n",
      " 9   investment_rounds    217472 non-null  int32         \n",
      " 10  funding_rounds       217472 non-null  float64       \n",
      " 11  funding_total        217472 non-null  float64       \n",
      " 12  milestones           217472 non-null  float64       \n",
      " 13  funding_round_id     52626 non-null   float64       \n",
      " 14  funded_at            52382 non-null   datetime64[ns]\n",
      " 15  funding_round_type   52626 non-null   object        \n",
      " 16  raised_amount        52626 non-null   float64       \n",
      " 17  pre_money_valuation  52626 non-null   float64       \n",
      " 18  participants         52626 non-null   float64       \n",
      " 19  is_first_round       52626 non-null   float64       \n",
      " 20  is_last_round        52626 non-null   float64       \n",
      " 21  company_id_1         52626 non-null   float64       \n",
      "dtypes: datetime64[ns](3), float64(10), int32(2), object(7)\n",
      "memory usage: 36.5+ MB\n"
     ]
    }
   ],
   "source": [
    "comp_rounds_df.info()"
   ]
  },
  {
   "cell_type": "code",
   "execution_count": 16,
   "metadata": {
    "trusted": false
   },
   "outputs": [],
   "source": [
    "# Заполним пропуски в столбцах first_name, last_name, network_username таблицы people_df\n",
    "people_df['first_name'] = people_df['first_name'].fillna('unknown')\n",
    "people_df['last_name'] = people_df['last_name'].fillna('unknown')\n",
    "people_df['network_username'] = people_df['network_username'].fillna('unknown')"
   ]
  },
  {
   "cell_type": "code",
   "execution_count": 17,
   "metadata": {
    "trusted": false
   },
   "outputs": [
    {
     "name": "stdout",
     "output_type": "stream",
     "text": [
      "<class 'pandas.core.frame.DataFrame'>\n",
      "RangeIndex: 226709 entries, 0 to 226708\n",
      "Data columns (total 5 columns):\n",
      " #   Column            Non-Null Count   Dtype  \n",
      "---  ------            --------------   -----  \n",
      " 0   id                226709 non-null  int64  \n",
      " 1   first_name        226709 non-null  object \n",
      " 2   last_name         226709 non-null  object \n",
      " 3   company_id        34615 non-null   float64\n",
      " 4   network_username  226709 non-null  object \n",
      "dtypes: float64(1), int64(1), object(3)\n",
      "memory usage: 8.6+ MB\n"
     ]
    }
   ],
   "source": [
    "people_df.info()"
   ]
  },
  {
   "cell_type": "code",
   "execution_count": 18,
   "metadata": {
    "trusted": false
   },
   "outputs": [],
   "source": [
    "# Заполним пропуски в столбце graduated_at\n",
    "edu_df['graduated_at'] = edu_df['graduated_at'].fillna('1970-01-01')"
   ]
  },
  {
   "cell_type": "code",
   "execution_count": 19,
   "metadata": {
    "trusted": false
   },
   "outputs": [],
   "source": [
    "# Поменяем тип столбца graduated_at на datetime\n",
    "edu_df['graduated_at'] = pd.to_datetime(edu_df['graduated_at'])"
   ]
  },
  {
   "cell_type": "code",
   "execution_count": 20,
   "metadata": {
    "trusted": false
   },
   "outputs": [
    {
     "name": "stdout",
     "output_type": "stream",
     "text": [
      "<class 'pandas.core.frame.DataFrame'>\n",
      "RangeIndex: 109610 entries, 0 to 109609\n",
      "Data columns (total 4 columns):\n",
      " #   Column        Non-Null Count   Dtype         \n",
      "---  ------        --------------   -----         \n",
      " 0   id            109610 non-null  int64         \n",
      " 1   person_id     109610 non-null  int64         \n",
      " 2   instituition  109555 non-null  object        \n",
      " 3   graduated_at  109610 non-null  datetime64[ns]\n",
      "dtypes: datetime64[ns](1), int64(2), object(1)\n",
      "memory usage: 3.3+ MB\n"
     ]
    }
   ],
   "source": [
    "edu_df.info()"
   ]
  },
  {
   "cell_type": "code",
   "execution_count": 21,
   "metadata": {
    "trusted": false
   },
   "outputs": [
    {
     "name": "stdout",
     "output_type": "stream",
     "text": [
      "<class 'pandas.core.frame.DataFrame'>\n",
      "RangeIndex: 109610 entries, 0 to 109609\n",
      "Data columns (total 4 columns):\n",
      " #   Column       Non-Null Count   Dtype \n",
      "---  ------       --------------   ----- \n",
      " 0   id           109610 non-null  int64 \n",
      " 1   object_id    109610 non-null  object\n",
      " 2   degree_type  98392 non-null   object\n",
      " 3   subject      81298 non-null   object\n",
      "dtypes: int64(1), object(3)\n",
      "memory usage: 3.3+ MB\n"
     ]
    }
   ],
   "source": [
    "degrees_df.info()"
   ]
  },
  {
   "cell_type": "code",
   "execution_count": 22,
   "metadata": {
    "trusted": false
   },
   "outputs": [],
   "source": [
    "# Заполним пропуски в столбцах degree_type, subject\n",
    "degrees_df['degree_type'] = degrees_df['degree_type'].fillna('unknown')\n",
    "degrees_df['subject'] = degrees_df['subject'].fillna('unknown')"
   ]
  },
  {
   "cell_type": "code",
   "execution_count": 23,
   "metadata": {
    "trusted": false
   },
   "outputs": [
    {
     "name": "stdout",
     "output_type": "stream",
     "text": [
      "<class 'pandas.core.frame.DataFrame'>\n",
      "RangeIndex: 109610 entries, 0 to 109609\n",
      "Data columns (total 4 columns):\n",
      " #   Column       Non-Null Count   Dtype \n",
      "---  ------       --------------   ----- \n",
      " 0   id           109610 non-null  int64 \n",
      " 1   object_id    109610 non-null  object\n",
      " 2   degree_type  109610 non-null  object\n",
      " 3   subject      109610 non-null  object\n",
      "dtypes: int64(1), object(3)\n",
      "memory usage: 3.3+ MB\n"
     ]
    }
   ],
   "source": [
    "degrees_df.info()"
   ]
  },
  {
   "cell_type": "markdown",
   "metadata": {},
   "source": [
    "#### Промежуточный вывод:\n",
    "* Данные очищены от пропусков, типы данных преобразованы, и датасеты подготовлены к анализу;\n",
    "* Для выполнения задач проекта данных потенциально хватает."
   ]
  },
  {
   "cell_type": "markdown",
   "metadata": {
    "id": "u60cHsn6rJg1"
   },
   "source": [
    "## Шаг 2. Предобработка данных, предварительное исследование"
   ]
  },
  {
   "cell_type": "markdown",
   "metadata": {
    "id": "g2bHIIjcrJg1"
   },
   "source": [
    "\n",
    "### 2.1. Раунды финансирования по годам\n",
    "\n",
    "- Составим сводную таблицу по годам, в которой на основании столбца `raised_amount` для каждого года указан:\n",
    "    - типичный размер средств, выделяемый в рамках одного раунда;\n",
    "    - общее количество раундов финансирования за этот год.\n",
    "    \n",
    "- Оставим в таблице информацию только для тех лет, для которых есть информация о более чем 50 раундах финансирования.\n",
    "- На основе получившейся таблицы построим график, который будет отражать динамику типичного размера средств, которые стартапы получали в рамках одного раунда финансирования."
   ]
  },
  {
   "cell_type": "code",
   "execution_count": 24,
   "metadata": {
    "id": "Cf5IjfOQrJg1",
    "trusted": false
   },
   "outputs": [
    {
     "data": {
      "text/html": [
       "<div>\n",
       "<style scoped>\n",
       "    .dataframe tbody tr th:only-of-type {\n",
       "        vertical-align: middle;\n",
       "    }\n",
       "\n",
       "    .dataframe tbody tr th {\n",
       "        vertical-align: top;\n",
       "    }\n",
       "\n",
       "    .dataframe thead th {\n",
       "        text-align: right;\n",
       "    }\n",
       "</style>\n",
       "<table border=\"1\" class=\"dataframe\">\n",
       "  <thead>\n",
       "    <tr style=\"text-align: right;\">\n",
       "      <th></th>\n",
       "      <th>funding_rounds</th>\n",
       "      <th>raised_amount</th>\n",
       "    </tr>\n",
       "    <tr>\n",
       "      <th>funded_year</th>\n",
       "      <th></th>\n",
       "      <th></th>\n",
       "    </tr>\n",
       "  </thead>\n",
       "  <tbody>\n",
       "    <tr>\n",
       "      <th>1998.0</th>\n",
       "      <td>72.0</td>\n",
       "      <td>100000.0</td>\n",
       "    </tr>\n",
       "    <tr>\n",
       "      <th>1999.0</th>\n",
       "      <td>268.0</td>\n",
       "      <td>2000000.0</td>\n",
       "    </tr>\n",
       "    <tr>\n",
       "      <th>2000.0</th>\n",
       "      <td>403.0</td>\n",
       "      <td>4200000.0</td>\n",
       "    </tr>\n",
       "    <tr>\n",
       "      <th>2001.0</th>\n",
       "      <td>302.0</td>\n",
       "      <td>3000000.0</td>\n",
       "    </tr>\n",
       "    <tr>\n",
       "      <th>2002.0</th>\n",
       "      <td>385.0</td>\n",
       "      <td>4200000.0</td>\n",
       "    </tr>\n",
       "    <tr>\n",
       "      <th>2003.0</th>\n",
       "      <td>569.0</td>\n",
       "      <td>3000000.0</td>\n",
       "    </tr>\n",
       "    <tr>\n",
       "      <th>2004.0</th>\n",
       "      <td>1057.0</td>\n",
       "      <td>5000000.0</td>\n",
       "    </tr>\n",
       "    <tr>\n",
       "      <th>2005.0</th>\n",
       "      <td>4157.0</td>\n",
       "      <td>5500000.0</td>\n",
       "    </tr>\n",
       "    <tr>\n",
       "      <th>2006.0</th>\n",
       "      <td>6295.0</td>\n",
       "      <td>5000000.0</td>\n",
       "    </tr>\n",
       "    <tr>\n",
       "      <th>2007.0</th>\n",
       "      <td>8494.0</td>\n",
       "      <td>4000000.0</td>\n",
       "    </tr>\n",
       "    <tr>\n",
       "      <th>2008.0</th>\n",
       "      <td>9931.0</td>\n",
       "      <td>3152000.0</td>\n",
       "    </tr>\n",
       "    <tr>\n",
       "      <th>2009.0</th>\n",
       "      <td>11857.0</td>\n",
       "      <td>2000000.0</td>\n",
       "    </tr>\n",
       "    <tr>\n",
       "      <th>2010.0</th>\n",
       "      <td>16913.0</td>\n",
       "      <td>1625290.0</td>\n",
       "    </tr>\n",
       "    <tr>\n",
       "      <th>2011.0</th>\n",
       "      <td>23503.0</td>\n",
       "      <td>1200000.0</td>\n",
       "    </tr>\n",
       "    <tr>\n",
       "      <th>2012.0</th>\n",
       "      <td>24549.0</td>\n",
       "      <td>1000000.0</td>\n",
       "    </tr>\n",
       "    <tr>\n",
       "      <th>2013.0</th>\n",
       "      <td>23978.0</td>\n",
       "      <td>1200000.0</td>\n",
       "    </tr>\n",
       "  </tbody>\n",
       "</table>\n",
       "</div>"
      ],
      "text/plain": [
       "             funding_rounds  raised_amount\n",
       "funded_year                               \n",
       "1998.0                 72.0       100000.0\n",
       "1999.0                268.0      2000000.0\n",
       "2000.0                403.0      4200000.0\n",
       "2001.0                302.0      3000000.0\n",
       "2002.0                385.0      4200000.0\n",
       "2003.0                569.0      3000000.0\n",
       "2004.0               1057.0      5000000.0\n",
       "2005.0               4157.0      5500000.0\n",
       "2006.0               6295.0      5000000.0\n",
       "2007.0               8494.0      4000000.0\n",
       "2008.0               9931.0      3152000.0\n",
       "2009.0              11857.0      2000000.0\n",
       "2010.0              16913.0      1625290.0\n",
       "2011.0              23503.0      1200000.0\n",
       "2012.0              24549.0      1000000.0\n",
       "2013.0              23978.0      1200000.0"
      ]
     },
     "metadata": {},
     "output_type": "display_data"
    }
   ],
   "source": [
    "# Выделим из даты финансирования год\n",
    "comp_rounds_df['funded_year'] = comp_rounds_df['funded_at'].dt.year\n",
    "# Создадим сводную таблицу, предварительно отфильтровав условные значения, которыми мы заменяли пропуски\n",
    "pivot = comp_rounds_df[(comp_rounds_df['funded_at'] != '1970-01-01') \n",
    "                       & (comp_rounds_df['funding_rounds'] != -1)\n",
    "                       & (comp_rounds_df['raised_amount'] != -1)].pivot_table(\n",
    "    values = ['raised_amount', 'funding_rounds'], index = 'funded_year', \n",
    "    aggfunc = {'raised_amount' : 'median', 'funding_rounds': 'sum'})\n",
    "pivot['raised_amount'] = round(pivot['raised_amount'], 2)\n",
    "# Отфильтруем года, где менее 50 раундов финансирования\n",
    "pivot = pivot[pivot['funding_rounds'] > 50]\n",
    "display(pivot)"
   ]
  },
  {
   "cell_type": "code",
   "execution_count": 25,
   "metadata": {
    "trusted": false
   },
   "outputs": [
    {
     "data": {
      "image/png": "[encoded data removed]",
      "text/plain": [
       "<Figure size 864x432 with 1 Axes>"
      ]
     },
     "metadata": {
      "needs_background": "light"
     },
     "output_type": "display_data"
    }
   ],
   "source": [
    "plt.figure(figsize=(12, 6))\n",
    "\n",
    "pivot['raised_amount'].plot(\n",
    "               kind='bar', \n",
    "               rot=0, \n",
    "               legend=False,\n",
    "               title='Распределение величины финансирования по годам')\n",
    "plt.xlabel('Год')\n",
    "plt.ylabel('Медианный объем финансирования (в $ млн.)')\n",
    "plt.grid()\n",
    "\n",
    "plt.show()"
   ]
  },
  {
   "cell_type": "markdown",
   "metadata": {
    "id": "8Fbz6KmzFdYP"
   },
   "source": [
    "#### Промежуточный вывод:\n",
    "* Наибольшая сумма финансирования за год составляет **5500000** в 2005 году, при этом раундов в году выделяется **4157**;\n",
    "* 2013 год выделяется на фоне остальных по количеству раундов финансирования: тенденция с 1998 г. показывает, что с каждым годом кол-во раундов постепенно растет, а 2013 год впервые за весь период имеет показатель, хоть и незначительно, но ниже предшественника: кол-во раундов снизилось с **24549** в 2012 году до **23978** в 2013 году."
   ]
  },
  {
   "cell_type": "markdown",
   "metadata": {
    "id": "45if1en1rJg2"
   },
   "source": [
    "\n",
    "### 2.2. Люди и их образование\n",
    "\n",
    "Заказчик хочет понять, зависит ли полнота сведений о сотрудниках (например, об их образовании) от размера компаний.\n",
    "\n",
    "- Оценим, насколько информация об образовании сотрудников полна. Используя датасеты `people.csv` и `education.csv`, разделим все компании на несколько групп по количеству сотрудников и оценим среднюю долю сотрудников без информации об образовании в каждой из групп.\n",
    "- Проверим, возможно ли для выполнения задания присоединить к этим таблицам ещё и таблицу `degrees.csv`."
   ]
  },
  {
   "cell_type": "code",
   "execution_count": 26,
   "metadata": {
    "trusted": false
   },
   "outputs": [
    {
     "data": {
      "text/html": [
       "<div>\n",
       "<style scoped>\n",
       "    .dataframe tbody tr th:only-of-type {\n",
       "        vertical-align: middle;\n",
       "    }\n",
       "\n",
       "    .dataframe tbody tr th {\n",
       "        vertical-align: top;\n",
       "    }\n",
       "\n",
       "    .dataframe thead th {\n",
       "        text-align: right;\n",
       "    }\n",
       "</style>\n",
       "<table border=\"1\" class=\"dataframe\">\n",
       "  <thead>\n",
       "    <tr style=\"text-align: right;\">\n",
       "      <th></th>\n",
       "      <th>id</th>\n",
       "      <th>person_id</th>\n",
       "      <th>instituition</th>\n",
       "      <th>graduated_at</th>\n",
       "      <th>object_id</th>\n",
       "      <th>degree_type</th>\n",
       "      <th>subject</th>\n",
       "    </tr>\n",
       "  </thead>\n",
       "  <tbody>\n",
       "    <tr>\n",
       "      <th>0</th>\n",
       "      <td>1</td>\n",
       "      <td>6117</td>\n",
       "      <td>NaN</td>\n",
       "      <td>1970-01-01</td>\n",
       "      <td>p:6117</td>\n",
       "      <td>MBA</td>\n",
       "      <td>unknown</td>\n",
       "    </tr>\n",
       "    <tr>\n",
       "      <th>1</th>\n",
       "      <td>2</td>\n",
       "      <td>6136</td>\n",
       "      <td>Washington University, St. Louis</td>\n",
       "      <td>1990-01-01</td>\n",
       "      <td>p:6136</td>\n",
       "      <td>BA</td>\n",
       "      <td>English, French</td>\n",
       "    </tr>\n",
       "    <tr>\n",
       "      <th>2</th>\n",
       "      <td>3</td>\n",
       "      <td>6136</td>\n",
       "      <td>Boston University</td>\n",
       "      <td>1992-01-01</td>\n",
       "      <td>p:6136</td>\n",
       "      <td>MS</td>\n",
       "      <td>Mass Communication</td>\n",
       "    </tr>\n",
       "    <tr>\n",
       "      <th>3</th>\n",
       "      <td>4</td>\n",
       "      <td>6005</td>\n",
       "      <td>University of Greenwich</td>\n",
       "      <td>2006-01-01</td>\n",
       "      <td>p:6005</td>\n",
       "      <td>MS</td>\n",
       "      <td>Internet Technology</td>\n",
       "    </tr>\n",
       "    <tr>\n",
       "      <th>4</th>\n",
       "      <td>5</td>\n",
       "      <td>5832</td>\n",
       "      <td>Rice University</td>\n",
       "      <td>1970-01-01</td>\n",
       "      <td>p:5832</td>\n",
       "      <td>BCS</td>\n",
       "      <td>Computer Science, Psychology</td>\n",
       "    </tr>\n",
       "    <tr>\n",
       "      <th>5</th>\n",
       "      <td>6</td>\n",
       "      <td>1017</td>\n",
       "      <td>Northeastern University</td>\n",
       "      <td>1988-01-01</td>\n",
       "      <td>p:1017</td>\n",
       "      <td>BS</td>\n",
       "      <td>Computer Science</td>\n",
       "    </tr>\n",
       "    <tr>\n",
       "      <th>6</th>\n",
       "      <td>7</td>\n",
       "      <td>6176</td>\n",
       "      <td>Rochester Institute of Technology</td>\n",
       "      <td>2002-01-01</td>\n",
       "      <td>p:6176</td>\n",
       "      <td>BS</td>\n",
       "      <td>Computer Science</td>\n",
       "    </tr>\n",
       "    <tr>\n",
       "      <th>7</th>\n",
       "      <td>8</td>\n",
       "      <td>5412</td>\n",
       "      <td>University of Cambridge</td>\n",
       "      <td>2002-01-01</td>\n",
       "      <td>p:5412</td>\n",
       "      <td>MS</td>\n",
       "      <td>Politics</td>\n",
       "    </tr>\n",
       "    <tr>\n",
       "      <th>8</th>\n",
       "      <td>9</td>\n",
       "      <td>1243</td>\n",
       "      <td>University of Oregon</td>\n",
       "      <td>1997-01-01</td>\n",
       "      <td>p:1243</td>\n",
       "      <td>BA</td>\n",
       "      <td>International Business &amp; Marketing</td>\n",
       "    </tr>\n",
       "    <tr>\n",
       "      <th>9</th>\n",
       "      <td>10</td>\n",
       "      <td>6265</td>\n",
       "      <td>University of Pennsylvania</td>\n",
       "      <td>1989-01-01</td>\n",
       "      <td>p:6265</td>\n",
       "      <td>BS</td>\n",
       "      <td>Economics</td>\n",
       "    </tr>\n",
       "  </tbody>\n",
       "</table>\n",
       "</div>"
      ],
      "text/plain": [
       "   id  person_id                       instituition graduated_at object_id  \\\n",
       "0   1       6117                                NaN   1970-01-01    p:6117   \n",
       "1   2       6136   Washington University, St. Louis   1990-01-01    p:6136   \n",
       "2   3       6136                  Boston University   1992-01-01    p:6136   \n",
       "3   4       6005            University of Greenwich   2006-01-01    p:6005   \n",
       "4   5       5832                    Rice University   1970-01-01    p:5832   \n",
       "5   6       1017            Northeastern University   1988-01-01    p:1017   \n",
       "6   7       6176  Rochester Institute of Technology   2002-01-01    p:6176   \n",
       "7   8       5412            University of Cambridge   2002-01-01    p:5412   \n",
       "8   9       1243               University of Oregon   1997-01-01    p:1243   \n",
       "9  10       6265         University of Pennsylvania   1989-01-01    p:6265   \n",
       "\n",
       "  degree_type                             subject  \n",
       "0         MBA                             unknown  \n",
       "1          BA                     English, French  \n",
       "2          MS                  Mass Communication  \n",
       "3          MS                 Internet Technology  \n",
       "4         BCS        Computer Science, Psychology  \n",
       "5          BS                    Computer Science  \n",
       "6          BS                    Computer Science  \n",
       "7          MS                            Politics  \n",
       "8          BA  International Business & Marketing  \n",
       "9          BS                           Economics  "
      ]
     },
     "execution_count": 26,
     "metadata": {},
     "output_type": "execute_result"
    }
   ],
   "source": [
    "degrees_edu_df = edu_df.merge(degrees_df, on = 'id', how = 'inner')\n",
    "degrees_edu_df.head(10)"
   ]
  },
  {
   "cell_type": "code",
   "execution_count": 27,
   "metadata": {
    "trusted": false
   },
   "outputs": [],
   "source": [
    "# Сделаем столбец, с True или False в зависимости от отсутствия информации об образования\n",
    "degrees_edu_df['no_edu'] = (pd.isna(degrees_edu_df['instituition']) | \n",
    "                            (degrees_edu_df['degree_type'] == 'unknown') |\n",
    "                            (degrees_edu_df['subject'] == 'unknown'))"
   ]
  },
  {
   "cell_type": "code",
   "execution_count": 28,
   "metadata": {
    "trusted": false
   },
   "outputs": [],
   "source": [
    "# Посчитаем кол-во сотрудников в компаниях\n",
    "people_in_comp = people_df.groupby('company_id')['id'].nunique()\n",
    "people_df['people_in_comp'] = pd.Series(people_in_comp)\n",
    "# Напишем цикл, который проставит категории компаний\n",
    "comp_type = []\n",
    "for i in people_df['people_in_comp']:\n",
    "    if i == 1:\n",
    "        comp_type.append('Бизнес из 1 человека')\n",
    "    elif 1 < i <= 10:\n",
    "        comp_type.append('Микропредприятие')\n",
    "    elif 11 <= i <= 30:\n",
    "        comp_type.append('Малый бизнес')\n",
    "    elif 31 <= i <= 100:\n",
    "        comp_type.append('Средний бизнес')\n",
    "    elif i > 100:\n",
    "        comp_type.append('Крупный бизнес')\n",
    "    else:\n",
    "        comp_type.append('Нет информации')\n",
    "people_df['comp_type'] = pd.Series(comp_type)"
   ]
  },
  {
   "cell_type": "code",
   "execution_count": 29,
   "metadata": {
    "id": "psPO7C4MrJg2",
    "trusted": false
   },
   "outputs": [
    {
     "name": "stdout",
     "output_type": "stream",
     "text": [
      "<class 'pandas.core.frame.DataFrame'>\n",
      "Int64Index: 109056 entries, 0 to 109055\n",
      "Data columns (total 15 columns):\n",
      " #   Column            Non-Null Count   Dtype         \n",
      "---  ------            --------------   -----         \n",
      " 0   id_x              109056 non-null  int64         \n",
      " 1   first_name        109056 non-null  object        \n",
      " 2   last_name         109056 non-null  object        \n",
      " 3   company_id        28638 non-null   float64       \n",
      " 4   network_username  109056 non-null  object        \n",
      " 5   people_in_comp    8643 non-null    float64       \n",
      " 6   comp_type         109056 non-null  object        \n",
      " 7   id_y              109056 non-null  int64         \n",
      " 8   person_id         109056 non-null  int64         \n",
      " 9   instituition      109002 non-null  object        \n",
      " 10  graduated_at      109056 non-null  datetime64[ns]\n",
      " 11  object_id         109056 non-null  object        \n",
      " 12  degree_type       109056 non-null  object        \n",
      " 13  subject           109056 non-null  object        \n",
      " 14  no_edu            109056 non-null  bool          \n",
      "dtypes: bool(1), datetime64[ns](1), float64(2), int64(3), object(8)\n",
      "memory usage: 12.6+ MB\n"
     ]
    },
    {
     "data": {
      "text/html": [
       "<div>\n",
       "<style scoped>\n",
       "    .dataframe tbody tr th:only-of-type {\n",
       "        vertical-align: middle;\n",
       "    }\n",
       "\n",
       "    .dataframe tbody tr th {\n",
       "        vertical-align: top;\n",
       "    }\n",
       "\n",
       "    .dataframe thead th {\n",
       "        text-align: right;\n",
       "    }\n",
       "</style>\n",
       "<table border=\"1\" class=\"dataframe\">\n",
       "  <thead>\n",
       "    <tr style=\"text-align: right;\">\n",
       "      <th></th>\n",
       "      <th>id_x</th>\n",
       "      <th>first_name</th>\n",
       "      <th>last_name</th>\n",
       "      <th>company_id</th>\n",
       "      <th>network_username</th>\n",
       "      <th>people_in_comp</th>\n",
       "      <th>comp_type</th>\n",
       "      <th>id_y</th>\n",
       "      <th>person_id</th>\n",
       "      <th>instituition</th>\n",
       "      <th>graduated_at</th>\n",
       "      <th>object_id</th>\n",
       "      <th>degree_type</th>\n",
       "      <th>subject</th>\n",
       "      <th>no_edu</th>\n",
       "    </tr>\n",
       "  </thead>\n",
       "  <tbody>\n",
       "    <tr>\n",
       "      <th>0</th>\n",
       "      <td>10</td>\n",
       "      <td>Mark</td>\n",
       "      <td>Zuckerberg</td>\n",
       "      <td>5.0</td>\n",
       "      <td>unknown</td>\n",
       "      <td>NaN</td>\n",
       "      <td>Нет информации</td>\n",
       "      <td>2415</td>\n",
       "      <td>10</td>\n",
       "      <td>Harvard University</td>\n",
       "      <td>1970-01-01</td>\n",
       "      <td>p:10</td>\n",
       "      <td>unknown</td>\n",
       "      <td>Computer Science</td>\n",
       "      <td>True</td>\n",
       "    </tr>\n",
       "    <tr>\n",
       "      <th>1</th>\n",
       "      <td>100006</td>\n",
       "      <td>Courtney</td>\n",
       "      <td>Homer</td>\n",
       "      <td>81558.0</td>\n",
       "      <td>jobsbostontech</td>\n",
       "      <td>NaN</td>\n",
       "      <td>Нет информации</td>\n",
       "      <td>83604</td>\n",
       "      <td>100006</td>\n",
       "      <td>MIT Sloan School of Management</td>\n",
       "      <td>2004-01-01</td>\n",
       "      <td>p:100006</td>\n",
       "      <td>MBA</td>\n",
       "      <td>Strategy &amp; Marketing</td>\n",
       "      <td>False</td>\n",
       "    </tr>\n",
       "    <tr>\n",
       "      <th>2</th>\n",
       "      <td>100013</td>\n",
       "      <td>Umesh</td>\n",
       "      <td>Singh</td>\n",
       "      <td>NaN</td>\n",
       "      <td>unknown</td>\n",
       "      <td>5.0</td>\n",
       "      <td>Микропредприятие</td>\n",
       "      <td>36786</td>\n",
       "      <td>100013</td>\n",
       "      <td>Rutgers University</td>\n",
       "      <td>1970-01-01</td>\n",
       "      <td>p:100013</td>\n",
       "      <td>MBA</td>\n",
       "      <td>Finance</td>\n",
       "      <td>False</td>\n",
       "    </tr>\n",
       "    <tr>\n",
       "      <th>3</th>\n",
       "      <td>100013</td>\n",
       "      <td>Umesh</td>\n",
       "      <td>Singh</td>\n",
       "      <td>NaN</td>\n",
       "      <td>unknown</td>\n",
       "      <td>5.0</td>\n",
       "      <td>Микропредприятие</td>\n",
       "      <td>36787</td>\n",
       "      <td>100013</td>\n",
       "      <td>University of Mumbai</td>\n",
       "      <td>1970-01-01</td>\n",
       "      <td>p:100013</td>\n",
       "      <td>MS</td>\n",
       "      <td>Physical Chemistry</td>\n",
       "      <td>False</td>\n",
       "    </tr>\n",
       "    <tr>\n",
       "      <th>4</th>\n",
       "      <td>100018</td>\n",
       "      <td>Adam</td>\n",
       "      <td>Beckerman</td>\n",
       "      <td>148554.0</td>\n",
       "      <td>adam_beckerman</td>\n",
       "      <td>3.0</td>\n",
       "      <td>Микропредприятие</td>\n",
       "      <td>14433</td>\n",
       "      <td>100018</td>\n",
       "      <td>Columbia University, Business School</td>\n",
       "      <td>2004-01-01</td>\n",
       "      <td>p:100018</td>\n",
       "      <td>MBA</td>\n",
       "      <td>Entrepreneurship, Marketing</td>\n",
       "      <td>False</td>\n",
       "    </tr>\n",
       "    <tr>\n",
       "      <th>5</th>\n",
       "      <td>100018</td>\n",
       "      <td>Adam</td>\n",
       "      <td>Beckerman</td>\n",
       "      <td>148554.0</td>\n",
       "      <td>adam_beckerman</td>\n",
       "      <td>3.0</td>\n",
       "      <td>Микропредприятие</td>\n",
       "      <td>14434</td>\n",
       "      <td>100018</td>\n",
       "      <td>University of Maryland, College Park</td>\n",
       "      <td>1996-01-01</td>\n",
       "      <td>p:100018</td>\n",
       "      <td>BS</td>\n",
       "      <td>Marketing, French</td>\n",
       "      <td>False</td>\n",
       "    </tr>\n",
       "    <tr>\n",
       "      <th>6</th>\n",
       "      <td>100031</td>\n",
       "      <td>Sandeep</td>\n",
       "      <td>Hegde</td>\n",
       "      <td>81576.0</td>\n",
       "      <td>sandeephegde</td>\n",
       "      <td>3.0</td>\n",
       "      <td>Микропредприятие</td>\n",
       "      <td>14436</td>\n",
       "      <td>100031</td>\n",
       "      <td>Gogte Institute of Technology</td>\n",
       "      <td>2010-01-01</td>\n",
       "      <td>p:100031</td>\n",
       "      <td>BS</td>\n",
       "      <td>Information Science &amp; Engineering</td>\n",
       "      <td>False</td>\n",
       "    </tr>\n",
       "    <tr>\n",
       "      <th>7</th>\n",
       "      <td>100036</td>\n",
       "      <td>Angela</td>\n",
       "      <td>Chu</td>\n",
       "      <td>NaN</td>\n",
       "      <td>unknown</td>\n",
       "      <td>8.0</td>\n",
       "      <td>Микропредприятие</td>\n",
       "      <td>14437</td>\n",
       "      <td>100036</td>\n",
       "      <td>Qingdao University of Science &amp; Technology</td>\n",
       "      <td>2010-01-01</td>\n",
       "      <td>p:100036</td>\n",
       "      <td>BS</td>\n",
       "      <td>pharmaceutical</td>\n",
       "      <td>False</td>\n",
       "    </tr>\n",
       "    <tr>\n",
       "      <th>8</th>\n",
       "      <td>100045</td>\n",
       "      <td>Sebastian</td>\n",
       "      <td>Toke-Nichols</td>\n",
       "      <td>NaN</td>\n",
       "      <td>sebastian686</td>\n",
       "      <td>NaN</td>\n",
       "      <td>Нет информации</td>\n",
       "      <td>14439</td>\n",
       "      <td>100045</td>\n",
       "      <td>Imperial College, London</td>\n",
       "      <td>1982-01-01</td>\n",
       "      <td>p:100045</td>\n",
       "      <td>BS</td>\n",
       "      <td>Engineering</td>\n",
       "      <td>False</td>\n",
       "    </tr>\n",
       "    <tr>\n",
       "      <th>9</th>\n",
       "      <td>100049</td>\n",
       "      <td>Mike</td>\n",
       "      <td>Cannady</td>\n",
       "      <td>63.0</td>\n",
       "      <td>unknown</td>\n",
       "      <td>5.0</td>\n",
       "      <td>Микропредприятие</td>\n",
       "      <td>32494</td>\n",
       "      <td>100049</td>\n",
       "      <td>New York University (NYU)</td>\n",
       "      <td>1970-01-01</td>\n",
       "      <td>p:100049</td>\n",
       "      <td>MBA</td>\n",
       "      <td>Entertainment, Media &amp; Technology and Corporat...</td>\n",
       "      <td>False</td>\n",
       "    </tr>\n",
       "  </tbody>\n",
       "</table>\n",
       "</div>"
      ],
      "text/plain": [
       "     id_x first_name     last_name  company_id network_username  \\\n",
       "0      10       Mark    Zuckerberg         5.0          unknown   \n",
       "1  100006   Courtney         Homer     81558.0   jobsbostontech   \n",
       "2  100013      Umesh         Singh         NaN          unknown   \n",
       "3  100013      Umesh         Singh         NaN          unknown   \n",
       "4  100018       Adam     Beckerman    148554.0   adam_beckerman   \n",
       "5  100018       Adam     Beckerman    148554.0   adam_beckerman   \n",
       "6  100031    Sandeep         Hegde     81576.0     sandeephegde   \n",
       "7  100036     Angela           Chu         NaN          unknown   \n",
       "8  100045  Sebastian  Toke-Nichols         NaN     sebastian686   \n",
       "9  100049       Mike       Cannady        63.0          unknown   \n",
       "\n",
       "   people_in_comp         comp_type   id_y  person_id  \\\n",
       "0             NaN    Нет информации   2415         10   \n",
       "1             NaN    Нет информации  83604     100006   \n",
       "2             5.0  Микропредприятие  36786     100013   \n",
       "3             5.0  Микропредприятие  36787     100013   \n",
       "4             3.0  Микропредприятие  14433     100018   \n",
       "5             3.0  Микропредприятие  14434     100018   \n",
       "6             3.0  Микропредприятие  14436     100031   \n",
       "7             8.0  Микропредприятие  14437     100036   \n",
       "8             NaN    Нет информации  14439     100045   \n",
       "9             5.0  Микропредприятие  32494     100049   \n",
       "\n",
       "                                 instituition graduated_at object_id  \\\n",
       "0                          Harvard University   1970-01-01      p:10   \n",
       "1              MIT Sloan School of Management   2004-01-01  p:100006   \n",
       "2                          Rutgers University   1970-01-01  p:100013   \n",
       "3                        University of Mumbai   1970-01-01  p:100013   \n",
       "4        Columbia University, Business School   2004-01-01  p:100018   \n",
       "5        University of Maryland, College Park   1996-01-01  p:100018   \n",
       "6               Gogte Institute of Technology   2010-01-01  p:100031   \n",
       "7  Qingdao University of Science & Technology   2010-01-01  p:100036   \n",
       "8                    Imperial College, London   1982-01-01  p:100045   \n",
       "9                   New York University (NYU)   1970-01-01  p:100049   \n",
       "\n",
       "  degree_type                                            subject  no_edu  \n",
       "0     unknown                                   Computer Science    True  \n",
       "1         MBA                               Strategy & Marketing   False  \n",
       "2         MBA                                            Finance   False  \n",
       "3          MS                                 Physical Chemistry   False  \n",
       "4         MBA                        Entrepreneurship, Marketing   False  \n",
       "5          BS                                  Marketing, French   False  \n",
       "6          BS                  Information Science & Engineering   False  \n",
       "7          BS                                     pharmaceutical   False  \n",
       "8          BS                                        Engineering   False  \n",
       "9         MBA  Entertainment, Media & Technology and Corporat...   False  "
      ]
     },
     "execution_count": 29,
     "metadata": {},
     "output_type": "execute_result"
    }
   ],
   "source": [
    "# Смёрджим датафреймы\n",
    "peop_edu_df = pd.merge(people_df, degrees_edu_df, left_on = 'id', right_on = 'person_id', how = 'inner')\n",
    "peop_edu_df.info()\n",
    "peop_edu_df.head(10)"
   ]
  },
  {
   "cell_type": "code",
   "execution_count": 30,
   "metadata": {
    "trusted": false
   },
   "outputs": [
    {
     "data": {
      "text/plain": [
       "comp_type\n",
       "Бизнес из 1 человека    0.295\n",
       "Крупный бизнес          0.000\n",
       "Малый бизнес            0.015\n",
       "Микропредприятие        0.094\n",
       "Средний бизнес          0.010\n",
       "dtype: float64"
      ]
     },
     "execution_count": 30,
     "metadata": {},
     "output_type": "execute_result"
    }
   ],
   "source": [
    "round(peop_edu_df[peop_edu_df['comp_type'] != 'Нет информации'].groupby('comp_type')['no_edu'].sum()/\n",
    "      peop_edu_df[peop_edu_df['comp_type'] != 'Нет информации'].groupby('comp_type')['people_in_comp'].sum(), 3)"
   ]
  },
  {
   "cell_type": "markdown",
   "metadata": {},
   "source": [
    "#### Промежуточный вывод:\n",
    "* Судя по долям, в районе 30% `Бизнесов из 1 человека` не имеют информации об образовании в данных, также в районе 1% сотрудников `Микропредприятий` и `Среднего бизнеса`;\n",
    "* В `Малом бизнесе` доля сотрудников без информации об образовании ближе к 2%."
   ]
  },
  {
   "cell_type": "markdown",
   "metadata": {
    "id": "Lz7qjM32xglW"
   },
   "source": [
    "### 2.3. Объединять или не объединять — вот в чём вопрос\n",
    "\n",
    "Некоторые названия столбцов встречаются в датасетах чаще других. В результате предварительной проверки датасетов было выяснено, что столбец `company_id` подходит для объединения данных.\n",
    "\n",
    "- Посмотрим, подходит ли для объединения данных столбец `network_username`, который встречается в нескольких датасетах. Нам необходимо понимать, дублируется ли для разных датасетов информация в столбцах с таким названием, и если да — то насколько часто.\n",
    "- Оценим, можно ли использовать столбцы с именем `network_username` для объединения данных."
   ]
  },
  {
   "cell_type": "markdown",
   "metadata": {},
   "source": [
    "Столбец `network_username` присутствует в двух датасетах people_df и comp_rounds_df. Проверим, подходят ли они для мёрджинга."
   ]
  },
  {
   "cell_type": "code",
   "execution_count": 31,
   "metadata": {
    "id": "zyI3rt0rxg1O",
    "trusted": false
   },
   "outputs": [],
   "source": [
    "unique_people = set(people_df['network_username'])\n",
    "unique_comp_rounds = set(comp_rounds_df['network_username'])"
   ]
  },
  {
   "cell_type": "code",
   "execution_count": 32,
   "metadata": {
    "trusted": false
   },
   "outputs": [
    {
     "data": {
      "text/plain": [
       "'Количество совпадающих уникальных ников: 2200'"
      ]
     },
     "metadata": {},
     "output_type": "display_data"
    },
    {
     "data": {
      "text/plain": [
       "'Процент совпадающих ников от уникальных в people_df: 0.06'"
      ]
     },
     "metadata": {},
     "output_type": "display_data"
    },
    {
     "data": {
      "text/plain": [
       "'Процент совпадающих ников от уникальных в comp_rounds_df: 0.03'"
      ]
     },
     "metadata": {},
     "output_type": "display_data"
    }
   ],
   "source": [
    "match = unique_people.intersection(unique_comp_rounds)\n",
    "display(f'Количество совпадающих уникальных ников: {len(match)}')\n",
    "display(f'Процент совпадающих ников от уникальных в people_df: {round(len(match)/len(unique_people), 2)}')\n",
    "display(f'Процент совпадающих ников от уникальных в comp_rounds_df: {round(len(match)/len(unique_comp_rounds), 2)}')"
   ]
  },
  {
   "cell_type": "markdown",
   "metadata": {
    "id": "_7gjdrGOFcB2"
   },
   "source": [
    "Столбец не подходит для объединения датафреймов, так как количество совпадающих строк имеет незначительную долю относительно кол-ва уникальных строк `network_username` в обоих датасетах, и результат может быть некорректным из-за количества пропусков."
   ]
  },
  {
   "cell_type": "markdown",
   "metadata": {
    "id": "EHcODomVrJg1"
   },
   "source": [
    "\n",
    "### 2.4. Проблемный датасет и причина возникновения пропусков\n",
    "\n",
    "Во время собственного анализа данных у заказчика больше всего вопросов возникло к датасету `company_and_rounds.csv`. В нём много пропусков как раз в информации о раундах, которая заказчику важна.\n",
    "\n",
    "- Приведем данные в вид, который позволит в дальнейшем проводить анализ в разрезе отдельных компаний. Обратите внимание на структуру датасета, порядок и названия столбцов, проанализируйте значения.\n",
    "\n",
    "По гипотезе заказчика данные по компаниям из этой таблицы раньше хранились иначе, более удобным для исследования образом."
   ]
  },
  {
   "cell_type": "code",
   "execution_count": 33,
   "metadata": {
    "id": "oSk7xqu_FbaN",
    "trusted": false
   },
   "outputs": [
    {
     "name": "stdout",
     "output_type": "stream",
     "text": [
      "<class 'pandas.core.frame.DataFrame'>\n",
      "Int64Index: 217472 entries, 0 to 217471\n",
      "Data columns (total 23 columns):\n",
      " #   Column               Non-Null Count   Dtype         \n",
      "---  ------               --------------   -----         \n",
      " 0   company_id           217472 non-null  int32         \n",
      " 1   name                 217472 non-null  object        \n",
      " 2   category_code        217472 non-null  object        \n",
      " 3   status               217472 non-null  object        \n",
      " 4   founded_at           217472 non-null  datetime64[ns]\n",
      " 5   closed_at            217472 non-null  datetime64[ns]\n",
      " 6   domain               217472 non-null  object        \n",
      " 7   network_username     217472 non-null  object        \n",
      " 8   country_code         217472 non-null  object        \n",
      " 9   investment_rounds    217472 non-null  int32         \n",
      " 10  funding_rounds       217472 non-null  float64       \n",
      " 11  funding_total        217472 non-null  float64       \n",
      " 12  milestones           217472 non-null  float64       \n",
      " 13  funding_round_id     52626 non-null   float64       \n",
      " 14  funded_at            52382 non-null   datetime64[ns]\n",
      " 15  funding_round_type   52626 non-null   object        \n",
      " 16  raised_amount        52626 non-null   float64       \n",
      " 17  pre_money_valuation  52626 non-null   float64       \n",
      " 18  participants         52626 non-null   float64       \n",
      " 19  is_first_round       52626 non-null   float64       \n",
      " 20  is_last_round        52626 non-null   float64       \n",
      " 21  company_id_1         52626 non-null   float64       \n",
      " 22  funded_year          52382 non-null   float64       \n",
      "dtypes: datetime64[ns](3), float64(11), int32(2), object(7)\n",
      "memory usage: 38.2+ MB\n"
     ]
    }
   ],
   "source": [
    "comp_rounds_df.info()"
   ]
  },
  {
   "cell_type": "markdown",
   "metadata": {
    "id": "9BY9lTUcFbJ-"
   },
   "source": [
    "Ранее мы не заполнили пропуски в столбцах с 13 по 21 именно потому, что предположили, что company_and_rounds - это две соединенные таблицы: company и rounds. Вероятно, этим и вызвано такое количество пропусков во второй таблице: она была присоединена с помощью `pd.merge(how = left)`. Попробуем их разъединить на две таблицы."
   ]
  },
  {
   "cell_type": "code",
   "execution_count": 34,
   "metadata": {
    "id": "tJ6Sl6MKrJg1",
    "trusted": false
   },
   "outputs": [],
   "source": [
    "company_df = comp_rounds_df.iloc[:, 0:13]"
   ]
  },
  {
   "cell_type": "code",
   "execution_count": 35,
   "metadata": {
    "trusted": false
   },
   "outputs": [],
   "source": [
    "rounds_df = comp_rounds_df.iloc[:, 13:23]"
   ]
  },
  {
   "cell_type": "code",
   "execution_count": 36,
   "metadata": {
    "trusted": false
   },
   "outputs": [
    {
     "name": "stdout",
     "output_type": "stream",
     "text": [
      "<class 'pandas.core.frame.DataFrame'>\n",
      "Int64Index: 217472 entries, 0 to 217471\n",
      "Data columns (total 10 columns):\n",
      " #   Column               Non-Null Count  Dtype         \n",
      "---  ------               --------------  -----         \n",
      " 0   funding_round_id     52626 non-null  float64       \n",
      " 1   funded_at            52382 non-null  datetime64[ns]\n",
      " 2   funding_round_type   52626 non-null  object        \n",
      " 3   raised_amount        52626 non-null  float64       \n",
      " 4   pre_money_valuation  52626 non-null  float64       \n",
      " 5   participants         52626 non-null  float64       \n",
      " 6   is_first_round       52626 non-null  float64       \n",
      " 7   is_last_round        52626 non-null  float64       \n",
      " 8   company_id_1         52626 non-null  float64       \n",
      " 9   funded_year          52382 non-null  float64       \n",
      "dtypes: datetime64[ns](1), float64(8), object(1)\n",
      "memory usage: 18.3+ MB\n"
     ]
    }
   ],
   "source": [
    "rounds_df.info()"
   ]
  },
  {
   "cell_type": "code",
   "execution_count": 37,
   "metadata": {
    "trusted": false
   },
   "outputs": [
    {
     "name": "stdout",
     "output_type": "stream",
     "text": [
      "<class 'pandas.core.frame.DataFrame'>\n",
      "Int64Index: 52382 entries, 0 to 217471\n",
      "Data columns (total 10 columns):\n",
      " #   Column               Non-Null Count  Dtype         \n",
      "---  ------               --------------  -----         \n",
      " 0   funding_round_id     52382 non-null  float64       \n",
      " 1   funded_at            52382 non-null  datetime64[ns]\n",
      " 2   funding_round_type   52382 non-null  object        \n",
      " 3   raised_amount        52382 non-null  float64       \n",
      " 4   pre_money_valuation  52382 non-null  float64       \n",
      " 5   participants         52382 non-null  float64       \n",
      " 6   is_first_round       52382 non-null  float64       \n",
      " 7   is_last_round        52382 non-null  float64       \n",
      " 8   company_id_1         52382 non-null  float64       \n",
      " 9   funded_year          52382 non-null  float64       \n",
      "dtypes: datetime64[ns](1), float64(8), object(1)\n",
      "memory usage: 4.4+ MB\n"
     ]
    }
   ],
   "source": [
    "# Удалим пустые значения\n",
    "rounds_df = rounds_df.dropna()\n",
    "rounds_df.info()"
   ]
  },
  {
   "cell_type": "markdown",
   "metadata": {
    "id": "bmVYhphNrJg2"
   },
   "source": [
    "\n",
    "## Шаг 3. Исследовательский анализ объединённых таблиц"
   ]
  },
  {
   "cell_type": "markdown",
   "metadata": {
    "id": "3Di6tCT3rJg2"
   },
   "source": [
    "\n",
    "### 3.1. Объединение данных\n",
    "\n",
    "Объединим данные для ответа на вопросы заказчика, которые касаются интересующих его компаний. Заказчика прежде всего интересуют те компании, которые меняли или готовы менять владельцев. Получение инвестиций или финансирования, по мнению заказчика, означает интерес к покупке или продаже компании."
   ]
  },
  {
   "cell_type": "code",
   "execution_count": 38,
   "metadata": {
    "id": "kuV1b5MXFg3_",
    "trusted": false
   },
   "outputs": [],
   "source": [
    "filtered = comp_rounds_df[((comp_rounds_df['funding_rounds'] > 0) | (comp_rounds_df['investment_rounds'] > 0)) \n",
    "                          | (comp_rounds_df['status'] == 'acquired')]"
   ]
  },
  {
   "cell_type": "code",
   "execution_count": 39,
   "metadata": {
    "id": "93v3fEX5FgtP",
    "trusted": false
   },
   "outputs": [
    {
     "data": {
      "text/plain": [
       "<bound method IndexOpsMixin.nunique of 0             1\n",
       "1             1\n",
       "2             1\n",
       "3            10\n",
       "4           100\n",
       "          ...  \n",
       "217466     3429\n",
       "217467     7748\n",
       "217469    43233\n",
       "217470    43233\n",
       "217471    43233\n",
       "Name: company_id, Length: 61666, dtype: int32>"
      ]
     },
     "execution_count": 39,
     "metadata": {},
     "output_type": "execute_result"
    }
   ],
   "source": [
    "filtered['company_id'].nunique"
   ]
  },
  {
   "cell_type": "code",
   "execution_count": 40,
   "metadata": {},
   "outputs": [
    {
     "name": "stdout",
     "output_type": "stream",
     "text": [
      "<class 'pandas.core.frame.DataFrame'>\n",
      "Int64Index: 61666 entries, 0 to 217471\n",
      "Data columns (total 23 columns):\n",
      " #   Column               Non-Null Count  Dtype         \n",
      "---  ------               --------------  -----         \n",
      " 0   company_id           61666 non-null  int32         \n",
      " 1   name                 61666 non-null  object        \n",
      " 2   category_code        61666 non-null  object        \n",
      " 3   status               61666 non-null  object        \n",
      " 4   founded_at           61666 non-null  datetime64[ns]\n",
      " 5   closed_at            61666 non-null  datetime64[ns]\n",
      " 6   domain               61666 non-null  object        \n",
      " 7   network_username     61666 non-null  object        \n",
      " 8   country_code         61666 non-null  object        \n",
      " 9   investment_rounds    61666 non-null  int32         \n",
      " 10  funding_rounds       61666 non-null  float64       \n",
      " 11  funding_total        61666 non-null  float64       \n",
      " 12  milestones           61666 non-null  float64       \n",
      " 13  funding_round_id     52626 non-null  float64       \n",
      " 14  funded_at            52382 non-null  datetime64[ns]\n",
      " 15  funding_round_type   52626 non-null  object        \n",
      " 16  raised_amount        52626 non-null  float64       \n",
      " 17  pre_money_valuation  52626 non-null  float64       \n",
      " 18  participants         52626 non-null  float64       \n",
      " 19  is_first_round       52626 non-null  float64       \n",
      " 20  is_last_round        52626 non-null  float64       \n",
      " 21  company_id_1         52626 non-null  float64       \n",
      " 22  funded_year          52382 non-null  float64       \n",
      "dtypes: datetime64[ns](3), float64(11), int32(2), object(7)\n",
      "memory usage: 10.8+ MB\n"
     ]
    }
   ],
   "source": [
    "filtered.info()"
   ]
  },
  {
   "cell_type": "code",
   "execution_count": 41,
   "metadata": {
    "id": "pV3e7kw5Fj1Y",
    "trusted": false
   },
   "outputs": [
    {
     "name": "stderr",
     "output_type": "stream",
     "text": [
      "C:\\Users\\A4F7~1\\AppData\\Local\\Temp/ipykernel_12584/1211489907.py:2: SettingWithCopyWarning: \n",
      "A value is trying to be set on a copy of a slice from a DataFrame.\n",
      "Try using .loc[row_indexer,col_indexer] = value instead\n",
      "\n",
      "See the caveats in the documentation: https://pandas.pydata.org/pandas-docs/stable/user_guide/indexing.html#returning-a-view-versus-a-copy\n",
      "  filtered['funding_rounds'] = filtered['funding_rounds'].astype('int')\n"
     ]
    }
   ],
   "source": [
    "# Поменяем тип столбца funding_rounds для дальнейших вычислений\n",
    "filtered['funding_rounds'] = filtered['funding_rounds'].astype('int')"
   ]
  },
  {
   "cell_type": "markdown",
   "metadata": {
    "id": "DFHINkV3rJg2"
   },
   "source": [
    "\n",
    "### 3.2. Анализ выбросов\n",
    "\n",
    "Заказчика интересует обычный для рассматриваемого периода размер средств, который предоставлялся компаниям.\n",
    "\n",
    "- По предобработанному столбцу `funding_total` проверим, какой размер общего финансирования для одной компании будет типичным, а какой — выбивающимся."
   ]
  },
  {
   "cell_type": "code",
   "execution_count": 42,
   "metadata": {},
   "outputs": [
    {
     "data": {
      "text/plain": [
       "count    4.841300e+04\n",
       "mean     2.693499e+07\n",
       "std      1.009526e+08\n",
       "min      2.910000e+02\n",
       "25%      1.060680e+06\n",
       "50%      5.900000e+06\n",
       "75%      2.353220e+07\n",
       "max      5.700000e+09\n",
       "Name: funding_total, dtype: float64"
      ]
     },
     "execution_count": 42,
     "metadata": {},
     "output_type": "execute_result"
    }
   ],
   "source": [
    "# Попробуем применить .describe()\n",
    "desc = filtered['funding_total'][filtered['funding_total'] != 0].describe()\n",
    "desc"
   ]
  },
  {
   "cell_type": "code",
   "execution_count": 43,
   "metadata": {},
   "outputs": [
    {
     "data": {
      "text/plain": [
       "count         48413\n",
       "mean       26934990\n",
       "std       100952556\n",
       "min             291\n",
       "25%         1060680\n",
       "50%         5900000\n",
       "75%        23532200\n",
       "max      5700000000\n",
       "Name: funding_total, dtype: object"
      ]
     },
     "execution_count": 43,
     "metadata": {},
     "output_type": "execute_result"
    }
   ],
   "source": [
    "# Попробуем отформатировать получившиеся значения\n",
    "desc_norm = desc.apply(lambda desc: f'{desc:.0f}')\n",
    "desc_norm"
   ]
  },
  {
   "cell_type": "markdown",
   "metadata": {},
   "source": [
    "Так как в данных присутствуют значительные выбросы, и максимальное значение финансирования составляет аж 5700000000, типичным можно считать значения в диапазоне от 1060680 (1 квартиль) до 23532200 (3 квартиль). Медианное значение составляет 5900000."
   ]
  },
  {
   "cell_type": "code",
   "execution_count": 44,
   "metadata": {},
   "outputs": [
    {
     "data": {
      "image/png": "[encoded data removed]",
      "text/plain": [
       "<Figure size 864x432 with 1 Axes>"
      ]
     },
     "metadata": {
      "needs_background": "light"
     },
     "output_type": "display_data"
    }
   ],
   "source": [
    "plt.figure(figsize=(12, 6))\n",
    "plt.boxplot(filtered['funding_total'][filtered['funding_total'] != 0], vert=False,\n",
    "            flierprops=dict(marker='o', color='red', alpha=0.5))\n",
    "\n",
    "plt.title('Распределение финансирования')\n",
    "plt.xlabel('Размер финансирования')\n",
    "plt.grid(axis='x', linestyle='--', alpha=0.7)\n",
    "plt.show()"
   ]
  },
  {
   "cell_type": "markdown",
   "metadata": {},
   "source": [
    "К имеющимся данным неприменимымы стандартные способы нахождения типичных значений, так как выбросы занимают большую долю от графика, и \"тело\" боксплота сильно сужается. Попробуем отфильтровать значения по 25-75 процентилям."
   ]
  },
  {
   "cell_type": "code",
   "execution_count": 45,
   "metadata": {},
   "outputs": [
    {
     "data": {
      "image/png": "[encoded data removed]",
      "text/plain": [
       "<Figure size 1008x432 with 1 Axes>"
      ]
     },
     "metadata": {
      "needs_background": "light"
     },
     "output_type": "display_data"
    }
   ],
   "source": [
    "low = filtered['funding_total'][filtered['funding_total'] != 0].quantile(0.25)\n",
    "high = filtered['funding_total'][filtered['funding_total'] != 0].quantile(0.75)\n",
    "\n",
    "\n",
    "plt.figure(figsize=(14, 6))\n",
    "plt.boxplot(round(filtered['funding_total'][(filtered['funding_total'] >= low) & (filtered['funding_total'] <= high)], 2), vert=False)\n",
    "\n",
    "plt.title('Распределение финансирования')\n",
    "plt.xlabel('Размер финансирования ($млн.)')\n",
    "plt.grid(axis='x', linestyle='--', alpha=0.5)\n",
    "plt.show()"
   ]
  },
  {
   "cell_type": "markdown",
   "metadata": {},
   "source": [
    "Теперь, на нормализованных данных, график boxplot читаем. Медиана находится практически в районе 0,6 млн. долларов. Правый \"ус\" графика находится в районе 2,3 млн."
   ]
  },
  {
   "cell_type": "markdown",
   "metadata": {
    "id": "JqkRAQrIrJg2"
   },
   "source": [
    "\n",
    "### 3.3. Куплены забесплатно?\n",
    "\n",
    "- Исследуем компании, которые были проданы за ноль или за один доллар, и при этом известно, что у них был ненулевой общий объём финансирования."
   ]
  },
  {
   "cell_type": "code",
   "execution_count": 46,
   "metadata": {
    "id": "wJHXCBwwrJg2",
    "trusted": false
   },
   "outputs": [
    {
     "name": "stdout",
     "output_type": "stream",
     "text": [
      "<class 'pandas.core.frame.DataFrame'>\n",
      "Int64Index: 3059 entries, 7 to 11730\n",
      "Data columns (total 29 columns):\n",
      " #   Column                Non-Null Count  Dtype         \n",
      "---  ------                --------------  -----         \n",
      " 0   company_id            3059 non-null   int32         \n",
      " 1   name                  3059 non-null   object        \n",
      " 2   category_code         3059 non-null   object        \n",
      " 3   status                3059 non-null   object        \n",
      " 4   founded_at            3059 non-null   datetime64[ns]\n",
      " 5   closed_at             3059 non-null   datetime64[ns]\n",
      " 6   domain                3059 non-null   object        \n",
      " 7   network_username      3059 non-null   object        \n",
      " 8   country_code          3059 non-null   object        \n",
      " 9   investment_rounds     3059 non-null   int32         \n",
      " 10  funding_rounds        3059 non-null   int32         \n",
      " 11  funding_total         3059 non-null   float64       \n",
      " 12  milestones            3059 non-null   float64       \n",
      " 13  funding_round_id      3059 non-null   float64       \n",
      " 14  funded_at             3051 non-null   datetime64[ns]\n",
      " 15  funding_round_type    3059 non-null   object        \n",
      " 16  raised_amount         3059 non-null   float64       \n",
      " 17  pre_money_valuation   3059 non-null   float64       \n",
      " 18  participants          3059 non-null   float64       \n",
      " 19  is_first_round        3059 non-null   float64       \n",
      " 20  is_last_round         3059 non-null   float64       \n",
      " 21  company_id_1          3059 non-null   float64       \n",
      " 22  funded_year           3051 non-null   float64       \n",
      " 23  id                    3059 non-null   int64         \n",
      " 24  acquiring_company_id  3059 non-null   int64         \n",
      " 25  acquired_company_id   3059 non-null   int64         \n",
      " 26  term_code             3059 non-null   object        \n",
      " 27  price_amount          3059 non-null   int64         \n",
      " 28  acquired_at           3059 non-null   datetime64[ns]\n",
      "dtypes: datetime64[ns](4), float64(10), int32(3), int64(4), object(8)\n",
      "memory usage: 681.1+ KB\n"
     ]
    }
   ],
   "source": [
    "sold = filtered.merge(acq_df, left_on = 'company_id', right_on = 'acquired_company_id', how = 'inner')\n",
    "sold_free = sold[((sold['price_amount'] == 0) | (sold['price_amount'] == 1)) & (sold['funding_total'] != 0)]\n",
    "sold_free.info()"
   ]
  },
  {
   "cell_type": "code",
   "execution_count": 47,
   "metadata": {},
   "outputs": [
    {
     "data": {
      "text/html": [
       "<div>\n",
       "<style scoped>\n",
       "    .dataframe tbody tr th:only-of-type {\n",
       "        vertical-align: middle;\n",
       "    }\n",
       "\n",
       "    .dataframe tbody tr th {\n",
       "        vertical-align: top;\n",
       "    }\n",
       "\n",
       "    .dataframe thead th {\n",
       "        text-align: right;\n",
       "    }\n",
       "</style>\n",
       "<table border=\"1\" class=\"dataframe\">\n",
       "  <thead>\n",
       "    <tr style=\"text-align: right;\">\n",
       "      <th></th>\n",
       "      <th>company_id</th>\n",
       "      <th>name</th>\n",
       "      <th>category_code</th>\n",
       "      <th>status</th>\n",
       "      <th>founded_at</th>\n",
       "      <th>closed_at</th>\n",
       "      <th>domain</th>\n",
       "      <th>network_username</th>\n",
       "      <th>country_code</th>\n",
       "      <th>investment_rounds</th>\n",
       "      <th>...</th>\n",
       "      <th>is_first_round</th>\n",
       "      <th>is_last_round</th>\n",
       "      <th>company_id_1</th>\n",
       "      <th>funded_year</th>\n",
       "      <th>id</th>\n",
       "      <th>acquiring_company_id</th>\n",
       "      <th>acquired_company_id</th>\n",
       "      <th>term_code</th>\n",
       "      <th>price_amount</th>\n",
       "      <th>acquired_at</th>\n",
       "    </tr>\n",
       "  </thead>\n",
       "  <tbody>\n",
       "    <tr>\n",
       "      <th>7</th>\n",
       "      <td>10054</td>\n",
       "      <td>Jumptap</td>\n",
       "      <td>mobile</td>\n",
       "      <td>acquired</td>\n",
       "      <td>2005-01-01</td>\n",
       "      <td>1970-01-01</td>\n",
       "      <td>jumptap.com</td>\n",
       "      <td>jumptap</td>\n",
       "      <td>USA</td>\n",
       "      <td>0</td>\n",
       "      <td>...</td>\n",
       "      <td>0.0</td>\n",
       "      <td>0.0</td>\n",
       "      <td>10054.0</td>\n",
       "      <td>2008.0</td>\n",
       "      <td>9288</td>\n",
       "      <td>23283</td>\n",
       "      <td>10054</td>\n",
       "      <td>cash_and_stock</td>\n",
       "      <td>0</td>\n",
       "      <td>2013-08-13</td>\n",
       "    </tr>\n",
       "    <tr>\n",
       "      <th>8</th>\n",
       "      <td>10054</td>\n",
       "      <td>Jumptap</td>\n",
       "      <td>mobile</td>\n",
       "      <td>acquired</td>\n",
       "      <td>2005-01-01</td>\n",
       "      <td>1970-01-01</td>\n",
       "      <td>jumptap.com</td>\n",
       "      <td>jumptap</td>\n",
       "      <td>USA</td>\n",
       "      <td>0</td>\n",
       "      <td>...</td>\n",
       "      <td>0.0</td>\n",
       "      <td>1.0</td>\n",
       "      <td>10054.0</td>\n",
       "      <td>2005.0</td>\n",
       "      <td>9288</td>\n",
       "      <td>23283</td>\n",
       "      <td>10054</td>\n",
       "      <td>cash_and_stock</td>\n",
       "      <td>0</td>\n",
       "      <td>2013-08-13</td>\n",
       "    </tr>\n",
       "    <tr>\n",
       "      <th>9</th>\n",
       "      <td>10054</td>\n",
       "      <td>Jumptap</td>\n",
       "      <td>mobile</td>\n",
       "      <td>acquired</td>\n",
       "      <td>2005-01-01</td>\n",
       "      <td>1970-01-01</td>\n",
       "      <td>jumptap.com</td>\n",
       "      <td>jumptap</td>\n",
       "      <td>USA</td>\n",
       "      <td>0</td>\n",
       "      <td>...</td>\n",
       "      <td>0.0</td>\n",
       "      <td>0.0</td>\n",
       "      <td>10054.0</td>\n",
       "      <td>2005.0</td>\n",
       "      <td>9288</td>\n",
       "      <td>23283</td>\n",
       "      <td>10054</td>\n",
       "      <td>cash_and_stock</td>\n",
       "      <td>0</td>\n",
       "      <td>2013-08-13</td>\n",
       "    </tr>\n",
       "    <tr>\n",
       "      <th>10</th>\n",
       "      <td>10054</td>\n",
       "      <td>Jumptap</td>\n",
       "      <td>mobile</td>\n",
       "      <td>acquired</td>\n",
       "      <td>2005-01-01</td>\n",
       "      <td>1970-01-01</td>\n",
       "      <td>jumptap.com</td>\n",
       "      <td>jumptap</td>\n",
       "      <td>USA</td>\n",
       "      <td>0</td>\n",
       "      <td>...</td>\n",
       "      <td>0.0</td>\n",
       "      <td>0.0</td>\n",
       "      <td>10054.0</td>\n",
       "      <td>2006.0</td>\n",
       "      <td>9288</td>\n",
       "      <td>23283</td>\n",
       "      <td>10054</td>\n",
       "      <td>cash_and_stock</td>\n",
       "      <td>0</td>\n",
       "      <td>2013-08-13</td>\n",
       "    </tr>\n",
       "    <tr>\n",
       "      <th>11</th>\n",
       "      <td>10054</td>\n",
       "      <td>Jumptap</td>\n",
       "      <td>mobile</td>\n",
       "      <td>acquired</td>\n",
       "      <td>2005-01-01</td>\n",
       "      <td>1970-01-01</td>\n",
       "      <td>jumptap.com</td>\n",
       "      <td>jumptap</td>\n",
       "      <td>USA</td>\n",
       "      <td>0</td>\n",
       "      <td>...</td>\n",
       "      <td>0.0</td>\n",
       "      <td>0.0</td>\n",
       "      <td>10054.0</td>\n",
       "      <td>2011.0</td>\n",
       "      <td>9288</td>\n",
       "      <td>23283</td>\n",
       "      <td>10054</td>\n",
       "      <td>cash_and_stock</td>\n",
       "      <td>0</td>\n",
       "      <td>2013-08-13</td>\n",
       "    </tr>\n",
       "    <tr>\n",
       "      <th>12</th>\n",
       "      <td>10054</td>\n",
       "      <td>Jumptap</td>\n",
       "      <td>mobile</td>\n",
       "      <td>acquired</td>\n",
       "      <td>2005-01-01</td>\n",
       "      <td>1970-01-01</td>\n",
       "      <td>jumptap.com</td>\n",
       "      <td>jumptap</td>\n",
       "      <td>USA</td>\n",
       "      <td>0</td>\n",
       "      <td>...</td>\n",
       "      <td>0.0</td>\n",
       "      <td>0.0</td>\n",
       "      <td>10054.0</td>\n",
       "      <td>2011.0</td>\n",
       "      <td>9288</td>\n",
       "      <td>23283</td>\n",
       "      <td>10054</td>\n",
       "      <td>cash_and_stock</td>\n",
       "      <td>0</td>\n",
       "      <td>2013-08-13</td>\n",
       "    </tr>\n",
       "    <tr>\n",
       "      <th>13</th>\n",
       "      <td>10054</td>\n",
       "      <td>Jumptap</td>\n",
       "      <td>mobile</td>\n",
       "      <td>acquired</td>\n",
       "      <td>2005-01-01</td>\n",
       "      <td>1970-01-01</td>\n",
       "      <td>jumptap.com</td>\n",
       "      <td>jumptap</td>\n",
       "      <td>USA</td>\n",
       "      <td>0</td>\n",
       "      <td>...</td>\n",
       "      <td>1.0</td>\n",
       "      <td>0.0</td>\n",
       "      <td>10054.0</td>\n",
       "      <td>2012.0</td>\n",
       "      <td>9288</td>\n",
       "      <td>23283</td>\n",
       "      <td>10054</td>\n",
       "      <td>cash_and_stock</td>\n",
       "      <td>0</td>\n",
       "      <td>2013-08-13</td>\n",
       "    </tr>\n",
       "    <tr>\n",
       "      <th>23</th>\n",
       "      <td>101312</td>\n",
       "      <td>SideTour</td>\n",
       "      <td>web</td>\n",
       "      <td>acquired</td>\n",
       "      <td>2011-06-01</td>\n",
       "      <td>1970-01-01</td>\n",
       "      <td>sidetour.com</td>\n",
       "      <td>sidetour</td>\n",
       "      <td>USA</td>\n",
       "      <td>0</td>\n",
       "      <td>...</td>\n",
       "      <td>0.0</td>\n",
       "      <td>0.0</td>\n",
       "      <td>101312.0</td>\n",
       "      <td>2011.0</td>\n",
       "      <td>9653</td>\n",
       "      <td>11391</td>\n",
       "      <td>101312</td>\n",
       "      <td>unknown</td>\n",
       "      <td>0</td>\n",
       "      <td>2013-09-18</td>\n",
       "    </tr>\n",
       "    <tr>\n",
       "      <th>24</th>\n",
       "      <td>101312</td>\n",
       "      <td>SideTour</td>\n",
       "      <td>web</td>\n",
       "      <td>acquired</td>\n",
       "      <td>2011-06-01</td>\n",
       "      <td>1970-01-01</td>\n",
       "      <td>sidetour.com</td>\n",
       "      <td>sidetour</td>\n",
       "      <td>USA</td>\n",
       "      <td>0</td>\n",
       "      <td>...</td>\n",
       "      <td>1.0</td>\n",
       "      <td>0.0</td>\n",
       "      <td>101312.0</td>\n",
       "      <td>2013.0</td>\n",
       "      <td>9653</td>\n",
       "      <td>11391</td>\n",
       "      <td>101312</td>\n",
       "      <td>unknown</td>\n",
       "      <td>0</td>\n",
       "      <td>2013-09-18</td>\n",
       "    </tr>\n",
       "    <tr>\n",
       "      <th>25</th>\n",
       "      <td>101312</td>\n",
       "      <td>SideTour</td>\n",
       "      <td>web</td>\n",
       "      <td>acquired</td>\n",
       "      <td>2011-06-01</td>\n",
       "      <td>1970-01-01</td>\n",
       "      <td>sidetour.com</td>\n",
       "      <td>sidetour</td>\n",
       "      <td>USA</td>\n",
       "      <td>0</td>\n",
       "      <td>...</td>\n",
       "      <td>0.0</td>\n",
       "      <td>1.0</td>\n",
       "      <td>101312.0</td>\n",
       "      <td>2011.0</td>\n",
       "      <td>9653</td>\n",
       "      <td>11391</td>\n",
       "      <td>101312</td>\n",
       "      <td>unknown</td>\n",
       "      <td>0</td>\n",
       "      <td>2013-09-18</td>\n",
       "    </tr>\n",
       "  </tbody>\n",
       "</table>\n",
       "<p>10 rows × 29 columns</p>\n",
       "</div>"
      ],
      "text/plain": [
       "    company_id      name category_code    status founded_at  closed_at  \\\n",
       "7        10054   Jumptap        mobile  acquired 2005-01-01 1970-01-01   \n",
       "8        10054   Jumptap        mobile  acquired 2005-01-01 1970-01-01   \n",
       "9        10054   Jumptap        mobile  acquired 2005-01-01 1970-01-01   \n",
       "10       10054   Jumptap        mobile  acquired 2005-01-01 1970-01-01   \n",
       "11       10054   Jumptap        mobile  acquired 2005-01-01 1970-01-01   \n",
       "12       10054   Jumptap        mobile  acquired 2005-01-01 1970-01-01   \n",
       "13       10054   Jumptap        mobile  acquired 2005-01-01 1970-01-01   \n",
       "23      101312  SideTour           web  acquired 2011-06-01 1970-01-01   \n",
       "24      101312  SideTour           web  acquired 2011-06-01 1970-01-01   \n",
       "25      101312  SideTour           web  acquired 2011-06-01 1970-01-01   \n",
       "\n",
       "          domain network_username country_code  investment_rounds  ...  \\\n",
       "7    jumptap.com          jumptap          USA                  0  ...   \n",
       "8    jumptap.com          jumptap          USA                  0  ...   \n",
       "9    jumptap.com          jumptap          USA                  0  ...   \n",
       "10   jumptap.com          jumptap          USA                  0  ...   \n",
       "11   jumptap.com          jumptap          USA                  0  ...   \n",
       "12   jumptap.com          jumptap          USA                  0  ...   \n",
       "13   jumptap.com          jumptap          USA                  0  ...   \n",
       "23  sidetour.com         sidetour          USA                  0  ...   \n",
       "24  sidetour.com         sidetour          USA                  0  ...   \n",
       "25  sidetour.com         sidetour          USA                  0  ...   \n",
       "\n",
       "    is_first_round  is_last_round  company_id_1  funded_year    id  \\\n",
       "7              0.0            0.0       10054.0       2008.0  9288   \n",
       "8              0.0            1.0       10054.0       2005.0  9288   \n",
       "9              0.0            0.0       10054.0       2005.0  9288   \n",
       "10             0.0            0.0       10054.0       2006.0  9288   \n",
       "11             0.0            0.0       10054.0       2011.0  9288   \n",
       "12             0.0            0.0       10054.0       2011.0  9288   \n",
       "13             1.0            0.0       10054.0       2012.0  9288   \n",
       "23             0.0            0.0      101312.0       2011.0  9653   \n",
       "24             1.0            0.0      101312.0       2013.0  9653   \n",
       "25             0.0            1.0      101312.0       2011.0  9653   \n",
       "\n",
       "   acquiring_company_id  acquired_company_id       term_code  price_amount  \\\n",
       "7                 23283                10054  cash_and_stock             0   \n",
       "8                 23283                10054  cash_and_stock             0   \n",
       "9                 23283                10054  cash_and_stock             0   \n",
       "10                23283                10054  cash_and_stock             0   \n",
       "11                23283                10054  cash_and_stock             0   \n",
       "12                23283                10054  cash_and_stock             0   \n",
       "13                23283                10054  cash_and_stock             0   \n",
       "23                11391               101312         unknown             0   \n",
       "24                11391               101312         unknown             0   \n",
       "25                11391               101312         unknown             0   \n",
       "\n",
       "    acquired_at  \n",
       "7    2013-08-13  \n",
       "8    2013-08-13  \n",
       "9    2013-08-13  \n",
       "10   2013-08-13  \n",
       "11   2013-08-13  \n",
       "12   2013-08-13  \n",
       "13   2013-08-13  \n",
       "23   2013-09-18  \n",
       "24   2013-09-18  \n",
       "25   2013-09-18  \n",
       "\n",
       "[10 rows x 29 columns]"
      ]
     },
     "execution_count": 47,
     "metadata": {},
     "output_type": "execute_result"
    }
   ],
   "source": [
    "sold_free.head(10)"
   ]
  },
  {
   "cell_type": "code",
   "execution_count": 48,
   "metadata": {
    "id": "9IDTHfYQFhuX",
    "trusted": false
   },
   "outputs": [
    {
     "data": {
      "text/plain": [
       "'Верхняя граница выбросов (100-й процентиль):'"
      ]
     },
     "metadata": {},
     "output_type": "display_data"
    },
    {
     "data": {
      "text/plain": [
       "674      5700000000\n",
       "675      5700000000\n",
       "676      5700000000\n",
       "677      5700000000\n",
       "2356      265744000\n",
       "2357      265744000\n",
       "2358      265744000\n",
       "2359      265744000\n",
       "2360      265744000\n",
       "2361      265744000\n",
       "4013      253000000\n",
       "4014      253000000\n",
       "4015      253000000\n",
       "4016      253000000\n",
       "6640      265000000\n",
       "6641      265000000\n",
       "6805      318000000\n",
       "6806      318000000\n",
       "6809      299500000\n",
       "6810      299500000\n",
       "6811      299500000\n",
       "6812      299500000\n",
       "6813      299500000\n",
       "7110      260000000\n",
       "10425     395000000\n",
       "10426     395000000\n",
       "10427     395000000\n",
       "10428     395000000\n",
       "11364     314960000\n",
       "Name: funding_total, dtype: object"
      ]
     },
     "execution_count": 48,
     "metadata": {},
     "output_type": "execute_result"
    }
   ],
   "source": [
    "display('Верхняя граница выбросов (100-й процентиль):')\n",
    "sold_free[sold_free['funding_total'].quantile(0.99) < sold_free['funding_total']]['funding_total'].apply(lambda desc: f'{desc:.0f}')"
   ]
  },
  {
   "cell_type": "code",
   "execution_count": 49,
   "metadata": {},
   "outputs": [
    {
     "data": {
      "text/plain": [
       "'Нижняя граница выбросов (0-й процентиль): '"
      ]
     },
     "metadata": {},
     "output_type": "display_data"
    },
    {
     "data": {
      "text/plain": [
       "7707      3750.0\n",
       "6207      4000.0\n",
       "3059     10000.0\n",
       "3898     10000.0\n",
       "8527     12000.0\n",
       "8526     12000.0\n",
       "8348     12000.0\n",
       "7776     12000.0\n",
       "7638     15000.0\n",
       "8785     15000.0\n",
       "3462     15000.0\n",
       "1920     16000.0\n",
       "5590     18000.0\n",
       "11451    18885.0\n",
       "5891     20000.0\n",
       "5797     20000.0\n",
       "5796     20000.0\n",
       "8531     20000.0\n",
       "1503     20000.0\n",
       "9824     20000.0\n",
       "9825     20000.0\n",
       "10785    20000.0\n",
       "161      20000.0\n",
       "2384     25000.0\n",
       "9399     31490.0\n",
       "2714     33000.0\n",
       "11163    38881.0\n",
       "10593    48601.0\n",
       "Name: funding_total, dtype: float64"
      ]
     },
     "execution_count": 49,
     "metadata": {},
     "output_type": "execute_result"
    }
   ],
   "source": [
    "display('Нижняя граница выбросов (0-й процентиль): ')\n",
    "sold_free[sold_free['funding_total'] < (sold_free['funding_total'].quantile(0.01))]['funding_total'].sort_values()"
   ]
  },
  {
   "cell_type": "markdown",
   "metadata": {},
   "source": [
    "Нулевому процентилю соответствует нижняя граница инвестиций в объеме от $3750 до $3750. Верхняя граница (100-й процентиль) составляет инвестиции в стартапы общим объемом от $314960000 до $5700000000. "
   ]
  },
  {
   "cell_type": "markdown",
   "metadata": {
    "id": "mEiWpROjrJg2"
   },
   "source": [
    "\n",
    "### 3.4. Цены стартапов по категориям\n",
    "\n",
    "Категории стартапов с типично высокими ценами покупки стартапов и значительным разбросом цен могут быть привлекательными для крупных инвесторов, которые готовы к высоким рискам ради потенциально больших доходов. Среди категорий стартапов стоит выделить категории стартапов, характеризующиеся:\n",
    "\n",
    "- типично высокими ценами;\n",
    "- и наибольшим разбросом цен за стартап.\n"
   ]
  },
  {
   "cell_type": "code",
   "execution_count": 50,
   "metadata": {
    "id": "hgXMPC4WrJg3",
    "trusted": false
   },
   "outputs": [
    {
     "data": {
      "text/plain": [
       "category_code\n",
       "nanotech         25000000.0\n",
       "semiconductor    19930200.0\n",
       "cleantech        15000000.0\n",
       "medical          15000000.0\n",
       "biotech          10127100.0\n",
       "Name: funding_total, dtype: float64"
      ]
     },
     "execution_count": 50,
     "metadata": {},
     "output_type": "execute_result"
    }
   ],
   "source": [
    "filtered.groupby('category_code')['funding_total'].agg('median').sort_values(ascending=False).head()"
   ]
  },
  {
   "cell_type": "markdown",
   "metadata": {
    "id": "jQ09dYUWrJg2",
    "trusted": false
   },
   "source": [
    "В топ категорий стартапов по типично высоким ценам релевантно выбрать именно первые 5 компаний, так как типичные значения по инвестициям в них составляют более 10 млн. долларов США.  \n",
    "Теперь попробуем найти стартапы с наибольшим разбросом цен через разницу 75 и 25 процентилей."
   ]
  },
  {
   "cell_type": "code",
   "execution_count": 51,
   "metadata": {
    "id": "eF1aULm5FjfY",
    "trusted": false
   },
   "outputs": [
    {
     "data": {
      "text/plain": [
       "category_code\n",
       "nanotech         72592020.0\n",
       "cleantech        55025000.0\n",
       "semiconductor    42551500.0\n",
       "medical          40484800.0\n",
       "biotech          37179932.5\n",
       "Name: funding_total, dtype: float64"
      ]
     },
     "execution_count": 51,
     "metadata": {},
     "output_type": "execute_result"
    }
   ],
   "source": [
    "# Посчитаем стартапы с наибольшим разбросом цен через разницу 3-го и 2-го квартилей\n",
    "q25 = filtered.groupby('category_code')['funding_total'].quantile(0.25)\n",
    "q75 = filtered.groupby('category_code')['funding_total'].quantile(0.75)\n",
    "\n",
    "iqr = (q75 - q25).sort_values(ascending=False)\n",
    "iqr.head()\n"
   ]
  },
  {
   "cell_type": "markdown",
   "metadata": {},
   "source": [
    "Компаний с самым большим разбросом цен совпадают с компаниями с типично высокими ценами, но обратим внимание на 2 и 3-е места.  \n",
    "Тут стоит отметить, что категория `cleantech` имеет больший разброс цен, хоть компании, входящие в категорию `semiconductor` и типично дороже."
   ]
  },
  {
   "cell_type": "markdown",
   "metadata": {
    "id": "ADOfyVY_rJg3"
   },
   "source": [
    "\n",
    "### 3.5. Сколько раундов продержится стартап перед покупкой\n",
    "\n",
    "- Необходимо проанализировать столбец `funding_rounds`. Исследуем значения столбца. Заказчика интересует типичное значение количества раундов для каждого возможного статуса стартапа.\n",
    "- Построим график, который отображает, сколько в среднем раундов финансирования проходило для стартапов из каждой группы."
   ]
  },
  {
   "cell_type": "code",
   "execution_count": 52,
   "metadata": {},
   "outputs": [],
   "source": [
    "status_rounds = filtered.groupby('status')['funding_rounds'].agg('median')"
   ]
  },
  {
   "cell_type": "code",
   "execution_count": 53,
   "metadata": {},
   "outputs": [
    {
     "data": {
      "text/plain": [
       "<AxesSubplot:title={'center':'Медианное количество раундов финансирования компаний по группам'}, xlabel='Тип компании', ylabel='Количество раундов финансирования'>"
      ]
     },
     "execution_count": 53,
     "metadata": {},
     "output_type": "execute_result"
    },
    {
     "data": {
      "image/png": "[encoded data removed]",
      "text/plain": [
       "<Figure size 864x432 with 1 Axes>"
      ]
     },
     "metadata": {
      "needs_background": "light"
     },
     "output_type": "display_data"
    }
   ],
   "source": [
    "status_rounds.plot(kind = 'bar',\n",
    "               title = f'Медианное количество раундов финансирования компаний по группам',\n",
    "               legend = False,\n",
    "               ylabel = 'Количество раундов финансирования',\n",
    "               xlabel = 'Тип компании',\n",
    "               rot=0,\n",
    "               figsize = (12, 6))"
   ]
  },
  {
   "cell_type": "markdown",
   "metadata": {},
   "source": [
    "* Судя по графику распределения, в среднем закрытые (`closed`) компании проходят один раунд финансирования; \n",
    "* Компании, входящие в категорию `operating`, проходят финансирование из двух раундов; \n",
    "* Для компаний, выходящих на `ipo`, типично 3 раунда финансирования, таким образом, они лидируют;\n",
    "* Компании же, которые были куплены (категория `acquired`), в среднем не проходят ни одного раунда финансирования."
   ]
  },
  {
   "cell_type": "markdown",
   "metadata": {
    "id": "VAFEZ2HBrJg3"
   },
   "source": [
    "\n",
    "## Шаг 4. Итоговый вывод и рекомендации\n"
   ]
  },
  {
   "cell_type": "markdown",
   "metadata": {},
   "source": [
    "#### Краткий обзор проделанной работы:\n",
    "* Типы данных были преобразованы к релевантным;\n",
    "* Заменены пропуски;\n",
    "* Проведен анализ динамики раундов финансирования по годам;\n",
    "* Была оценена полноты сведений об образовании сотрудников в зависимости от размера компаний;\n",
    "* Датасет `companies_and_rounds` приведен к удобному для анализа виду;\n",
    "* Были отфильтрованы данные для анализа компаний с характеристиками, интересующими заказчика;\n",
    "* Проведен анализ типичных значений финансирования и выбросов;\n",
    "* Исследованы компании, проданные за ноль или один доллар, с учётом объемов их финансирования;\n",
    "* Определены категории стартапов с высокими ценами покупки и большим разбросом цен;\n",
    "* Анализ количества раундов финансирования перед покупкой стартапа;  \n",
    "\n",
    "#### Основные выводы:\n",
    "* Количество раундов и объемов финансирования стартапов разнится по годам: больше всего раундов выходит на 2012 год, где их кол-во составляет 24549, по объемам финансирования лидирует 2005 год с общим объемом в $5.500.000;  \n",
    "* 30% `Бизнесов из 1 человека` не имеют информации об образовании сотрудников, 1% работников `Микропредприятий` и `Среднего бизнеса`, а в `Малом бизнесе` доля сотрудников без информации об образовании ближе к 2%;\n",
    "* Типичные объемы, так называемое \"тело\", составляют инвестиции в общем объеме от $1.060.680 до $23.532.200. Минимальный объем инвестиций составляет $291,   \n",
    "а максимальный - $5.700.000.000;\n",
    "* В данных по компаниям, купленным за 0 или 1 доллар, нижняя граница инвестиций находится в объеме от $3750 до $48601. Верхняя граница составляет инвестиции в стартапы общим объемом от $314960000 до $5700000000;\n",
    "* Компаний с самым большим разбросом цен совпадают с компаниями с типично высокими ценами. В них входят категории `nanotech`, `semiconductor`, `cleantech`, `medical`, `biotech`. Однако категория `cleantech` имеет больший разброс цен, хоть компании, входящие в категорию `semiconductor` и типично дороже.\n",
    "* Судя по графику распределения, в среднем закрытые (`closed`) компании проходят один раунд финансирования. Компании `operating` зачастую выдерживают 2 раунда;  А для компаний, выходящих на `ipo`, типично 3 раунда финансирования;  \n",
    "\n",
    "#### Рекомендации для заказчика:\n",
    "* Стоит принять во внимание, что категории `nanotech`, `semiconductor`, `cleantech` показывают высокий разброс цен, но при этом `semiconductor` стабильно дороже, а `cleantech` - волатильнее;\n",
    "* Также потенциально рисковаными являются бизнесы из одного человека, так как в них в среднем до 30% сотрудников без данных об образовании;\n",
    "* Cтоит избегать стартапов с покупкой за $0/$1 дешевле $48601, так как данные бизнесы находятся в пределах нижней границы, что может сигнализировать о негативном состоянии компании;\n",
    "* Важно иметь в виду, что для IPO-стартапов целесообразнее распределять инвестиции на 3 этапа, фокусируясь на секторах с типичным чеком $23.5 млн;"
   ]
  }
 ],
 "metadata": {
  "ExecuteTimeLog": [
   {
    "duration": 1155,
    "start_time": "2025-03-10T20:17:36.773Z"
   },
   {
    "duration": 2177,
    "start_time": "2025-03-10T20:17:37.930Z"
   },
   {
    "duration": 22,
    "start_time": "2025-03-10T20:17:40.111Z"
   },
   {
    "duration": 147,
    "start_time": "2025-03-10T20:17:40.135Z"
   },
   {
    "duration": 44,
    "start_time": "2025-03-10T20:17:40.284Z"
   },
   {
    "duration": 46,
    "start_time": "2025-03-10T20:17:40.330Z"
   },
   {
    "duration": 28,
    "start_time": "2025-03-10T20:17:40.377Z"
   },
   {
    "duration": 9,
    "start_time": "2025-03-10T20:17:40.406Z"
   },
   {
    "duration": 24,
    "start_time": "2025-03-10T20:17:40.416Z"
   },
   {
    "duration": 31,
    "start_time": "2025-03-10T20:17:40.441Z"
   },
   {
    "duration": 94,
    "start_time": "2025-03-10T20:17:40.473Z"
   },
   {
    "duration": 52,
    "start_time": "2025-03-10T20:17:40.568Z"
   },
   {
    "duration": 98,
    "start_time": "2025-03-10T20:17:40.623Z"
   },
   {
    "duration": 140,
    "start_time": "2025-03-10T20:17:40.723Z"
   },
   {
    "duration": 73,
    "start_time": "2025-03-10T20:17:40.865Z"
   },
   {
    "duration": 52,
    "start_time": "2025-03-10T20:17:40.939Z"
   },
   {
    "duration": 39,
    "start_time": "2025-03-10T20:17:40.992Z"
   },
   {
    "duration": 27,
    "start_time": "2025-03-10T20:17:41.032Z"
   },
   {
    "duration": 22,
    "start_time": "2025-03-10T20:17:41.061Z"
   },
   {
    "duration": 13,
    "start_time": "2025-03-10T20:17:41.084Z"
   },
   {
    "duration": 118,
    "start_time": "2025-03-10T20:17:41.099Z"
   },
   {
    "duration": 22,
    "start_time": "2025-03-10T20:17:41.219Z"
   },
   {
    "duration": 22,
    "start_time": "2025-03-10T20:17:41.243Z"
   },
   {
    "duration": 86,
    "start_time": "2025-03-10T20:17:41.267Z"
   },
   {
    "duration": 29,
    "start_time": "2025-03-10T20:17:41.355Z"
   },
   {
    "duration": 21,
    "start_time": "2025-03-10T20:17:41.385Z"
   },
   {
    "duration": 148,
    "start_time": "2025-03-10T20:17:41.408Z"
   },
   {
    "duration": 137,
    "start_time": "2025-03-10T20:17:41.558Z"
   },
   {
    "duration": 24,
    "start_time": "2025-03-10T20:17:41.697Z"
   },
   {
    "duration": 55,
    "start_time": "2025-03-10T20:17:41.723Z"
   },
   {
    "duration": 9,
    "start_time": "2025-03-10T20:17:41.780Z"
   },
   {
    "duration": 97,
    "start_time": "2025-03-10T20:17:41.791Z"
   },
   {
    "duration": 13,
    "start_time": "2025-03-10T20:17:41.889Z"
   },
   {
    "duration": 18,
    "start_time": "2025-03-10T20:17:41.903Z"
   },
   {
    "duration": 38,
    "start_time": "2025-03-10T20:17:41.922Z"
   },
   {
    "duration": 33,
    "start_time": "2025-03-10T20:17:41.961Z"
   }
  ],
  "colab": {
   "provenance": []
  },
  "kernelspec": {
   "display_name": "base",
   "language": "python",
   "name": "python3"
  },
  "language_info": {
   "codemirror_mode": {
    "name": "ipython",
    "version": 3
   },
   "file_extension": ".py",
   "mimetype": "text/x-python",
   "name": "python",
   "nbconvert_exporter": "python",
   "pygments_lexer": "ipython3",
   "version": "3.9.7"
  },
  "toc": {
   "base_numbering": 1,
   "nav_menu": {},
   "number_sections": true,
   "sideBar": true,
   "skip_h1_title": true,
   "title_cell": "Table of Contents",
   "title_sidebar": "Contents",
   "toc_cell": false,
   "toc_position": {},
   "toc_section_display": true,
   "toc_window_display": false
  }
 },
 "nbformat": 4,
 "nbformat_minor": 1
}

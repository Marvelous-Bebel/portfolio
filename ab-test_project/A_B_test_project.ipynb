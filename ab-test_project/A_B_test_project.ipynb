{
 "cells": [
  {
   "cell_type": "markdown",
   "metadata": {
    "id": "u98L9TgH0eMk"
   },
   "source": [
    "# Разработка A/B-тестирования и анализ результатов\n",
    "\n",
    "Вы работаете продуктовым аналитиком в компании, которая разрабатывает развлекательное приложение с функцией «бесконечной» ленты, как, например, в приложениях с короткими видео. В вашем приложении существует две модели монетизации: первая — ежемесячная платная подписка, которая позволяет пользователям смотреть ленту без рекламы, вторая — демонстрация рекламы для пользователей, которые ещё не оформили подписку.\n",
    "\n",
    "Команда разработчиков рекомендательных систем создала новый алгоритм рекомендаций, который, по их мнению, будет показывать более интересный контент для каждого пользователя. Вас, как аналитика, просят помочь рассчитать параметры A/B-теста, который позволит проверить эту гипотезу, и проанализировать его результаты."
   ]
  },
  {
   "cell_type": "markdown",
   "metadata": {
    "id": "LJBRALHs0eMf"
   },
   "source": [
    "## Описание данных\n",
    "\n",
    "Вы будете работать с тремя таблицами:\n",
    "\n",
    "- `sessions_project_history.csv` — таблица с историческими данными по сессиям пользователей на период с 2025-08-15 по 2025-09-23. Путь к файлу: `/datasets/sessions_project_history.csv`.\n",
    "\n",
    "- `sessions_project_test_part.csv` — таблица с данными за первый день проведения A/B-теста, то есть за 2025-10-14. Путь к файлу: `/datasets/sessions_project_test_part.csv`.\n",
    "\n",
    "- `sessions_project_test.csv` — таблица с данными за весь период проведения A/B-теста, то есть с 2025-10-14 по 2025-11-02. Путь к файлу: `/datasets/sessions_project_test.csv`.\n",
    "\n",
    "У этих таблиц почти совпадает структура и содержание колонок, различаются лишь периоды наблюдения.\n",
    "\n",
    "Поля таблиц `sessions_project_history.csv`, `sessions_project_test.csv`, `sessions_project_test_part.csv`:\n",
    "\n",
    "- `user_id` — идентификатор пользователя;\n",
    "\n",
    "- `session_id` — идентификатор сессии в приложении;\n",
    "\n",
    "- `session_date` — дата сессии;\n",
    "\n",
    "- `session_start_ts` — дата и время начала сессии;\n",
    "\n",
    "- `install_date` — дата установки приложения;\n",
    "\n",
    "- `session_number` — порядковый номер сессии для конкретного пользователя;\n",
    "\n",
    "- `registration_flag` — является ли пользователь зарегистрированным;\n",
    "\n",
    "- `page_counter` — количество просмотренных страниц во время сессии;\n",
    "\n",
    "- `region` — регион пользователя;\n",
    "\n",
    "- `device` — тип устройства пользователя;\n",
    "\n",
    "- `test_group` — тестовая группа (в таблице с историческими данными этого столбца нет).\n",
    "\n",
    "\n",
    "## Что нужно сделать\n",
    "Ваши задачи: рассчитать параметры теста, оценить корректность его проведения и проанализировать результаты эксперимента."
   ]
  },
  {
   "cell_type": "markdown",
   "metadata": {
    "id": "UpOucjID0eMl"
   },
   "source": [
    "### 1. Работа с историческими данными (EDA)"
   ]
  },
  {
   "cell_type": "markdown",
   "metadata": {
    "id": "8iJMtL-30eMl"
   },
   "source": [
    "#### 1.1. Загрузка исторических данных\n",
    "На первом этапе поработайте с историческими данными приложения:\n",
    "\n",
    "- Импортируйте библиотеку pandas.\n",
    "\n",
    "- Считайте и сохраните в датафрейм `sessions_history` CSV-файл с историческими данными о сессиях пользователей `sessions_project_history.csv`.\n",
    "\n",
    "Выведите на экран первые пять строк полученного датафрейма."
   ]
  },
  {
   "cell_type": "code",
   "execution_count": 1,
   "metadata": {
    "id": "6TPR2-1RPboT"
   },
   "outputs": [],
   "source": [
    "import pandas as pd\n",
    "import matplotlib.pyplot as plt\n",
    "import scipy.stats as st\n",
    "from statsmodels.stats.power import NormalIndPower\n",
    "from statsmodels.stats.proportion import proportions_ztest\n",
    "from math import ceil"
   ]
  },
  {
   "cell_type": "code",
   "execution_count": 2,
   "metadata": {},
   "outputs": [
    {
     "data": {
      "text/html": [
       "<div>\n",
       "<style scoped>\n",
       "    .dataframe tbody tr th:only-of-type {\n",
       "        vertical-align: middle;\n",
       "    }\n",
       "\n",
       "    .dataframe tbody tr th {\n",
       "        vertical-align: top;\n",
       "    }\n",
       "\n",
       "    .dataframe thead th {\n",
       "        text-align: right;\n",
       "    }\n",
       "</style>\n",
       "<table border=\"1\" class=\"dataframe\">\n",
       "  <thead>\n",
       "    <tr style=\"text-align: right;\">\n",
       "      <th></th>\n",
       "      <th>user_id</th>\n",
       "      <th>session_id</th>\n",
       "      <th>session_date</th>\n",
       "      <th>session_start_ts</th>\n",
       "      <th>install_date</th>\n",
       "      <th>session_number</th>\n",
       "      <th>registration_flag</th>\n",
       "      <th>page_counter</th>\n",
       "      <th>region</th>\n",
       "      <th>device</th>\n",
       "    </tr>\n",
       "  </thead>\n",
       "  <tbody>\n",
       "    <tr>\n",
       "      <th>0</th>\n",
       "      <td>E302123B7000BFE4</td>\n",
       "      <td>F9AF61A0C2023832</td>\n",
       "      <td>2025-08-15</td>\n",
       "      <td>2025-08-15 17:47:35</td>\n",
       "      <td>2025-08-15</td>\n",
       "      <td>1</td>\n",
       "      <td>0</td>\n",
       "      <td>3</td>\n",
       "      <td>CIS</td>\n",
       "      <td>iPhone</td>\n",
       "    </tr>\n",
       "    <tr>\n",
       "      <th>1</th>\n",
       "      <td>2530F72E221829FB</td>\n",
       "      <td>85003A206CBDAC6F</td>\n",
       "      <td>2025-08-15</td>\n",
       "      <td>2025-08-15 16:42:14</td>\n",
       "      <td>2025-08-15</td>\n",
       "      <td>1</td>\n",
       "      <td>0</td>\n",
       "      <td>4</td>\n",
       "      <td>MENA</td>\n",
       "      <td>Android</td>\n",
       "    </tr>\n",
       "    <tr>\n",
       "      <th>2</th>\n",
       "      <td>876E020A4FC512F5</td>\n",
       "      <td>3677423E49D72DEE</td>\n",
       "      <td>2025-08-15</td>\n",
       "      <td>2025-08-15 12:30:00</td>\n",
       "      <td>2025-08-15</td>\n",
       "      <td>1</td>\n",
       "      <td>0</td>\n",
       "      <td>4</td>\n",
       "      <td>EU</td>\n",
       "      <td>PC</td>\n",
       "    </tr>\n",
       "    <tr>\n",
       "      <th>3</th>\n",
       "      <td>2640B349E1D81584</td>\n",
       "      <td>956B45F5915CA225</td>\n",
       "      <td>2025-08-15</td>\n",
       "      <td>2025-08-15 15:31:31</td>\n",
       "      <td>2025-08-15</td>\n",
       "      <td>1</td>\n",
       "      <td>0</td>\n",
       "      <td>4</td>\n",
       "      <td>CIS</td>\n",
       "      <td>Android</td>\n",
       "    </tr>\n",
       "    <tr>\n",
       "      <th>4</th>\n",
       "      <td>94E1CBFAEF1F5EE9</td>\n",
       "      <td>83BF0DA35F9F1F40</td>\n",
       "      <td>2025-08-15</td>\n",
       "      <td>2025-08-15 21:33:53</td>\n",
       "      <td>2025-08-15</td>\n",
       "      <td>1</td>\n",
       "      <td>0</td>\n",
       "      <td>3</td>\n",
       "      <td>CIS</td>\n",
       "      <td>Android</td>\n",
       "    </tr>\n",
       "  </tbody>\n",
       "</table>\n",
       "</div>"
      ],
      "text/plain": [
       "            user_id        session_id session_date     session_start_ts  \\\n",
       "0  E302123B7000BFE4  F9AF61A0C2023832   2025-08-15  2025-08-15 17:47:35   \n",
       "1  2530F72E221829FB  85003A206CBDAC6F   2025-08-15  2025-08-15 16:42:14   \n",
       "2  876E020A4FC512F5  3677423E49D72DEE   2025-08-15  2025-08-15 12:30:00   \n",
       "3  2640B349E1D81584  956B45F5915CA225   2025-08-15  2025-08-15 15:31:31   \n",
       "4  94E1CBFAEF1F5EE9  83BF0DA35F9F1F40   2025-08-15  2025-08-15 21:33:53   \n",
       "\n",
       "  install_date  session_number  registration_flag  page_counter region  \\\n",
       "0   2025-08-15               1                  0             3    CIS   \n",
       "1   2025-08-15               1                  0             4   MENA   \n",
       "2   2025-08-15               1                  0             4     EU   \n",
       "3   2025-08-15               1                  0             4    CIS   \n",
       "4   2025-08-15               1                  0             3    CIS   \n",
       "\n",
       "    device  \n",
       "0   iPhone  \n",
       "1  Android  \n",
       "2       PC  \n",
       "3  Android  \n",
       "4  Android  "
      ]
     },
     "execution_count": 2,
     "metadata": {},
     "output_type": "execute_result"
    }
   ],
   "source": [
    "sessions_history = pd.read_csv('/datasets/sessions_project_history.csv')\n",
    "sessions_history.head()"
   ]
  },
  {
   "cell_type": "markdown",
   "metadata": {
    "id": "qTDoiODz0eMo"
   },
   "source": [
    "#### 1.2. Знакомство с данными\n",
    "- Для каждого уникального пользователя `user_id` рассчитайте количество уникальных сессий `session_id`.\n",
    "\n",
    "- Выведите на экран все данные из таблицы `sessions_history` для одного пользователя с наибольшим количеством сессий. Если таких пользователей несколько, выберите любого из них.\n",
    "\n",
    "- Изучите таблицу для одного пользователя, чтобы лучше понять логику формирования каждого столбца данных.\n",
    "\n"
   ]
  },
  {
   "cell_type": "code",
   "execution_count": 3,
   "metadata": {
    "id": "PWZO9vTIPbPN"
   },
   "outputs": [
    {
     "data": {
      "text/html": [
       "<div>\n",
       "<style scoped>\n",
       "    .dataframe tbody tr th:only-of-type {\n",
       "        vertical-align: middle;\n",
       "    }\n",
       "\n",
       "    .dataframe tbody tr th {\n",
       "        vertical-align: top;\n",
       "    }\n",
       "\n",
       "    .dataframe thead th {\n",
       "        text-align: right;\n",
       "    }\n",
       "</style>\n",
       "<table border=\"1\" class=\"dataframe\">\n",
       "  <thead>\n",
       "    <tr style=\"text-align: right;\">\n",
       "      <th></th>\n",
       "      <th>user_id</th>\n",
       "      <th>session_id</th>\n",
       "      <th>session_date</th>\n",
       "      <th>session_start_ts</th>\n",
       "      <th>install_date</th>\n",
       "      <th>session_number</th>\n",
       "      <th>registration_flag</th>\n",
       "      <th>page_counter</th>\n",
       "      <th>region</th>\n",
       "      <th>device</th>\n",
       "    </tr>\n",
       "  </thead>\n",
       "  <tbody>\n",
       "    <tr>\n",
       "      <th>115558</th>\n",
       "      <td>10E0DEFC1ABDBBE0</td>\n",
       "      <td>B8F0423BBFFCF5DC</td>\n",
       "      <td>2025-08-14</td>\n",
       "      <td>2025-08-14 13:57:39</td>\n",
       "      <td>2025-08-14</td>\n",
       "      <td>1</td>\n",
       "      <td>0</td>\n",
       "      <td>4</td>\n",
       "      <td>CIS</td>\n",
       "      <td>Android</td>\n",
       "    </tr>\n",
       "    <tr>\n",
       "      <th>191751</th>\n",
       "      <td>10E0DEFC1ABDBBE0</td>\n",
       "      <td>87CA2FA549473837</td>\n",
       "      <td>2025-08-15</td>\n",
       "      <td>2025-08-15 16:42:10</td>\n",
       "      <td>2025-08-14</td>\n",
       "      <td>2</td>\n",
       "      <td>0</td>\n",
       "      <td>3</td>\n",
       "      <td>CIS</td>\n",
       "      <td>Android</td>\n",
       "    </tr>\n",
       "    <tr>\n",
       "      <th>239370</th>\n",
       "      <td>10E0DEFC1ABDBBE0</td>\n",
       "      <td>4ADD8011DCDCE318</td>\n",
       "      <td>2025-08-16</td>\n",
       "      <td>2025-08-16 19:53:21</td>\n",
       "      <td>2025-08-14</td>\n",
       "      <td>3</td>\n",
       "      <td>0</td>\n",
       "      <td>3</td>\n",
       "      <td>CIS</td>\n",
       "      <td>Android</td>\n",
       "    </tr>\n",
       "    <tr>\n",
       "      <th>274629</th>\n",
       "      <td>10E0DEFC1ABDBBE0</td>\n",
       "      <td>DF0FD0E09BF1F3D7</td>\n",
       "      <td>2025-08-17</td>\n",
       "      <td>2025-08-17 15:03:43</td>\n",
       "      <td>2025-08-14</td>\n",
       "      <td>4</td>\n",
       "      <td>0</td>\n",
       "      <td>1</td>\n",
       "      <td>CIS</td>\n",
       "      <td>Android</td>\n",
       "    </tr>\n",
       "    <tr>\n",
       "      <th>302501</th>\n",
       "      <td>10E0DEFC1ABDBBE0</td>\n",
       "      <td>3C221774B4DE6885</td>\n",
       "      <td>2025-08-18</td>\n",
       "      <td>2025-08-18 17:29:14</td>\n",
       "      <td>2025-08-14</td>\n",
       "      <td>5</td>\n",
       "      <td>0</td>\n",
       "      <td>4</td>\n",
       "      <td>CIS</td>\n",
       "      <td>Android</td>\n",
       "    </tr>\n",
       "    <tr>\n",
       "      <th>325557</th>\n",
       "      <td>10E0DEFC1ABDBBE0</td>\n",
       "      <td>031BD7A67048105B</td>\n",
       "      <td>2025-08-19</td>\n",
       "      <td>2025-08-19 13:23:55</td>\n",
       "      <td>2025-08-14</td>\n",
       "      <td>6</td>\n",
       "      <td>0</td>\n",
       "      <td>2</td>\n",
       "      <td>CIS</td>\n",
       "      <td>Android</td>\n",
       "    </tr>\n",
       "    <tr>\n",
       "      <th>345336</th>\n",
       "      <td>10E0DEFC1ABDBBE0</td>\n",
       "      <td>FF4315CF4AD4B100</td>\n",
       "      <td>2025-08-20</td>\n",
       "      <td>2025-08-20 19:31:54</td>\n",
       "      <td>2025-08-14</td>\n",
       "      <td>7</td>\n",
       "      <td>0</td>\n",
       "      <td>2</td>\n",
       "      <td>CIS</td>\n",
       "      <td>Android</td>\n",
       "    </tr>\n",
       "    <tr>\n",
       "      <th>377532</th>\n",
       "      <td>10E0DEFC1ABDBBE0</td>\n",
       "      <td>4045FEA0747203B4</td>\n",
       "      <td>2025-08-22</td>\n",
       "      <td>2025-08-22 17:54:13</td>\n",
       "      <td>2025-08-14</td>\n",
       "      <td>8</td>\n",
       "      <td>0</td>\n",
       "      <td>2</td>\n",
       "      <td>CIS</td>\n",
       "      <td>Android</td>\n",
       "    </tr>\n",
       "    <tr>\n",
       "      <th>403538</th>\n",
       "      <td>10E0DEFC1ABDBBE0</td>\n",
       "      <td>344B086C421C7F37</td>\n",
       "      <td>2025-08-24</td>\n",
       "      <td>2025-08-24 14:46:13</td>\n",
       "      <td>2025-08-14</td>\n",
       "      <td>9</td>\n",
       "      <td>0</td>\n",
       "      <td>2</td>\n",
       "      <td>CIS</td>\n",
       "      <td>Android</td>\n",
       "    </tr>\n",
       "    <tr>\n",
       "      <th>414743</th>\n",
       "      <td>10E0DEFC1ABDBBE0</td>\n",
       "      <td>054F20BA371E4C9D</td>\n",
       "      <td>2025-08-25</td>\n",
       "      <td>2025-08-25 18:36:41</td>\n",
       "      <td>2025-08-14</td>\n",
       "      <td>10</td>\n",
       "      <td>0</td>\n",
       "      <td>3</td>\n",
       "      <td>CIS</td>\n",
       "      <td>Android</td>\n",
       "    </tr>\n",
       "  </tbody>\n",
       "</table>\n",
       "</div>"
      ],
      "text/plain": [
       "                 user_id        session_id session_date     session_start_ts  \\\n",
       "115558  10E0DEFC1ABDBBE0  B8F0423BBFFCF5DC   2025-08-14  2025-08-14 13:57:39   \n",
       "191751  10E0DEFC1ABDBBE0  87CA2FA549473837   2025-08-15  2025-08-15 16:42:10   \n",
       "239370  10E0DEFC1ABDBBE0  4ADD8011DCDCE318   2025-08-16  2025-08-16 19:53:21   \n",
       "274629  10E0DEFC1ABDBBE0  DF0FD0E09BF1F3D7   2025-08-17  2025-08-17 15:03:43   \n",
       "302501  10E0DEFC1ABDBBE0  3C221774B4DE6885   2025-08-18  2025-08-18 17:29:14   \n",
       "325557  10E0DEFC1ABDBBE0  031BD7A67048105B   2025-08-19  2025-08-19 13:23:55   \n",
       "345336  10E0DEFC1ABDBBE0  FF4315CF4AD4B100   2025-08-20  2025-08-20 19:31:54   \n",
       "377532  10E0DEFC1ABDBBE0  4045FEA0747203B4   2025-08-22  2025-08-22 17:54:13   \n",
       "403538  10E0DEFC1ABDBBE0  344B086C421C7F37   2025-08-24  2025-08-24 14:46:13   \n",
       "414743  10E0DEFC1ABDBBE0  054F20BA371E4C9D   2025-08-25  2025-08-25 18:36:41   \n",
       "\n",
       "       install_date  session_number  registration_flag  page_counter region  \\\n",
       "115558   2025-08-14               1                  0             4    CIS   \n",
       "191751   2025-08-14               2                  0             3    CIS   \n",
       "239370   2025-08-14               3                  0             3    CIS   \n",
       "274629   2025-08-14               4                  0             1    CIS   \n",
       "302501   2025-08-14               5                  0             4    CIS   \n",
       "325557   2025-08-14               6                  0             2    CIS   \n",
       "345336   2025-08-14               7                  0             2    CIS   \n",
       "377532   2025-08-14               8                  0             2    CIS   \n",
       "403538   2025-08-14               9                  0             2    CIS   \n",
       "414743   2025-08-14              10                  0             3    CIS   \n",
       "\n",
       "         device  \n",
       "115558  Android  \n",
       "191751  Android  \n",
       "239370  Android  \n",
       "274629  Android  \n",
       "302501  Android  \n",
       "325557  Android  \n",
       "345336  Android  \n",
       "377532  Android  \n",
       "403538  Android  \n",
       "414743  Android  "
      ]
     },
     "execution_count": 3,
     "metadata": {},
     "output_type": "execute_result"
    }
   ],
   "source": [
    "sessions_by_user = sessions_history.groupby('user_id')['session_id'].nunique()\n",
    "max_user = sessions_by_user.idxmax()\n",
    "sessions_history[sessions_history['user_id'] == max_user]"
   ]
  },
  {
   "cell_type": "markdown",
   "metadata": {
    "id": "CmcGpJTP0eMq"
   },
   "source": [
    "#### 1.3. Анализ числа регистраций\n",
    "Одна из важнейших метрик продукта — число зарегистрированных пользователей. Используя исторические данные, визуализируйте, как менялось число регистраций в приложении за время его существования.\n",
    "\n",
    "- Агрегируйте исторические данные и рассчитайте число уникальных пользователей и число зарегистрированных пользователей для каждого дня наблюдения. Для простоты считайте, что у пользователя в течение дня бывает одна сессия максимум и статус регистрации в течение одного дня не может измениться.\n",
    "\n",
    "- Постройте линейные графики общего числа пользователей и общего числа зарегистрированных пользователей по дням. Отобразите их на одном графике.\n",
    "\n",
    "- Постройте отдельный линейный график доли зарегистрированных пользователей от всех пользователей по дням.\n",
    "\n",
    "- На обоих графиках должны быть заголовок, подписанные оси X и Y, сетка и легенда."
   ]
  },
  {
   "cell_type": "code",
   "execution_count": 4,
   "metadata": {
    "id": "tN_6Ml3EPatS"
   },
   "outputs": [],
   "source": [
    "users_by_date = sessions_history.groupby('session_date')['user_id'].nunique()\n",
    "\n",
    "registered_by_date = sessions_history[sessions_history['registration_flag']==1].groupby('session_date')['user_id'].nunique()\n",
    "\n",
    "share_registered = registered_by_date/users_by_date"
   ]
  },
  {
   "cell_type": "code",
   "execution_count": 5,
   "metadata": {},
   "outputs": [
    {
     "data": {
      "image/png": "[encoded data removed]",
      "text/plain": [
       "<Figure size 720x432 with 1 Axes>"
      ]
     },
     "metadata": {
      "needs_background": "light"
     },
     "output_type": "display_data"
    }
   ],
   "source": [
    "plt.figure(figsize = [10, 6])\n",
    "plt.plot(users_by_date, label='Общее число юзеров')\n",
    "plt.plot(registered_by_date, label='Зарегистрированные юзеры')\n",
    "\n",
    "plt.title('Динамика общего кол-ва юзеров и зарегистрированных юзеров')\n",
    "plt.xlabel('Дата')\n",
    "plt.xticks(rotation=60)\n",
    "plt.ylabel('Количество юзеров')\n",
    "\n",
    "plt.grid()\n",
    "plt.legend()\n",
    "\n",
    "plt.tight_layout()\n",
    "\n",
    "plt.show()"
   ]
  },
  {
   "cell_type": "code",
   "execution_count": 6,
   "metadata": {
    "scrolled": false
   },
   "outputs": [
    {
     "data": {
      "image/png": "[encoded data removed]",
      "text/plain": [
       "<Figure size 720x432 with 1 Axes>"
      ]
     },
     "metadata": {
      "needs_background": "light"
     },
     "output_type": "display_data"
    }
   ],
   "source": [
    "plt.figure(figsize = [10, 6])\n",
    "plt.plot(share_registered)\n",
    "\n",
    "plt.title('Доля зарегистрированных юзеров по дням')\n",
    "plt.xlabel('Дата')\n",
    "plt.xticks(rotation=60)\n",
    "plt.ylabel('Доля зарегистрированных')\n",
    "\n",
    "plt.grid()\n",
    "plt.tight_layout()\n",
    "\n",
    "plt.show()"
   ]
  },
  {
   "cell_type": "markdown",
   "metadata": {
    "id": "UR7D7RhF0eMr"
   },
   "source": [
    "#### 1.4. Анализ числа просмотренных страниц\n",
    "Другая важная метрика продукта — число просмотренных страниц в приложении. Чем больше страниц просмотрено, тем сильнее пользователь увлечён контентом, а значит, выше шансы на то, что он зарегистрируется и оплатит подписку.\n",
    "\n",
    "- Найдите количество сессий для каждого значения количества просмотренных страниц. Например: одну страницу просмотрели в 29160 сессиях, две страницы в 105536 сессиях и так далее.\n",
    "\n",
    "- Постройте столбчатую диаграмму, где по оси X будет число просмотренных страниц, по оси Y — количество сессий.\n",
    "\n",
    "- На диаграмме должны быть заголовок, подписанные оси X и Y."
   ]
  },
  {
   "cell_type": "code",
   "execution_count": 7,
   "metadata": {
    "id": "cb6hPlVzPaSf"
   },
   "outputs": [
    {
     "data": {
      "image/png": "[encoded data removed]",
      "text/plain": [
       "<Figure size 720x432 with 1 Axes>"
      ]
     },
     "metadata": {
      "needs_background": "light"
     },
     "output_type": "display_data"
    }
   ],
   "source": [
    "page_count = sessions_history['page_counter'].value_counts().sort_index()\n",
    "\n",
    "plt.figure(figsize=[10,6])\n",
    "page_count.plot(kind='bar')\n",
    "\n",
    "plt.title('Распределение кол-ва просмотренных страниц')\n",
    "plt.xlabel('Число просмотренных страниц')\n",
    "plt.ylabel('Количество сессий')\n",
    "\n",
    "\n",
    "\n",
    "plt.show()"
   ]
  },
  {
   "cell_type": "markdown",
   "metadata": {
    "id": "xDltSpVP0eMr"
   },
   "source": [
    "#### 1.5. Доля пользователей, просмотревших более четырёх страниц\n",
    "Продуктовая команда продукта считает, что сессии, в рамках которых пользователь просмотрел 4 и более страниц, говорят об удовлетворённости контентом и алгоритмами рекомендаций. Этот показатель является важной прокси-метрикой для продукта.\n",
    "\n",
    "- В датафрейме `sessions_history` создайте дополнительный столбец `good_session`. В него войдёт значение `1`, если за одну сессию было просмотрено 4 и более страниц, и значение `0`, если было просмотрено меньше.\n",
    "\n",
    "- Постройте график со средним значением доли успешных сессий ко всем сессиям по дням за весь период наблюдения."
   ]
  },
  {
   "cell_type": "code",
   "execution_count": 8,
   "metadata": {
    "id": "iygaPfixPYMW"
   },
   "outputs": [
    {
     "data": {
      "image/png": "[encoded data removed]",
      "text/plain": [
       "<Figure size 720x432 with 1 Axes>"
      ]
     },
     "metadata": {
      "needs_background": "light"
     },
     "output_type": "display_data"
    }
   ],
   "source": [
    "sessions_history['good_session'] = sessions_history['page_counter'] >= 4\n",
    "\n",
    "good_sessions_share = sessions_history.groupby('session_date')['good_session'].mean()\n",
    "\n",
    "plt.figure(figsize=[10,6])\n",
    "plt.plot(good_sessions_share, label='Доля успешных сессий')\n",
    "\n",
    "plt.title('Доля успешных сессий по дням')\n",
    "plt.xlabel('Дата')\n",
    "plt.ylabel('Доля успешных сессий')\n",
    "plt.xticks(rotation=60)\n",
    "\n",
    "plt.grid()\n",
    "plt.tight_layout()\n",
    "\n",
    "plt.show()"
   ]
  },
  {
   "cell_type": "markdown",
   "metadata": {
    "id": "21JcG77Y0eMt"
   },
   "source": [
    "### 2. Подготовка к тесту\n",
    "При планировании теста необходимо проделать несколько важных шагов:\n",
    "\n",
    "- Определиться с целевой метрикой.\n",
    "\n",
    "- Рассчитать необходимый размер выборки.\n",
    "\n",
    "- Исходя из текущих значений трафика, рассчитать необходимую длительность проведения теста."
   ]
  },
  {
   "cell_type": "markdown",
   "metadata": {
    "id": "uzaeln270eMt"
   },
   "source": [
    "#### 2.1. Расчёт размера выборки\n",
    "В рамках курса вам уже приходилось рассчитывать размеры выборки, используя онлайн-калькуляторы. В этом задании предлагаем воспользоваться готовым кодом и рассчитать необходимое для вашего дизайна эксперимента количество пользователей.\n",
    "\n",
    "Для этого установите в коде ниже следующие параметры:\n",
    "\n",
    "- Уровень значимости — 0.05.\n",
    "\n",
    "- Вероятность ошибки второго рода — 0.2.\n",
    "\n",
    "- Мощность теста.\n",
    "\n",
    "- Минимальный детектируемый эффект, или MDE, — 3%. Обратите внимание, что здесь нужно указать десятичную дробь, а не процент.\n",
    "\n",
    "При расчёте размера выборки мы будем использовать метод `solve_power()` из класса `power.NormalIndPower` модуля `statsmodels.stats`.\n",
    "\n",
    "Запустите ячейку и изучите полученное значение."
   ]
  },
  {
   "cell_type": "code",
   "execution_count": 9,
   "metadata": {
    "id": "zSxJyPGPNdaI"
   },
   "outputs": [
    {
     "name": "stdout",
     "output_type": "stream",
     "text": [
      "Необходимый размер выборки для каждой группы: 17441\n"
     ]
    }
   ],
   "source": [
    "sample_size = NormalIndPower().solve_power(\n",
    "    effect_size = 0.03,\n",
    "    power = 0.8 ,\n",
    "    alpha = 0.05 ,\n",
    "    ratio = 1\n",
    ")\n",
    "\n",
    "print(f'Необходимый размер выборки для каждой группы: {int(sample_size)}')"
   ]
  },
  {
   "cell_type": "markdown",
   "metadata": {
    "id": "qLEv4RoV0eMu"
   },
   "source": [
    "#### 2.1. Расчёт длительности A/B-теста\n",
    "\n",
    "Используйте данные о количестве пользователей в каждой выборке и среднем количестве пользователей приложения. Рассчитайте длительность теста, разделив одно на другое.\n",
    "\n",
    "- Рассчитайте среднее количество уникальных пользователей приложения в день.\n",
    "\n",
    "- Определите длительность теста, исходя из рассчитанного значения размера выборок и среднего дневного трафика приложения. Количество дней округлите в большую сторону."
   ]
  },
  {
   "cell_type": "code",
   "execution_count": 10,
   "metadata": {
    "id": "KZDRbryDOGHa"
   },
   "outputs": [
    {
     "name": "stdout",
     "output_type": "stream",
     "text": [
      "Рассчитанная длительность A/B-теста при текущем уровене трафика в 9907 пользователей в день составит 4 дней\n"
     ]
    }
   ],
   "source": [
    "avg_daily_users = round(sessions_history.groupby('session_date')['user_id'].nunique().mean())\n",
    "\n",
    "test_duration = ceil(sample_size*2/avg_daily_users)\n",
    "\n",
    "print(f\"Рассчитанная длительность A/B-теста при текущем уровене трафика в {avg_daily_users} пользователей в день составит {test_duration} дней\")"
   ]
  },
  {
   "cell_type": "markdown",
   "metadata": {
    "id": "ZuvtAdha0eMv"
   },
   "source": [
    "### 3. Мониторинг А/В-теста"
   ]
  },
  {
   "cell_type": "markdown",
   "metadata": {
    "id": "jq5sE3Ya0eMv"
   },
   "source": [
    "#### 3.1. Проверка распределения пользователей\n",
    "\n",
    "A/B-тест успешно запущен, и уже доступны данные за первые три дня. На этом этапе нужно убедиться, что всё идёт хорошо: пользователи разделены правильным образом, а интересующие вас метрики корректно считаются.\n",
    "\n",
    "- Считайте и сохраните в датафрейм `sessions_test_part` CSV-файл с историческими данными о сессиях пользователей `sessions_project_test_part.csv`.\n",
    "\n",
    "- Рассчитайте количество уникальных пользователей в каждой из экспериментальных групп для одного дня наблюдения.\n",
    "\n",
    "- Рассчитайте и выведите на экран процентную разницу в количестве пользователей в группах A и B. Постройте любую удобную визуализацию, на которой можно было бы увидеть возможное различие двух групп.\n",
    "\n",
    "Для расчёта процентной разницы воспользуйтесь формулой:\n",
    "$$P = 100 \\cdot  \\frac{|A − B|}{A}$$"
   ]
  },
  {
   "cell_type": "code",
   "execution_count": 11,
   "metadata": {
    "id": "G1bqIzDJOUiz"
   },
   "outputs": [
    {
     "data": {
      "text/html": [
       "<div>\n",
       "<style scoped>\n",
       "    .dataframe tbody tr th:only-of-type {\n",
       "        vertical-align: middle;\n",
       "    }\n",
       "\n",
       "    .dataframe tbody tr th {\n",
       "        vertical-align: top;\n",
       "    }\n",
       "\n",
       "    .dataframe thead th {\n",
       "        text-align: right;\n",
       "    }\n",
       "</style>\n",
       "<table border=\"1\" class=\"dataframe\">\n",
       "  <thead>\n",
       "    <tr style=\"text-align: right;\">\n",
       "      <th></th>\n",
       "      <th>user_id</th>\n",
       "      <th>session_id</th>\n",
       "      <th>session_date</th>\n",
       "      <th>session_start_ts</th>\n",
       "      <th>install_date</th>\n",
       "      <th>session_number</th>\n",
       "      <th>registration_flag</th>\n",
       "      <th>page_counter</th>\n",
       "      <th>region</th>\n",
       "      <th>device</th>\n",
       "      <th>test_group</th>\n",
       "    </tr>\n",
       "  </thead>\n",
       "  <tbody>\n",
       "    <tr>\n",
       "      <th>0</th>\n",
       "      <td>6DAE3B3654DA738E</td>\n",
       "      <td>C69249E26E58F6E2</td>\n",
       "      <td>2025-10-26</td>\n",
       "      <td>2025-10-26 18:15:05</td>\n",
       "      <td>2025-10-16</td>\n",
       "      <td>3</td>\n",
       "      <td>0</td>\n",
       "      <td>3</td>\n",
       "      <td>MENA</td>\n",
       "      <td>Android</td>\n",
       "      <td>A</td>\n",
       "    </tr>\n",
       "    <tr>\n",
       "      <th>1</th>\n",
       "      <td>0A3FE5D1DD59110A</td>\n",
       "      <td>66D66D7C9F5181B7</td>\n",
       "      <td>2025-10-21</td>\n",
       "      <td>2025-10-21 17:04:53</td>\n",
       "      <td>2025-10-15</td>\n",
       "      <td>2</td>\n",
       "      <td>1</td>\n",
       "      <td>2</td>\n",
       "      <td>CIS</td>\n",
       "      <td>Android</td>\n",
       "      <td>B</td>\n",
       "    </tr>\n",
       "    <tr>\n",
       "      <th>2</th>\n",
       "      <td>2041F1D7AA740B88</td>\n",
       "      <td>50DE51D42215E74C</td>\n",
       "      <td>2025-10-23</td>\n",
       "      <td>2025-10-23 17:39:29</td>\n",
       "      <td>2025-10-19</td>\n",
       "      <td>3</td>\n",
       "      <td>0</td>\n",
       "      <td>2</td>\n",
       "      <td>MENA</td>\n",
       "      <td>Android</td>\n",
       "      <td>A</td>\n",
       "    </tr>\n",
       "    <tr>\n",
       "      <th>3</th>\n",
       "      <td>43D7585009168086</td>\n",
       "      <td>5763C0C353C22263</td>\n",
       "      <td>2025-10-24</td>\n",
       "      <td>2025-10-24 15:01:57</td>\n",
       "      <td>2025-10-18</td>\n",
       "      <td>4</td>\n",
       "      <td>0</td>\n",
       "      <td>1</td>\n",
       "      <td>CIS</td>\n",
       "      <td>iPhone</td>\n",
       "      <td>B</td>\n",
       "    </tr>\n",
       "    <tr>\n",
       "      <th>4</th>\n",
       "      <td>15AD68B14D62D88C</td>\n",
       "      <td>B1AD09F93C1053BC</td>\n",
       "      <td>2025-10-17</td>\n",
       "      <td>2025-10-17 17:34:39</td>\n",
       "      <td>2025-10-17</td>\n",
       "      <td>1</td>\n",
       "      <td>0</td>\n",
       "      <td>2</td>\n",
       "      <td>MENA</td>\n",
       "      <td>Android</td>\n",
       "      <td>B</td>\n",
       "    </tr>\n",
       "  </tbody>\n",
       "</table>\n",
       "</div>"
      ],
      "text/plain": [
       "            user_id        session_id session_date     session_start_ts  \\\n",
       "0  6DAE3B3654DA738E  C69249E26E58F6E2   2025-10-26  2025-10-26 18:15:05   \n",
       "1  0A3FE5D1DD59110A  66D66D7C9F5181B7   2025-10-21  2025-10-21 17:04:53   \n",
       "2  2041F1D7AA740B88  50DE51D42215E74C   2025-10-23  2025-10-23 17:39:29   \n",
       "3  43D7585009168086  5763C0C353C22263   2025-10-24  2025-10-24 15:01:57   \n",
       "4  15AD68B14D62D88C  B1AD09F93C1053BC   2025-10-17  2025-10-17 17:34:39   \n",
       "\n",
       "  install_date  session_number  registration_flag  page_counter region  \\\n",
       "0   2025-10-16               3                  0             3   MENA   \n",
       "1   2025-10-15               2                  1             2    CIS   \n",
       "2   2025-10-19               3                  0             2   MENA   \n",
       "3   2025-10-18               4                  0             1    CIS   \n",
       "4   2025-10-17               1                  0             2   MENA   \n",
       "\n",
       "    device test_group  \n",
       "0  Android          A  \n",
       "1  Android          B  \n",
       "2  Android          A  \n",
       "3   iPhone          B  \n",
       "4  Android          B  "
      ]
     },
     "metadata": {},
     "output_type": "display_data"
    },
    {
     "name": "stdout",
     "output_type": "stream",
     "text": [
      "<class 'pandas.core.frame.DataFrame'>\n",
      "RangeIndex: 100005 entries, 0 to 100004\n",
      "Data columns (total 11 columns):\n",
      " #   Column             Non-Null Count   Dtype \n",
      "---  ------             --------------   ----- \n",
      " 0   user_id            100005 non-null  object\n",
      " 1   session_id         100005 non-null  object\n",
      " 2   session_date       100005 non-null  object\n",
      " 3   session_start_ts   100005 non-null  object\n",
      " 4   install_date       100005 non-null  object\n",
      " 5   session_number     100005 non-null  int64 \n",
      " 6   registration_flag  100005 non-null  int64 \n",
      " 7   page_counter       100005 non-null  int64 \n",
      " 8   region             100005 non-null  object\n",
      " 9   device             100005 non-null  object\n",
      " 10  test_group         100005 non-null  object\n",
      "dtypes: int64(3), object(8)\n",
      "memory usage: 8.4+ MB\n"
     ]
    },
    {
     "data": {
      "text/plain": [
       "None"
      ]
     },
     "metadata": {},
     "output_type": "display_data"
    }
   ],
   "source": [
    "sessions_test_part = pd.read_csv('/datasets/sessions_project_test.csv')\n",
    "\n",
    "display(sessions_test_part.head())\n",
    "display(sessions_test_part.info())"
   ]
  },
  {
   "cell_type": "code",
   "execution_count": 12,
   "metadata": {},
   "outputs": [
    {
     "name": "stdout",
     "output_type": "stream",
     "text": [
      "Процентная разница между группами составляет: 0.745\n"
     ]
    },
    {
     "data": {
      "image/png": "[encoded data removed]",
      "text/plain": [
       "<Figure size 720x432 with 1 Axes>"
      ]
     },
     "metadata": {
      "needs_background": "light"
     },
     "output_type": "display_data"
    }
   ],
   "source": [
    "one_day = sessions_test_part[sessions_test_part['session_date'] == sessions_test_part['session_date'].min()]\n",
    "\n",
    "unique_users = one_day.groupby('test_group')['user_id'].nunique()\n",
    "p = 100 * abs(unique_users['A'] - unique_users['B']) / unique_users['A']\n",
    "print(f'Процентная разница между группами составляет: {round(p, 3)}')\n",
    "\n",
    "unique_users.plot(kind='bar', figsize=[10, 6])\n",
    "\n",
    "plt.title(f'Уникальные юзеры в группах A и B')\n",
    "plt.xlabel('Группы пользователей')\n",
    "plt.ylabel('Количество уникальных пользователей')\n",
    "\n",
    "plt.grid(axis='y')\n",
    "\n",
    "plt.show()"
   ]
  },
  {
   "cell_type": "markdown",
   "metadata": {
    "id": "sgpNY5bv0eM0"
   },
   "source": [
    "#### 3.2. Проверка пересечений пользователей\n",
    "Помимо проверки равенства количества пользователей в группах полезно убедиться в том, что группы независимы. Для этого нужно убедиться, что никто из пользователей случайно не попал в обе группы одновременно.\n",
    "\n",
    "- Рассчитайте количество пользователей, которые встречаются одновременно в группах A и B, или убедитесь, что таких нет."
   ]
  },
  {
   "cell_type": "code",
   "execution_count": 13,
   "metadata": {
    "id": "E72ozN9FOX1u"
   },
   "outputs": [
    {
     "data": {
      "text/plain": [
       "0"
      ]
     },
     "execution_count": 13,
     "metadata": {},
     "output_type": "execute_result"
    }
   ],
   "source": [
    "unique_users_a = set(sessions_test_part.loc[sessions_test_part['test_group'] == 'A', 'user_id'])\n",
    "unique_users_b = set(sessions_test_part.loc[sessions_test_part['test_group'] == 'B', 'user_id'])\n",
    "\n",
    "both_groups_users = unique_users_a.intersection(unique_users_b)\n",
    "\n",
    "len(both_groups_users)"
   ]
  },
  {
   "cell_type": "markdown",
   "metadata": {},
   "source": [
    "Ура!"
   ]
  },
  {
   "cell_type": "markdown",
   "metadata": {
    "id": "6RvkNLrg0eM1"
   },
   "source": [
    "#### 3.3. Равномерность разделения пользователей по устройствам\n",
    "Полезно также убедиться в том, что пользователи равномерно распределены по всем доступным категориальным переменным — типам устройства и регионам.\n",
    "\n",
    "Постройте две диаграммы:\n",
    "\n",
    "- доля каждого типа устройства для пользователей из группы A,\n",
    "\n",
    "- доля каждого типа устройства для пользователей из группы B.\n",
    "\n",
    "Постарайтесь добавить на диаграммы все необходимые подписи, пояснения и заголовки, которые позволят сделать вывод о том, совпадает ли распределение устройств в группах A и B.\n"
   ]
  },
  {
   "cell_type": "code",
   "execution_count": 14,
   "metadata": {
    "id": "x_IP6PUNPWHC"
   },
   "outputs": [
    {
     "data": {
      "image/png": "[encoded data removed]",
      "text/plain": [
       "<Figure size 720x432 with 1 Axes>"
      ]
     },
     "metadata": {
      "needs_background": "light"
     },
     "output_type": "display_data"
    },
    {
     "data": {
      "image/png": "[encoded data removed]",
      "text/plain": [
       "<Figure size 720x432 with 1 Axes>"
      ]
     },
     "metadata": {
      "needs_background": "light"
     },
     "output_type": "display_data"
    }
   ],
   "source": [
    "#Сгруппируем по каждому пользователю его устройство\n",
    "users_devices = sessions_test_part.sort_values('session_date').groupby(['test_group', 'user_id'])['device'].first().reset_index()\n",
    "\n",
    "#Чтобы не перегружать код, напишем код для построения гистограммы\n",
    "def plot_device(group):\n",
    "    dist = users_devices[users_devices['test_group'] == group]['device'].value_counts()/len(users_devices[users_devices['test_group'] == group])\n",
    "\n",
    "    dist.plot(kind='bar', figsize=[10, 6])\n",
    "\n",
    "    plt.title(f'Распределение типов устройств в группе {group}')\n",
    "    plt.xlabel('Тип устройства')\n",
    "    plt.ylabel('Доля пользователей')\n",
    "\n",
    "    plt.grid(axis='y')\n",
    "\n",
    "    plt.show()\n",
    "\n",
    "#Применим функцию\n",
    "plot_device('A')\n",
    "plot_device('B')"
   ]
  },
  {
   "cell_type": "markdown",
   "metadata": {
    "id": "gAgmP6vo0eM1"
   },
   "source": [
    "#### 3.4. Равномерность распределения пользователей по регионам\n",
    "Теперь убедитесь, что пользователи равномерно распределены по регионам.\n",
    "\n",
    "Постройте две диаграммы:\n",
    "\n",
    "- доля каждого региона для пользователей из группы A,\n",
    "\n",
    "- доля каждого региона для пользователей из группы B.\n",
    "\n",
    "Постарайтесь добавить на диаграммы все необходимые подписи, пояснения и заголовки, которые позволят сделать вывод о том, совпадает ли распределение регионов в группах A и B. Постарайтесь использовать другой тип диаграммы, не тот, что в прошлом задании.\n"
   ]
  },
  {
   "cell_type": "code",
   "execution_count": 15,
   "metadata": {
    "id": "3hAq-FG4OdYM"
   },
   "outputs": [
    {
     "data": {
      "image/png": "[encoded data removed]",
      "text/plain": [
       "<Figure size 720x432 with 1 Axes>"
      ]
     },
     "metadata": {
      "needs_background": "light"
     },
     "output_type": "display_data"
    },
    {
     "data": {
      "image/png": "[encoded data removed]",
      "text/plain": [
       "<Figure size 720x432 with 1 Axes>"
      ]
     },
     "metadata": {
      "needs_background": "light"
     },
     "output_type": "display_data"
    }
   ],
   "source": [
    "#Сгруппируем по каждому пользователю его регион\n",
    "users_regions = sessions_test_part.sort_values('session_date').groupby(['test_group', 'user_id'])['region'].first().reset_index()\n",
    "\n",
    "#Не будем мудрить и напишем ту же функцию, только с отсортированными значениями и делением по региону\n",
    "def plot_region(group):\n",
    "    dist = users_regions[users_regions['test_group'] == group]['region'].value_counts(normalize=True).sort_values(ascending=True)\n",
    "\n",
    "    dist.plot(kind='barh', figsize=[10, 6])\n",
    "\n",
    "    plt.title(f'Распределение регионов в группе {group}')\n",
    "    plt.xlabel('Доля пользователей')\n",
    "    plt.ylabel('Регион')\n",
    "\n",
    "    plt.grid(axis='x')\n",
    "\n",
    "    plt.show()\n",
    "\n",
    "#Применим функцию\n",
    "plot_region('A')\n",
    "plot_region('B')"
   ]
  },
  {
   "cell_type": "markdown",
   "metadata": {
    "id": "X2WSZ-sDrSUi"
   },
   "source": [
    "#### 3.5. Вывод после проверки A/B-теста\n",
    "\n",
    "На основе проведённого анализа A/B-теста сформулируйте и запишите свои выводы. В выводе обязательно укажите:\n",
    "\n",
    "- Были ли обнаружено различие в количестве пользователей в двух группах.\n",
    "\n",
    "- Являются ли выборки независимыми. Было ли обнаружено пересечение пользователей из тестовой и контрольной групп.\n",
    "\n",
    "- Сохраняется ли равномерное распределение пользователей тестовой и контрольной групп по категориальным переменным: устройствам и регионам.\n",
    "\n",
    "Сделайте заключение о том, корректно ли проходит A/B-тест или наблюдаются какие-либо нарушения."
   ]
  },
  {
   "cell_type": "markdown",
   "metadata": {},
   "source": [
    "**Промежуточные выводы:**  \n",
    "* Разница групп по количеству пользователей при общей выборке в 100.000 юзеров составляет не более 2%, что вполне приемлимо ;\n",
    "* Выборки являются независимыми, ни один из пользователей выборки А не был задетектирован в группе B ;\n",
    "* В сравнении групп по каждому из критериев присутствует разница в одном-двух показателях, однако во всех случаях она не превышает 5% ;\n",
    "  \n",
    "**Вывод:** A/B тест работает корректно."
   ]
  },
  {
   "cell_type": "markdown",
   "metadata": {
    "id": "nudRr_BQ0eM2"
   },
   "source": [
    "### 4. Проверка результатов A/B-теста\n",
    "\n",
    "A/B-тест завершён, и у вас есть результаты за все дни проведения эксперимента. Необходимо убедиться в корректности теста и верно интерпретировать результаты."
   ]
  },
  {
   "cell_type": "markdown",
   "metadata": {
    "id": "JVve-YBB0eM2"
   },
   "source": [
    "#### 4.1. Получение результатов теста и подсчёт основной метрики\n",
    "\n",
    "- Считайте и сохраните в датафрейм `sessions_test` CSV-файл с историческими данными о сессиях пользователей `sessions_project_test.csv`.\n",
    "\n",
    "- В датафрейме `sessions_test` создайте дополнительный столбец `good_session`. В него войдёт значение `1`, если за одну сессию было просмотрено 4 и более страниц, и значение `0`, если просмотрено меньше."
   ]
  },
  {
   "cell_type": "code",
   "execution_count": 16,
   "metadata": {
    "id": "EqRlwMtKPTir"
   },
   "outputs": [
    {
     "data": {
      "text/html": [
       "<div>\n",
       "<style scoped>\n",
       "    .dataframe tbody tr th:only-of-type {\n",
       "        vertical-align: middle;\n",
       "    }\n",
       "\n",
       "    .dataframe tbody tr th {\n",
       "        vertical-align: top;\n",
       "    }\n",
       "\n",
       "    .dataframe thead th {\n",
       "        text-align: right;\n",
       "    }\n",
       "</style>\n",
       "<table border=\"1\" class=\"dataframe\">\n",
       "  <thead>\n",
       "    <tr style=\"text-align: right;\">\n",
       "      <th></th>\n",
       "      <th>user_id</th>\n",
       "      <th>session_id</th>\n",
       "      <th>session_date</th>\n",
       "      <th>session_start_ts</th>\n",
       "      <th>install_date</th>\n",
       "      <th>session_number</th>\n",
       "      <th>registration_flag</th>\n",
       "      <th>page_counter</th>\n",
       "      <th>region</th>\n",
       "      <th>device</th>\n",
       "      <th>test_group</th>\n",
       "      <th>good_session</th>\n",
       "    </tr>\n",
       "  </thead>\n",
       "  <tbody>\n",
       "    <tr>\n",
       "      <th>0</th>\n",
       "      <td>6DAE3B3654DA738E</td>\n",
       "      <td>C69249E26E58F6E2</td>\n",
       "      <td>2025-10-26</td>\n",
       "      <td>2025-10-26 18:15:05</td>\n",
       "      <td>2025-10-16</td>\n",
       "      <td>3</td>\n",
       "      <td>0</td>\n",
       "      <td>3</td>\n",
       "      <td>MENA</td>\n",
       "      <td>Android</td>\n",
       "      <td>A</td>\n",
       "      <td>0</td>\n",
       "    </tr>\n",
       "    <tr>\n",
       "      <th>1</th>\n",
       "      <td>0A3FE5D1DD59110A</td>\n",
       "      <td>66D66D7C9F5181B7</td>\n",
       "      <td>2025-10-21</td>\n",
       "      <td>2025-10-21 17:04:53</td>\n",
       "      <td>2025-10-15</td>\n",
       "      <td>2</td>\n",
       "      <td>1</td>\n",
       "      <td>2</td>\n",
       "      <td>CIS</td>\n",
       "      <td>Android</td>\n",
       "      <td>B</td>\n",
       "      <td>0</td>\n",
       "    </tr>\n",
       "    <tr>\n",
       "      <th>2</th>\n",
       "      <td>2041F1D7AA740B88</td>\n",
       "      <td>50DE51D42215E74C</td>\n",
       "      <td>2025-10-23</td>\n",
       "      <td>2025-10-23 17:39:29</td>\n",
       "      <td>2025-10-19</td>\n",
       "      <td>3</td>\n",
       "      <td>0</td>\n",
       "      <td>2</td>\n",
       "      <td>MENA</td>\n",
       "      <td>Android</td>\n",
       "      <td>A</td>\n",
       "      <td>0</td>\n",
       "    </tr>\n",
       "    <tr>\n",
       "      <th>3</th>\n",
       "      <td>43D7585009168086</td>\n",
       "      <td>5763C0C353C22263</td>\n",
       "      <td>2025-10-24</td>\n",
       "      <td>2025-10-24 15:01:57</td>\n",
       "      <td>2025-10-18</td>\n",
       "      <td>4</td>\n",
       "      <td>0</td>\n",
       "      <td>1</td>\n",
       "      <td>CIS</td>\n",
       "      <td>iPhone</td>\n",
       "      <td>B</td>\n",
       "      <td>0</td>\n",
       "    </tr>\n",
       "    <tr>\n",
       "      <th>4</th>\n",
       "      <td>15AD68B14D62D88C</td>\n",
       "      <td>B1AD09F93C1053BC</td>\n",
       "      <td>2025-10-17</td>\n",
       "      <td>2025-10-17 17:34:39</td>\n",
       "      <td>2025-10-17</td>\n",
       "      <td>1</td>\n",
       "      <td>0</td>\n",
       "      <td>2</td>\n",
       "      <td>MENA</td>\n",
       "      <td>Android</td>\n",
       "      <td>B</td>\n",
       "      <td>0</td>\n",
       "    </tr>\n",
       "  </tbody>\n",
       "</table>\n",
       "</div>"
      ],
      "text/plain": [
       "            user_id        session_id session_date     session_start_ts  \\\n",
       "0  6DAE3B3654DA738E  C69249E26E58F6E2   2025-10-26  2025-10-26 18:15:05   \n",
       "1  0A3FE5D1DD59110A  66D66D7C9F5181B7   2025-10-21  2025-10-21 17:04:53   \n",
       "2  2041F1D7AA740B88  50DE51D42215E74C   2025-10-23  2025-10-23 17:39:29   \n",
       "3  43D7585009168086  5763C0C353C22263   2025-10-24  2025-10-24 15:01:57   \n",
       "4  15AD68B14D62D88C  B1AD09F93C1053BC   2025-10-17  2025-10-17 17:34:39   \n",
       "\n",
       "  install_date  session_number  registration_flag  page_counter region  \\\n",
       "0   2025-10-16               3                  0             3   MENA   \n",
       "1   2025-10-15               2                  1             2    CIS   \n",
       "2   2025-10-19               3                  0             2   MENA   \n",
       "3   2025-10-18               4                  0             1    CIS   \n",
       "4   2025-10-17               1                  0             2   MENA   \n",
       "\n",
       "    device test_group  good_session  \n",
       "0  Android          A             0  \n",
       "1  Android          B             0  \n",
       "2  Android          A             0  \n",
       "3   iPhone          B             0  \n",
       "4  Android          B             0  "
      ]
     },
     "execution_count": 16,
     "metadata": {},
     "output_type": "execute_result"
    }
   ],
   "source": [
    "sessions_test = pd.read_csv('/datasets/sessions_project_test.csv')\n",
    "\n",
    "good_session = []\n",
    "for i in sessions_test['page_counter']:\n",
    "    if i >= 4:\n",
    "        good_session.append(1)\n",
    "    else:\n",
    "        good_session.append(0)\n",
    "sessions_test['good_session'] = pd.Series(good_session)\n",
    "\n",
    "sessions_test.head()"
   ]
  },
  {
   "cell_type": "code",
   "execution_count": 17,
   "metadata": {},
   "outputs": [
    {
     "data": {
      "text/plain": [
       "20"
      ]
     },
     "execution_count": 17,
     "metadata": {},
     "output_type": "execute_result"
    }
   ],
   "source": [
    "len(sessions_test['session_date'].unique())"
   ]
  },
  {
   "cell_type": "markdown",
   "metadata": {
    "id": "aeYhrMYy0eM2"
   },
   "source": [
    "#### 4.2. Проверка корректности результатов теста\n",
    "\n",
    "Прежде чем приступать к анализу ключевых продуктовых метрик, необходимо убедиться, что тест проведён корректно и вы будете сравнивать две сопоставимые группы.\n",
    "\n",
    "- Рассчитайте количество уникальных сессий для каждого дня и обеих тестовых групп, используя группировку.\n",
    "\n",
    "- Проверьте, что количество уникальных дневных сессий в двух выборках не различается или различия не статистически значимы. Используйте статистический тест, который позволит сделать вывод о равенстве средних двух выборок.\n",
    "\n",
    "- В качестве ответа выведите на экран полученное значение p-value и интерпретируйте его."
   ]
  },
  {
   "cell_type": "markdown",
   "metadata": {},
   "source": [
    "**Гипотезы**:    \n",
    "  \n",
    "  H0: Количество уникальных дневных сессий в выборках статистически значимо не различается;  \n",
    "H1: Количество уникальных дневных сессий в выборках разнится на уровне статистической значимости. "
   ]
  },
  {
   "cell_type": "code",
   "execution_count": 18,
   "metadata": {
    "id": "5NUlcltkTTSU"
   },
   "outputs": [
    {
     "name": "stdout",
     "output_type": "stream",
     "text": [
      "p-value в t-тесте для проверки равенства средних дневных сессий: 0.94\n",
      "p_value >= 0.05, нет оснований отвергнуть нулевую гипотезу: выборки статистически значимо не различаются\n"
     ]
    }
   ],
   "source": [
    "daily_sessions = sessions_test.groupby(['session_date', 'test_group'])['session_id'].nunique().dropna().unstack('test_group')\n",
    "sessions_a = daily_sessions['A']\n",
    "sessions_b = daily_sessions['B']\n",
    "\n",
    "stat, p_value = st.ttest_ind(sessions_a, sessions_b, equal_var=True)\n",
    "\n",
    "print(f'p-value в t-тесте для проверки равенства средних дневных сессий: {round(p_value, 2)}')\n",
    "\n",
    "alpha = 0.05\n",
    "\n",
    "if p_value < alpha:\n",
    "    print('p_value < 0.05, отвергаем нулевую гипотезу: выборки значительно различаются')\n",
    "else:\n",
    "    print('p_value >= 0.05, нет оснований отвергнуть нулевую гипотезу: выборки статистически значимо не различаются')"
   ]
  },
  {
   "cell_type": "markdown",
   "metadata": {
    "id": "7kwRxzg70eM3"
   },
   "source": [
    "#### 4.3. Сравнение доли успешных сессий\n",
    "\n",
    "Когда вы убедились, что количество сессий в обеих выборках не различалось, можно переходить к анализу ключевой метрики — доли успешных сессий.\n",
    "\n",
    "Используйте созданный на первом шаге задания столбец `good_session` и рассчитайте долю успешных сессий для выборок A и B, а также разницу в этом показателе. Полученный вывод отобразите на экране."
   ]
  },
  {
   "cell_type": "code",
   "execution_count": 19,
   "metadata": {
    "id": "Uku-V1CpPRCz"
   },
   "outputs": [
    {
     "name": "stdout",
     "output_type": "stream",
     "text": [
      "Доля успешных сессий в группе А: 0.3077\n",
      "Доля успешных сессий в группе B: 0.3183\n",
      "Абсолютная разница между группами B и A: 0.0106\n"
     ]
    }
   ],
   "source": [
    "good_sessions_share = sessions_test.groupby('test_group')['good_session'].mean()\n",
    "good_a = good_sessions_share['A']\n",
    "good_b = good_sessions_share['B']\n",
    "\n",
    "print(f'Доля успешных сессий в группе А: {round(good_a, 4)}')\n",
    "print(f'Доля успешных сессий в группе B: {round(good_b, 4)}')\n",
    "print(f'Абсолютная разница между группами B и A: {round(good_b-good_a, 4)}')"
   ]
  },
  {
   "cell_type": "markdown",
   "metadata": {
    "id": "9fMFuja10eM4"
   },
   "source": [
    "#### 4.4. Насколько статистически значимо изменение ключевой метрики\n",
    "\n",
    "На предыдущем шаге вы убедились, что количество успешных сессий в тестовой выборке примерно на 1.1% выше, чем в контрольной, но делать выводы только на основе этого значения будет некорректно. Для принятия решения всегда необходимо отвечать на вопрос: является ли это изменение статистически значимым.\n",
    "\n",
    "- Используя статистический тест, рассчитайте, является ли изменение в метрике доли успешных сессий статистически значимым.\n",
    "\n",
    "- Выведите на экран полученное значение p-value и свои выводы о статистической значимости. Напомним, что уровень значимости в эксперименте был выбран на уровне 0.05."
   ]
  },
  {
   "cell_type": "markdown",
   "metadata": {},
   "source": [
    "**Гипотезы**:    \n",
    "  \n",
    "  H0: Изменение кол-ва уникальных сессий в выборках статистически не значимо;  \n",
    "H1: Изменение кол-ва уникальных сессий в выборках статистически значимо."
   ]
  },
  {
   "cell_type": "code",
   "execution_count": 20,
   "metadata": {
    "id": "gFvhRGwlPLS0"
   },
   "outputs": [
    {
     "name": "stdout",
     "output_type": "stream",
     "text": [
      "p-value в z-тесте для проверки равенства пропорций: 0.0003\n",
      "p_value_z < 0.05, отвергаем нулевую гипотезу\n"
     ]
    }
   ],
   "source": [
    "n_a = sessions_test[sessions_test.test_group == 'A'].shape[0]\n",
    "n_b = sessions_test[sessions_test.test_group == 'B'].shape[0]\n",
    "m_a = sessions_test[(sessions_test.test_group == 'A') & (sessions_test.good_session == 1)].shape[0] \n",
    "m_b = sessions_test[(sessions_test.test_group == 'B') & (sessions_test.good_session == 1)].shape[0]\n",
    "\n",
    "p_a, p_b = m_a/n_a, m_b/n_b\n",
    "\n",
    "stat_z, p_value_z = proportions_ztest([m_a, m_b], [n_a, n_b], alternative='two-sided')\n",
    "\n",
    "print(f'p-value в z-тесте для проверки равенства пропорций: {round(p_value_z, 4)}')\n",
    "\n",
    "if p_value_z < alpha:\n",
    "    print('p_value_z < 0.05, отвергаем нулевую гипотезу')\n",
    "else:\n",
    "    print('p_value_z >= 0.05, нет оснований отвергнуть нулевую гипотезу')"
   ]
  },
  {
   "cell_type": "markdown",
   "metadata": {
    "id": "GnJrkY9Q63zS"
   },
   "source": [
    "#### 4.5. Вывод по результатам A/B-эксперимента\n",
    "\n",
    "На основе проведённого анализа результатов теста сформулируйте и запишите свои выводы для команды разработки приложения. В выводе обязательно укажите:\n",
    "\n",
    "- Характеристики проведённого эксперимента, количество задействованных пользователей и длительность эксперимента.\n",
    "\n",
    "- Повлияло ли внедрение нового алгоритма рекомендаций на рост ключевой метрики и как.\n",
    "\n",
    "- Каким получилось значение p-value для оценки статистической значимости выявленного эффекта.\n",
    "\n",
    "- Стоит ли внедрять новоовведение в приложение."
   ]
  },
  {
   "cell_type": "markdown",
   "metadata": {
    "id": "rri8KRIgPMrW"
   },
   "source": [
    "## Выводы:\n",
    "* Минимальный объем выборки был выявлен в объеме 17441 пользователей. Каждая группа собрала в районе 50000 юзеров, эксперимент длился 20 дней с 2025-10-15 по 2025-11-02;\n",
    "* Введение нового алгоритма повлияло на изменение ключевой метрики: показатель \"хороших\" (более 4 в день) сессий среди пользователей увеличился на 1.1%, при этом была выявлена статистически значимая разница пропорций с помощью z-теста;\n",
    "* p-value в z-тесте пропорций показал результата в 0.0003 => мы можем сделать вывод, что пропорция доли \"успешных\" сессий в группе B увеличилась, в сравнении с группой А;\n",
    "* Исходя из проведенного анализа, внедрение нововведения в приложение целесообразно, однако после его потенциального запуска, стоит сравнить, например, данные по первой неделе и неделе до внедрения, чтобы дополнительно удостовериться в его пользе."
   ]
  }
 ],
 "metadata": {
  "ExecuteTimeLog": [
   {
    "duration": 1663,
    "start_time": "2025-04-27T10:55:08.727Z"
   },
   {
    "duration": 1179,
    "start_time": "2025-04-27T10:55:18.846Z"
   },
   {
    "duration": 1204,
    "start_time": "2025-04-27T10:55:23.367Z"
   },
   {
    "duration": 1630,
    "start_time": "2025-04-27T10:55:29.838Z"
   },
   {
    "duration": 592,
    "start_time": "2025-04-27T10:55:31.470Z"
   },
   {
    "duration": 0,
    "start_time": "2025-04-27T10:55:32.064Z"
   },
   {
    "duration": 371,
    "start_time": "2025-04-27T10:56:47.101Z"
   },
   {
    "duration": 1733,
    "start_time": "2025-04-27T10:57:59.840Z"
   },
   {
    "duration": 396,
    "start_time": "2025-04-27T10:58:01.576Z"
   },
   {
    "duration": 608,
    "start_time": "2025-04-27T10:58:01.975Z"
   },
   {
    "duration": 0,
    "start_time": "2025-04-27T10:58:02.585Z"
   },
   {
    "duration": 368,
    "start_time": "2025-04-27T10:59:19.334Z"
   },
   {
    "duration": 473,
    "start_time": "2025-04-27T10:59:54.566Z"
   },
   {
    "duration": 502,
    "start_time": "2025-04-27T11:00:37.608Z"
   },
   {
    "duration": 507,
    "start_time": "2025-04-27T11:00:50.650Z"
   },
   {
    "duration": 370,
    "start_time": "2025-04-27T11:01:46.591Z"
   },
   {
    "duration": 360,
    "start_time": "2025-04-27T11:01:51.481Z"
   },
   {
    "duration": 354,
    "start_time": "2025-04-27T11:02:52.364Z"
   },
   {
    "duration": 397,
    "start_time": "2025-04-27T11:03:10.254Z"
   },
   {
    "duration": 388,
    "start_time": "2025-04-27T11:03:35.465Z"
   },
   {
    "duration": 409,
    "start_time": "2025-04-27T11:03:44.545Z"
   },
   {
    "duration": 409,
    "start_time": "2025-04-27T11:03:50.586Z"
   },
   {
    "duration": 372,
    "start_time": "2025-04-27T11:03:55.626Z"
   },
   {
    "duration": 389,
    "start_time": "2025-04-27T11:04:02.695Z"
   },
   {
    "duration": 1608,
    "start_time": "2025-04-27T11:04:08.986Z"
   },
   {
    "duration": 418,
    "start_time": "2025-04-27T11:04:10.595Z"
   },
   {
    "duration": 561,
    "start_time": "2025-04-27T11:04:11.015Z"
   },
   {
    "duration": 0,
    "start_time": "2025-04-27T11:04:11.579Z"
   },
   {
    "duration": 1617,
    "start_time": "2025-04-27T11:04:28.930Z"
   },
   {
    "duration": 352,
    "start_time": "2025-04-27T11:04:44.581Z"
   },
   {
    "duration": 359,
    "start_time": "2025-04-27T11:05:59.255Z"
   },
   {
    "duration": 350,
    "start_time": "2025-04-27T11:06:01.645Z"
   },
   {
    "duration": 115,
    "start_time": "2025-04-27T11:07:35.098Z"
   },
   {
    "duration": 74,
    "start_time": "2025-04-27T11:07:50.029Z"
   },
   {
    "duration": 1594,
    "start_time": "2025-04-27T11:07:57.819Z"
   },
   {
    "duration": 358,
    "start_time": "2025-04-27T11:12:10.602Z"
   },
   {
    "duration": 638,
    "start_time": "2025-04-27T11:12:33.962Z"
   },
   {
    "duration": 1571,
    "start_time": "2025-04-27T11:12:46.708Z"
   },
   {
    "duration": 652,
    "start_time": "2025-04-27T11:12:48.281Z"
   },
   {
    "duration": 618,
    "start_time": "2025-04-27T11:12:48.935Z"
   },
   {
    "duration": 0,
    "start_time": "2025-04-27T11:12:49.555Z"
   },
   {
    "duration": 244,
    "start_time": "2025-04-27T11:26:43.874Z"
   },
   {
    "duration": 248,
    "start_time": "2025-04-27T11:27:13.135Z"
   },
   {
    "duration": 252,
    "start_time": "2025-04-27T11:32:40.131Z"
   },
   {
    "duration": 1548,
    "start_time": "2025-04-27T11:33:48.461Z"
   },
   {
    "duration": 1894,
    "start_time": "2025-04-27T11:33:52.335Z"
   },
   {
    "duration": 653,
    "start_time": "2025-04-27T11:33:54.231Z"
   },
   {
    "duration": 955,
    "start_time": "2025-04-27T11:33:54.885Z"
   },
   {
    "duration": 633,
    "start_time": "2025-04-27T11:33:55.841Z"
   },
   {
    "duration": 0,
    "start_time": "2025-04-27T11:33:56.475Z"
   },
   {
    "duration": 943,
    "start_time": "2025-04-27T11:34:02.121Z"
   },
   {
    "duration": 232,
    "start_time": "2025-04-27T11:34:08.662Z"
   },
   {
    "duration": 222,
    "start_time": "2025-04-27T11:34:10.678Z"
   },
   {
    "duration": 725,
    "start_time": "2025-04-27T11:34:19.305Z"
   },
   {
    "duration": 14,
    "start_time": "2025-04-27T11:34:35.361Z"
   },
   {
    "duration": 84,
    "start_time": "2025-04-27T11:34:52.173Z"
   },
   {
    "duration": 76,
    "start_time": "2025-04-27T11:34:55.352Z"
   },
   {
    "duration": 763,
    "start_time": "2025-04-27T11:35:00.232Z"
   },
   {
    "duration": 788,
    "start_time": "2025-04-27T11:35:26.795Z"
   },
   {
    "duration": 802,
    "start_time": "2025-04-27T11:35:34.095Z"
   },
   {
    "duration": 719,
    "start_time": "2025-04-27T11:35:51.195Z"
   },
   {
    "duration": 783,
    "start_time": "2025-04-27T11:36:06.528Z"
   },
   {
    "duration": 716,
    "start_time": "2025-04-27T11:37:27.754Z"
   },
   {
    "duration": 759,
    "start_time": "2025-04-27T11:38:36.353Z"
   },
   {
    "duration": 725,
    "start_time": "2025-04-27T11:38:38.631Z"
   },
   {
    "duration": 787,
    "start_time": "2025-04-27T11:38:47.102Z"
   },
   {
    "duration": 813,
    "start_time": "2025-04-27T14:13:38.843Z"
   },
   {
    "duration": 697,
    "start_time": "2025-04-27T14:13:45.972Z"
   },
   {
    "duration": 2030,
    "start_time": "2025-04-28T10:04:39.178Z"
   },
   {
    "duration": 627,
    "start_time": "2025-04-28T10:04:41.211Z"
   },
   {
    "duration": 225,
    "start_time": "2025-04-28T10:04:41.839Z"
   },
   {
    "duration": 858,
    "start_time": "2025-04-28T10:04:42.066Z"
   },
   {
    "duration": 743,
    "start_time": "2025-04-28T10:04:42.927Z"
   },
   {
    "duration": 603,
    "start_time": "2025-04-28T10:04:43.672Z"
   },
   {
    "duration": 0,
    "start_time": "2025-04-28T10:04:44.277Z"
   },
   {
    "duration": 7,
    "start_time": "2025-04-28T10:28:58.214Z"
   },
   {
    "duration": 17,
    "start_time": "2025-04-28T10:30:00.285Z"
   },
   {
    "duration": 342,
    "start_time": "2025-04-28T10:30:05.477Z"
   },
   {
    "duration": 299,
    "start_time": "2025-04-28T10:30:34.637Z"
   },
   {
    "duration": 288,
    "start_time": "2025-04-28T10:30:41.047Z"
   },
   {
    "duration": 314,
    "start_time": "2025-04-28T10:30:56.908Z"
   },
   {
    "duration": 315,
    "start_time": "2025-04-28T10:31:19.696Z"
   },
   {
    "duration": 48,
    "start_time": "2025-04-28T10:36:31.165Z"
   },
   {
    "duration": 60,
    "start_time": "2025-04-28T10:37:50.257Z"
   },
   {
    "duration": 798,
    "start_time": "2025-04-28T10:38:00.381Z"
   },
   {
    "duration": 2311,
    "start_time": "2025-04-28T15:52:48.088Z"
   },
   {
    "duration": 684,
    "start_time": "2025-04-28T15:52:50.402Z"
   },
   {
    "duration": 231,
    "start_time": "2025-04-28T15:52:51.088Z"
   },
   {
    "duration": 873,
    "start_time": "2025-04-28T15:52:51.321Z"
   },
   {
    "duration": 717,
    "start_time": "2025-04-28T15:52:52.204Z"
   },
   {
    "duration": 331,
    "start_time": "2025-04-28T15:52:52.923Z"
   },
   {
    "duration": 850,
    "start_time": "2025-04-28T15:52:53.256Z"
   },
   {
    "duration": 557,
    "start_time": "2025-04-28T15:52:54.108Z"
   },
   {
    "duration": 0,
    "start_time": "2025-04-28T15:52:54.667Z"
   },
   {
    "duration": 780,
    "start_time": "2025-04-28T15:53:17.212Z"
   },
   {
    "duration": 174,
    "start_time": "2025-04-28T15:53:29.232Z"
   },
   {
    "duration": 575,
    "start_time": "2025-04-28T15:53:35.533Z"
   },
   {
    "duration": 806,
    "start_time": "2025-04-28T15:53:42.002Z"
   },
   {
    "duration": 540,
    "start_time": "2025-04-28T15:54:35.556Z"
   },
   {
    "duration": 736,
    "start_time": "2025-04-28T15:54:41.236Z"
   },
   {
    "duration": 16,
    "start_time": "2025-04-28T16:58:23.181Z"
   },
   {
    "duration": 77,
    "start_time": "2025-04-28T17:01:36.409Z"
   },
   {
    "duration": 189,
    "start_time": "2025-04-28T17:01:40.248Z"
   },
   {
    "duration": 193,
    "start_time": "2025-04-28T17:01:43.479Z"
   },
   {
    "duration": 183,
    "start_time": "2025-04-28T17:02:00.501Z"
   },
   {
    "duration": 190,
    "start_time": "2025-04-28T17:02:22.442Z"
   },
   {
    "duration": 1847,
    "start_time": "2025-04-29T17:20:30.994Z"
   },
   {
    "duration": 588,
    "start_time": "2025-04-29T17:20:32.843Z"
   },
   {
    "duration": 195,
    "start_time": "2025-04-29T17:20:33.432Z"
   },
   {
    "duration": 767,
    "start_time": "2025-04-29T17:20:33.629Z"
   },
   {
    "duration": 619,
    "start_time": "2025-04-29T17:20:34.397Z"
   },
   {
    "duration": 166,
    "start_time": "2025-04-29T17:20:35.017Z"
   },
   {
    "duration": 697,
    "start_time": "2025-04-29T17:20:35.184Z"
   },
   {
    "duration": 418,
    "start_time": "2025-04-29T17:20:35.882Z"
   },
   {
    "duration": 166,
    "start_time": "2025-04-29T17:20:36.302Z"
   },
   {
    "duration": 247,
    "start_time": "2025-04-29T17:20:36.471Z"
   },
   {
    "duration": 323,
    "start_time": "2025-04-29T17:27:03.391Z"
   },
   {
    "duration": 256,
    "start_time": "2025-04-29T17:27:09.931Z"
   },
   {
    "duration": 258,
    "start_time": "2025-04-29T17:37:34.728Z"
   },
   {
    "duration": 240,
    "start_time": "2025-04-29T17:37:58.751Z"
   },
   {
    "duration": 270,
    "start_time": "2025-04-29T17:38:01.990Z"
   },
   {
    "duration": 283,
    "start_time": "2025-04-29T17:38:17.150Z"
   },
   {
    "duration": 356,
    "start_time": "2025-04-29T17:39:04.850Z"
   },
   {
    "duration": 374,
    "start_time": "2025-04-29T17:39:08.943Z"
   },
   {
    "duration": 265,
    "start_time": "2025-04-29T17:39:16.058Z"
   },
   {
    "duration": 339,
    "start_time": "2025-04-29T17:53:51.023Z"
   },
   {
    "duration": 384,
    "start_time": "2025-04-29T17:54:09.754Z"
   },
   {
    "duration": 358,
    "start_time": "2025-04-29T17:54:35.215Z"
   },
   {
    "duration": 1438,
    "start_time": "2025-04-29T17:59:17.927Z"
   },
   {
    "duration": 39,
    "start_time": "2025-04-29T17:59:35.376Z"
   },
   {
    "duration": 734,
    "start_time": "2025-04-29T18:00:57.367Z"
   },
   {
    "duration": 787,
    "start_time": "2025-04-29T18:01:15.754Z"
   },
   {
    "duration": 38,
    "start_time": "2025-04-29T18:02:17.355Z"
   },
   {
    "duration": 31,
    "start_time": "2025-04-29T18:02:24.013Z"
   },
   {
    "duration": 32,
    "start_time": "2025-04-29T18:03:25.483Z"
   },
   {
    "duration": 1835,
    "start_time": "2025-04-30T14:29:24.721Z"
   },
   {
    "duration": 573,
    "start_time": "2025-04-30T14:29:26.562Z"
   },
   {
    "duration": 212,
    "start_time": "2025-04-30T14:29:27.137Z"
   },
   {
    "duration": 759,
    "start_time": "2025-04-30T14:29:27.351Z"
   },
   {
    "duration": 692,
    "start_time": "2025-04-30T14:29:28.112Z"
   },
   {
    "duration": 177,
    "start_time": "2025-04-30T14:29:28.806Z"
   },
   {
    "duration": 740,
    "start_time": "2025-04-30T14:29:28.985Z"
   },
   {
    "duration": 443,
    "start_time": "2025-04-30T14:29:29.727Z"
   },
   {
    "duration": 189,
    "start_time": "2025-04-30T14:29:30.172Z"
   },
   {
    "duration": 380,
    "start_time": "2025-04-30T14:29:30.364Z"
   },
   {
    "duration": 46,
    "start_time": "2025-04-30T14:29:30.745Z"
   },
   {
    "duration": 266,
    "start_time": "2025-04-30T14:37:52.778Z"
   },
   {
    "duration": 461,
    "start_time": "2025-04-30T14:38:49.243Z"
   },
   {
    "duration": 425,
    "start_time": "2025-04-30T14:39:55.672Z"
   },
   {
    "duration": 409,
    "start_time": "2025-04-30T14:40:55.470Z"
   },
   {
    "duration": 446,
    "start_time": "2025-04-30T14:41:02.984Z"
   },
   {
    "duration": 315,
    "start_time": "2025-04-30T14:42:15.746Z"
   },
   {
    "duration": 105,
    "start_time": "2025-04-30T14:44:07.393Z"
   },
   {
    "duration": 1654,
    "start_time": "2025-04-30T14:45:15.734Z"
   },
   {
    "duration": 559,
    "start_time": "2025-04-30T14:45:17.389Z"
   },
   {
    "duration": 225,
    "start_time": "2025-04-30T14:45:17.950Z"
   },
   {
    "duration": 699,
    "start_time": "2025-04-30T14:45:18.177Z"
   },
   {
    "duration": 644,
    "start_time": "2025-04-30T14:45:18.878Z"
   },
   {
    "duration": 165,
    "start_time": "2025-04-30T14:45:19.523Z"
   },
   {
    "duration": 738,
    "start_time": "2025-04-30T14:45:19.689Z"
   },
   {
    "duration": 393,
    "start_time": "2025-04-30T14:45:20.429Z"
   },
   {
    "duration": 176,
    "start_time": "2025-04-30T14:45:20.823Z"
   },
   {
    "duration": 321,
    "start_time": "2025-04-30T14:45:21.002Z"
   },
   {
    "duration": 156,
    "start_time": "2025-04-30T14:45:21.324Z"
   },
   {
    "duration": 32,
    "start_time": "2025-04-30T14:45:21.482Z"
   },
   {
    "duration": 468,
    "start_time": "2025-04-30T14:45:21.515Z"
   },
   {
    "duration": 184,
    "start_time": "2025-04-30T14:45:21.985Z"
   },
   {
    "duration": 490,
    "start_time": "2025-04-30T14:45:43.593Z"
   },
   {
    "duration": 419,
    "start_time": "2025-04-30T14:46:02.813Z"
   },
   {
    "duration": 440,
    "start_time": "2025-04-30T14:46:10.153Z"
   },
   {
    "duration": 290,
    "start_time": "2025-04-30T14:47:03.098Z"
   },
   {
    "duration": 295,
    "start_time": "2025-04-30T14:47:06.948Z"
   },
   {
    "duration": 169,
    "start_time": "2025-04-30T14:47:40.881Z"
   },
   {
    "duration": 424,
    "start_time": "2025-04-30T14:47:44.317Z"
   },
   {
    "duration": 542,
    "start_time": "2025-04-30T14:47:49.558Z"
   },
   {
    "duration": 432,
    "start_time": "2025-04-30T14:48:08.588Z"
   },
   {
    "duration": 168,
    "start_time": "2025-04-30T14:48:33.780Z"
   },
   {
    "duration": 176,
    "start_time": "2025-04-30T14:50:39.001Z"
   },
   {
    "duration": 475,
    "start_time": "2025-04-30T14:51:08.347Z"
   },
   {
    "duration": 1736,
    "start_time": "2025-04-30T14:51:16.196Z"
   },
   {
    "duration": 654,
    "start_time": "2025-04-30T14:51:17.934Z"
   },
   {
    "duration": 216,
    "start_time": "2025-04-30T14:51:18.590Z"
   },
   {
    "duration": 778,
    "start_time": "2025-04-30T14:51:18.808Z"
   },
   {
    "duration": 709,
    "start_time": "2025-04-30T14:51:19.588Z"
   },
   {
    "duration": 184,
    "start_time": "2025-04-30T14:51:20.299Z"
   },
   {
    "duration": 760,
    "start_time": "2025-04-30T14:51:20.484Z"
   },
   {
    "duration": 433,
    "start_time": "2025-04-30T14:51:21.245Z"
   },
   {
    "duration": 158,
    "start_time": "2025-04-30T14:51:21.680Z"
   },
   {
    "duration": 301,
    "start_time": "2025-04-30T14:51:21.840Z"
   },
   {
    "duration": 146,
    "start_time": "2025-04-30T14:51:22.142Z"
   },
   {
    "duration": 33,
    "start_time": "2025-04-30T14:51:22.289Z"
   },
   {
    "duration": 475,
    "start_time": "2025-04-30T14:51:22.324Z"
   },
   {
    "duration": 479,
    "start_time": "2025-04-30T14:51:22.802Z"
   },
   {
    "duration": 388,
    "start_time": "2025-04-30T14:51:56.874Z"
   },
   {
    "duration": 388,
    "start_time": "2025-04-30T14:52:22.342Z"
   },
   {
    "duration": 2746,
    "start_time": "2025-04-30T21:41:14.429Z"
   },
   {
    "duration": 638,
    "start_time": "2025-04-30T21:41:17.178Z"
   },
   {
    "duration": 232,
    "start_time": "2025-04-30T21:41:17.818Z"
   },
   {
    "duration": 838,
    "start_time": "2025-04-30T21:41:18.053Z"
   },
   {
    "duration": 721,
    "start_time": "2025-04-30T21:41:18.892Z"
   },
   {
    "duration": 190,
    "start_time": "2025-04-30T21:41:19.615Z"
   },
   {
    "duration": 793,
    "start_time": "2025-04-30T21:41:19.807Z"
   },
   {
    "duration": 468,
    "start_time": "2025-04-30T21:41:20.604Z"
   },
   {
    "duration": 195,
    "start_time": "2025-04-30T21:41:21.074Z"
   },
   {
    "duration": 334,
    "start_time": "2025-04-30T21:41:21.271Z"
   },
   {
    "duration": 159,
    "start_time": "2025-04-30T21:41:21.607Z"
   },
   {
    "duration": 45,
    "start_time": "2025-04-30T21:41:21.767Z"
   },
   {
    "duration": 525,
    "start_time": "2025-04-30T21:41:21.814Z"
   },
   {
    "duration": 537,
    "start_time": "2025-04-30T21:41:22.341Z"
   },
   {
    "duration": 169,
    "start_time": "2025-04-30T21:43:50.173Z"
   },
   {
    "duration": 291,
    "start_time": "2025-04-30T21:43:55.911Z"
   },
   {
    "duration": 309,
    "start_time": "2025-04-30T21:47:17.797Z"
   },
   {
    "duration": 295,
    "start_time": "2025-04-30T21:47:25.257Z"
   },
   {
    "duration": 294,
    "start_time": "2025-04-30T21:47:40.307Z"
   },
   {
    "duration": 321,
    "start_time": "2025-04-30T21:47:46.959Z"
   },
   {
    "duration": 331,
    "start_time": "2025-04-30T21:48:14.109Z"
   },
   {
    "duration": 295,
    "start_time": "2025-04-30T21:48:18.624Z"
   },
   {
    "duration": 319,
    "start_time": "2025-04-30T21:49:01.754Z"
   },
   {
    "duration": 325,
    "start_time": "2025-04-30T21:49:10.122Z"
   },
   {
    "duration": 1796,
    "start_time": "2025-05-01T16:34:24.614Z"
   },
   {
    "duration": 566,
    "start_time": "2025-05-01T16:34:26.412Z"
   },
   {
    "duration": 202,
    "start_time": "2025-05-01T16:34:26.980Z"
   },
   {
    "duration": 687,
    "start_time": "2025-05-01T16:34:27.184Z"
   },
   {
    "duration": 634,
    "start_time": "2025-05-01T16:34:27.872Z"
   },
   {
    "duration": 166,
    "start_time": "2025-05-01T16:34:28.507Z"
   },
   {
    "duration": 716,
    "start_time": "2025-05-01T16:34:28.675Z"
   },
   {
    "duration": 397,
    "start_time": "2025-05-01T16:34:29.393Z"
   },
   {
    "duration": 178,
    "start_time": "2025-05-01T16:34:29.791Z"
   },
   {
    "duration": 320,
    "start_time": "2025-05-01T16:34:29.971Z"
   },
   {
    "duration": 138,
    "start_time": "2025-05-01T16:34:30.292Z"
   },
   {
    "duration": 41,
    "start_time": "2025-05-01T16:34:30.432Z"
   },
   {
    "duration": 437,
    "start_time": "2025-05-01T16:34:30.475Z"
   },
   {
    "duration": 453,
    "start_time": "2025-05-01T16:34:30.914Z"
   },
   {
    "duration": 293,
    "start_time": "2025-05-01T16:34:31.369Z"
   },
   {
    "duration": 124,
    "start_time": "2025-05-01T16:41:03.201Z"
   },
   {
    "duration": 2013,
    "start_time": "2025-05-01T16:41:39.675Z"
   },
   {
    "duration": 521,
    "start_time": "2025-05-01T16:41:41.690Z"
   },
   {
    "duration": 192,
    "start_time": "2025-05-01T16:41:42.212Z"
   },
   {
    "duration": 668,
    "start_time": "2025-05-01T16:41:42.405Z"
   },
   {
    "duration": 627,
    "start_time": "2025-05-01T16:41:43.075Z"
   },
   {
    "duration": 149,
    "start_time": "2025-05-01T16:41:43.703Z"
   },
   {
    "duration": 663,
    "start_time": "2025-05-01T16:41:43.853Z"
   },
   {
    "duration": 19,
    "start_time": "2025-05-01T16:41:44.517Z"
   },
   {
    "duration": 192,
    "start_time": "2025-05-01T16:41:44.537Z"
   },
   {
    "duration": 287,
    "start_time": "2025-05-01T16:41:44.731Z"
   },
   {
    "duration": 142,
    "start_time": "2025-05-01T16:41:45.020Z"
   },
   {
    "duration": 33,
    "start_time": "2025-05-01T16:41:45.163Z"
   },
   {
    "duration": 427,
    "start_time": "2025-05-01T16:41:45.197Z"
   },
   {
    "duration": 447,
    "start_time": "2025-05-01T16:41:45.626Z"
   },
   {
    "duration": 261,
    "start_time": "2025-05-01T16:41:46.075Z"
   },
   {
    "duration": 132,
    "start_time": "2025-05-01T16:41:46.338Z"
   },
   {
    "duration": 42,
    "start_time": "2025-05-01T16:41:56.624Z"
   },
   {
    "duration": 41,
    "start_time": "2025-05-01T16:42:42.977Z"
   },
   {
    "duration": 45,
    "start_time": "2025-05-01T17:20:05.326Z"
   },
   {
    "duration": 39,
    "start_time": "2025-05-01T17:25:48.718Z"
   },
   {
    "duration": 12,
    "start_time": "2025-05-01T17:27:33.565Z"
   },
   {
    "duration": 128,
    "start_time": "2025-05-01T17:28:19.532Z"
   },
   {
    "duration": 11,
    "start_time": "2025-05-01T17:30:54.338Z"
   },
   {
    "duration": 12,
    "start_time": "2025-05-01T17:31:04.979Z"
   },
   {
    "duration": 12,
    "start_time": "2025-05-01T17:31:14.315Z"
   },
   {
    "duration": 2463,
    "start_time": "2025-05-02T15:56:21.072Z"
   },
   {
    "duration": 656,
    "start_time": "2025-05-02T15:56:23.537Z"
   },
   {
    "duration": 222,
    "start_time": "2025-05-02T15:56:24.195Z"
   },
   {
    "duration": 779,
    "start_time": "2025-05-02T15:56:24.419Z"
   },
   {
    "duration": 689,
    "start_time": "2025-05-02T15:56:25.204Z"
   },
   {
    "duration": 175,
    "start_time": "2025-05-02T15:56:25.895Z"
   },
   {
    "duration": 727,
    "start_time": "2025-05-02T15:56:26.072Z"
   },
   {
    "duration": 22,
    "start_time": "2025-05-02T15:56:26.801Z"
   },
   {
    "duration": 211,
    "start_time": "2025-05-02T15:56:26.825Z"
   },
   {
    "duration": 408,
    "start_time": "2025-05-02T15:56:27.039Z"
   },
   {
    "duration": 177,
    "start_time": "2025-05-02T15:56:27.449Z"
   },
   {
    "duration": 40,
    "start_time": "2025-05-02T15:56:27.628Z"
   },
   {
    "duration": 494,
    "start_time": "2025-05-02T15:56:27.670Z"
   },
   {
    "duration": 542,
    "start_time": "2025-05-02T15:56:28.165Z"
   },
   {
    "duration": 303,
    "start_time": "2025-05-02T15:56:28.709Z"
   },
   {
    "duration": 44,
    "start_time": "2025-05-02T15:56:29.014Z"
   },
   {
    "duration": 12,
    "start_time": "2025-05-02T15:56:29.060Z"
   },
   {
    "duration": 50,
    "start_time": "2025-05-02T15:56:47.133Z"
   },
   {
    "duration": 19,
    "start_time": "2025-05-02T15:56:49.750Z"
   },
   {
    "duration": 13,
    "start_time": "2025-05-02T15:57:26.606Z"
   },
   {
    "duration": 14,
    "start_time": "2025-05-02T15:57:39.745Z"
   },
   {
    "duration": 2395,
    "start_time": "2025-05-02T16:00:13.490Z"
   },
   {
    "duration": 705,
    "start_time": "2025-05-02T16:00:15.887Z"
   },
   {
    "duration": 240,
    "start_time": "2025-05-02T16:00:16.594Z"
   },
   {
    "duration": 839,
    "start_time": "2025-05-02T16:00:16.836Z"
   },
   {
    "duration": 765,
    "start_time": "2025-05-02T16:00:17.676Z"
   },
   {
    "duration": 193,
    "start_time": "2025-05-02T16:00:18.443Z"
   },
   {
    "duration": 787,
    "start_time": "2025-05-02T16:00:18.638Z"
   },
   {
    "duration": 21,
    "start_time": "2025-05-02T16:00:19.426Z"
   },
   {
    "duration": 272,
    "start_time": "2025-05-02T16:00:19.449Z"
   },
   {
    "duration": 322,
    "start_time": "2025-05-02T16:00:19.723Z"
   },
   {
    "duration": 166,
    "start_time": "2025-05-02T16:00:20.047Z"
   },
   {
    "duration": 38,
    "start_time": "2025-05-02T16:00:20.215Z"
   },
   {
    "duration": 519,
    "start_time": "2025-05-02T16:00:20.255Z"
   },
   {
    "duration": 543,
    "start_time": "2025-05-02T16:00:20.776Z"
   },
   {
    "duration": 304,
    "start_time": "2025-05-02T16:00:21.321Z"
   },
   {
    "duration": 47,
    "start_time": "2025-05-02T16:00:21.627Z"
   },
   {
    "duration": 33,
    "start_time": "2025-05-02T16:00:21.676Z"
   },
   {
    "duration": 112,
    "start_time": "2025-05-02T16:00:21.711Z"
   },
   {
    "duration": 13,
    "start_time": "2025-05-02T16:00:33.870Z"
   },
   {
    "duration": 7,
    "start_time": "2025-05-02T16:02:25.552Z"
   },
   {
    "duration": 5,
    "start_time": "2025-05-02T16:02:49.812Z"
   },
   {
    "duration": 5,
    "start_time": "2025-05-02T16:02:55.241Z"
   },
   {
    "duration": 2472,
    "start_time": "2025-05-02T16:03:00.862Z"
   },
   {
    "duration": 694,
    "start_time": "2025-05-02T16:03:03.336Z"
   },
   {
    "duration": 238,
    "start_time": "2025-05-02T16:03:04.032Z"
   },
   {
    "duration": 773,
    "start_time": "2025-05-02T16:03:04.273Z"
   },
   {
    "duration": 760,
    "start_time": "2025-05-02T16:03:05.048Z"
   },
   {
    "duration": 180,
    "start_time": "2025-05-02T16:03:05.809Z"
   },
   {
    "duration": 739,
    "start_time": "2025-05-02T16:03:05.991Z"
   },
   {
    "duration": 21,
    "start_time": "2025-05-02T16:03:06.731Z"
   },
   {
    "duration": 266,
    "start_time": "2025-05-02T16:03:06.754Z"
   },
   {
    "duration": 329,
    "start_time": "2025-05-02T16:03:07.022Z"
   },
   {
    "duration": 166,
    "start_time": "2025-05-02T16:03:07.352Z"
   },
   {
    "duration": 54,
    "start_time": "2025-05-02T16:03:07.520Z"
   },
   {
    "duration": 524,
    "start_time": "2025-05-02T16:03:07.577Z"
   },
   {
    "duration": 561,
    "start_time": "2025-05-02T16:03:08.102Z"
   },
   {
    "duration": 327,
    "start_time": "2025-05-02T16:03:08.666Z"
   },
   {
    "duration": 55,
    "start_time": "2025-05-02T16:03:08.996Z"
   },
   {
    "duration": 13,
    "start_time": "2025-05-02T16:03:09.054Z"
   },
   {
    "duration": 9,
    "start_time": "2025-05-02T16:03:09.069Z"
   },
   {
    "duration": 41,
    "start_time": "2025-05-02T16:05:58.517Z"
   },
   {
    "duration": 3261,
    "start_time": "2025-05-02T16:11:09.166Z"
   },
   {
    "duration": 0,
    "start_time": "2025-05-02T16:11:12.429Z"
   },
   {
    "duration": 0,
    "start_time": "2025-05-02T16:11:12.432Z"
   },
   {
    "duration": 0,
    "start_time": "2025-05-02T16:11:12.433Z"
   },
   {
    "duration": 0,
    "start_time": "2025-05-02T16:11:12.434Z"
   },
   {
    "duration": 0,
    "start_time": "2025-05-02T16:11:12.435Z"
   },
   {
    "duration": 0,
    "start_time": "2025-05-02T16:11:12.435Z"
   },
   {
    "duration": 0,
    "start_time": "2025-05-02T16:11:12.437Z"
   },
   {
    "duration": 0,
    "start_time": "2025-05-02T16:11:12.438Z"
   },
   {
    "duration": 0,
    "start_time": "2025-05-02T16:11:12.438Z"
   },
   {
    "duration": 0,
    "start_time": "2025-05-02T16:11:12.440Z"
   },
   {
    "duration": 0,
    "start_time": "2025-05-02T16:11:12.441Z"
   },
   {
    "duration": 1,
    "start_time": "2025-05-02T16:11:12.441Z"
   },
   {
    "duration": 0,
    "start_time": "2025-05-02T16:11:12.442Z"
   },
   {
    "duration": 0,
    "start_time": "2025-05-02T16:11:12.444Z"
   },
   {
    "duration": 0,
    "start_time": "2025-05-02T16:11:12.444Z"
   },
   {
    "duration": 0,
    "start_time": "2025-05-02T16:11:12.445Z"
   },
   {
    "duration": 0,
    "start_time": "2025-05-02T16:11:12.446Z"
   },
   {
    "duration": 2401,
    "start_time": "2025-05-02T16:11:26.591Z"
   },
   {
    "duration": 670,
    "start_time": "2025-05-02T16:11:28.994Z"
   },
   {
    "duration": 231,
    "start_time": "2025-05-02T16:11:29.666Z"
   },
   {
    "duration": 760,
    "start_time": "2025-05-02T16:11:29.899Z"
   },
   {
    "duration": 734,
    "start_time": "2025-05-02T16:11:30.661Z"
   },
   {
    "duration": 199,
    "start_time": "2025-05-02T16:11:31.397Z"
   },
   {
    "duration": 750,
    "start_time": "2025-05-02T16:11:31.598Z"
   },
   {
    "duration": 19,
    "start_time": "2025-05-02T16:11:32.350Z"
   },
   {
    "duration": 206,
    "start_time": "2025-05-02T16:11:32.370Z"
   },
   {
    "duration": 327,
    "start_time": "2025-05-02T16:11:32.579Z"
   },
   {
    "duration": 159,
    "start_time": "2025-05-02T16:11:32.908Z"
   },
   {
    "duration": 48,
    "start_time": "2025-05-02T16:11:33.069Z"
   },
   {
    "duration": 493,
    "start_time": "2025-05-02T16:11:33.119Z"
   },
   {
    "duration": 528,
    "start_time": "2025-05-02T16:11:33.613Z"
   },
   {
    "duration": 307,
    "start_time": "2025-05-02T16:11:34.142Z"
   },
   {
    "duration": 57,
    "start_time": "2025-05-02T16:11:34.450Z"
   },
   {
    "duration": 11,
    "start_time": "2025-05-02T16:11:34.509Z"
   },
   {
    "duration": 182,
    "start_time": "2025-05-02T16:11:34.522Z"
   },
   {
    "duration": 63,
    "start_time": "2025-05-02T16:11:56.481Z"
   },
   {
    "duration": 66,
    "start_time": "2025-05-02T16:12:00.082Z"
   },
   {
    "duration": 63,
    "start_time": "2025-05-02T16:12:10.752Z"
   },
   {
    "duration": 2383,
    "start_time": "2025-05-02T16:12:32.406Z"
   },
   {
    "duration": 680,
    "start_time": "2025-05-02T16:12:34.792Z"
   },
   {
    "duration": 258,
    "start_time": "2025-05-02T16:12:35.474Z"
   },
   {
    "duration": 809,
    "start_time": "2025-05-02T16:12:35.734Z"
   },
   {
    "duration": 742,
    "start_time": "2025-05-02T16:12:36.546Z"
   },
   {
    "duration": 188,
    "start_time": "2025-05-02T16:12:37.289Z"
   },
   {
    "duration": 759,
    "start_time": "2025-05-02T16:12:37.478Z"
   },
   {
    "duration": 27,
    "start_time": "2025-05-02T16:12:38.240Z"
   },
   {
    "duration": 216,
    "start_time": "2025-05-02T16:12:38.270Z"
   },
   {
    "duration": 343,
    "start_time": "2025-05-02T16:12:38.489Z"
   },
   {
    "duration": 161,
    "start_time": "2025-05-02T16:12:38.834Z"
   },
   {
    "duration": 39,
    "start_time": "2025-05-02T16:12:38.997Z"
   },
   {
    "duration": 485,
    "start_time": "2025-05-02T16:12:39.038Z"
   },
   {
    "duration": 527,
    "start_time": "2025-05-02T16:12:39.524Z"
   },
   {
    "duration": 306,
    "start_time": "2025-05-02T16:12:40.053Z"
   },
   {
    "duration": 49,
    "start_time": "2025-05-02T16:12:40.361Z"
   },
   {
    "duration": 12,
    "start_time": "2025-05-02T16:12:40.412Z"
   },
   {
    "duration": 184,
    "start_time": "2025-05-02T16:12:40.426Z"
   },
   {
    "duration": 58,
    "start_time": "2025-05-02T16:13:20.092Z"
   },
   {
    "duration": 58,
    "start_time": "2025-05-02T16:13:32.225Z"
   },
   {
    "duration": 14,
    "start_time": "2025-05-02T16:52:19.210Z"
   },
   {
    "duration": 16,
    "start_time": "2025-05-02T16:56:51.457Z"
   },
   {
    "duration": 15,
    "start_time": "2025-05-02T16:57:03.160Z"
   },
   {
    "duration": 10,
    "start_time": "2025-05-02T16:58:03.893Z"
   },
   {
    "duration": 9,
    "start_time": "2025-05-02T16:59:00.135Z"
   },
   {
    "duration": 14,
    "start_time": "2025-05-02T16:59:14.564Z"
   },
   {
    "duration": 8,
    "start_time": "2025-05-02T16:59:18.556Z"
   },
   {
    "duration": 8,
    "start_time": "2025-05-02T16:59:24.396Z"
   },
   {
    "duration": 9,
    "start_time": "2025-05-02T16:59:30.759Z"
   },
   {
    "duration": 16,
    "start_time": "2025-05-02T16:59:36.420Z"
   },
   {
    "duration": 9,
    "start_time": "2025-05-02T17:00:08.538Z"
   },
   {
    "duration": 10,
    "start_time": "2025-05-02T17:03:17.466Z"
   },
   {
    "duration": 9,
    "start_time": "2025-05-02T17:03:24.246Z"
   },
   {
    "duration": 56,
    "start_time": "2025-05-02T17:05:46.163Z"
   },
   {
    "duration": 58,
    "start_time": "2025-05-02T17:05:58.796Z"
   },
   {
    "duration": 45,
    "start_time": "2025-05-02T17:06:16.404Z"
   },
   {
    "duration": 13,
    "start_time": "2025-05-02T17:08:02.108Z"
   },
   {
    "duration": 58,
    "start_time": "2025-05-02T17:10:14.173Z"
   },
   {
    "duration": 2355,
    "start_time": "2025-05-02T17:16:42.129Z"
   },
   {
    "duration": 703,
    "start_time": "2025-05-02T17:16:44.486Z"
   },
   {
    "duration": 254,
    "start_time": "2025-05-02T17:16:45.191Z"
   },
   {
    "duration": 799,
    "start_time": "2025-05-02T17:16:45.447Z"
   },
   {
    "duration": 746,
    "start_time": "2025-05-02T17:16:46.248Z"
   },
   {
    "duration": 193,
    "start_time": "2025-05-02T17:16:46.995Z"
   },
   {
    "duration": 778,
    "start_time": "2025-05-02T17:16:47.190Z"
   },
   {
    "duration": 15,
    "start_time": "2025-05-02T17:16:47.970Z"
   },
   {
    "duration": 233,
    "start_time": "2025-05-02T17:16:47.987Z"
   },
   {
    "duration": 359,
    "start_time": "2025-05-02T17:16:48.223Z"
   },
   {
    "duration": 166,
    "start_time": "2025-05-02T17:16:48.584Z"
   },
   {
    "duration": 39,
    "start_time": "2025-05-02T17:16:48.752Z"
   },
   {
    "duration": 491,
    "start_time": "2025-05-02T17:16:48.805Z"
   },
   {
    "duration": 533,
    "start_time": "2025-05-02T17:16:49.298Z"
   },
   {
    "duration": 320,
    "start_time": "2025-05-02T17:16:49.833Z"
   },
   {
    "duration": 10,
    "start_time": "2025-05-02T17:16:50.154Z"
   },
   {
    "duration": 63,
    "start_time": "2025-05-02T17:16:50.166Z"
   },
   {
    "duration": 12,
    "start_time": "2025-05-02T17:16:50.231Z"
   },
   {
    "duration": 79,
    "start_time": "2025-05-02T17:16:50.245Z"
   },
   {
    "duration": 2480,
    "start_time": "2025-05-02T17:18:13.988Z"
   },
   {
    "duration": 666,
    "start_time": "2025-05-02T17:18:16.470Z"
   },
   {
    "duration": 241,
    "start_time": "2025-05-02T17:18:17.138Z"
   },
   {
    "duration": 772,
    "start_time": "2025-05-02T17:18:17.381Z"
   },
   {
    "duration": 751,
    "start_time": "2025-05-02T17:18:18.155Z"
   },
   {
    "duration": 181,
    "start_time": "2025-05-02T17:18:18.908Z"
   },
   {
    "duration": 715,
    "start_time": "2025-05-02T17:18:19.091Z"
   },
   {
    "duration": 15,
    "start_time": "2025-05-02T17:18:19.808Z"
   },
   {
    "duration": 211,
    "start_time": "2025-05-02T17:18:19.824Z"
   },
   {
    "duration": 326,
    "start_time": "2025-05-02T17:18:20.038Z"
   },
   {
    "duration": 163,
    "start_time": "2025-05-02T17:18:20.365Z"
   },
   {
    "duration": 36,
    "start_time": "2025-05-02T17:18:20.530Z"
   },
   {
    "duration": 492,
    "start_time": "2025-05-02T17:18:20.568Z"
   },
   {
    "duration": 522,
    "start_time": "2025-05-02T17:18:21.061Z"
   },
   {
    "duration": 320,
    "start_time": "2025-05-02T17:18:21.585Z"
   },
   {
    "duration": 10,
    "start_time": "2025-05-02T17:18:21.907Z"
   },
   {
    "duration": 46,
    "start_time": "2025-05-02T17:18:21.918Z"
   },
   {
    "duration": 38,
    "start_time": "2025-05-02T17:18:21.966Z"
   },
   {
    "duration": 62,
    "start_time": "2025-05-02T17:18:22.006Z"
   },
   {
    "duration": 435,
    "start_time": "2025-05-02T17:19:34.998Z"
   },
   {
    "duration": 2501,
    "start_time": "2025-05-02T17:20:12.983Z"
   },
   {
    "duration": 752,
    "start_time": "2025-05-02T17:20:15.486Z"
   },
   {
    "duration": 251,
    "start_time": "2025-05-02T17:20:16.239Z"
   },
   {
    "duration": 765,
    "start_time": "2025-05-02T17:20:16.492Z"
   },
   {
    "duration": 764,
    "start_time": "2025-05-02T17:20:17.258Z"
   },
   {
    "duration": 198,
    "start_time": "2025-05-02T17:20:18.024Z"
   },
   {
    "duration": 790,
    "start_time": "2025-05-02T17:20:18.224Z"
   },
   {
    "duration": 17,
    "start_time": "2025-05-02T17:20:19.015Z"
   },
   {
    "duration": 317,
    "start_time": "2025-05-02T17:20:19.033Z"
   },
   {
    "duration": 343,
    "start_time": "2025-05-02T17:20:19.353Z"
   },
   {
    "duration": 169,
    "start_time": "2025-05-02T17:20:19.697Z"
   },
   {
    "duration": 50,
    "start_time": "2025-05-02T17:20:19.868Z"
   },
   {
    "duration": 504,
    "start_time": "2025-05-02T17:20:19.920Z"
   },
   {
    "duration": 558,
    "start_time": "2025-05-02T17:20:20.426Z"
   },
   {
    "duration": 313,
    "start_time": "2025-05-02T17:20:21.005Z"
   },
   {
    "duration": 9,
    "start_time": "2025-05-02T17:20:21.319Z"
   },
   {
    "duration": 51,
    "start_time": "2025-05-02T17:20:21.330Z"
   },
   {
    "duration": 30,
    "start_time": "2025-05-02T17:20:21.382Z"
   },
   {
    "duration": 77,
    "start_time": "2025-05-02T17:20:21.413Z"
   },
   {
    "duration": 2628,
    "start_time": "2025-05-03T14:54:25.134Z"
   },
   {
    "duration": 646,
    "start_time": "2025-05-03T14:54:27.765Z"
   },
   {
    "duration": 230,
    "start_time": "2025-05-03T14:54:28.413Z"
   },
   {
    "duration": 832,
    "start_time": "2025-05-03T14:54:28.646Z"
   },
   {
    "duration": 1188,
    "start_time": "2025-05-03T14:54:29.480Z"
   },
   {
    "duration": 393,
    "start_time": "2025-05-03T14:54:30.670Z"
   },
   {
    "duration": 902,
    "start_time": "2025-05-03T14:54:31.065Z"
   },
   {
    "duration": 16,
    "start_time": "2025-05-03T14:54:31.969Z"
   },
   {
    "duration": 212,
    "start_time": "2025-05-03T14:54:31.986Z"
   },
   {
    "duration": 327,
    "start_time": "2025-05-03T14:54:32.201Z"
   },
   {
    "duration": 162,
    "start_time": "2025-05-03T14:54:32.530Z"
   },
   {
    "duration": 38,
    "start_time": "2025-05-03T14:54:32.694Z"
   },
   {
    "duration": 509,
    "start_time": "2025-05-03T14:54:32.734Z"
   },
   {
    "duration": 502,
    "start_time": "2025-05-03T14:54:33.245Z"
   },
   {
    "duration": 302,
    "start_time": "2025-05-03T14:54:33.749Z"
   },
   {
    "duration": 14,
    "start_time": "2025-05-03T14:54:34.052Z"
   },
   {
    "duration": 51,
    "start_time": "2025-05-03T14:54:34.068Z"
   },
   {
    "duration": 13,
    "start_time": "2025-05-03T14:54:34.121Z"
   },
   {
    "duration": 80,
    "start_time": "2025-05-03T14:54:34.135Z"
   },
   {
    "duration": 11,
    "start_time": "2025-05-03T14:58:20.020Z"
   },
   {
    "duration": 4,
    "start_time": "2025-05-03T14:58:27.426Z"
   },
   {
    "duration": 135,
    "start_time": "2025-05-03T14:58:37.244Z"
   },
   {
    "duration": 474,
    "start_time": "2025-05-03T14:58:47.710Z"
   },
   {
    "duration": 149,
    "start_time": "2025-05-03T14:58:50.876Z"
   },
   {
    "duration": 483,
    "start_time": "2025-05-03T14:59:05.909Z"
   },
   {
    "duration": 446,
    "start_time": "2025-05-03T15:01:49.129Z"
   },
   {
    "duration": 1245,
    "start_time": "2025-05-03T21:35:17.590Z"
   },
   {
    "duration": 989,
    "start_time": "2025-05-03T21:35:18.837Z"
   },
   {
    "duration": 610,
    "start_time": "2025-05-03T21:35:19.828Z"
   },
   {
    "duration": 198,
    "start_time": "2025-05-03T21:35:20.439Z"
   },
   {
    "duration": 719,
    "start_time": "2025-05-03T21:35:20.639Z"
   },
   {
    "duration": 625,
    "start_time": "2025-05-03T21:35:21.361Z"
   },
   {
    "duration": 160,
    "start_time": "2025-05-03T21:35:21.987Z"
   },
   {
    "duration": 634,
    "start_time": "2025-05-03T21:35:22.148Z"
   },
   {
    "duration": 13,
    "start_time": "2025-05-03T21:35:22.783Z"
   },
   {
    "duration": 201,
    "start_time": "2025-05-03T21:35:22.797Z"
   },
   {
    "duration": 289,
    "start_time": "2025-05-03T21:35:22.999Z"
   },
   {
    "duration": 133,
    "start_time": "2025-05-03T21:35:23.289Z"
   },
   {
    "duration": 40,
    "start_time": "2025-05-03T21:35:23.423Z"
   },
   {
    "duration": 422,
    "start_time": "2025-05-03T21:35:23.465Z"
   },
   {
    "duration": 440,
    "start_time": "2025-05-03T21:35:23.888Z"
   },
   {
    "duration": 263,
    "start_time": "2025-05-03T21:35:24.329Z"
   },
   {
    "duration": 9,
    "start_time": "2025-05-03T21:35:24.594Z"
   },
   {
    "duration": 58,
    "start_time": "2025-05-03T21:35:24.605Z"
   },
   {
    "duration": 12,
    "start_time": "2025-05-03T21:35:24.665Z"
   },
   {
    "duration": 50,
    "start_time": "2025-05-03T21:35:24.679Z"
   },
   {
    "duration": 124,
    "start_time": "2025-05-03T21:35:58.074Z"
   },
   {
    "duration": 151,
    "start_time": "2025-05-03T21:36:23.915Z"
   },
   {
    "duration": 152,
    "start_time": "2025-05-03T21:36:50.392Z"
   },
   {
    "duration": 156,
    "start_time": "2025-05-03T21:37:49.069Z"
   },
   {
    "duration": 158,
    "start_time": "2025-05-03T21:38:00.464Z"
   },
   {
    "duration": 161,
    "start_time": "2025-05-03T21:38:12.461Z"
   },
   {
    "duration": 1418,
    "start_time": "2025-05-04T18:04:09.122Z"
   },
   {
    "duration": 2628,
    "start_time": "2025-05-04T18:04:10.542Z"
   },
   {
    "duration": 835,
    "start_time": "2025-05-04T18:04:13.172Z"
   },
   {
    "duration": 244,
    "start_time": "2025-05-04T18:04:14.008Z"
   },
   {
    "duration": 822,
    "start_time": "2025-05-04T18:04:14.254Z"
   },
   {
    "duration": 726,
    "start_time": "2025-05-04T18:04:15.078Z"
   },
   {
    "duration": 192,
    "start_time": "2025-05-04T18:04:15.806Z"
   },
   {
    "duration": 1361,
    "start_time": "2025-05-04T18:04:16.000Z"
   },
   {
    "duration": 17,
    "start_time": "2025-05-04T18:04:17.363Z"
   },
   {
    "duration": 356,
    "start_time": "2025-05-04T18:04:17.382Z"
   },
   {
    "duration": 423,
    "start_time": "2025-05-04T18:04:17.739Z"
   },
   {
    "duration": 184,
    "start_time": "2025-05-04T18:04:18.164Z"
   },
   {
    "duration": 40,
    "start_time": "2025-05-04T18:04:18.350Z"
   },
   {
    "duration": 506,
    "start_time": "2025-05-04T18:04:18.392Z"
   },
   {
    "duration": 515,
    "start_time": "2025-05-04T18:04:18.900Z"
   },
   {
    "duration": 316,
    "start_time": "2025-05-04T18:04:19.417Z"
   },
   {
    "duration": 10,
    "start_time": "2025-05-04T18:04:19.734Z"
   },
   {
    "duration": 124,
    "start_time": "2025-05-04T18:04:19.746Z"
   },
   {
    "duration": 13,
    "start_time": "2025-05-04T18:04:19.872Z"
   },
   {
    "duration": 74,
    "start_time": "2025-05-04T18:04:19.887Z"
   },
   {
    "duration": 192,
    "start_time": "2025-05-04T18:04:51.978Z"
   },
   {
    "duration": 185,
    "start_time": "2025-05-04T18:05:45.639Z"
   },
   {
    "duration": 186,
    "start_time": "2025-05-04T18:05:54.290Z"
   },
   {
    "duration": 138,
    "start_time": "2025-05-04T18:06:32.728Z"
   },
   {
    "duration": 178,
    "start_time": "2025-05-04T18:06:50.512Z"
   },
   {
    "duration": 190,
    "start_time": "2025-05-04T18:07:22.886Z"
   },
   {
    "duration": 213,
    "start_time": "2025-05-04T18:07:36.751Z"
   },
   {
    "duration": 201,
    "start_time": "2025-05-04T18:07:47.990Z"
   },
   {
    "duration": 195,
    "start_time": "2025-05-04T18:07:58.027Z"
   },
   {
    "duration": 188,
    "start_time": "2025-05-04T18:21:03.630Z"
   },
   {
    "duration": 253,
    "start_time": "2025-05-04T18:26:17.595Z"
   },
   {
    "duration": 185,
    "start_time": "2025-05-04T18:27:25.010Z"
   },
   {
    "duration": 165,
    "start_time": "2025-05-04T18:27:34.299Z"
   },
   {
    "duration": 1207,
    "start_time": "2025-05-04T19:36:23.254Z"
   },
   {
    "duration": 1166,
    "start_time": "2025-05-04T19:36:24.463Z"
   },
   {
    "duration": 664,
    "start_time": "2025-05-04T19:36:25.630Z"
   },
   {
    "duration": 241,
    "start_time": "2025-05-04T19:36:26.296Z"
   },
   {
    "duration": 770,
    "start_time": "2025-05-04T19:36:26.538Z"
   },
   {
    "duration": 752,
    "start_time": "2025-05-04T19:36:27.310Z"
   },
   {
    "duration": 189,
    "start_time": "2025-05-04T19:36:28.063Z"
   },
   {
    "duration": 727,
    "start_time": "2025-05-04T19:36:28.254Z"
   },
   {
    "duration": 15,
    "start_time": "2025-05-04T19:36:28.983Z"
   },
   {
    "duration": 214,
    "start_time": "2025-05-04T19:36:29.001Z"
   },
   {
    "duration": 329,
    "start_time": "2025-05-04T19:36:29.217Z"
   },
   {
    "duration": 174,
    "start_time": "2025-05-04T19:36:29.548Z"
   },
   {
    "duration": 46,
    "start_time": "2025-05-04T19:36:29.724Z"
   },
   {
    "duration": 661,
    "start_time": "2025-05-04T19:36:29.772Z"
   },
   {
    "duration": 562,
    "start_time": "2025-05-04T19:36:30.435Z"
   },
   {
    "duration": 401,
    "start_time": "2025-05-04T19:36:30.998Z"
   },
   {
    "duration": 9,
    "start_time": "2025-05-04T19:36:31.401Z"
   },
   {
    "duration": 79,
    "start_time": "2025-05-04T19:36:31.411Z"
   },
   {
    "duration": 13,
    "start_time": "2025-05-04T19:36:31.492Z"
   },
   {
    "duration": 85,
    "start_time": "2025-05-04T19:36:31.507Z"
   },
   {
    "duration": 50,
    "start_time": "2025-05-04T19:58:35.681Z"
   },
   {
    "duration": 1583,
    "start_time": "2025-05-05T08:20:24.089Z"
   },
   {
    "duration": 3027,
    "start_time": "2025-05-05T08:20:25.674Z"
   },
   {
    "duration": 760,
    "start_time": "2025-05-05T08:20:28.702Z"
   },
   {
    "duration": 252,
    "start_time": "2025-05-05T08:20:29.464Z"
   },
   {
    "duration": 916,
    "start_time": "2025-05-05T08:20:29.719Z"
   },
   {
    "duration": 832,
    "start_time": "2025-05-05T08:20:30.638Z"
   },
   {
    "duration": 215,
    "start_time": "2025-05-05T08:20:31.472Z"
   },
   {
    "duration": 866,
    "start_time": "2025-05-05T08:20:31.690Z"
   },
   {
    "duration": 20,
    "start_time": "2025-05-05T08:20:32.557Z"
   },
   {
    "duration": 262,
    "start_time": "2025-05-05T08:20:32.580Z"
   },
   {
    "duration": 440,
    "start_time": "2025-05-05T08:20:32.844Z"
   },
   {
    "duration": 199,
    "start_time": "2025-05-05T08:20:33.286Z"
   },
   {
    "duration": 63,
    "start_time": "2025-05-05T08:20:33.487Z"
   },
   {
    "duration": 604,
    "start_time": "2025-05-05T08:20:33.554Z"
   },
   {
    "duration": 632,
    "start_time": "2025-05-05T08:20:34.161Z"
   },
   {
    "duration": 377,
    "start_time": "2025-05-05T08:20:34.795Z"
   },
   {
    "duration": 11,
    "start_time": "2025-05-05T08:20:35.174Z"
   },
   {
    "duration": 87,
    "start_time": "2025-05-05T08:20:35.186Z"
   },
   {
    "duration": 14,
    "start_time": "2025-05-05T08:20:35.275Z"
   },
   {
    "duration": 105,
    "start_time": "2025-05-05T08:20:35.291Z"
   }
  ],
  "colab": {
   "provenance": []
  },
  "kernelspec": {
   "display_name": "Python 3 (ipykernel)",
   "language": "python",
   "name": "python3"
  },
  "language_info": {
   "codemirror_mode": {
    "name": "ipython",
    "version": 3
   },
   "file_extension": ".py",
   "mimetype": "text/x-python",
   "name": "python",
   "nbconvert_exporter": "python",
   "pygments_lexer": "ipython3",
   "version": "3.9.5"
  },
  "toc": {
   "base_numbering": 1,
   "nav_menu": {},
   "number_sections": true,
   "sideBar": true,
   "skip_h1_title": true,
   "title_cell": "Table of Contents",
   "title_sidebar": "Contents",
   "toc_cell": false,
   "toc_position": {
    "height": "calc(100% - 180px)",
    "left": "10px",
    "top": "150px",
    "width": "305.391px"
   },
   "toc_section_display": true,
   "toc_window_display": true
  }
 },
 "nbformat": 4,
 "nbformat_minor": 1
}
